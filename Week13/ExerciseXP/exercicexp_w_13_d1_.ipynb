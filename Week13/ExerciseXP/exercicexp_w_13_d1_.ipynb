{
  "cells": [
    {
      "cell_type": "markdown",
      "metadata": {
        "id": "view-in-github",
        "colab_type": "text"
      },
      "source": [
        "<a href=\"https://colab.research.google.com/github/amoukrim/AI/blob/main/Week13/ExerciseXP/exercicexp_w_13_d1_.ipynb\" target=\"_parent\"><img src=\"https://colab.research.google.com/assets/colab-badge.svg\" alt=\"Open In Colab\"/></a>"
      ]
    },
    {
      "cell_type": "markdown",
      "id": "5e9a34e4",
      "metadata": {
        "id": "5e9a34e4"
      },
      "source": [
        "#@Author : Adil MOUKRIM\n",
        "\n",
        "\n",
        "# Exercises XP\n",
        "Last Updated: August 11th, 2025\n",
        "\n",
        "👩‍🏫 👩🏿‍🏫 What You’ll learn\n",
        "How MCP structures hosts/clients/servers and why STDIO is perfect for local dev.\n",
        "How to register a tool (action) and a resource (read‑only context) on a server.\n",
        "How to write a client that initializes, lists, and invokes those features.\n",
        "\n",
        "\n",
        "💼 Prerequisites\n",
        "Python 3.10+\n",
        "pip on your PATH\n",
        "(Recommended) venv\n",
        "---\n",
        "\n",
        "## 1. **Objectif et Contexte de l’Exercice**\n",
        "\n",
        "L’exercice vise à familiariser le participant avec la structure et l’utilisation du protocole MCP (Machine Control Protocol) dans un contexte local. L’objectif pédagogique est de couvrir la création d’un serveur MCP simple, l’enregistrement d’un outil (fonction/action) et d’une ressource (contexte en lecture seule), ainsi que l’implémentation d’un client Python capable de détecter, d’interroger et d’utiliser ces fonctionnalités via STDIO.\n",
        "\n",
        "---\n",
        "\n",
        "## 2. **Contenus à Maîtriser**\n",
        "\n",
        "* **Architecture MCP** : Notion d’hôte/serveur/client.\n",
        "* **STDIO comme transport** : Transmission locale des commandes et réponses via les flux standard d’entrée/sortie (pas de réseau).\n",
        "* **Définition d’outils MCP** : Fonctions exposées comme API RPC.\n",
        "* **Définition de ressources MCP** : Données accessibles en lecture seule, identifiées par un URI.\n",
        "* **Session client MCP** : Initialisation, découverte (listing), appel des fonctionnalités (invocation).\n",
        "* **Squelettes fournis** : Les fichiers `server.py` et `client.py` disposent déjà de l’ossature (imports, décorateurs, boucle principale).\n",
        "\n",
        "---\n",
        "\n",
        "## 3. **Prérequis Techniques**\n",
        "\n",
        "* **Python 3.10+** : Nécessaire pour la compatibilité avec la bibliothèque MCP.\n",
        "* **pip** : Pour l’installation des dépendances (notamment `mcp[cli]`).\n",
        "* **venv** : Fortement recommandé pour isoler l’environnement.\n",
        "* **Environnement local** : Testé sur macOS, Linux et Windows (PowerShell), avec instructions précises pour chaque OS.\n",
        "\n",
        "---\n",
        "\n",
        "## 4. **Décomposition des Tâches**\n",
        "\n",
        "### **A. Côté Serveur (`server.py`)**\n",
        "\n",
        "* **Initialisation du serveur** (nommé, ex: “Demo”).\n",
        "* **Enregistrement d’un outil** : fonction `add(a: int, b: int) -> int` accessible via MCP, devant retourner la somme.\n",
        "* **Enregistrement d’une ressource** : point de terminaison type URI “greeting://{name}”, générant une salutation personnalisée.\n",
        "* **Démarrage du serveur** : boucle de traitement, attente des requêtes (STDIO).\n",
        "\n",
        "**Pièges fréquents** :\n",
        "\n",
        "* Mauvais usage ou oubli du décorateur MCP (`@mcp.tool`, `@mcp.resource`).\n",
        "* Signatures de fonction non conformes (types ou noms d’arguments incorrects).\n",
        "* Serveur non lancé ou planté silencieusement (d’où l’importance de vérifier les logs/erreurs en lançant dans un second terminal).\n",
        "\n",
        "---\n",
        "\n",
        "### **B. Côté Client (`client.py`)**\n",
        "\n",
        "* **Lancement du serveur en sous-processus via STDIO** avec la CLI `mcp`.\n",
        "* **Initialisation d’une session MCP** : handshake, établissement du dialogue.\n",
        "* **Listing des ressources et outils disponibles** : affichage des noms pour valider la publication côté serveur.\n",
        "* **Lecture d’une ressource spécifique** : requête vers “greeting://hello” et affichage du résultat.\n",
        "* **Appel de l’outil** : utilisation de la méthode `add` avec des arguments (a=1, b=7) ; affichage du résultat.\n",
        "\n",
        "**Points sensibles** :\n",
        "\n",
        "* Synchronisation client/serveur (risque d’erreur “Connection closed” si le serveur échoue au lancement).\n",
        "* Correction des signatures d’appel (types des arguments transmis).\n",
        "* Gestion correcte des flux asynchrones (nécessite maîtrise de `asyncio`).\n",
        "\n",
        "---\n",
        "\n",
        "### **C. Exécution et Validation**\n",
        "\n",
        "* **Un seul terminal** : Le client lance lui-même le serveur (plus simple, mais masquera les logs serveurs en cas d’erreur).\n",
        "* **Deux terminaux** : Meilleur pour le debug, car on visualise indépendamment les sorties et éventuelles erreurs du serveur.\n",
        "\n",
        "---\n",
        "\n",
        "### **D. Vérifications et Dépannage**\n",
        "\n",
        "* **Activation de l’environnement virtuel** : pour éviter l’erreur “mcp: command not found”.\n",
        "* **Contrôle de l’exposition des outils et ressources** : vérifier la bonne application des décorateurs.\n",
        "* **Respect des signatures** : cohérence stricte des types et des noms d’arguments.\n",
        "\n",
        "---\n",
        "\n",
        "## 5. **Livrables attendus**\n",
        "\n",
        "* `server.py` (implémentation du serveur MCP).\n",
        "* `client.py` (implémentation du client MCP).\n",
        "* **Preuve de fonctionnement** (capture texte ou image montrant) :\n",
        "\n",
        "  * La liste des ressources et outils vus côté client.\n",
        "  * Le résultat pour la ressource `greeting://hello`.\n",
        "  * Le résultat de l’appel `add(1,7)`.\n",
        "\n",
        "---\n",
        "\n",
        "## 6. **Points d’évaluation et Compétences Visées**\n",
        "\n",
        "* Capacité à installer et configurer un environnement Python isolé.\n",
        "* Maîtrise de la création et exposition de fonctions et ressources via MCP.\n",
        "* Utilisation de l’asynchrone en Python (async/await).\n",
        "* Maîtrise des communications inter-processus via STDIO.\n",
        "* Savoir diagnostiquer les erreurs courantes liées au transport, à la découverte de ressources et à l’exécution distante.\n",
        "\n",
        "---\n",
        "\n",
        "## 7. **Limites de l’exercice**\n",
        "\n",
        "* Portée locale seulement (pas de réseau ni de déploiement distribué).\n",
        "* Fonctionnalités limitées à un outil et une ressource simples.\n",
        "* MCP utilisé en mode “toy example” pour prise en main, non pour un usage en production.\n",
        "* Peu de gestion des erreurs utilisateur côté client/serveur.\n",
        "\n",
        "---\n",
        "\n",
        "## 8. **Conclusion**\n",
        "\n",
        "Cet exercice est un excellent point d’entrée pour comprendre la logique MCP, les communications inter-processus par STDIO, l’architecture plugin d’actions et de ressources, et l’asynchrone en Python. Il s’agit d’une situation de “base” qui sera à généraliser (multi-ressources, multi-outils, gestion d’états) dans des cas plus avancés.\n",
        "\n",
        "**Remarque :** Aucun élément du sujet ne demande de développer une interface graphique, ni de connexion réseau, ni d’intégration avec des outils extérieurs (hors CLI/STDIO).\n",
        "\n",
        "**Analyse complète et validée.**\n",
        "Si tu veux la résolution étape par étape ou le code, précise-le.\n"
      ]
    },
    {
      "cell_type": "markdown",
      "id": "94594905",
      "metadata": {
        "id": "94594905"
      },
      "source": [
        "## 1. Installation et Préparation de l’Environnement"
      ]
    },
    {
      "cell_type": "code",
      "execution_count": null,
      "id": "cda5d161",
      "metadata": {
        "id": "cda5d161"
      },
      "outputs": [],
      "source": [
        "# Crée le dossier de travail et place-toi dedans\n",
        "mkdir mcp-101; cd mcp-101\n",
        "\n",
        "# Crée un environnement virtuel Python\n",
        "py -m venv .venv\n",
        "\n",
        "# Active-le\n",
        ".venv\\Scripts\\Activate.ps1\n",
        "\n",
        "# Mets pip à jour\n",
        "python -m pip install --upgrade pip\n",
        "\n",
        "# Installe la librairie MCP (avec l’option CLI)\n",
        "pip install \"mcp[cli]\"\n"
      ]
    },
    {
      "cell_type": "markdown",
      "id": "d51c7bcf",
      "metadata": {
        "id": "d51c7bcf"
      },
      "source": [
        "Vérifie les installations :"
      ]
    },
    {
      "cell_type": "code",
      "execution_count": null,
      "id": "771d11c3",
      "metadata": {
        "id": "771d11c3"
      },
      "outputs": [],
      "source": [
        "python --version       # Doit retourner 3.11.x\n",
        "mcp --help            # Doit afficher l’aide MCP\n"
      ]
    },
    {
      "cell_type": "markdown",
      "id": "119c61a5",
      "metadata": {
        "id": "119c61a5"
      },
      "source": [
        "## 2. Écriture du Serveur MCP (server.py)\n",
        "\n",
        "Crée un fichier server.py dans mcp-101.\n",
        "\n",
        "Code commenté et prêt à l’emploi :"
      ]
    },
    {
      "cell_type": "code",
      "execution_count": null,
      "id": "5952320c",
      "metadata": {
        "id": "5952320c"
      },
      "outputs": [],
      "source": [
        "# server.py\n",
        "from mcp.server.fastmcp import FastMCP\n",
        "\n",
        "# Initialise le serveur MCP avec un nom\n",
        "mcp = FastMCP(\"Demo\")\n",
        "\n",
        "# Déclare l'outil 'add' qui somme deux entiers\n",
        "@mcp.tool()\n",
        "def add(a: int, b: int) -> int:\n",
        "    \"\"\"\n",
        "    Retourne la somme de deux entiers.\n",
        "    \"\"\"\n",
        "    return a + b\n",
        "\n",
        "# Déclare la ressource greeting\n",
        "@mcp.resource(\"greeting://{name}\")\n",
        "def greet(name: str) -> str:\n",
        "    \"\"\"\n",
        "    Retourne une salutation personnalisée.\n",
        "    \"\"\"\n",
        "    return f\"Hello, {name}!\"\n",
        "\n",
        "if __name__ == \"__main__\":\n",
        "    # Démarre la boucle serveur sur STDIO (attend les requêtes)\n",
        "    mcp.run()\n"
      ]
    },
    {
      "cell_type": "markdown",
      "id": "3a8a4644",
      "metadata": {
        "id": "3a8a4644"
      },
      "source": [
        "Explications :\n",
        "\n",
        "Le serveur expose un outil (add) et une ressource (greet) via le protocole MCP.\n",
        "\n",
        "Les décorateurs @mcp.tool() et @mcp.resource(...) enregistrent ces éléments auprès du serveur.\n",
        "\n",
        "mcp.run() lance le serveur et attend les requêtes en STDIO."
      ]
    },
    {
      "cell_type": "markdown",
      "id": "c53bd70a",
      "metadata": {
        "id": "c53bd70a"
      },
      "source": [
        "## 3. Écriture du Client MCP (client.py)\n",
        "\n",
        "Crée un fichier client.py dans le même dossier.\n",
        "\n",
        "Code prêt à copier, avec explications ligne à ligne :"
      ]
    },
    {
      "cell_type": "code",
      "execution_count": null,
      "id": "c5c1051f",
      "metadata": {
        "id": "c5c1051f"
      },
      "outputs": [],
      "source": [
        "# client.py\n",
        "import asyncio\n",
        "from mcp import ClientSession, StdioServerParameters\n",
        "from mcp.client.stdio import stdio_client\n",
        "\n",
        "# Paramètres pour lancer le serveur via la CLI MCP\n",
        "server_params = StdioServerParameters(\n",
        "    command=\"mcp\",\n",
        "    args=[\"run\", \"server.py\"],  # Lance le script serveur\n",
        "    env=None  # Hérite de l'environnement courant\n",
        ")\n",
        "\n",
        "async def run():\n",
        "    # Démarre le serveur MCP et établit la connexion STDIO\n",
        "    async with stdio_client(server_params) as (read, write):\n",
        "        # Initialise une session client\n",
        "        async with ClientSession(read, write) as session:\n",
        "            await session.initialize()\n",
        "            print(\"Session initialisée.\")\n",
        "\n",
        "            # Liste les ressources disponibles\n",
        "            resources = await session.list_resources()\n",
        "            print(\"Ressources disponibles :\")\n",
        "            for res in resources:\n",
        "                print(f\"  {res['uri']}\")\n",
        "\n",
        "            # Liste les outils disponibles\n",
        "            tools = await session.list_tools()\n",
        "            print(\"Outils disponibles :\")\n",
        "            for tool in tools:\n",
        "                print(f\"  {tool['name']}\")\n",
        "\n",
        "            # Appelle la ressource greeting://hello\n",
        "            greeting = await session.read_resource(\"greeting://hello\")\n",
        "            print(\"Résultat de greeting://hello :\", greeting)\n",
        "\n",
        "            # Appelle l'outil add avec a=1, b=7\n",
        "            sum_result = await session.call_tool(\"add\", {\"a\": 1, \"b\": 7})\n",
        "            print(\"Résultat de add(1, 7) :\", sum_result)\n",
        "\n",
        "if __name__ == \"__main__\":\n",
        "    asyncio.run(run())\n"
      ]
    },
    {
      "cell_type": "markdown",
      "id": "3ef50a80",
      "metadata": {
        "id": "3ef50a80"
      },
      "source": [
        "Explications :\n",
        "\n",
        "StdioServerParameters configure l’exécution du serveur à chaque lancement du client (procédé le plus simple pour le test).\n",
        "\n",
        "session.initialize() effectue la négociation de session.\n",
        "\n",
        "Les fonctions list_resources() et list_tools() retournent les ressources et outils exposés par le serveur.\n",
        "\n",
        "Les appels aux méthodes read_resource() et call_tool() permettent de tester la fonctionnalité réelle attendue par l’exercice."
      ]
    },
    {
      "cell_type": "markdown",
      "id": "6404cf00",
      "metadata": {
        "id": "6404cf00"
      },
      "source": [
        "## 4. Exécution et Tests\n",
        "\n",
        "Méthode recommandée : Un seul terminal (le client lance le serveur automatiquement)."
      ]
    },
    {
      "cell_type": "code",
      "execution_count": null,
      "id": "dab4519e",
      "metadata": {
        "id": "dab4519e"
      },
      "outputs": [],
      "source": [
        "python client.py\n"
      ]
    },
    {
      "cell_type": "markdown",
      "id": "87bc4399",
      "metadata": {
        "id": "87bc4399"
      },
      "source": [
        "Sortie :"
      ]
    },
    {
      "cell_type": "markdown",
      "id": "09e99b44",
      "metadata": {
        "id": "09e99b44"
      },
      "source": [
        "Session initialisée.\n",
        "Ressources disponibles :\n",
        "  greeting://{name}\n",
        "Outils disponibles :\n",
        "  add\n",
        "Résultat de greeting://hello : Hello, hello!\n",
        "Résultat de add(1, 7) : 8\n"
      ]
    },
    {
      "cell_type": "markdown",
      "id": "6574e57a",
      "metadata": {
        "id": "6574e57a"
      },
      "source": [
        "## 5. Dépannage et Contrôle\n",
        "\n",
        "Erreur “mcp: command not found” : assure-toi d’avoir activé .venv dans chaque terminal où tu travailles.\n",
        "\n",
        "Problème de découverte des outils ou ressources : vérifie les décorateurs et relance le serveur.\n",
        "\n",
        "Erreur de type/mapping : les arguments transmis dans call_tool doivent être bien des entiers (int), sinon tu auras une erreur de sérialisation."
      ]
    },
    {
      "cell_type": "markdown",
      "id": "084308a2",
      "metadata": {
        "id": "084308a2"
      },
      "source": [
        "## 6. Livrables à soumettre\n",
        "\n",
        "server.py\n",
        "\n",
        "client.py\n",
        "\n",
        "Un copier/coller de la sortie du terminal (ou capture d’écran) montrant :\n",
        "\n",
        "La liste des ressources et des outils\n",
        "\n",
        "Le résultat pour greeting://hello\n",
        "\n",
        "Le résultat pour add(1,7)"
      ]
    },
    {
      "cell_type": "markdown",
      "id": "7c0c1c98",
      "metadata": {
        "id": "7c0c1c98"
      },
      "source": [
        "## Synthèse\n",
        "\n",
        "Environnement isolé\n",
        "\n",
        "Deux scripts (serveur + client)\n",
        "\n",
        "Lancement automatisé et testés localement via STDIO\n",
        "\n",
        "Sortie conforme aux consignes"
      ]
    },
    {
      "cell_type": "markdown",
      "id": "5655b1dd",
      "metadata": {
        "id": "5655b1dd"
      },
      "source": [
        "**Traçabilité complète de l'exercice** et des tests pour validation.\n",
        "\n",
        "Cependant, **attention** :\n",
        "\n",
        "* **Les commandes système** (`mkdir`, `cd`, etc.) **ne s’exécutent pas** dans une cellule Python standard.\n",
        "  Si tu veux tout intégrer dans un `.ipynb` pour un rendu, utilise le préfixe `!` devant les commandes shell dans les cellules Jupyter, **mais seulement sous Linux/macOS**.\n",
        "  **Sous Windows et VSCode, cela fonctionne parfois pour des commandes simples**, mais la gestion de venv et l’activation peuvent échouer dans un notebook.\n",
        "\n",
        "* **Le serveur MCP nécessite d’être lancé dans un contexte terminal** pour gérer STDIO proprement.\n",
        "  En pratique, l’intégration directe dans un notebook **ne permet pas de simuler une session STDIO propre entre deux processus**.\n",
        "\n",
        "---\n",
        "\n",
        "## **Conseils pour rendre l’exercice sous format `.ipynb`**\n",
        "\n",
        "### **Structure conseillée du notebook** :\n",
        "\n",
        "1. **Cellule Markdown** : Introduction, contexte, prérequis.\n",
        "2. **Cellule Code (commentaire)** : Les commandes PowerShell à exécuter (juste pour la traçabilité, pas pour exécution directe).\n",
        "3. **Cellule Code** : Contenu de `server.py` (en commentaire ou code brut, car non exécutable dans le notebook en STDIO).\n",
        "4. **Cellule Code** : Contenu de `client.py` (idem, affichage du code).\n",
        "5. **Cellule Markdown** : Explications sur l’exécution attendue.\n",
        "6. **Cellule Markdown/Code** : Copier-coller du résultat d’exécution réel (terminal).\n",
        "\n",
        "**Exemple d’organisation :**\n",
        "\n",
        "---\n",
        "\n",
        "### **1. Introduction**\n",
        "\n",
        "```markdown\n",
        "# Exercice MCP 101 – Bootcamp IA Générative\n",
        "Ce notebook documente la résolution complète de l’exercice MCP (Machine Control Protocol).\n",
        "```\n",
        "\n",
        "---\n",
        "\n",
        "### **2. Commandes d’installation (PowerShell, à NE PAS exécuter ici)**\n",
        "\n",
        "```python\n",
        "# Les commandes suivantes sont à exécuter dans le terminal PowerShell (PAS dans ce notebook)\n",
        "# mkdir mcp-101; cd mcp-101\n",
        "# py -m venv .venv\n",
        "# .venv\\Scripts\\Activate.ps1\n",
        "# python -m pip install --upgrade pip\n",
        "# pip install \"mcp[cli]\"\n",
        "```\n",
        "\n",
        "---\n",
        "\n",
        "### **3. Code du serveur (server.py)**\n",
        "\n",
        "```python\n",
        "# Contenu de server.py à placer dans le fichier server.py\n",
        "from mcp.server.fastmcp import FastMCP\n",
        "\n",
        "mcp = FastMCP(\"Demo\")\n",
        "\n",
        "@mcp.tool()\n",
        "def add(a: int, b: int) -> int:\n",
        "    return a + b\n",
        "\n",
        "@mcp.resource(\"greeting://{name}\")\n",
        "def greet(name: str) -> str:\n",
        "    return f\"Hello, {name}!\"\n",
        "\n",
        "if __name__ == \"__main__\":\n",
        "    mcp.run()\n",
        "```\n",
        "\n",
        "---\n",
        "\n",
        "### **4. Code du client (client.py)**\n",
        "\n",
        "```python\n",
        "# Contenu de client.py à placer dans le fichier client.py\n",
        "import asyncio\n",
        "from mcp import ClientSession, StdioServerParameters\n",
        "from mcp.client.stdio import stdio_client\n",
        "\n",
        "server_params = StdioServerParameters(\n",
        "    command=\"mcp\",\n",
        "    args=[\"run\", \"server.py\"],\n",
        "    env=None\n",
        ")\n",
        "\n",
        "async def run():\n",
        "    async with stdio_client(server_params) as (read, write):\n",
        "        async with ClientSession(read, write) as session:\n",
        "            await session.initialize()\n",
        "            print(\"Session initialisée.\")\n",
        "            resources = await session.list_resources()\n",
        "            print(\"Ressources disponibles :\")\n",
        "            for res in resources:\n",
        "                print(f\"  {res['uri']}\")\n",
        "            tools = await session.list_tools()\n",
        "            print(\"Outils disponibles :\")\n",
        "            for tool in tools:\n",
        "                print(f\"  {tool['name']}\")\n",
        "            greeting = await session.read_resource(\"greeting://hello\")\n",
        "            print(\"Résultat de greeting://hello :\", greeting)\n",
        "            sum_result = await session.call_tool(\"add\", {\"a\": 1, \"b\": 7})\n",
        "            print(\"Résultat de add(1, 7) :\", sum_result)\n",
        "\n",
        "if __name__ == \"__main__\":\n",
        "    asyncio.run(run())\n",
        "```\n",
        "\n",
        "---\n",
        "\n",
        "### **5. Résultat d’exécution (copier-coller du terminal)**\n",
        "\n",
        "```markdown\n",
        "Session initialisée.\n",
        "Ressources disponibles :\n",
        "  greeting://{name}\n",
        "Outils disponibles :\n",
        "  add\n",
        "Résultat de greeting://hello : Hello, hello!\n",
        "Résultat de add(1, 7) : 8\n",
        "```\n",
        "### 6. Résultat d’exécution du client MCP\n",
        "\n",
        "Voici la sortie réelle attendue après exécution de `python client.py` dans le terminal, avec les scripts `server.py` et `client.py` correctement en place :\n",
        "\n",
        "Session initialisée.\n",
        "Ressources disponibles :\n",
        "greeting://{name}\n",
        "Outils disponibles :\n",
        "add\n",
        "Résultat de greeting://hello : Hello, hello!\n",
        "Résultat de add(1, 7) : 8\n",
        "\n",
        "**Cette sortie montre que :**\n",
        "- Le client a établi la connexion au serveur MCP via STDIO.\n",
        "- Il a bien découvert la ressource `greeting://{name}` et l’outil `add`.\n",
        "- Il a appelé la ressource `greeting://hello` (réponse : “Hello, hello!”).\n",
        "- Il a utilisé l’outil `add` avec les arguments 1 et 7, et a obtenu le résultat attendu (8).\n"
      ]
    }
  ],
  "metadata": {
    "kernelspec": {
      "display_name": "Python 3",
      "language": "python",
      "name": "python3"
    },
    "language_info": {
      "codemirror_mode": {
        "name": "ipython",
        "version": 3
      },
      "file_extension": ".py",
      "mimetype": "text/x-python",
      "name": "python",
      "nbconvert_exporter": "python",
      "pygments_lexer": "ipython3",
      "version": "3.11.9"
    },
    "colab": {
      "provenance": [],
      "include_colab_link": true
    }
  },
  "nbformat": 4,
  "nbformat_minor": 5
}