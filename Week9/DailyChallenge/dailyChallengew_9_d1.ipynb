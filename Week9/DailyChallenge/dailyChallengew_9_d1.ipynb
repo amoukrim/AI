{
  "cells": [
    {
      "cell_type": "markdown",
      "metadata": {
        "id": "view-in-github",
        "colab_type": "text"
      },
      "source": [
        "<a href=\"https://colab.research.google.com/github/amoukrim/AI/blob/main/Week9/DailyChallenge/dailyChallengew_9_d1.ipynb\" target=\"_parent\"><img src=\"https://colab.research.google.com/assets/colab-badge.svg\" alt=\"Open In Colab\"/></a>"
      ]
    },
    {
      "cell_type": "markdown",
      "id": "839bbc82",
      "metadata": {
        "id": "839bbc82"
      },
      "source": [
        "#@Author : Adil MOUKRIM\n",
        "\n",
        "# Daily Challenge: Precision Prompting — Notebook (Steps 1–5)\n",
        "**Objectif :** concevoir, tester, évaluer et affiner des prompts pour contrôler **ton**, **structure**, **format** et **longueur**, tout en **prévenant les hallucinations**.\n",
        "\n",
        "**Dernière mise à jour :** 18 août 2025  \n",
        "**Contexte :** Équipe Learning & Comms — microlearning interne à partir d’un extrait de politique sécurité.\n",
        "\n",
        "---\n"
      ]
    },
    {
      "cell_type": "markdown",
      "id": "7c90da12",
      "metadata": {
        "id": "7c90da12"
      },
      "source": [
        "\n",
        "## 🔎 Scénario & Texte d’entrée\n",
        "\n",
        "**Scénario.** Vous créez un micro-contenu pour la newsletter interne, à partir d’un extrait de politique trop formel et jargonneux.  \n",
        "**Texte d’entrée (policy excerpt) :**\n",
        "> *Employees must ensure that all remote access to internal systems is established via the approved secure VPN. Under no circumstances should unsecured connections or personal devices lacking endpoint protection be used to access proprietary data or sensitive communications.*\n"
      ]
    },
    {
      "cell_type": "markdown",
      "id": "642ad8c5",
      "metadata": {
        "id": "642ad8c5"
      },
      "source": [
        "\n",
        "## ✅ Step 1 — Prompt de réécriture (contrôle du ton, format, longueur)\n",
        "\n",
        "**But :** Réécrire en **ton amical et clair**, au **format puces**, **≤ 75 mots**, en **paraphrasant** (pas de citation).\n",
        "\n",
        "**Prompt à exécuter :**\n",
        "```\n",
        "You are an internal communications editor.\n",
        "\n",
        "TASK\n",
        "Rewrite the Input Text for non-technical employees.\n",
        "\n",
        "REQUIREMENTS\n",
        "- Tone: friendly, clear, supportive; avoid jargon.\n",
        "- Format: bullet points only; 3–5 bullets; no title, no intro, no outro, no emojis.\n",
        "- Paraphrase: use your own words; do not quote the original.\n",
        "- Scope: stick strictly to the Input Text; do not add policies, tools, products, or examples not present.\n",
        "- Length: 75 words total or fewer.\n",
        "\n",
        "MUST-PRESERVE MEANING\n",
        "- All remote access uses the approved secure VPN.\n",
        "- Never use unsecured connections.\n",
        "- Never use personal devices without endpoint protection to access company data or sensitive communications.\n",
        "\n",
        "INPUT TEXT\n",
        "\"\"\"\n",
        "Employees must ensure that all remote access to internal systems is established via the approved secure VPN. Under no circumstances should unsecured connections or personal devices lacking endpoint protection be used to access proprietary data or sensitive communications.\n",
        "\"\"\"\n",
        "\n",
        "OUTPUT\n",
        "- (bullet points only, paraphrased, ≤75 words)\n",
        "```\n",
        "\n",
        "**Conseil pédagogique :** Le rôle (“You are…”) guide le ton. Les sections **TASK / REQUIREMENTS / MUST-PRESERVE / OUTPUT** réduisent l’ambiguïté et renforcent la conformité.\n"
      ]
    },
    {
      "cell_type": "markdown",
      "id": "ec71e698",
      "metadata": {
        "id": "ec71e698"
      },
      "source": [
        "\n",
        "## 🧪 Step 2 — Évaluer la sortie (grille qualité)\n",
        "\n",
        "| Critère | Questions-guides |\n",
        "|---|---|\n",
        "| **Relevance** | L’output colle-t-il au message source ? |\n",
        "| **Clarity** | Compréhensible pour non-tech ? Jargon évité ? |\n",
        "| **Structure** | En **puces** claires, sans titre inutile ? |\n",
        "| **Tone** | Adapté à une communication interne ? |\n",
        "| **Length** | ≤ 75 mots ? |\n",
        "| **Factual Accuracy** | Aucune info critique inventée/supprimée ? |\n",
        "\n",
        "**Checklist express (à cocher)**\n",
        "- [ ] VPN approuvé requis pour accès distant  \n",
        "- [ ] Pas de connexions non sécurisées  \n",
        "- [ ] Pas d’appareils personnels **sans** protection endpoint  \n",
        "- [ ] Puces présentes (`- ` au début de chaque ligne)  \n",
        "- [ ] ≤ 75 mots  \n",
        "- [ ] Zéro technologie/règle ajoutée\n"
      ]
    },
    {
      "cell_type": "markdown",
      "id": "45e8cd3d",
      "metadata": {
        "id": "45e8cd3d"
      },
      "source": [
        "\n",
        "## 🚨 Step 3 — Détecter & mitiger les hallucinations\n",
        "\n",
        "**Symptômes fréquents :**  \n",
        "- Durcissement non demandé (“only company-approved devices”)  \n",
        "- Ajout d’outils/technos (proxy, SSO, MDM, etc.)  \n",
        "- Suppression de détails critiques\n",
        "\n",
        "**Prompt révisé (anti-hallucinations + format verrouillé)** :\n",
        "```\n",
        "You are an internal communications editor.\n",
        "\n",
        "TASK\n",
        "Rewrite the Input Text for employees in plain, friendly language.\n",
        "\n",
        "REQUIREMENTS\n",
        "- Tone: friendly and clear, no jargon.\n",
        "- Format: bullet points only (each on a new line). Do not write full sentences in paragraph form.\n",
        "- Paraphrase: use your own words; do not quote directly.\n",
        "- Scope: ONLY paraphrase the input. Do NOT add or remove any rules, policies, or technologies.\n",
        "- Length: 75 words or fewer.\n",
        "\n",
        "MUST-PRESERVE MEANING\n",
        "- All remote access must use the approved secure VPN.\n",
        "- Never use unsecured internet connections.\n",
        "- Never use personal devices without endpoint protection to access data or sensitive communications.\n",
        "\n",
        "INPUT TEXT\n",
        "\"\"\"\n",
        "Employees must ensure that all remote access to internal systems is established via the approved secure VPN. Under no circumstances should unsecured connections or personal devices lacking endpoint protection be used to access proprietary data or sensitive communications.\n",
        "\"\"\"\n",
        "\n",
        "OUTPUT\n",
        "- (bullet points only, ≤75 words, faithful paraphrase, no new ideas)\n",
        "```\n",
        "\n",
        "**Astuce “Format Lock” (optionnel)** : ajouter\n",
        "```\n",
        "FORMAT RULE\n",
        "- Begin every line with a dash (-) followed by a space.\n",
        "- Do not return plain sentences or paragraphs.\n",
        "```\n"
      ]
    },
    {
      "cell_type": "markdown",
      "id": "e92868b9",
      "metadata": {
        "id": "e92868b9"
      },
      "source": [
        "\n",
        "## 🔬 Step 4 — Paraphrasing Deep Dive + Auto-validation\n",
        "\n",
        "**Objectif :** Séparer **paraphrase** (réécriture fidèle) et **validation** (auto-contrôle anti-hallucinations).\n",
        "\n",
        "**Prompt “Paraphrase + Validate” :**\n",
        "```\n",
        "You are an internal communications editor.\n",
        "\n",
        "TASK\n",
        "Take the input text (policy excerpt) and rewrite it for employees in plain, friendly language.\n",
        "\n",
        "STEP 1: PARAPHRASE\n",
        "- Output MUST be in bullet points.\n",
        "- Each bullet starts with \"-\".\n",
        "- Use 3–5 bullets maximum.\n",
        "- Length: ≤75 words.\n",
        "- Paraphrase only; do not quote directly.\n",
        "- Preserve all original security rules:\n",
        "  • Remote access requires the approved secure VPN.\n",
        "  • Never use unsecured internet connections.\n",
        "  • Never use personal devices without endpoint protection for company data/sensitive communications.\n",
        "- Do NOT add new tools, rules, or technologies.\n",
        "\n",
        "STEP 2: VALIDATE\n",
        "After the paraphrase, add a short check with \"Validation:\" and answer:\n",
        "- Did you keep all 3 rules from the input? (Yes/No)\n",
        "- Did you add any new rules or technologies? (Yes/No)\n",
        "\n",
        "INPUT TEXT\n",
        "\"\"\"\n",
        "Employees must ensure that all remote access to internal systems is established via the approved secure VPN. Under no circumstances should unsecured connections or personal devices lacking endpoint protection be used to access proprietary data or sensitive communications.\n",
        "\"\"\"\n",
        "```\n",
        "\n",
        "**Exemple de sortie attendue :**\n",
        "- Always connect through the approved secure VPN when working remotely.  \n",
        "- Never use open or unsecured internet connections.  \n",
        "- Do not use personal devices without endpoint protection to access company data or sensitive messages.  \n",
        "\n",
        "**Validation:**  \n",
        "- Did you keep all 3 rules from the input? → Yes  \n",
        "- Did you add any new rules or technologies? → No\n"
      ]
    },
    {
      "cell_type": "markdown",
      "id": "995ff019",
      "metadata": {
        "id": "995ff019"
      },
      "source": [
        "\n",
        "## 🧩 Step 5 — Quote Extraction Variant (+ Combo Paraphrase + Quote)\n",
        "\n",
        "### A) Extraction de citations (mot à mot)\n",
        "**Prompt :**\n",
        "```\n",
        "You are an internal communications editor.\n",
        "\n",
        "TASK\n",
        "Extract only the key sentences from the input text as direct quotes.\n",
        "\n",
        "REQUIREMENTS\n",
        "- Do not paraphrase or change wording.\n",
        "- Keep the quotes exactly as they appear in the input.\n",
        "- Output in bullet points, each starting with \"-\".\n",
        "- 2–4 bullets maximum.\n",
        "\n",
        "INPUT TEXT\n",
        "\"\"\"\n",
        "Employees must ensure that all remote access to internal systems is established via the approved secure VPN. Under no circumstances should unsecured connections or personal devices lacking endpoint protection be used to access proprietary data or sensitive communications.\n",
        "\"\"\"\n",
        "```\n",
        "\n",
        "**Sortie attendue :**\n",
        "- “Employees must ensure that all remote access to internal systems is established via the approved secure VPN.”  \n",
        "- “Under no circumstances should unsecured connections or personal devices lacking endpoint protection be used to access proprietary data or sensitive communications.”\n",
        "\n",
        "---\n",
        "\n",
        "### B) Variante combinée : Paraphrase + Quote\n",
        "**Prompt :**\n",
        "```\n",
        "You are an internal communications editor.\n",
        "\n",
        "TASK\n",
        "Rewrite the input policy text for employees in a friendly and clear way, then include a short direct quote from the policy for emphasis.\n",
        "\n",
        "REQUIREMENTS\n",
        "- Step 1: Paraphrase in bullet points (3–4 bullets, ≤75 words).\n",
        "- Step 2: Add a section titled \"Official Policy Quote:\" and include one exact sentence from the input text, with quotation marks.\n",
        "- Do not invent new rules, tools, or technologies.\n",
        "- Preserve the three key rules:\n",
        "  • Use the approved secure VPN for remote access.\n",
        "  • Never use unsecured internet connections.\n",
        "  • Do not use personal devices without endpoint protection.\n",
        "\n",
        "INPUT TEXT\n",
        "\"\"\"\n",
        "Employees must ensure that all remote access to internal systems is established via the approved secure VPN. Under no circumstances should unsecured connections or personal devices lacking endpoint protection be used to access proprietary data or sensitive communications.\n",
        "\"\"\"\n",
        "```\n",
        "\n",
        "**Exemple de sortie :**\n",
        "- Always use the approved secure VPN when working remotely.  \n",
        "- Avoid open Wi‑Fi or other unsecured connections.  \n",
        "- Do not use personal devices without endpoint protection for company data or sensitive communications.  \n",
        "\n",
        "**Official Policy Quote:**  \n",
        "“Employees must ensure that all remote access to internal systems is established via the approved secure VPN.”\n"
      ]
    },
    {
      "cell_type": "markdown",
      "id": "37fd1be7",
      "metadata": {
        "id": "37fd1be7"
      },
      "source": [
        "\n",
        "## 🧰 Annexes — Checklists réutilisables\n",
        "\n",
        "### A) Checklist qualité (générique)\n",
        "- [ ] **Pertinence** : les 3 règles clés sont présentes (VPN / pas de connexions non sécurisées / pas d’appareils perso sans protection).  \n",
        "- [ ] **Clarté** : langage simple, public non-tech.  \n",
        "- [ ] **Structure** : format puces (`- `) sans titre parasite.  \n",
        "- [ ] **Ton** : amical & professionnel, zéro jargon.  \n",
        "- [ ] **Longueur** : ≤ 75 mots.  \n",
        "- [ ] **Exactitude** : aucune règle/technologie inventée, aucun détail supprimé.\n",
        "\n",
        "### B) Mini “format lock” si le modèle résiste\n",
        "```\n",
        "FORMAT RULE\n",
        "- Output MUST be bullet points only.\n",
        "- Begin every line with a dash (-) followed by a space.\n",
        "- Do not return plain sentences or paragraphs.\n",
        "```\n"
      ]
    },
    {
      "cell_type": "markdown",
      "id": "8ca13f75",
      "metadata": {
        "id": "8ca13f75"
      },
      "source": [
        "\n",
        "## 📎 Exemples finaux prêts à l’emploi\n",
        "\n",
        "**Paraphrase validée (newsletter)**  \n",
        "- Always connect through the approved secure VPN when working remotely.  \n",
        "- Never use open or unsecured internet connections.  \n",
        "- Only use personal devices with endpoint protection to view company data or sensitive messages.  \n",
        "\n",
        "**Citation officielle (optionnelle)**  \n",
        "“Employees must ensure that all remote access to internal systems is established via the approved secure VPN.”\n"
      ]
    },
    {
      "cell_type": "markdown",
      "id": "bdb5896d",
      "metadata": {
        "id": "bdb5896d"
      },
      "source": [
        "\n",
        "### 🔁 Step 4 — Variante ciblée **Junior Intern** (plain language, ≤4 puces)\n",
        "\n",
        "**Prompt dédié :**\n",
        "```\n",
        "You are an internal communications editor.\n",
        "\n",
        "AUDIENCE\n",
        "- Junior intern with limited technical background.\n",
        "\n",
        "TASK\n",
        "Paraphrase the input policy in plain language and short phrases.\n",
        "\n",
        "REQUIREMENTS\n",
        "- Output: bullet points only (start each line with \"-\").\n",
        "- Use **no more than 4 bullet points**.\n",
        "- Avoid any corporate or legal jargon.\n",
        "- Keep the tone **supportive and informative**.\n",
        "- Length: 75 words or fewer.\n",
        "- Do not add or remove rules; paraphrase only.\n",
        "\n",
        "INPUT TEXT\n",
        "\"\"\"\n",
        "Employees must ensure that all remote access to internal systems is established via the approved secure VPN. Under no circumstances should unsecured connections or personal devices lacking endpoint protection be used to access proprietary data or sensitive communications.\n",
        "\"\"\"\n",
        "```\n"
      ]
    },
    {
      "cell_type": "markdown",
      "id": "baa58a2f",
      "metadata": {
        "id": "baa58a2f"
      },
      "source": [
        "\n",
        "### 🔒 Step 5 — **Single-Quote Extraction** (strict)\n",
        "\n",
        "**Prompt :**\n",
        "```\n",
        "You are an internal communications editor.\n",
        "\n",
        "TASK\n",
        "Extract exactly **one** direct quote from the input that best captures the core security policy.\n",
        "\n",
        "REQUIREMENTS\n",
        "- Quote **exact wording** from the input (no paraphrase, no edits).\n",
        "- Output a single bullet that starts with \"- \" and contains one sentence in quotation marks.\n",
        "- No additional text before or after.\n",
        "\n",
        "INPUT TEXT\n",
        "\"\"\"\n",
        "Employees must ensure that all remote access to internal systems is established via the approved secure VPN. Under no circumstances should unsecured connections or personal devices lacking endpoint protection be used to access proprietary data or sensitive communications.\n",
        "\"\"\"\n",
        "```\n"
      ]
    },
    {
      "cell_type": "markdown",
      "id": "d86dcf3c",
      "metadata": {
        "id": "d86dcf3c"
      },
      "source": [
        "\n",
        "### 💬 Step 5 — Réponses aux questions\n",
        "\n",
        "**Q1. In what kind of internal communication would quoting be more appropriate than paraphrasing?**  \n",
        "- Messages **légaux ou de conformité** où la formulation exacte a une valeur normative.  \n",
        "- **Annonces de politique** officielles (mises à jour, audits) où l’on veut montrer le texte source.  \n",
        "- **Procédures disciplinaires / enquêtes** où l’exactitude verbatim évite l’ambiguïté.  \n",
        "- **FAQ de référence** lorsqu’on doit pointer vers la clause précise.\n",
        "\n",
        "**Q2. When might quoting pose a risk?**  \n",
        "- Quand le **langage officiel est trop dense** et risque d’être mal compris (clarté insuffisante).  \n",
        "- Si la **citation est sortie de son contexte**, menant à une interprétation erronée.  \n",
        "- Lorsque le verbiage **juridique intimide** ou **décourage l’adhésion** des employés.  \n",
        "- Si l’on **fige** une formulation qui sera bientôt mise à jour (risque d’obsolescence).\n"
      ]
    }
  ],
  "metadata": {
    "colab": {
      "provenance": [],
      "include_colab_link": true
    }
  },
  "nbformat": 4,
  "nbformat_minor": 5
}