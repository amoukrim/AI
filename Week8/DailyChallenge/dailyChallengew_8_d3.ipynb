{
  "nbformat": 4,
  "nbformat_minor": 0,
  "metadata": {
    "colab": {
      "provenance": [],
      "authorship_tag": "ABX9TyPu7GB5IoDHBTShLTX2DzSI",
      "include_colab_link": true
    },
    "kernelspec": {
      "name": "python3",
      "display_name": "Python 3"
    },
    "language_info": {
      "name": "python"
    }
  },
  "cells": [
    {
      "cell_type": "markdown",
      "metadata": {
        "id": "view-in-github",
        "colab_type": "text"
      },
      "source": [
        "<a href=\"https://colab.research.google.com/github/amoukrim/AI/blob/main/Week8/DailyChallenge/dailyChallengew_8_d3.ipynb\" target=\"_parent\"><img src=\"https://colab.research.google.com/assets/colab-badge.svg\" alt=\"Open In Colab\"/></a>"
      ]
    },
    {
      "cell_type": "markdown",
      "source": [
        "#@Adil MOUKRIM\n",
        "\n",
        "\n",
        "#AI Agent\n",
        "Last Updated: April 29th, 2025\n",
        "\n",
        "#Daily Challenge : AI Agent for Emergency Medical Dispatch\n",
        "\n",
        "\n",
        "👩‍🏫 👩🏿‍🏫 What You’ll learn\n",
        "You’ll deepen your understanding of how AI agents perceive, reason, and act by analyzing their architecture and designing your own. You’ll also critically compare agent types and decide which is best for specific tasks.\n",
        "\n",
        "\n",
        "\n",
        "🛠️ What you will create\n",
        "You’ll design a smart emergency dispatch agent that assists in triaging 911 calls, gathering critical patient data, and dispatching appropriate medical services. You’ll define its architecture, tools, state management, and evaluate the trade-offs between different agent types.\n",
        "\n",
        "\n",
        "\n",
        "🛠 What will you use\n",
        "Agent concepts: perception, reasoning, action loops\n",
        "Architecture types: reactive, deliberative, hybrid\n",
        "Tools & integrations: symptom‐checker APIs, dispatch scheduling systems, GIS/location services\n",
        "State management: memory of caller info, symptom history, decision logs\n",
        "Evaluation criteria: urgency determination, response speed, reliability, safety trade-offs\n",
        "\n",
        "\n",
        "Step-by-Step Instructions\n",
        "1. Understand the Scenario\n",
        "\n",
        "Read the challenge description.\n",
        "Note the goal: build an AI assistant that triages 911 calls and dispatches medical help.\n",
        "2. Define the Agent’s Environment\n",
        "\n",
        "List all inputs your agent will “perceive”:\n",
        "Voice or text transcript of caller’s symptoms\n",
        "Caller location (GPS/address)\n",
        "Caller identity and medical history (if available)\n",
        "Write down each input as bullet points in your notes.\n",
        "3. Select and Describe Tools\n",
        "\n",
        "Identify at least three external systems or APIs your agent needs:\n",
        "Symptom Checker API (e.g., Infermedica)\n",
        "Ambulance Scheduling System (e.g., internal dispatch API)\n",
        "Medical Triage Model (e.g., fine-tuned LLM for severity scoring)\n",
        "For each tool, note: what data it consumes, and what it returns.\n",
        "4. Outline State Management\n",
        "\n",
        "Decide what the agent must remember across the call:\n",
        "Caller identity and contact info\n",
        "Reported symptoms and their severity\n",
        "Decisions/actions taken so far (e.g., advised self-care, dispatched ambulance)\n",
        "Sketch a simple state table or JSON schema listing these fields.\n",
        "5. Design the Decision-Making Process\n",
        "\n",
        "Break down urgency determination into steps:\n",
        "Parse symptoms → extract severity keywords\n",
        "Query triage model → get “urgency score”\n",
        "Compare score against thresholds → “High”, “Medium”, “Low”\n",
        "Define what the agent does at each level:\n",
        "High → dispatch ambulance immediately\n",
        "Medium → advise nearest urgent care\n",
        "Low → provide self-care instructions\n",
        "6. Classify Your Agent\n",
        "\n",
        "Choose one architecture type (Reactive, Deliberative, or Hybrid).\n",
        "Justify:\n",
        "How does it use memory?\n",
        "Does it plan ahead or act on immediate inputs?\n",
        "Example justification in 2–3 sentences.\n",
        "7. Compare to a Second Agent Type\n",
        "\n",
        "Pick a different type (e.g., if you chose Hybrid, compare to Reactive).\n",
        "Describe how your design would change:\n",
        "Memory handling\n",
        "Planning steps or lack thereof\n",
        "Tool invocation strategy\n",
        "List trade-offs in speed, reliability, and intelligence (one bullet each).\n",
        "8. Reflect on Critical Questions\n",
        "\n",
        "What fails if your agent does not maintain state?\n",
        "Why are external tools (APIs, models) essential in an EMR dispatch scenario?\n",
        "Write 2–3 sentences for each reflection question.\n",
        "\n",
        "\n",
        "Deliverables\n",
        "1. Design Document (Markdown or Notebook)\n",
        "\n",
        "Environment definition\n",
        "Tool list & interfaces\n",
        "State schema\n",
        "Decision-making flowchart or pseudocode\n",
        "2. Agent Classification & Comparison\n",
        "\n",
        "Chosen architecture with justification\n",
        "Comparison to second type with trade-off analysis\n",
        "3. Reflection Answers\n",
        "\n",
        "Impact of no state management\n",
        "Role of tools in high-stakes dispatch\n",
        "4. (Optional) GitHub Submission\n",
        "\n",
        "Push your final .md or notebook to a public repo and share the link.\n",
        "\n",
        "\n",
        "Duration & Difficulty\n",
        "Duration (approx)\tDifficulty\n",
        "2.5 hours\t⭐⭐⭐\n",
        "\n",
        "\n",
        "Submit Your Daily Challenge\n",
        "Don’t forget to push your design and comparison (Markdown, code, or notebook) to GitHub! 🚀"
      ],
      "metadata": {
        "id": "mVC_W-2iB_fU"
      }
    },
    {
      "cell_type": "markdown",
      "source": [
        "# Étape 1 : Compréhension du Scénario\n",
        "🎯 Objectif global :\n",
        "\n",
        "\n",
        "\n",
        "* Construire un agent intelligent capable de :\n",
        "\n",
        "* Recevoir des appels d’urgence 911\n",
        "\n",
        "* Comprendre les symptômes décrits\n",
        "\n",
        "* Évaluer la gravité de la situation\n",
        "\n",
        "* Déterminer la réponse appropriée (conseil, orientation ou envoi d’ambulance)\n",
        "\n",
        "En résumé :\n",
        "\n",
        "\n",
        "| Fonction      | Description                                                         |\n",
        "| ------------- | ------------------------------------------------------------------- |\n",
        "| **Percevoir** | Écoute et comprend ce que dit l'appelant (voix ou texte)            |\n",
        "| **Raisonner** | Analyse les symptômes, interroge des systèmes externes              |\n",
        "| **Agir**      | Déclenche une action : envoie une ambulance, donne des instructions |\n",
        "\n",
        "=> Cet agent s’apparente à un assistant IA de triage médical d’urgence, centré sur la prise de décision rapide et fiable à partir d’informations imparfaites."
      ],
      "metadata": {
        "id": "Q34fGW05krrj"
      }
    },
    {
      "cell_type": "markdown",
      "source": [
        "# Étape 2 : Définir l’environnement de l’agent\n"
      ],
      "metadata": {
        "id": "p3-MpkW5l2Ld"
      }
    },
    {
      "cell_type": "markdown",
      "source": [
        "##  Liste des entrées (perceptions) que notre agent d’urgence recevra :\n",
        "Transcription du dialogue avec l’appelant (voix ou texte)\n",
        "\n",
        "💬 Pourquoi ? Pour extraire les symptômes, émotions, et contexte.\n",
        "\n",
        "🛠 Exemple d’entrée : \"J’ai des douleurs dans la poitrine et je transpire beaucoup.\"\n",
        "\n",
        "Localisation du patient\n",
        "\n",
        "📍 Peut venir du GPS du téléphone ou d’une adresse donnée.\n",
        "\n",
        "💬 Pourquoi ? Permet d’envoyer les secours au bon endroit et de géolocaliser les centres de soins.\n",
        "\n",
        "Identité du patient (si connue)\n",
        "\n",
        "📄 Peut inclure nom, téléphone, ID du patient dans la base de données.\n",
        "\n",
        "💬 Pourquoi ? Pour récupérer un historique médical et accélérer le triage.\n",
        "\n",
        "Historique médical (si disponible)\n",
        "\n",
        "🏥 Maladies chroniques, allergies, interventions récentes.\n",
        "\n",
        "💬 Pourquoi ? Certaines pathologies influencent la gravité (ex. : douleur thoracique chez un patient cardiaque ≠ patient sain).\n",
        "\n",
        "Heure et date de l’appel\n",
        "\n",
        "⏰ Pour contextualiser (ex. : un appel à 3h du matin d’un quartier isolé).\n",
        "\n",
        "📝 Résumé sous forme de bullet points :\n",
        " Voix ou transcription texte du patient\n",
        "\n",
        " Localisation GPS ou adresse de l’appel\n",
        "\n",
        " Identité du patient (nom, numéro, ID santé)\n",
        "\n",
        " Historique médical (si accessible)\n",
        "\n"
      ],
      "metadata": {
        "id": "WxtVEaYGmRGD"
      }
    },
    {
      "cell_type": "markdown",
      "source": [
        "# Étape 3 : Sélection et description des outils externes\n",
        "🎯 Objectif\n",
        "Identifier les systèmes ou APIs que l’agent devra interroger pour :\n",
        "\n",
        "comprendre les symptômes\n",
        "\n",
        "prendre des décisions médicales\n",
        "\n",
        "déclencher des actions logistiques (envoi d’ambulance)\n",
        "\n"
      ],
      "metadata": {
        "id": "snbktbajm54b"
      }
    },
    {
      "cell_type": "markdown",
      "source": [
        "🛠️ Outil 1 : Symptom Checker API\n",
        "Exemple : Infermedica, Isabel, ou un modèle LLM spécialisé\n",
        "\n",
        "Données en entrée :\n",
        "\n",
        "Liste des symptômes\n",
        "\n",
        "Données démographiques (âge, sexe)\n",
        "\n",
        "Facteurs de risque connus\n",
        "\n",
        "Données en sortie :\n",
        "\n",
        "Probabilités de maladies\n",
        "\n",
        "Suggestions de diagnostic\n",
        "\n",
        "Recommandations de gravité / urgence\n",
        "\n",
        "💬 Pourquoi ?\n",
        "\n",
        "Cela permet d’automatiser un pré-triage médical avec une logique clinique fiable.\n",
        "\n",
        "Évite de surcharger les services d’urgence pour des cas bénins."
      ],
      "metadata": {
        "id": "XKyNfknynb0L"
      }
    },
    {
      "cell_type": "markdown",
      "source": [
        "Exemple : Infermedica, Isabel, ou un modèle LLM spécialisé\n",
        "\n",
        "Données en entrée :\n",
        "\n",
        "Liste des symptômes\n",
        "\n",
        "Données démographiques (âge, sexe)\n",
        "\n",
        "Facteurs de risque connus\n",
        "\n",
        "Données en sortie :\n",
        "\n",
        "Probabilités de maladies\n",
        "\n",
        "Suggestions de diagnostic\n",
        "\n",
        "Recommandations de gravité / urgence\n",
        "\n",
        "💬 Pourquoi ?\n",
        "\n",
        "Cela permet d’automatiser un pré-triage médical avec une logique clinique fiable.\n",
        "\n",
        "Évite de surcharger les services d’urgence pour des cas bénins."
      ],
      "metadata": {
        "id": "3RRvBET1n5nD"
      }
    },
    {
      "cell_type": "markdown",
      "source": [
        "🛠️ Outil 2 : Système de dispatch / planification d’ambulance\n",
        "Exemple : API interne connectée aux pompiers ou services médicaux\n",
        "\n",
        "Données en entrée :\n",
        "\n",
        "Localisation du patient\n",
        "\n",
        "Niveau d’urgence\n",
        "\n",
        "Type d’unité nécessaire (ambulance standard, unité mobile réanimatoire)\n",
        "\n",
        "Données en sortie :\n",
        "\n",
        "Confirmation d’envoi d’une ambulance\n",
        "\n",
        "Temps estimé d’arrivée\n",
        "\n",
        "ID de l’unité envoyée\n",
        "\n",
        "💬 Pourquoi ?\n",
        "\n",
        "L’agent ne doit pas simplement conseiller, mais aussi agir rapidement.\n",
        "\n",
        "Ce système est indispensable pour sauver des vies dans les cas critiques."
      ],
      "metadata": {
        "id": "bibSuQHVoDDD"
      }
    },
    {
      "cell_type": "markdown",
      "source": [
        "🛠️ Outil 3 : Modèle de triage d'urgence (LLM ou règles)\n",
        "Exemple : LLM spécialisé (fine-tuné), ou moteur de règles médicales\n",
        "\n",
        "Données en entrée :\n",
        "\n",
        "Symptômes extraits\n",
        "\n",
        "Contexte patient (âge, comorbidités, antécédents)\n",
        "\n",
        "Score d’auto-évaluation de douleur (si applicable)\n",
        "\n",
        "Données en sortie :\n",
        "\n",
        "Score d’urgence (0–100) ou catégorie : faible, modérée, critique\n",
        "\n",
        "Logique d’explication (facultatif)\n",
        "\n",
        "💬 Pourquoi ?\n",
        "\n",
        "Ce modèle fait le lien entre perception et décision. Il est le cœur du raisonnement médical de l’agent.\n",
        "\n",
        "**Résumé tableau des outils :**\n",
        "\n",
        "\n",
        "| Outil/API                    | Entrées Principales                    | Sorties Attendues                    | Rôle                     |\n",
        "| ---------------------------- | -------------------------------------- | ------------------------------------ | ------------------------ |\n",
        "| **Symptom Checker**          | Symptômes, infos patient               | Diagnostic possible, gravité estimée | Aide à comprendre le cas |\n",
        "| **Système de dispatch**      | Localisation, urgence                  | Envoi d’ambulance, ETA, unité        | Permet l’action directe  |\n",
        "| **Modèle de triage médical** | Symptômes, historique, données patient | Score ou classe d’urgence            | Soutien à la décision    |\n"
      ],
      "metadata": {
        "id": "4ajk0wGIoJdD"
      }
    },
    {
      "cell_type": "markdown",
      "source": [
        "🧠 Justification pédagogique :\n",
        "Un agent intelligent ne peut pas tout faire lui-même. Il délègue à des outils spécialisés qui agissent comme des experts : l’un pour diagnostiquer, un autre pour envoyer des secours. Cela renforce la fiabilité, la vitesse et la modularité du système."
      ],
      "metadata": {
        "id": "1HlhPbQXo6kT"
      }
    },
    {
      "cell_type": "markdown",
      "source": [
        "##✅ Étape 4 : Gestion de l’État (State Management)\n",
        "🎯 Objectif\n",
        "Déterminer ce que l’agent doit mémoriser pendant la durée d’un appel d’urgence (ou au fil de plusieurs interactions), afin de :\n",
        "\n",
        "ne pas répéter les mêmes questions\n",
        "\n",
        "garder une trace des décisions prises\n",
        "\n",
        "permettre un suivi clair et sécurisé"
      ],
      "metadata": {
        "id": "lDogKuMuqHJj"
      }
    },
    {
      "cell_type": "markdown",
      "source": [
        " Structure de l’état à maintenir (sous forme de JSON ou tableau)\n",
        "Voici un exemple de schéma JSON que l’agent pourrait utiliser pour stocker l’état courant du cas :"
      ],
      "metadata": {
        "id": "Sugid7cIqrM9"
      }
    },
    {
      "cell_type": "code",
      "source": [
        "{\n",
        "  \"call_id\": \"911-20250731-0001\",\n",
        "  \"caller_info\": {\n",
        "    \"name\": \"Jean Dupont\",\n",
        "    \"phone\": \"+33123456789\",\n",
        "    \"location\": {\n",
        "      \"address\": \"12 rue Victor Hugo, Paris\",\n",
        "      \"gps\": [48.8566, 2.3522]\n",
        "    },\n",
        "    \"age\": 58,\n",
        "    \"medical_history\": [\"hypertension\", \"diabète\"]\n",
        "  },\n",
        "  \"symptoms_reported\": [\n",
        "    {\n",
        "      \"description\": \"douleur thoracique\",\n",
        "      \"onset_time\": \"2025-07-31T10:15:00Z\",\n",
        "      \"severity\": \"élevée\"\n",
        "    },\n",
        "    {\n",
        "      \"description\": \"transpiration abondante\",\n",
        "      \"severity\": \"modérée\"\n",
        "    }\n",
        "  ],\n",
        "  \"triage_score\": 88,\n",
        "  \"urgency_level\": \"Haute\",\n",
        "  \"actions_taken\": [\n",
        "    {\n",
        "      \"type\": \"dispatch_ambulance\",\n",
        "      \"timestamp\": \"2025-07-31T10:18:00Z\",\n",
        "      \"unit_id\": \"AMB-75-004\"\n",
        "    }\n",
        "  ],\n",
        "  \"status\": \"ambulance_dispatched\"\n",
        "}\n"
      ],
      "metadata": {
        "id": "gwvreYFuqvD7"
      },
      "execution_count": null,
      "outputs": []
    },
    {
      "cell_type": "markdown",
      "source": [
        "🗃️ Champs principaux à mémoriser\n",
        "\n",
        "| Champ               | Description                                                |\n",
        "| ------------------- | ---------------------------------------------------------- |\n",
        "| `call_id`           | Identifiant unique de l’appel                              |\n",
        "| `caller_info`       | Données du patient (identité, contact, historique médical) |\n",
        "| `symptoms_reported` | Liste structurée des symptômes décrits                     |\n",
        "| `triage_score`      | Résultat du modèle d’évaluation médicale                   |\n",
        "| `urgency_level`     | Catégorie finale : faible, moyenne, élevée                 |\n",
        "| `actions_taken`     | Historique des actions effectuées par l’agent              |\n",
        "| `status`            | État du dossier d’appel (en cours, terminé, etc.)          |\n",
        "\n",
        "🧠 Justification :\n",
        "\n",
        "Stocker cet état permet non seulement de fournir une réponse fluide et cohérente à l’utilisateur, mais aussi de faciliter la supervision humaine, la remontée de logs, et l’analyse après-coup (audit ou recherche).\n"
      ],
      "metadata": {
        "id": "VocDaGfcq0Gj"
      }
    },
    {
      "cell_type": "markdown",
      "source": [
        "1. 📋 Appel à l’API de Symptom Checker\n",
        "\n",
        "**But :** Transmettre les symptômes, âge, sexe, et antécédents pour obtenir une première estimation du diagnostic et de la gravité."
      ],
      "metadata": {
        "id": "6tKWVkborU6k"
      }
    },
    {
      "cell_type": "code",
      "source": [
        "# 🔸 Requête :\n",
        " {\n",
        "  \"patient\": {\n",
        "    \"age\": 58,\n",
        "    \"sex\": \"male\",\n",
        "    \"medical_history\": [\"hypertension\", \"diabetes\"]\n",
        "  },\n",
        "  \"symptoms\": [\n",
        "    { \"id\": \"chest_pain\", \"description\": \"douleur thoracique\", \"severity\": \"high\" },\n",
        "    { \"id\": \"sweating\", \"description\": \"transpiration excessive\", \"severity\": \"medium\" }\n",
        "  ],\n",
        "  \"language\": \"fr\"\n",
        "}\n"
      ],
      "metadata": {
        "id": "E-NaaPyrrk8E"
      },
      "execution_count": null,
      "outputs": []
    },
    {
      "cell_type": "code",
      "source": [
        "#🔹 Réponse attendue :\n",
        "{\n",
        "  \"possible_conditions\": [\n",
        "    { \"name\": \"Infarctus du myocarde\", \"probability\": 0.87 },\n",
        "    { \"name\": \"Angine de poitrine\", \"probability\": 0.65 }\n",
        "  ],\n",
        "  \"advice\": {\n",
        "    \"urgency\": \"high\",\n",
        "    \"recommendation\": \"Contact médical immédiat requis\"\n",
        "  }\n",
        "}\n"
      ],
      "metadata": {
        "id": "4ZgBu8JmrvZr"
      },
      "execution_count": null,
      "outputs": []
    },
    {
      "cell_type": "markdown",
      "source": [
        "##✅ 2. 🧠 Appel au modèle de triage médical (LLM ou moteur de règles)\n",
        "But : Générer un score d’urgence sur 100 et une explication pour prise de décision."
      ],
      "metadata": {
        "id": "IN2QB6Ltsqfs"
      }
    },
    {
      "cell_type": "markdown",
      "source": [
        "🔸 Requête :"
      ],
      "metadata": {
        "id": "uI1vdyKXsuBT"
      }
    },
    {
      "cell_type": "code",
      "source": [
        "#🔸 Requête :\n",
        "{\n",
        "  \"symptoms\": [\n",
        "    { \"description\": \"douleur thoracique\", \"severity\": \"élevée\", \"duration_minutes\": 30 },\n",
        "    { \"description\": \"transpiration\", \"severity\": \"modérée\" }\n",
        "  ],\n",
        "  \"patient_context\": {\n",
        "    \"age\": 58,\n",
        "    \"medical_history\": [\"hypertension\", \"diabète\"]\n",
        "  }\n",
        "}\n",
        "\n"
      ],
      "metadata": {
        "id": "ZcLoZBw-sv2M"
      },
      "execution_count": null,
      "outputs": []
    },
    {
      "cell_type": "code",
      "source": [
        "#🔹 Réponse attendue :\n",
        "{\n",
        "  \"urgency_score\": 88,\n",
        "  \"urgency_category\": \"Haute\",\n",
        "  \"explanation\": \"La combinaison de douleur thoracique et de transpiration chez un patient à risque cardiovasculaire suggère un potentiel infarctus.\"\n",
        "}\n"
      ],
      "metadata": {
        "id": "siMl4UNms3tE"
      },
      "execution_count": null,
      "outputs": []
    },
    {
      "cell_type": "markdown",
      "source": [
        "##✅ 3. 🚑 Appel au Système de Dispatch Ambulance"
      ],
      "metadata": {
        "id": "xJSo0aN_s3Js"
      }
    },
    {
      "cell_type": "code",
      "source": [
        "#🔸 Requête :\n",
        "\n",
        "{\n",
        "  \"incident_id\": \"911-20250731-0001\",\n",
        "  \"location\": {\n",
        "    \"address\": \"12 rue Victor Hugo, Paris\",\n",
        "    \"gps\": [48.8566, 2.3522]\n",
        "  },\n",
        "  \"urgency_level\": \"Haute\",\n",
        "  \"patient_info\": {\n",
        "    \"name\": \"Jean Dupont\",\n",
        "    \"age\": 58\n",
        "  },\n",
        "  \"dispatch_type\": \"ALS\"  // Advanced Life Support\n",
        "}\n"
      ],
      "metadata": {
        "id": "en_jFnUpty8c"
      },
      "execution_count": null,
      "outputs": []
    },
    {
      "cell_type": "code",
      "source": [
        "#🔹 Réponse attendue :\n",
        "{\n",
        "  \"status\": \"confirmed\",\n",
        "  \"unit_id\": \"AMB-75-004\",\n",
        "  \"estimated_arrival_minutes\": 8,\n",
        "  \"dispatcher_contact\": \"+33123450000\"\n",
        "}\n"
      ],
      "metadata": {
        "id": "kdINFaWat37t"
      },
      "execution_count": null,
      "outputs": []
    },
    {
      "cell_type": "markdown",
      "source": [
        "📚 pédagogique :\n",
        "Chaque API a un format d’entrée bien structuré, centré sur un besoin : diagnostic, décision, ou action.\n",
        "\n",
        "Les réponses sont normées et exploitables immédiatement par l’agent.\n",
        "\n",
        "Ce découpage permet de rendre l’agent modulaire et interopérable avec divers systèmes médicaux.\n",
        "\n"
      ],
      "metadata": {
        "id": "7neCxO-Pt-KE"
      }
    },
    {
      "cell_type": "markdown",
      "source": [
        "##✅ Étape 5 : Conception du processus de prise de décision\n",
        "🎯 Objectif :\n",
        "Structurer comment l’agent décide du niveau d’urgence, puis quelle action il prend selon ce niveau.\n",
        "\n",
        "🔄 Schéma logique global : Percevoir → Évaluer → Décider → Agir"
      ],
      "metadata": {
        "id": "3VBduIzzuJgN"
      }
    },
    {
      "cell_type": "markdown",
      "source": [
        "##🧩 Étape 1 : Extraire les symptômes\n",
        "L’agent reçoit une transcription vocale ou textuelle. Il doit :\n",
        "\n",
        "Nettoyer le texte (orthographe, ponctuation)\n",
        "\n",
        "Détecter les mots-clés de symptômes\n",
        "\n",
        "Estimer la gravité perçue pour chaque symptôme (via modèle ou règle simple)"
      ],
      "metadata": {
        "id": "p97dp5E7t3hz"
      }
    },
    {
      "cell_type": "code",
      "source": [
        "# Exemple (pseudo-code)\n",
        "symptomes = extraire_symptomes(\"J’ai une douleur à la poitrine et je transpire beaucoup.\")\n",
        "# Output : [\"douleur thoracique\", \"transpiration excessive\"]\n"
      ],
      "metadata": {
        "id": "18yFHfAcumLk"
      },
      "execution_count": null,
      "outputs": []
    },
    {
      "cell_type": "markdown",
      "source": [
        "🧩 Étape 2 : Interroger le modèle de triage\n",
        "Les symptômes extraits sont envoyés au Modèle de Triage Médical, avec :\n",
        "\n",
        "âge, sexe, antécédents\n",
        "\n",
        "Il retourne un :\n",
        "\n",
        "score numérique (0–100)\n",
        "\n",
        "niveau d’urgence catégorisé : \"faible\", \"modérée\", \"critique\"\n",
        "\n"
      ],
      "metadata": {
        "id": "EGh3I6R9uwXN"
      }
    },
    {
      "cell_type": "markdown",
      "source": [
        "🧩 Étape 3 : Classification par seuils\n",
        "\n",
        "\n",
        "| Score d’urgence | Niveau       | Action                                     |\n",
        "| --------------- | ------------ | ------------------------------------------ |\n",
        "| ≥ 80            | **Critique** | 🚑 Envoi immédiat d’ambulance              |\n",
        "| 50–79           | **Modérée**  | 📍 Conseiller un centre médical proche     |\n",
        "| < 50            | **Faible**   | 💬 Donner des conseils de soins à domicile |\n"
      ],
      "metadata": {
        "id": "4EsTt0s4u3wc"
      }
    },
    {
      "cell_type": "markdown",
      "source": [
        "🧩 Étape 4 : Décision et action\n",
        "En fonction du score obtenu :\n",
        "\n",
        "🟥 Si Critique (score ≥ 80)"
      ],
      "metadata": {
        "id": "pLxWllVTvHpc"
      }
    },
    {
      "cell_type": "code",
      "source": [
        "{\n",
        "  \"action\": \"dispatch_ambulance\",\n",
        "  \"reason\": \"urgence vitale probable\",\n",
        "  \"followup\": \"appeler le patient toutes les 2 minutes jusqu'à l’arrivée\"\n",
        "}\n"
      ],
      "metadata": {
        "id": "MJ_fhnJqvJuF"
      },
      "execution_count": null,
      "outputs": []
    },
    {
      "cell_type": "markdown",
      "source": [
        "🟧 Si Modérée (score entre 50 et 79)"
      ],
      "metadata": {
        "id": "8pmrCfQ9vQX8"
      }
    },
    {
      "cell_type": "code",
      "source": [
        "{\n",
        "  \"action\": \"recommande_urgence_locale\",\n",
        "  \"reason\": \"symptômes sérieux mais pas immédiatement critiques\",\n",
        "  \"locations\": [\"Hôpital Lariboisière\", \"Clinique Montparnasse\"]\n",
        "}\n"
      ],
      "metadata": {
        "id": "zfAd76Xuvd_s"
      },
      "execution_count": null,
      "outputs": []
    },
    {
      "cell_type": "markdown",
      "source": [
        "🟩 Si Faible (score < 50)"
      ],
      "metadata": {
        "id": "hu8I6TedvnMF"
      }
    },
    {
      "cell_type": "code",
      "source": [
        "{\n",
        "  \"action\": \"donne_conseils\",\n",
        "  \"advice\": \"boire de l’eau, rester au calme, appeler si les symptômes persistent\",\n",
        "  \"followup\": \"proposer un rappel dans 2h\"\n",
        "}\n"
      ],
      "metadata": {
        "id": "3M-eeq6qvoRE"
      },
      "execution_count": null,
      "outputs": []
    },
    {
      "cell_type": "markdown",
      "source": [
        "📜 Pseudo-code global du triage"
      ],
      "metadata": {
        "id": "QB-3VJW6v-Gs"
      }
    },
    {
      "cell_type": "code",
      "source": [
        "symptomes = extraire_symptomes(texte_transcription)\n",
        "infos_patient = get_patient_info(caller_id)\n",
        "\n",
        "triage = query_triage_model(symptomes, infos_patient)\n",
        "\n",
        "if triage['score'] >= 80:\n",
        "    envoyer_ambulance()\n",
        "elif triage['score'] >= 50:\n",
        "    recommander_urgence_locale()\n",
        "else:\n",
        "    donner_conseils_domestiques()\n"
      ],
      "metadata": {
        "id": "2IpXmzhiwCl-"
      },
      "execution_count": null,
      "outputs": []
    },
    {
      "cell_type": "markdown",
      "source": [
        "🎓** Justification : **\n",
        "Structurer la décision par paliers permet à l’agent d’être :\n",
        "\n",
        "réactif dans les cas graves\n",
        "\n",
        "raisonné dans les cas intermédiaires\n",
        "\n",
        "économe en ressources dans les cas bénins\n",
        "Cela reflète une logique clinique réelle (inspirée du SAMU, des guidelines médicales)."
      ],
      "metadata": {
        "id": "0PSqPacxwOwm"
      }
    },
    {
      "cell_type": "markdown",
      "source": [
        "✅ Étape 6 : Classification de l’architecture de l’agent\n",
        "\n",
        "🎯 Objectif :\n",
        "\n",
        "Identifier quel type d’agent on a conçu et justifier pourquoi.\n",
        "\n",
        "🧠 Rappel des types d’architecture d’agents IA\n",
        "\n",
        "\n",
        "| Type            | Description                                                 | Mémoire ? | Planification ? |\n",
        "| --------------- | ----------------------------------------------------------- | --------- | --------------- |\n",
        "| **Réactif**     | Réagit directement aux entrées (sans raisonnement complexe) | ❌ Non     | ❌ Non           |\n",
        "| **Délibératif** | Raisonner sur des objectifs, plans, états internes          | ✅ Oui     | ✅ Oui           |\n",
        "| **Hybride**     | Combine réactivité immédiate et raisonnement structuré      | ✅ Oui     | ✅ Optionnel     |\n"
      ],
      "metadata": {
        "id": "RWFLwPsX6noY"
      }
    },
    {
      "cell_type": "markdown",
      "source": [
        "🏗️ Notre agent : HYBRIDE\n",
        "✅ Justification détaillée :\n",
        "Utilise la mémoire :\n",
        "\n",
        "Stocke les symptômes, l’historique médical, les décisions prises\n",
        "\n",
        "Conserve l’état de la session pour ne pas poser deux fois les mêmes questions\n",
        "\n",
        "Planifie partiellement :\n",
        "\n",
        "Évalue l’urgence selon un score\n",
        "\n",
        "Suit un processus structuré de décision (arbre logique)\n",
        "\n",
        "Mais peut aussi réagir immédiatement (ex : si le mot \"inconscient\" est détecté → ambulance instantanée)\n",
        "\n",
        "Exploite des outils spécialisés :\n",
        "\n",
        "Ne fait pas tout lui-même, mais oriente dynamiquement les appels aux APIs\n",
        "\n",
        "Adapte ses décisions aux données récoltées en temps réel\n",
        "\n",
        "🧪 Exemple concret :\n",
        "Si un appelant dit \"je ne respire plus\", l’agent peut court-circuiter le raisonnement normal et appeler une ambulance tout de suite (réactif)\n",
        "\n",
        "Mais si les symptômes sont flous, il interroge une API, construit un score, puis décide (délibératif)\n",
        "\n",
        "🎓 Pourquoi c’est mieux ici ?\n",
        "Dans un système de secours, on a besoin de réactivité immédiate pour les urgences claires, mais aussi de raisonnement structuré pour les cas ambigus.\n",
        "L’architecture hybride est donc la plus adaptée à un contexte médical à haut risque."
      ],
      "metadata": {
        "id": "yd1TLHCo_nJ0"
      }
    },
    {
      "cell_type": "markdown",
      "source": [
        "✅ Étape 7 : Comparaison de l’architecture Hybride avec un autre type d’agent\n",
        "🎯 Objectif\n",
        "Comparer notre choix (Hybride) avec un autre type d’agent (ici : Réactif) pour mieux comprendre les compromis."
      ],
      "metadata": {
        "id": "DxiMF24uAb6b"
      }
    },
    {
      "cell_type": "markdown",
      "source": [
        "⚖️ Comparaison : Agent Hybride vs Agent Réactif"
      ],
      "metadata": {
        "id": "skQbsHkLAi_E"
      }
    },
    {
      "cell_type": "markdown",
      "source": [
        "| Critère                         | **Hybride (notre choix)**                                        | **Réactif**                                                        |\n",
        "| ------------------------------- | ---------------------------------------------------------------- | ------------------------------------------------------------------ |\n",
        "| **Gestion de la mémoire**       | Oui, conserve l’état du patient, les décisions prises, etc.      | Non, chaque perception est traitée isolément                       |\n",
        "| **Capacité à planifier**        | Partielle : suit une logique conditionnelle selon les symptômes  | Aucune planification : réaction immédiate                          |\n",
        "| **Usage des outils/API**        | Contextuel : utilise le bon outil au bon moment                  | Limité ou inexistant                                               |\n",
        "| **Fiabilité médicale**          | Haute : car les décisions sont basées sur des données complètes  | Faible : risque de sur-réagir ou de sous-estimer                   |\n",
        "| **Vitesse de réponse**          | Moyenne à élevée (selon complexité de raisonnement)              | Très élevée                                                        |\n",
        "| **Simplicité d’implémentation** | Moyenne à complexe                                               | Très simple                                                        |\n",
        "| **Exemples d’action**           | - Évaluer score → choisir action<br>- Réagir si mot clé critique | - Si \"je saigne\" → envoyer ambulance sans poser d’autres questions |\n"
      ],
      "metadata": {
        "id": "1pLMUH2rAk_8"
      }
    },
    {
      "cell_type": "markdown",
      "source": [
        "⚠️ Trade-offs (compromis) principaux :\n",
        "✅ Vitesse (Réactif) :\n",
        "\n",
        "Très rapide, pas de calculs. Avantage si les symptômes sont clairs et urgents.\n",
        "\n",
        "❌ Mais dangereux en cas de faux positifs ou d’ambiguïté.\n",
        "\n",
        "✅ Fiabilité (Hybride) :\n",
        "\n",
        "Meilleure décision grâce à la mémoire et à la logique.\n",
        "\n",
        "❌ Mais demande plus de ressources (CPU, temps, complexité de code).\n",
        "\n",
        "✅ Intelligence (Hybride) :\n",
        "\n",
        "Capacité à adapter son comportement en fonction du contexte et de l’historique.\n",
        "\n",
        "❌ Un agent réactif agit toujours de la même façon, ce qui est limitant en médecine.\n",
        "\n",
        "🎓 Conclusion pédagogique :"
      ],
      "metadata": {
        "id": "0hi_BTzTAyys"
      }
    },
    {
      "cell_type": "markdown",
      "source": [
        "🎓 Conclusion pédagogique :\n",
        "L’agent Hybride est supérieur dans des situations complexes ou critiques comme la gestion des urgences médicales.\n",
        "Un agent Réactif pourrait suffire pour des systèmes simples, répétitifs ou très ciblés, mais pas pour un triage médical fiable."
      ],
      "metadata": {
        "id": "sKHLWCbXA0LE"
      }
    },
    {
      "cell_type": "markdown",
      "source": [
        "✅ Étape 8 : Réflexion critique\n",
        "🎯 Objectif\n",
        "Analyser les risques et limites de notre agent, en particulier :\n",
        "\n",
        "ce qui se passe sans gestion d’état\n",
        "\n",
        "pourquoi les outils externes sont essentiels"
      ],
      "metadata": {
        "id": "KZ3T0CKRA7Gb"
      }
    },
    {
      "cell_type": "markdown",
      "source": [
        "🧨 1. Que se passe-t-il si l’agent ne maintient pas d’état ?\n",
        "❌ Problèmes majeurs :\n",
        "L’agent oubliera les symptômes déjà mentionnés → risque de poser plusieurs fois les mêmes questions.\n",
        "\n",
        "Il pourrait changer de décision à chaque étape, car il ne “sait” pas ce qu’il a déjà recommandé.\n",
        "\n",
        "Impossible de reconstituer la logique médicale en cas d’audit ou litige (ce qui est critique dans un cadre légal ou hospitalier).\n",
        "\n",
        "Pas de logique adaptative : un patient qui appelle 3 fois pour les mêmes symptômes sera traité comme un nouveau cas à chaque fois.\n",
        "\n",
        "🧠 Exemple concret :\n",
        "Un patient dit : \"J’ai mal à la poitrine.\" → L’agent évalue et propose d’attendre.\n",
        "Puis, 30 secondes plus tard : \"En fait, ça irradie dans le bras.\" → Sans mémoire, l’agent recommence le triage au lieu d’ajouter cette donnée à l’analyse.\n",
        "\n",
        "🎓 Conclusion :\n",
        "Sans état, l’agent est myope : il ne construit ni histoire du patient, ni logique de suivi. C’est incompatible avec un triage médical fiable.\n",
        "\n"
      ],
      "metadata": {
        "id": "aUxnt9CpA8Nk"
      }
    },
    {
      "cell_type": "markdown",
      "source": [
        "🔗 2. Pourquoi les outils externes (APIs, modèles) sont-ils essentiels ?\n",
        "✅ Rôle des outils :\n",
        "Symptom Checker API → expertise médicale condensée (diagnostic probabiliste)\n",
        "\n",
        "Modèle de Triage → évalue la gravité de manière standardisée\n",
        "\n",
        "Système de Dispatch → déclenche une action réelle sur le terrain\n",
        "\n",
        "❌ Sans ces outils :\n",
        "L’agent serait trop simple : il ne pourrait ni diagnostiquer, ni agir.\n",
        "\n",
        "Il risquerait de manquer un infarctus ou d’envoyer une ambulance inutilement.\n",
        "\n",
        "Aucune interaction avec les systèmes existants (SAMU, hôpitaux, bases de données)"
      ],
      "metadata": {
        "id": "rR682bajBPUM"
      }
    },
    {
      "cell_type": "markdown",
      "source": [
        "🎓 Conclusion :\n",
        "Dans un environnement critique comme le dispatch médical, l’IA doit collaborer avec des outils spécialisés.\n",
        "L’intelligence de l’agent vient autant de ses intégrations que de son raisonnement interne."
      ],
      "metadata": {
        "id": "V82r6ZNQBTaj"
      }
    },
    {
      "cell_type": "markdown",
      "source": [
        "🧾 Conclusion Générale\n",
        "La conception de cet agent intelligent pour le triage médical d’urgence illustre la puissance de l’IA lorsqu’elle est bien structurée, connectée et contextualisée. En suivant une approche étape par étape, nous avons :\n",
        "\n",
        "✅ Défini un environnement riche\n",
        "L’agent perçoit des données variées et critiques : symptômes, historique médical, localisation… Ces informations sont la base de son raisonnement.\n",
        "\n",
        "✅ Sélectionné des outils spécialisés\n",
        "Grâce à l’intégration d’APIs médicales (Symptom Checker, triage model, dispatch), l’agent combine compétence médicale, prise de décision rapide et capacité d’action réelle.\n",
        "\n",
        "✅ Mis en place une gestion d’état robuste\n",
        "L’état permet de garder en mémoire l’évolution d’un appel, de justifier les décisions et d’éviter les incohérences — un point essentiel dans les systèmes de santé.\n",
        "\n",
        "✅ Choisi une architecture hybride pertinente\n",
        "Ce type d’agent combine la réactivité vitale dans les cas critiques et la délibération intelligente dans les situations ambiguës. C’est un équilibre crucial entre vitesse et fiabilité.\n",
        "\n",
        "✅ Identifié les compromis et limites\n",
        "Sans mémoire, l’agent devient dangereux. Sans outils externes, il devient aveugle. Le bon fonctionnement repose sur une collaboration intelligente entre perception, raisonnement et action.\n",
        "\n",
        "🧠 En résumé :\n",
        "Ce projet démontre qu’un agent IA fiable dans le domaine médical doit être :\n",
        "\n",
        "connecté (aux bonnes sources)\n",
        "\n",
        "contextuel (sensible à l’état)\n",
        "\n",
        "responsable (traçable et explicable)\n",
        "\n",
        "modulaire (évolutif et adaptable)\n",
        "\n",
        "Avec une telle architecture, l’IA peut véritablement sauver des vies, soulager les équipes médicales, et réduire les erreurs humaines dans les moments les plus critiques."
      ],
      "metadata": {
        "id": "9iqo-7InBnNU"
      }
    }
  ]
}