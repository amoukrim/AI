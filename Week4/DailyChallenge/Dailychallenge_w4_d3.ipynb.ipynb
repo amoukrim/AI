{
  "cells": [
    {
      "cell_type": "markdown",
      "metadata": {
        "id": "view-in-github",
        "colab_type": "text"
      },
      "source": [
        "<a href=\"https://colab.research.google.com/github/amoukrim/AI/blob/main/Week4/DailyChallenge/Dailychallenge_w4_d3.ipynb.ipynb\" target=\"_parent\"><img src=\"https://colab.research.google.com/assets/colab-badge.svg\" alt=\"Open In Colab\"/></a>"
      ]
    },
    {
      "cell_type": "markdown",
      "id": "20e63d45",
      "metadata": {
        "id": "20e63d45"
      },
      "source": [
        "#  Daily Challenge: Breast Cancer Prediction\n",
        "## Your Task\n",
        "Exploratory Data Analysis\n",
        "Use pandas to load the dataset and examine the first few rows.\n",
        "Check and handle the missing values.\n",
        "Drop any unnecessary column\n",
        "Create a Countplot to display diagnosis from magma\n",
        "\n",
        "Data Preprocessing, Building Models and Evaluation :\n",
        "counts of unique rows in the ‘diagnosis’ column\n",
        "map categorical values to numerical values\n",
        "Splitting the data into train and test\n",
        "Implement logistic regression and print the accuracy.\n",
        "Implement K Nearest Neighbours and print the accuracy.\n",
        "Implement Random Forests and print the accuracy.\n",
        "Implement Support Vector Machines (SVM) and print the accuracy.\n",
        "Which is the best model ?"
      ]
    },
    {
      "cell_type": "markdown",
      "id": "da079799",
      "metadata": {
        "id": "da079799"
      },
      "source": [
        "\n",
        "Ce notebook présente une analyse complète du jeu de données sur le cancer du sein.  \n",
        "Il couvre :  \n",
        "- L'exploration des données,  \n",
        "- La modélisation avec 4 algorithmes de classification,  \n",
        "- L'évaluation (accuracy, f1, confusion matrix),  \n",
        "- La validation croisée,  \n",
        "- L'optimisation par GridSearchCV,  \n",
        "- Et une synthèse finale.\n"
      ]
    },
    {
      "cell_type": "markdown",
      "id": "b4183f06",
      "metadata": {
        "id": "b4183f06"
      },
      "source": [
        "## 🔹 Chargement et aperçu des données"
      ]
    },
    {
      "cell_type": "code",
      "execution_count": 32,
      "id": "43ff2fbd",
      "metadata": {
        "colab": {
          "base_uri": "https://localhost:8080/",
          "height": 273
        },
        "id": "43ff2fbd",
        "outputId": "11890f68-6da6-4029-dd5d-30d0cd5b7406"
      },
      "outputs": [
        {
          "output_type": "execute_result",
          "data": {
            "text/plain": [
              "         id diagnosis  radius_mean  texture_mean  perimeter_mean  area_mean  \\\n",
              "0    842302         M        17.99         10.38          122.80     1001.0   \n",
              "1    842517         M        20.57         17.77          132.90     1326.0   \n",
              "2  84300903         M        19.69         21.25          130.00     1203.0   \n",
              "3  84348301         M        11.42         20.38           77.58      386.1   \n",
              "4  84358402         M        20.29         14.34          135.10     1297.0   \n",
              "\n",
              "   smoothness_mean  compactness_mean  concavity_mean  concave points_mean  \\\n",
              "0          0.11840           0.27760          0.3001              0.14710   \n",
              "1          0.08474           0.07864          0.0869              0.07017   \n",
              "2          0.10960           0.15990          0.1974              0.12790   \n",
              "3          0.14250           0.28390          0.2414              0.10520   \n",
              "4          0.10030           0.13280          0.1980              0.10430   \n",
              "\n",
              "   ...  texture_worst  perimeter_worst  area_worst  smoothness_worst  \\\n",
              "0  ...          17.33           184.60      2019.0            0.1622   \n",
              "1  ...          23.41           158.80      1956.0            0.1238   \n",
              "2  ...          25.53           152.50      1709.0            0.1444   \n",
              "3  ...          26.50            98.87       567.7            0.2098   \n",
              "4  ...          16.67           152.20      1575.0            0.1374   \n",
              "\n",
              "   compactness_worst  concavity_worst  concave points_worst  symmetry_worst  \\\n",
              "0             0.6656           0.7119                0.2654          0.4601   \n",
              "1             0.1866           0.2416                0.1860          0.2750   \n",
              "2             0.4245           0.4504                0.2430          0.3613   \n",
              "3             0.8663           0.6869                0.2575          0.6638   \n",
              "4             0.2050           0.4000                0.1625          0.2364   \n",
              "\n",
              "   fractal_dimension_worst  Unnamed: 32  \n",
              "0                  0.11890          NaN  \n",
              "1                  0.08902          NaN  \n",
              "2                  0.08758          NaN  \n",
              "3                  0.17300          NaN  \n",
              "4                  0.07678          NaN  \n",
              "\n",
              "[5 rows x 33 columns]"
            ],
            "text/html": [
              "\n",
              "  <div id=\"df-0210b4fe-8b29-4f07-8bc9-5ddec7f975a7\" class=\"colab-df-container\">\n",
              "    <div>\n",
              "<style scoped>\n",
              "    .dataframe tbody tr th:only-of-type {\n",
              "        vertical-align: middle;\n",
              "    }\n",
              "\n",
              "    .dataframe tbody tr th {\n",
              "        vertical-align: top;\n",
              "    }\n",
              "\n",
              "    .dataframe thead th {\n",
              "        text-align: right;\n",
              "    }\n",
              "</style>\n",
              "<table border=\"1\" class=\"dataframe\">\n",
              "  <thead>\n",
              "    <tr style=\"text-align: right;\">\n",
              "      <th></th>\n",
              "      <th>id</th>\n",
              "      <th>diagnosis</th>\n",
              "      <th>radius_mean</th>\n",
              "      <th>texture_mean</th>\n",
              "      <th>perimeter_mean</th>\n",
              "      <th>area_mean</th>\n",
              "      <th>smoothness_mean</th>\n",
              "      <th>compactness_mean</th>\n",
              "      <th>concavity_mean</th>\n",
              "      <th>concave points_mean</th>\n",
              "      <th>...</th>\n",
              "      <th>texture_worst</th>\n",
              "      <th>perimeter_worst</th>\n",
              "      <th>area_worst</th>\n",
              "      <th>smoothness_worst</th>\n",
              "      <th>compactness_worst</th>\n",
              "      <th>concavity_worst</th>\n",
              "      <th>concave points_worst</th>\n",
              "      <th>symmetry_worst</th>\n",
              "      <th>fractal_dimension_worst</th>\n",
              "      <th>Unnamed: 32</th>\n",
              "    </tr>\n",
              "  </thead>\n",
              "  <tbody>\n",
              "    <tr>\n",
              "      <th>0</th>\n",
              "      <td>842302</td>\n",
              "      <td>M</td>\n",
              "      <td>17.99</td>\n",
              "      <td>10.38</td>\n",
              "      <td>122.80</td>\n",
              "      <td>1001.0</td>\n",
              "      <td>0.11840</td>\n",
              "      <td>0.27760</td>\n",
              "      <td>0.3001</td>\n",
              "      <td>0.14710</td>\n",
              "      <td>...</td>\n",
              "      <td>17.33</td>\n",
              "      <td>184.60</td>\n",
              "      <td>2019.0</td>\n",
              "      <td>0.1622</td>\n",
              "      <td>0.6656</td>\n",
              "      <td>0.7119</td>\n",
              "      <td>0.2654</td>\n",
              "      <td>0.4601</td>\n",
              "      <td>0.11890</td>\n",
              "      <td>NaN</td>\n",
              "    </tr>\n",
              "    <tr>\n",
              "      <th>1</th>\n",
              "      <td>842517</td>\n",
              "      <td>M</td>\n",
              "      <td>20.57</td>\n",
              "      <td>17.77</td>\n",
              "      <td>132.90</td>\n",
              "      <td>1326.0</td>\n",
              "      <td>0.08474</td>\n",
              "      <td>0.07864</td>\n",
              "      <td>0.0869</td>\n",
              "      <td>0.07017</td>\n",
              "      <td>...</td>\n",
              "      <td>23.41</td>\n",
              "      <td>158.80</td>\n",
              "      <td>1956.0</td>\n",
              "      <td>0.1238</td>\n",
              "      <td>0.1866</td>\n",
              "      <td>0.2416</td>\n",
              "      <td>0.1860</td>\n",
              "      <td>0.2750</td>\n",
              "      <td>0.08902</td>\n",
              "      <td>NaN</td>\n",
              "    </tr>\n",
              "    <tr>\n",
              "      <th>2</th>\n",
              "      <td>84300903</td>\n",
              "      <td>M</td>\n",
              "      <td>19.69</td>\n",
              "      <td>21.25</td>\n",
              "      <td>130.00</td>\n",
              "      <td>1203.0</td>\n",
              "      <td>0.10960</td>\n",
              "      <td>0.15990</td>\n",
              "      <td>0.1974</td>\n",
              "      <td>0.12790</td>\n",
              "      <td>...</td>\n",
              "      <td>25.53</td>\n",
              "      <td>152.50</td>\n",
              "      <td>1709.0</td>\n",
              "      <td>0.1444</td>\n",
              "      <td>0.4245</td>\n",
              "      <td>0.4504</td>\n",
              "      <td>0.2430</td>\n",
              "      <td>0.3613</td>\n",
              "      <td>0.08758</td>\n",
              "      <td>NaN</td>\n",
              "    </tr>\n",
              "    <tr>\n",
              "      <th>3</th>\n",
              "      <td>84348301</td>\n",
              "      <td>M</td>\n",
              "      <td>11.42</td>\n",
              "      <td>20.38</td>\n",
              "      <td>77.58</td>\n",
              "      <td>386.1</td>\n",
              "      <td>0.14250</td>\n",
              "      <td>0.28390</td>\n",
              "      <td>0.2414</td>\n",
              "      <td>0.10520</td>\n",
              "      <td>...</td>\n",
              "      <td>26.50</td>\n",
              "      <td>98.87</td>\n",
              "      <td>567.7</td>\n",
              "      <td>0.2098</td>\n",
              "      <td>0.8663</td>\n",
              "      <td>0.6869</td>\n",
              "      <td>0.2575</td>\n",
              "      <td>0.6638</td>\n",
              "      <td>0.17300</td>\n",
              "      <td>NaN</td>\n",
              "    </tr>\n",
              "    <tr>\n",
              "      <th>4</th>\n",
              "      <td>84358402</td>\n",
              "      <td>M</td>\n",
              "      <td>20.29</td>\n",
              "      <td>14.34</td>\n",
              "      <td>135.10</td>\n",
              "      <td>1297.0</td>\n",
              "      <td>0.10030</td>\n",
              "      <td>0.13280</td>\n",
              "      <td>0.1980</td>\n",
              "      <td>0.10430</td>\n",
              "      <td>...</td>\n",
              "      <td>16.67</td>\n",
              "      <td>152.20</td>\n",
              "      <td>1575.0</td>\n",
              "      <td>0.1374</td>\n",
              "      <td>0.2050</td>\n",
              "      <td>0.4000</td>\n",
              "      <td>0.1625</td>\n",
              "      <td>0.2364</td>\n",
              "      <td>0.07678</td>\n",
              "      <td>NaN</td>\n",
              "    </tr>\n",
              "  </tbody>\n",
              "</table>\n",
              "<p>5 rows × 33 columns</p>\n",
              "</div>\n",
              "    <div class=\"colab-df-buttons\">\n",
              "\n",
              "  <div class=\"colab-df-container\">\n",
              "    <button class=\"colab-df-convert\" onclick=\"convertToInteractive('df-0210b4fe-8b29-4f07-8bc9-5ddec7f975a7')\"\n",
              "            title=\"Convert this dataframe to an interactive table.\"\n",
              "            style=\"display:none;\">\n",
              "\n",
              "  <svg xmlns=\"http://www.w3.org/2000/svg\" height=\"24px\" viewBox=\"0 -960 960 960\">\n",
              "    <path d=\"M120-120v-720h720v720H120Zm60-500h600v-160H180v160Zm220 220h160v-160H400v160Zm0 220h160v-160H400v160ZM180-400h160v-160H180v160Zm440 0h160v-160H620v160ZM180-180h160v-160H180v160Zm440 0h160v-160H620v160Z\"/>\n",
              "  </svg>\n",
              "    </button>\n",
              "\n",
              "  <style>\n",
              "    .colab-df-container {\n",
              "      display:flex;\n",
              "      gap: 12px;\n",
              "    }\n",
              "\n",
              "    .colab-df-convert {\n",
              "      background-color: #E8F0FE;\n",
              "      border: none;\n",
              "      border-radius: 50%;\n",
              "      cursor: pointer;\n",
              "      display: none;\n",
              "      fill: #1967D2;\n",
              "      height: 32px;\n",
              "      padding: 0 0 0 0;\n",
              "      width: 32px;\n",
              "    }\n",
              "\n",
              "    .colab-df-convert:hover {\n",
              "      background-color: #E2EBFA;\n",
              "      box-shadow: 0px 1px 2px rgba(60, 64, 67, 0.3), 0px 1px 3px 1px rgba(60, 64, 67, 0.15);\n",
              "      fill: #174EA6;\n",
              "    }\n",
              "\n",
              "    .colab-df-buttons div {\n",
              "      margin-bottom: 4px;\n",
              "    }\n",
              "\n",
              "    [theme=dark] .colab-df-convert {\n",
              "      background-color: #3B4455;\n",
              "      fill: #D2E3FC;\n",
              "    }\n",
              "\n",
              "    [theme=dark] .colab-df-convert:hover {\n",
              "      background-color: #434B5C;\n",
              "      box-shadow: 0px 1px 3px 1px rgba(0, 0, 0, 0.15);\n",
              "      filter: drop-shadow(0px 1px 2px rgba(0, 0, 0, 0.3));\n",
              "      fill: #FFFFFF;\n",
              "    }\n",
              "  </style>\n",
              "\n",
              "    <script>\n",
              "      const buttonEl =\n",
              "        document.querySelector('#df-0210b4fe-8b29-4f07-8bc9-5ddec7f975a7 button.colab-df-convert');\n",
              "      buttonEl.style.display =\n",
              "        google.colab.kernel.accessAllowed ? 'block' : 'none';\n",
              "\n",
              "      async function convertToInteractive(key) {\n",
              "        const element = document.querySelector('#df-0210b4fe-8b29-4f07-8bc9-5ddec7f975a7');\n",
              "        const dataTable =\n",
              "          await google.colab.kernel.invokeFunction('convertToInteractive',\n",
              "                                                    [key], {});\n",
              "        if (!dataTable) return;\n",
              "\n",
              "        const docLinkHtml = 'Like what you see? Visit the ' +\n",
              "          '<a target=\"_blank\" href=https://colab.research.google.com/notebooks/data_table.ipynb>data table notebook</a>'\n",
              "          + ' to learn more about interactive tables.';\n",
              "        element.innerHTML = '';\n",
              "        dataTable['output_type'] = 'display_data';\n",
              "        await google.colab.output.renderOutput(dataTable, element);\n",
              "        const docLink = document.createElement('div');\n",
              "        docLink.innerHTML = docLinkHtml;\n",
              "        element.appendChild(docLink);\n",
              "      }\n",
              "    </script>\n",
              "  </div>\n",
              "\n",
              "\n",
              "    <div id=\"df-ca51be7f-7002-4657-a11a-1af79f7061ef\">\n",
              "      <button class=\"colab-df-quickchart\" onclick=\"quickchart('df-ca51be7f-7002-4657-a11a-1af79f7061ef')\"\n",
              "                title=\"Suggest charts\"\n",
              "                style=\"display:none;\">\n",
              "\n",
              "<svg xmlns=\"http://www.w3.org/2000/svg\" height=\"24px\"viewBox=\"0 0 24 24\"\n",
              "     width=\"24px\">\n",
              "    <g>\n",
              "        <path d=\"M19 3H5c-1.1 0-2 .9-2 2v14c0 1.1.9 2 2 2h14c1.1 0 2-.9 2-2V5c0-1.1-.9-2-2-2zM9 17H7v-7h2v7zm4 0h-2V7h2v10zm4 0h-2v-4h2v4z\"/>\n",
              "    </g>\n",
              "</svg>\n",
              "      </button>\n",
              "\n",
              "<style>\n",
              "  .colab-df-quickchart {\n",
              "      --bg-color: #E8F0FE;\n",
              "      --fill-color: #1967D2;\n",
              "      --hover-bg-color: #E2EBFA;\n",
              "      --hover-fill-color: #174EA6;\n",
              "      --disabled-fill-color: #AAA;\n",
              "      --disabled-bg-color: #DDD;\n",
              "  }\n",
              "\n",
              "  [theme=dark] .colab-df-quickchart {\n",
              "      --bg-color: #3B4455;\n",
              "      --fill-color: #D2E3FC;\n",
              "      --hover-bg-color: #434B5C;\n",
              "      --hover-fill-color: #FFFFFF;\n",
              "      --disabled-bg-color: #3B4455;\n",
              "      --disabled-fill-color: #666;\n",
              "  }\n",
              "\n",
              "  .colab-df-quickchart {\n",
              "    background-color: var(--bg-color);\n",
              "    border: none;\n",
              "    border-radius: 50%;\n",
              "    cursor: pointer;\n",
              "    display: none;\n",
              "    fill: var(--fill-color);\n",
              "    height: 32px;\n",
              "    padding: 0;\n",
              "    width: 32px;\n",
              "  }\n",
              "\n",
              "  .colab-df-quickchart:hover {\n",
              "    background-color: var(--hover-bg-color);\n",
              "    box-shadow: 0 1px 2px rgba(60, 64, 67, 0.3), 0 1px 3px 1px rgba(60, 64, 67, 0.15);\n",
              "    fill: var(--button-hover-fill-color);\n",
              "  }\n",
              "\n",
              "  .colab-df-quickchart-complete:disabled,\n",
              "  .colab-df-quickchart-complete:disabled:hover {\n",
              "    background-color: var(--disabled-bg-color);\n",
              "    fill: var(--disabled-fill-color);\n",
              "    box-shadow: none;\n",
              "  }\n",
              "\n",
              "  .colab-df-spinner {\n",
              "    border: 2px solid var(--fill-color);\n",
              "    border-color: transparent;\n",
              "    border-bottom-color: var(--fill-color);\n",
              "    animation:\n",
              "      spin 1s steps(1) infinite;\n",
              "  }\n",
              "\n",
              "  @keyframes spin {\n",
              "    0% {\n",
              "      border-color: transparent;\n",
              "      border-bottom-color: var(--fill-color);\n",
              "      border-left-color: var(--fill-color);\n",
              "    }\n",
              "    20% {\n",
              "      border-color: transparent;\n",
              "      border-left-color: var(--fill-color);\n",
              "      border-top-color: var(--fill-color);\n",
              "    }\n",
              "    30% {\n",
              "      border-color: transparent;\n",
              "      border-left-color: var(--fill-color);\n",
              "      border-top-color: var(--fill-color);\n",
              "      border-right-color: var(--fill-color);\n",
              "    }\n",
              "    40% {\n",
              "      border-color: transparent;\n",
              "      border-right-color: var(--fill-color);\n",
              "      border-top-color: var(--fill-color);\n",
              "    }\n",
              "    60% {\n",
              "      border-color: transparent;\n",
              "      border-right-color: var(--fill-color);\n",
              "    }\n",
              "    80% {\n",
              "      border-color: transparent;\n",
              "      border-right-color: var(--fill-color);\n",
              "      border-bottom-color: var(--fill-color);\n",
              "    }\n",
              "    90% {\n",
              "      border-color: transparent;\n",
              "      border-bottom-color: var(--fill-color);\n",
              "    }\n",
              "  }\n",
              "</style>\n",
              "\n",
              "      <script>\n",
              "        async function quickchart(key) {\n",
              "          const quickchartButtonEl =\n",
              "            document.querySelector('#' + key + ' button');\n",
              "          quickchartButtonEl.disabled = true;  // To prevent multiple clicks.\n",
              "          quickchartButtonEl.classList.add('colab-df-spinner');\n",
              "          try {\n",
              "            const charts = await google.colab.kernel.invokeFunction(\n",
              "                'suggestCharts', [key], {});\n",
              "          } catch (error) {\n",
              "            console.error('Error during call to suggestCharts:', error);\n",
              "          }\n",
              "          quickchartButtonEl.classList.remove('colab-df-spinner');\n",
              "          quickchartButtonEl.classList.add('colab-df-quickchart-complete');\n",
              "        }\n",
              "        (() => {\n",
              "          let quickchartButtonEl =\n",
              "            document.querySelector('#df-ca51be7f-7002-4657-a11a-1af79f7061ef button');\n",
              "          quickchartButtonEl.style.display =\n",
              "            google.colab.kernel.accessAllowed ? 'block' : 'none';\n",
              "        })();\n",
              "      </script>\n",
              "    </div>\n",
              "\n",
              "    </div>\n",
              "  </div>\n"
            ],
            "application/vnd.google.colaboratory.intrinsic+json": {
              "type": "dataframe",
              "variable_name": "df"
            }
          },
          "metadata": {},
          "execution_count": 32
        }
      ],
      "source": [
        "from sklearn.datasets import load_breast_cancer\n",
        "import pandas as pd\n",
        "\n",
        "data = load_breast_cancer()\n",
        "df = pd.read_csv(\"/content/data.csv\")\n",
        "df['diagnosis'] = data.target\n",
        "df['diagnosis'] = df['diagnosis'].map({0: 'M', 1: 'B'})\n",
        "df.head()"
      ]
    },
    {
      "cell_type": "markdown",
      "source": [
        "##vérification des vlaeurs null"
      ],
      "metadata": {
        "id": "_uL08Jsj6SZo"
      },
      "id": "_uL08Jsj6SZo"
    },
    {
      "cell_type": "code",
      "source": [
        "print(df.isnull().sum()[df.isnull().sum() > 0])"
      ],
      "metadata": {
        "colab": {
          "base_uri": "https://localhost:8080/"
        },
        "id": "ORQLgjrP4eH4",
        "outputId": "daace4cf-5caf-40ae-ece5-dbc5f80afe79"
      },
      "id": "ORQLgjrP4eH4",
      "execution_count": 33,
      "outputs": [
        {
          "output_type": "stream",
          "name": "stdout",
          "text": [
            "Unnamed: 32    569\n",
            "dtype: int64\n"
          ]
        }
      ]
    },
    {
      "cell_type": "code",
      "source": [
        "print(df.isnull().sum()[df.isnull().sum() > 0])"
      ],
      "metadata": {
        "colab": {
          "base_uri": "https://localhost:8080/"
        },
        "id": "dTIiDVlt5Kmf",
        "outputId": "d0b12c12-9458-4566-cf5a-bba71ccfe940"
      },
      "id": "dTIiDVlt5Kmf",
      "execution_count": 34,
      "outputs": [
        {
          "output_type": "stream",
          "name": "stdout",
          "text": [
            "Unnamed: 32    569\n",
            "dtype: int64\n"
          ]
        }
      ]
    },
    {
      "cell_type": "markdown",
      "id": "2e05bb31",
      "metadata": {
        "id": "2e05bb31"
      },
      "source": [
        "## 🔍 Analyse exploratoire"
      ]
    },
    {
      "cell_type": "code",
      "execution_count": 35,
      "id": "d25dde92",
      "metadata": {
        "colab": {
          "base_uri": "https://localhost:8080/"
        },
        "id": "d25dde92",
        "outputId": "f3562f12-05d2-47bc-d9e0-c7f5e8e77833"
      },
      "outputs": [
        {
          "output_type": "stream",
          "name": "stdout",
          "text": [
            "<class 'pandas.core.frame.DataFrame'>\n",
            "RangeIndex: 569 entries, 0 to 568\n",
            "Data columns (total 33 columns):\n",
            " #   Column                   Non-Null Count  Dtype  \n",
            "---  ------                   --------------  -----  \n",
            " 0   id                       569 non-null    int64  \n",
            " 1   diagnosis                569 non-null    object \n",
            " 2   radius_mean              569 non-null    float64\n",
            " 3   texture_mean             569 non-null    float64\n",
            " 4   perimeter_mean           569 non-null    float64\n",
            " 5   area_mean                569 non-null    float64\n",
            " 6   smoothness_mean          569 non-null    float64\n",
            " 7   compactness_mean         569 non-null    float64\n",
            " 8   concavity_mean           569 non-null    float64\n",
            " 9   concave points_mean      569 non-null    float64\n",
            " 10  symmetry_mean            569 non-null    float64\n",
            " 11  fractal_dimension_mean   569 non-null    float64\n",
            " 12  radius_se                569 non-null    float64\n",
            " 13  texture_se               569 non-null    float64\n",
            " 14  perimeter_se             569 non-null    float64\n",
            " 15  area_se                  569 non-null    float64\n",
            " 16  smoothness_se            569 non-null    float64\n",
            " 17  compactness_se           569 non-null    float64\n",
            " 18  concavity_se             569 non-null    float64\n",
            " 19  concave points_se        569 non-null    float64\n",
            " 20  symmetry_se              569 non-null    float64\n",
            " 21  fractal_dimension_se     569 non-null    float64\n",
            " 22  radius_worst             569 non-null    float64\n",
            " 23  texture_worst            569 non-null    float64\n",
            " 24  perimeter_worst          569 non-null    float64\n",
            " 25  area_worst               569 non-null    float64\n",
            " 26  smoothness_worst         569 non-null    float64\n",
            " 27  compactness_worst        569 non-null    float64\n",
            " 28  concavity_worst          569 non-null    float64\n",
            " 29  concave points_worst     569 non-null    float64\n",
            " 30  symmetry_worst           569 non-null    float64\n",
            " 31  fractal_dimension_worst  569 non-null    float64\n",
            " 32  Unnamed: 32              0 non-null      float64\n",
            "dtypes: float64(31), int64(1), object(1)\n",
            "memory usage: 146.8+ KB\n",
            "Valeurs manquantes : 569\n",
            "Doublons : 0\n"
          ]
        }
      ],
      "source": [
        "df.info()\n",
        "print(\"Valeurs manquantes :\", df.isnull().sum().sum())\n",
        "print(\"Doublons :\", df.duplicated().sum())"
      ]
    },
    {
      "cell_type": "markdown",
      "source": [
        "## supprimer les connes parasites\n",
        "Ces colonnes n’apportent aucune valeur prédictive et sont des identifiants inutiles pour l’apprentissage supervisé."
      ],
      "metadata": {
        "id": "vHg5de895LDK"
      },
      "id": "vHg5de895LDK"
    },
    {
      "cell_type": "code",
      "source": [
        "df = df.loc[:, ~df.columns.str.contains('^Unnamed')]"
      ],
      "metadata": {
        "id": "fy2QZKHf5O_Y"
      },
      "id": "fy2QZKHf5O_Y",
      "execution_count": 36,
      "outputs": []
    },
    {
      "cell_type": "code",
      "execution_count": 37,
      "id": "de82a760",
      "metadata": {
        "colab": {
          "base_uri": "https://localhost:8080/",
          "height": 559
        },
        "id": "de82a760",
        "outputId": "7209814e-35c2-44cd-b6b2-2130a35f15dd"
      },
      "outputs": [
        {
          "output_type": "stream",
          "name": "stderr",
          "text": [
            "/tmp/ipython-input-37-2654419331.py:4: FutureWarning: \n",
            "\n",
            "Passing `palette` without assigning `hue` is deprecated and will be removed in v0.14.0. Assign the `x` variable to `hue` and set `legend=False` for the same effect.\n",
            "\n",
            "  sns.countplot(data=df, x='diagnosis', palette='magma')\n"
          ]
        },
        {
          "output_type": "display_data",
          "data": {
            "text/plain": [
              "<Figure size 640x480 with 1 Axes>"
            ],
            "image/png": "[encoded data removed]"
          },
          "metadata": {}
        }
      ],
      "source": [
        "import seaborn as sns\n",
        "import matplotlib.pyplot as plt\n",
        "\n",
        "sns.countplot(data=df, x='diagnosis', palette='magma')\n",
        "plt.title(\"Répartition des diagnostics (B = bénin, M = malin)\")\n",
        "plt.show()"
      ]
    },
    {
      "cell_type": "markdown",
      "source": [
        "## Interprétation :\n",
        "\n",
        "Le dataset est déséquilibré, avec plus de tumeurs bénignes que malignes.\n",
        "\n",
        "En classification, un déséquilibre peut fausser l’apprentissage du modèle :\n",
        "\n",
        "Un modèle peut \"jouer la sécurité\" en prédisant majoritairement la classe majoritaire (ici B).\n",
        "\n",
        "Il peut donc afficher une bonne accuracy, mais rater des cas malins, ce qui est inacceptable en santé."
      ],
      "metadata": {
        "id": "jaXi_OqU6ifv"
      },
      "id": "jaXi_OqU6ifv"
    },
    {
      "cell_type": "markdown",
      "id": "a91650b1",
      "metadata": {
        "id": "a91650b1"
      },
      "source": [
        "## 🧼 Prétraitement"
      ]
    },
    {
      "cell_type": "code",
      "execution_count": 38,
      "id": "569a80c0",
      "metadata": {
        "id": "569a80c0"
      },
      "outputs": [],
      "source": [
        "from sklearn.model_selection import train_test_split\n",
        "from sklearn.preprocessing import StandardScaler\n",
        "#Normalisation\n",
        "df['diagnosis'] = df['diagnosis'].map({'M': 1, 'B': 0})\n",
        "X = df.drop(columns='diagnosis')\n",
        "y = df['diagnosis']\n",
        "\n",
        "scaler = StandardScaler()\n",
        "X_scaled = scaler.fit_transform(X)\n",
        "\n",
        "X_train, X_test, y_train, y_test = train_test_split(\n",
        "    X_scaled, y, test_size=0.2, random_state=42, stratify=y)"
      ]
    },
    {
      "cell_type": "markdown",
      "id": "5bdea00a",
      "metadata": {
        "id": "5bdea00a"
      },
      "source": [
        "## 🤖 Entraînement des modèles"
      ]
    },
    {
      "cell_type": "markdown",
      "id": "382967db",
      "metadata": {
        "id": "382967db"
      },
      "source": [
        "### Logistic Regression"
      ]
    },
    {
      "cell_type": "code",
      "execution_count": 46,
      "id": "98ccaccc",
      "metadata": {
        "colab": {
          "base_uri": "https://localhost:8080/"
        },
        "id": "98ccaccc",
        "outputId": "5cc57f14-6703-4f6b-9fbb-574ac051e8fd"
      },
      "outputs": [
        {
          "output_type": "stream",
          "name": "stdout",
          "text": [
            "Accuracy: 0.9736842105263158\n",
            "              precision    recall  f1-score   support\n",
            "\n",
            "           0       0.97      0.99      0.98        72\n",
            "           1       0.98      0.95      0.96        42\n",
            "\n",
            "    accuracy                           0.97       114\n",
            "   macro avg       0.97      0.97      0.97       114\n",
            "weighted avg       0.97      0.97      0.97       114\n",
            "\n",
            "[[71  1]\n",
            " [ 2 40]]\n"
          ]
        }
      ],
      "source": [
        "from sklearn.linear_model import LogisticRegression\n",
        "model = LogisticRegression(max_iter=1000)\n",
        "model.fit(X_train, y_train)\n",
        "y_pred = model.predict(X_test)\n",
        "\n",
        "from sklearn.metrics import accuracy_score, classification_report, confusion_matrix\n",
        "print(\"Accuracy:\", accuracy_score(y_test, y_pred))\n",
        "print(classification_report(y_test, y_pred))\n",
        "print(confusion_matrix(y_test, y_pred))"
      ]
    },
    {
      "cell_type": "markdown",
      "id": "7f1af14c",
      "metadata": {
        "id": "7f1af14c"
      },
      "source": [
        "### KNN"
      ]
    },
    {
      "cell_type": "code",
      "execution_count": 40,
      "id": "93addbb0",
      "metadata": {
        "colab": {
          "base_uri": "https://localhost:8080/"
        },
        "id": "93addbb0",
        "outputId": "35cd691a-2e59-4602-cc65-85dca97dbcee"
      },
      "outputs": [
        {
          "output_type": "stream",
          "name": "stdout",
          "text": [
            "Accuracy: 0.956140350877193\n",
            "              precision    recall  f1-score   support\n",
            "\n",
            "           0       0.95      0.99      0.97        72\n",
            "           1       0.97      0.90      0.94        42\n",
            "\n",
            "    accuracy                           0.96       114\n",
            "   macro avg       0.96      0.95      0.95       114\n",
            "weighted avg       0.96      0.96      0.96       114\n",
            "\n",
            "[[71  1]\n",
            " [ 4 38]]\n"
          ]
        }
      ],
      "source": [
        "from sklearn.neighbors import KNeighborsClassifier\n",
        "model = KNeighborsClassifier(n_neighbors=5)\n",
        "model.fit(X_train, y_train)\n",
        "y_pred = model.predict(X_test)\n",
        "\n",
        "from sklearn.metrics import accuracy_score, classification_report, confusion_matrix\n",
        "print(\"Accuracy:\", accuracy_score(y_test, y_pred))\n",
        "print(classification_report(y_test, y_pred))\n",
        "print(confusion_matrix(y_test, y_pred))"
      ]
    },
    {
      "cell_type": "markdown",
      "id": "4fa5da44",
      "metadata": {
        "id": "4fa5da44"
      },
      "source": [
        "### Random Forest"
      ]
    },
    {
      "cell_type": "code",
      "execution_count": 41,
      "id": "9999ce88",
      "metadata": {
        "colab": {
          "base_uri": "https://localhost:8080/"
        },
        "id": "9999ce88",
        "outputId": "d0067119-355a-447b-d7c2-8413b383f586"
      },
      "outputs": [
        {
          "output_type": "stream",
          "name": "stdout",
          "text": [
            "Accuracy: 0.9649122807017544\n",
            "              precision    recall  f1-score   support\n",
            "\n",
            "           0       0.95      1.00      0.97        72\n",
            "           1       1.00      0.90      0.95        42\n",
            "\n",
            "    accuracy                           0.96       114\n",
            "   macro avg       0.97      0.95      0.96       114\n",
            "weighted avg       0.97      0.96      0.96       114\n",
            "\n",
            "[[72  0]\n",
            " [ 4 38]]\n"
          ]
        }
      ],
      "source": [
        "from sklearn.ensemble import RandomForestClassifier\n",
        "model = RandomForestClassifier(n_estimators=100)\n",
        "model.fit(X_train, y_train)\n",
        "y_pred = model.predict(X_test)\n",
        "\n",
        "from sklearn.metrics import accuracy_score, classification_report, confusion_matrix\n",
        "print(\"Accuracy:\", accuracy_score(y_test, y_pred))\n",
        "print(classification_report(y_test, y_pred))\n",
        "print(confusion_matrix(y_test, y_pred))"
      ]
    },
    {
      "cell_type": "markdown",
      "id": "b929f506",
      "metadata": {
        "id": "b929f506"
      },
      "source": [
        "### SVM"
      ]
    },
    {
      "cell_type": "code",
      "execution_count": 42,
      "id": "cb5a2e05",
      "metadata": {
        "colab": {
          "base_uri": "https://localhost:8080/"
        },
        "id": "cb5a2e05",
        "outputId": "0aa0ce77-1ae8-406d-c823-4af24c3d3318"
      },
      "outputs": [
        {
          "output_type": "stream",
          "name": "stdout",
          "text": [
            "Accuracy: 0.9649122807017544\n",
            "              precision    recall  f1-score   support\n",
            "\n",
            "           0       0.95      1.00      0.97        72\n",
            "           1       1.00      0.90      0.95        42\n",
            "\n",
            "    accuracy                           0.96       114\n",
            "   macro avg       0.97      0.95      0.96       114\n",
            "weighted avg       0.97      0.96      0.96       114\n",
            "\n",
            "[[72  0]\n",
            " [ 4 38]]\n"
          ]
        }
      ],
      "source": [
        "from sklearn.svm import SVC\n",
        "model = SVC(kernel=\"linear\", probability=True)\n",
        "model.fit(X_train, y_train)\n",
        "y_pred = model.predict(X_test)\n",
        "\n",
        "from sklearn.metrics import accuracy_score, classification_report, confusion_matrix\n",
        "print(\"Accuracy:\", accuracy_score(y_test, y_pred))\n",
        "print(classification_report(y_test, y_pred))\n",
        "print(confusion_matrix(y_test, y_pred))"
      ]
    },
    {
      "cell_type": "markdown",
      "source": [
        "##Interprétation des résultats\n",
        "en comparant l'accuracy, on peut déduire que le modèle qui a lla plus grande accuracy est le meilleur (ici le modèle, Régression logistique).mais ce n'est pas suffisant, il faudra valider ce résultat.  "
      ],
      "metadata": {
        "id": "qkVFeU7t9DHH"
      },
      "id": "qkVFeU7t9DHH"
    },
    {
      "cell_type": "markdown",
      "id": "01ca85ab",
      "metadata": {
        "id": "01ca85ab"
      },
      "source": [
        "## 🔁 Validation croisée"
      ]
    },
    {
      "cell_type": "code",
      "execution_count": 43,
      "id": "f560890c",
      "metadata": {
        "colab": {
          "base_uri": "https://localhost:8080/"
        },
        "id": "f560890c",
        "outputId": "b6f4bfa8-4efa-4ca8-ab46-4db2e4f07bd7"
      },
      "outputs": [
        {
          "output_type": "stream",
          "name": "stdout",
          "text": [
            "Logistic Regression: 0.9789 ± 0.0070\n",
            "KNN: 0.9666 ± 0.0141\n",
            "Random Forest: 0.9561 ± 0.0248\n",
            "SVM: 0.9737 ± 0.0078\n"
          ]
        }
      ],
      "source": [
        "from sklearn.model_selection import cross_val_score\n",
        "\n",
        "models = {\n",
        "    \"Logistic Regression\": LogisticRegression(max_iter=1000),\n",
        "    \"KNN\": KNeighborsClassifier(n_neighbors=5),\n",
        "    \"Random Forest\": RandomForestClassifier(n_estimators=100),\n",
        "    \"SVM\": SVC(kernel=\"linear\")\n",
        "}\n",
        "\n",
        "for name, model in models.items():\n",
        "    scores = cross_val_score(model, X_scaled, y, cv=5)\n",
        "    print(f\"{name}: {scores.mean():.4f} ± {scores.std():.4f}\")"
      ]
    },
    {
      "cell_type": "markdown",
      "source": [
        "# interprétation : Interprétation par modèle\n",
        "🔹 Logistic Regression\n",
        "Précision élevée (97.89%), la plus haute de tous les modèles.\n",
        "\n",
        "Écart-type faible (±0.007) → modèle très stable.\n",
        "\n",
        "Très bon compromis entre performance et simplicité/interprétabilité.\n",
        "\n",
        "Recommandé dans ce cas car il :\n",
        "\n",
        "se généralise bien,\n",
        "\n",
        "est rapide à entraîner,\n",
        "\n",
        "et très lisible en contexte médical.\n",
        "\n",
        "🔹 SVM (linéaire)\n",
        "Excellente performance (97.37%), proche de la régression logistique.\n",
        "\n",
        "Écart-type également bas → modèle fiable.\n",
        "\n",
        "SVM est plus adapté si les données sont bien séparables dans l’espace standardisé (ce qui est ici le cas).\n",
        "\n",
        "🔹 KNN\n",
        "Bonne précision (96.66%), mais moins stable (±0.0141).\n",
        "\n",
        "KNN est plus sensible :\n",
        "\n",
        "Au bruit,\n",
        "\n",
        "À l’échelle des données (ce qui a été bien géré ici par la standardisation),\n",
        "\n",
        "Aux points de frontière entre classes.\n",
        "\n",
        "Moins recommandé ici car il est moins robuste et plus coûteux à prédire.\n",
        "\n",
        "🔹 Random Forest\n",
        "Moins performant ici (95.61%) et moins stable (±0.0248).\n",
        "\n",
        "Cela peut surprendre, car RF est souvent très performant.\n",
        "\n",
        "Ici, cela peut s'expliquer par :\n",
        "\n",
        "Un petit jeu de données (RF est plus utile avec de grands volumes),\n",
        "\n",
        "Une structure des données bien linéaire, ce qui favorise LogReg ou SVM.\n",
        "\n",
        "✅ Conclusion\n",
        "🏆 Meilleur choix : Régression logistique\n",
        "\n",
        "Performante, stable, rapide, interprétable.\n",
        "\n",
        "🏅 SVM est une excellente alternative.\n",
        "\n",
        "❗ KNN et Random Forest sont corrects, mais moins adaptés ici en termes de stabilité et de généralisabilité.\n"
      ],
      "metadata": {
        "id": "h9oDXCsI-u3n"
      },
      "id": "h9oDXCsI-u3n"
    },
    {
      "cell_type": "markdown",
      "id": "4222bb49",
      "metadata": {
        "id": "4222bb49"
      },
      "source": [
        "## 📈 Courbes ROC"
      ]
    },
    {
      "cell_type": "code",
      "execution_count": 44,
      "id": "43ff0c02",
      "metadata": {
        "colab": {
          "base_uri": "https://localhost:8080/",
          "height": 472
        },
        "id": "43ff0c02",
        "outputId": "2203e275-4d6b-47e4-e53b-7735ec60f1e5"
      },
      "outputs": [
        {
          "output_type": "display_data",
          "data": {
            "text/plain": [
              "<Figure size 640x480 with 1 Axes>"
            ],
            "image/png": "[encoded data removed]"
          },
          "metadata": {}
        }
      ],
      "source": [
        "from sklearn.metrics import roc_curve, roc_auc_score\n",
        "\n",
        "log_model = LogisticRegression(max_iter=1000)\n",
        "log_model.fit(X_train, y_train)\n",
        "log_probs = log_model.predict_proba(X_test)[:, 1]\n",
        "fpr, tpr, _ = roc_curve(y_test, log_probs)\n",
        "\n",
        "plt.plot(fpr, tpr, label=f\"Logistic Regression (AUC = {roc_auc_score(y_test, log_probs):.2f})\")\n",
        "plt.plot([0, 1], [0, 1], 'k--')\n",
        "plt.xlabel(\"Taux de faux positifs\")\n",
        "plt.ylabel(\"Taux de vrais positifs\")\n",
        "plt.title(\"Courbe ROC\")\n",
        "plt.legend()\n",
        "plt.grid()\n",
        "plt.show()"
      ]
    },
    {
      "cell_type": "markdown",
      "source": [
        "## interprétation de la courbe ROC :\n",
        "L’axe X : Taux de faux positifs (FPR)\n",
        "\n",
        "L’axe Y : Taux de vrais positifs (TPR ou recall)\n",
        "\n",
        "La ligne noire en pointillés représente un classifieur aléatoire (aucune capacité prédictive)\n",
        "\n",
        "✅ Ce que montre ce graphe :\n",
        "La courbe ROC est quasi collée au coin supérieur gauche :\n",
        "→ Cela signifie que le modèle :\n",
        "\n",
        "détecte presque tous les cas positifs (malins) (rappel élevé),\n",
        "\n",
        "sans générer beaucoup de faux positifs.\n",
        "\n",
        "L’AUC = 1.00 (Area Under the Curve) :\n",
        "\n",
        "Cela représente la meilleure performance possible : ton modèle distingue parfaitement les tumeurs malignes des bénignes sur cet échantillon test.\n",
        "\n",
        "⚠️  AUC = 1.00 peut parfois être trop parfaite :\n",
        "\n",
        "Cela peut indiquer un overfitting si les données ont fuité ou si le modèle est trop adapté au test.\n",
        "\n",
        "Mais dannotre ton cas, vu que la validation croisée donne aussi ≈ 98% avec faible variance, cette performance est réaliste et rassurante.\n",
        "\n",
        "En résumé :\n",
        "✅ le modèle est bien calibré,\n",
        "\n",
        "✅ Il distingue parfaitement les deux classes sur les données testées,\n",
        "\n",
        "📌 À surveiller si l’AUC = 1.00 se reproduit trop souvent, mais ici ce n’est pas inquiétant."
      ],
      "metadata": {
        "id": "-cIC1ylm_3Gw"
      },
      "id": "-cIC1ylm_3Gw"
    },
    {
      "cell_type": "markdown",
      "id": "307ab56c",
      "metadata": {
        "id": "307ab56c"
      },
      "source": [
        "## 🛠️ Optimisation avec GridSearchCV"
      ]
    },
    {
      "cell_type": "code",
      "execution_count": 45,
      "id": "326a7f58",
      "metadata": {
        "colab": {
          "base_uri": "https://localhost:8080/"
        },
        "id": "326a7f58",
        "outputId": "61612c0d-9013-45cb-8489-617076ca03a8"
      },
      "outputs": [
        {
          "output_type": "stream",
          "name": "stdout",
          "text": [
            "Meilleurs paramètres : {'C': 0.1, 'solver': 'liblinear'}\n",
            "Score moyen : 0.982425089271852\n"
          ]
        }
      ],
      "source": [
        "from sklearn.model_selection import GridSearchCV\n",
        "\n",
        "param_grid = {\n",
        "    'C': [0.01, 0.1, 1, 10],\n",
        "    'solver': ['liblinear', 'lbfgs']\n",
        "}\n",
        "\n",
        "grid = GridSearchCV(LogisticRegression(max_iter=1000), param_grid, cv=5)\n",
        "grid.fit(X_scaled, y)\n",
        "print(\"Meilleurs paramètres :\", grid.best_params_)\n",
        "print(\"Score moyen :\", grid.best_score_)"
      ]
    },
    {
      "cell_type": "markdown",
      "source": [
        "# interprtation\n",
        "combinaison optimale qui donne un modèle simple, régularisé, rapide et performant.\n",
        "\n",
        "Meilleurs paramètres : {'C': 0.1, 'solver': 'liblinear'}\n",
        "Score moyen : 0.9824"
      ],
      "metadata": {
        "id": "i6HDUiBLCBKO"
      },
      "id": "i6HDUiBLCBKO"
    },
    {
      "cell_type": "markdown",
      "id": "cad381c2",
      "metadata": {
        "id": "cad381c2"
      },
      "source": [
        "## ✅ Synthèse finale"
      ]
    },
    {
      "cell_type": "markdown",
      "id": "22c69af2",
      "metadata": {
        "id": "22c69af2"
      },
      "source": [
        "- **Régression logistique** est le modèle le plus fiable sur ce jeu, avec ~98% de précision et bonne stabilité.\n",
        "- La validation croisée et le tuning ont confirmé sa robustesse.\n",
        "- D'autres modèles (SVM, KNN, RF) sont également très bons, mais légèrement en dessous en stabilité ou recall.\n",
        "- La courbe ROC confirme la capacité de distinction entre bénin/malin.\n"
      ]
    }
  ],
  "metadata": {
    "colab": {
      "provenance": [],
      "include_colab_link": true
    },
    "language_info": {
      "name": "python"
    },
    "kernelspec": {
      "name": "python3",
      "display_name": "Python 3"
    }
  },
  "nbformat": 4,
  "nbformat_minor": 5
}