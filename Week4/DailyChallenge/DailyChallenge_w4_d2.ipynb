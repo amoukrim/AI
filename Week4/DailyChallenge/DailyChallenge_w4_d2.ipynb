{
  "nbformat": 4,
  "nbformat_minor": 0,
  "metadata": {
    "colab": {
      "provenance": [],
      "authorship_tag": "ABX9TyPgvx9h9tGYc1OsyGG2DbHx",
      "include_colab_link": true
    },
    "kernelspec": {
      "name": "python3",
      "display_name": "Python 3"
    },
    "language_info": {
      "name": "python"
    }
  },
  "cells": [
    {
      "cell_type": "markdown",
      "metadata": {
        "id": "view-in-github",
        "colab_type": "text"
      },
      "source": [
        "<a href=\"https://colab.research.google.com/github/amoukrim/AI/blob/main/Week4/DailyChallenge/DailyChallenge_w4_d2.ipynb\" target=\"_parent\"><img src=\"https://colab.research.google.com/assets/colab-badge.svg\" alt=\"Open In Colab\"/></a>"
      ]
    },
    {
      "cell_type": "markdown",
      "source": [
        "#Daily Challenge: Logistic Regression for Admission Prediction"
      ],
      "metadata": {
        "id": "a1TORpFiHS8v"
      }
    },
    {
      "cell_type": "markdown",
      "source": [
        "Étape 1 : Chargement et examen initial des données"
      ],
      "metadata": {
        "id": "1x-eGXdXmURJ"
      }
    },
    {
      "cell_type": "code",
      "source": [
        "# import des librairies nécessaires\n",
        "import pandas as pd\n",
        "import matplotlib.pyplot as plt\n",
        "from sklearn.linear_model import LogisticRegression\n",
        "from sklearn.model_selection import train_test_split\n",
        "from sklearn.metrics import accuracy_score"
      ],
      "metadata": {
        "id": "X6jCKckf6PCf"
      },
      "execution_count": 223,
      "outputs": []
    },
    {
      "cell_type": "code",
      "execution_count": 224,
      "metadata": {
        "colab": {
          "base_uri": "https://localhost:8080/"
        },
        "id": "p5W6wdODHEWx",
        "outputId": "f2b3ae2a-1cf0-49e7-fd81-ab6566dc979d"
      },
      "outputs": [
        {
          "output_type": "stream",
          "name": "stdout",
          "text": [
            "Dimensions du dataset : (100, 3)\n",
            "\n",
            "Aperçu des données :\n",
            "           0          1  2\n",
            "0  34.623660  78.024693  0\n",
            "1  30.286711  43.894998  0\n",
            "2  35.847409  72.902198  0\n",
            "3  60.182599  86.308552  1\n",
            "4  79.032736  75.344376  1\n",
            "\n",
            "Infos générales :\n",
            "<class 'pandas.core.frame.DataFrame'>\n",
            "RangeIndex: 100 entries, 0 to 99\n",
            "Data columns (total 3 columns):\n",
            " #   Column    Non-Null Count  Dtype  \n",
            "---  ------    --------------  -----  \n",
            " 0   Exam1     100 non-null    float64\n",
            " 1   Exam2     100 non-null    float64\n",
            " 2   Admitted  100 non-null    int64  \n",
            "dtypes: float64(2), int64(1)\n",
            "memory usage: 2.5 KB\n",
            "None\n",
            "\n",
            "Valeurs manquantes par colonne : Exam1       0\n",
            "Exam2       0\n",
            "Admitted    0\n",
            "dtype: int64\n",
            "Il n'y a pas de valeurs manquantes\n",
            "\n",
            "Statistiques descriptives des notes d’examen :\n",
            "            Exam1       Exam2\n",
            "count  100.000000  100.000000\n",
            "mean    65.644274   66.221998\n",
            "std     19.458222   18.582783\n",
            "min     30.058822   30.603263\n",
            "25%     50.919511   48.179205\n",
            "50%     67.032988   67.682381\n",
            "75%     80.212529   79.360605\n",
            "max     99.827858   98.869436\n",
            "/n nombre de duplications 0\n",
            "\n",
            "il n'y a pas de valeurs duppliqué\n"
          ]
        }
      ],
      "source": [
        "# chargement et Exploration des Données\n",
        "\n",
        "\n",
        "# Charger le dataset\n",
        "df = pd.read_csv(\"/content/ex2data1.txt\", header=None)\n",
        "\n",
        "# Afficher la taille du dataset (lignes, colonnes)\n",
        "print(\"Dimensions du dataset :\", df.shape)\n",
        "\n",
        "# Afficher les premières lignes\n",
        "print(\"\\nAperçu des données :\")\n",
        "print(df.head())\n",
        "\"\"\" Il n'y a pas les noms  de colonnes !  \"\"\"\n",
        "# Renommer les colonnes pour mieux comprendre\n",
        "df.columns = ['Exam1', 'Exam2', 'Admitted']\n",
        "# Vérifier le type des colonnes et la présence de valeurs manquantes\n",
        "print(\"\\nInfos générales :\")\n",
        "print(df.info())\n",
        "\n",
        "print(\"\\nValeurs manquantes par colonne :\", df.isnull().sum())\n",
        "print(\"Il n'y a pas de valeurs manquantes\")\n",
        "\n",
        "# Statistiques descriptives des scores d’examens\n",
        "print(\"\\nStatistiques descriptives des notes d’examen :\")\n",
        "\n",
        "#les statistiques descriptives de base\n",
        "print(df[['Exam1', 'Exam2']].describe())\n",
        "\n",
        "#calcul des duplicated\n",
        "print(\"/n nombre de duplications\", df.duplicated().sum())\n",
        "print(\"\\nil n'y a pas de valeurs duppliqué\")\n",
        "\n",
        "\n"
      ]
    },
    {
      "cell_type": "markdown",
      "source": [
        "#interprétation des statistiques générales\n",
        "Les deux examens ont des distributions similaires en termes de moyenne, dispersion et étendue.\n",
        "\n",
        "Les scores varient de façon significative (écart-type ~19), ce qui est bon pour un modèle de classification, car cela signifie qu’il y a assez de variation dans les données pour que le modèle puisse apprendre à distinguer les admis des non-admis.\n",
        "\n",
        "Les notes ne sont pas concentrées uniquement autour d’une valeur, ni très dispersées au point de rendre la séparation difficile.\n",
        "\n",
        "La médiane proche de la moyenne suggère une distribution assez symétrique (pas de forte asymétrie).\n",
        "\n"
      ],
      "metadata": {
        "id": "ywAmyLLHpNee"
      }
    },
    {
      "cell_type": "markdown",
      "source": [
        "#tape 2 : Visualisation des relations entre notes et admission"
      ],
      "metadata": {
        "id": "pqcI82uNSJMO"
      }
    },
    {
      "cell_type": "code",
      "source": [
        "#import matplotlib.pyplot as plt\n",
        "import matplotlib.pyplot as plt\n",
        "import numpy as np\n",
        "\n",
        "# Séparer les étudiants admis et non admis\n",
        "admitted = df[df['Admitted'] == 1]\n",
        "not_admitted = df[df['Admitted'] == 0]\n",
        "\n",
        "# Créer le scatter plot\n",
        "plt.figure(figsize=(8,6))\n",
        "plt.scatter(admitted['Exam1'], admitted['Exam2'], color='green', label='Admitted', alpha=0.7)\n",
        "plt.scatter(not_admitted['Exam1'], not_admitted['Exam2'], color='red', label='Not Admitted', alpha=0.7)\n",
        "\n",
        "# Ajouter des labels et un titre\n",
        "plt.xlabel('Note Examen 1')\n",
        "plt.ylabel('Note Examen 2')\n",
        "plt.title('Répartition des étudiants admis vs non admis selon leurs notes')\n",
        "plt.legend()\n",
        "plt.grid(True)\n",
        "plt.show()\n"
      ],
      "metadata": {
        "colab": {
          "base_uri": "https://localhost:8080/",
          "height": 565
        },
        "id": "HAByEUP-K9K-",
        "outputId": "ae33f795-8648-47e9-d61b-b78861a0ed63"
      },
      "execution_count": 225,
      "outputs": [
        {
          "output_type": "display_data",
          "data": {
            "text/plain": [
              "<Figure size 800x600 with 1 Axes>"
            ],
            "image/png": "[encoded data removed]"
          },
          "metadata": {}
        }
      ]
    },
    {
      "cell_type": "markdown",
      "source": [
        "Interprétation :\n",
        "Que représentent les axes X et Y ?\n",
        "Axe X : Les scores des étudiants à l’Examen 1 (Exam1).\n",
        "\n",
        "Axe Y : Les scores des étudiants à l’Examen 2 (Exam2).\n",
        "\n",
        "Chaque point sur le graphique correspond à un étudiant, positionné selon ses notes aux deux examens.\n",
        "\n",
        "Que signifie la couleur des points ?\n",
        "Vert : Étudiants admis à l’université (Admitted = 1).\n",
        "\n",
        "Rouge : Étudiants non admis (Admitted = 0).\n",
        "\n",
        "Qu'est-ce que cette visualisation suggère sur la difficulté du problème ?\n",
        "La visualisation montre que les étudiants admis ont généralement des scores plus élevés aux deux examens, tandis que ceux non admis ont des scores plus faibles. Cela indique qu'il existe une relation claire entre les notes et le résultat d’admission.\n",
        "\n",
        "Cependant, on observe aussi un certain chevauchement entre les deux groupes, avec quelques étudiants non admis ayant des scores relativement élevés, et inversement. Cela signifie que le problème n’est pas parfaitement séparé — il existe des cas ambigus qui peuvent compliquer la classification.\n",
        "\n",
        "Pensez-vous qu'un modèle linéaire simple (comme la régression logistique) pourrait être efficace ? Justifiez votre hypothèse.\n",
        "Oui, un modèle linéaire comme la régression logistique est un bon point de départ pour ce problème.\n",
        "\n",
        "Justifications :\n",
        "\n",
        "La séparation entre admis et non admis semble globalement linéaire dans l’espace des deux examens (on peut tracer une droite qui sépare assez bien les deux groupes).\n",
        "\n",
        "La régression logistique cherche justement à apprendre une frontière linéaire (hyperplan) qui maximise la séparation entre les classes.\n",
        "\n",
        "Même si la frontière n’est pas parfaite à cause des chevauchements, la simplicité et l’interprétabilité de la régression logistique en font un choix efficace pour ce type de classification binaire.\n",
        "\n",
        "Si le modèle ne performe pas assez bien, on pourra envisager des modèles plus complexes (SVM avec noyaux, forêts aléatoires, etc.), mais d’abord valider cette approche simple."
      ],
      "metadata": {
        "id": "Gpx2ehz3q-oP"
      }
    },
    {
      "cell_type": "markdown",
      "source": [
        "# Phase 2 Régression linéaire pour prédire la variable Admitted"
      ],
      "metadata": {
        "id": "jks0IZ86snhq"
      }
    },
    {
      "cell_type": "code",
      "source": [
        "#Préparation des données\n",
        "X = df[['Exam1', 'Exam2']]\n",
        "y = df['Admitted']\n",
        "from sklearn.linear_model import LinearRegression\n",
        "\n",
        "# Initialiser le modèle\n",
        "from sklearn.linear_model import LinearRegression\n",
        "\n",
        "# Initialiser le modèle\n",
        "lin_reg = LinearRegression()\n",
        "\n",
        "# Entraîner le modèle\n",
        "lin_reg.fit(X, y)\n",
        "\n",
        "# Afficher les coefficients\n",
        "print(\"Coefficients : \", lin_reg.coef_)\n",
        "print(\"Intercept : \", lin_reg.intercept_)\n",
        "\n",
        "# Prédire sur le même jeu de données\n",
        "y_pred = lin_reg.predict(X)\n",
        "\n",
        "# Afficher les 10 premières prédictions\n",
        "print(y_pred[:10])"
      ],
      "metadata": {
        "colab": {
          "base_uri": "https://localhost:8080/"
        },
        "id": "OPdtT4ysstu8",
        "outputId": "e662a2ab-9d3d-44a9-e146-9d6f7699f7e6"
      },
      "execution_count": 226,
      "outputs": [
        {
          "output_type": "stream",
          "name": "stdout",
          "text": [
            "Coefficients :  [0.01484087 0.01394217]\n",
            "Intercept :  -1.2974969360784447\n",
            "[ 0.30418215 -0.23602405  0.25092495  0.79899416  0.92588226  0.15675088\n",
            "  0.95495832  0.46499998  1.05070824  0.56251003]\n"
          ]
        }
      ]
    },
    {
      "cell_type": "markdown",
      "source": [],
      "metadata": {
        "id": "QUoebfTQtvAe"
      }
    },
    {
      "cell_type": "markdown",
      "source": [
        "#Phase 2 : Application de la Régression Logistique avec scikit-learn"
      ],
      "metadata": {
        "id": "gxt6eUyUUs-s"
      }
    },
    {
      "cell_type": "code",
      "source": [
        "#Construction et Entraînement du Modèle\n",
        "#Préparation des données\n",
        "\n",
        "from sklearn.linear_model import LogisticRegression\n",
        "from sklearn.model_selection import train_test_split\n",
        "\n",
        "X = df[['Exam1', 'Exam2']]  # Variables explicatives\n",
        "y = df['Admitted']          # Cible\n",
        "\n",
        "X_train, X_test, y_train, y_test = train_test_split(X, y, test_size=0.2, random_state=42)\n",
        "\n",
        "model = LogisticRegression()\n",
        "model.fit(X_train, y_train)"
      ],
      "metadata": {
        "colab": {
          "base_uri": "https://localhost:8080/",
          "height": 81
        },
        "id": "flqcRjt2Ucks",
        "outputId": "0a1e05bb-5b68-48ba-9f44-52a9a0752c63"
      },
      "execution_count": 227,
      "outputs": [
        {
          "output_type": "execute_result",
          "data": {
            "text/plain": [
              "LogisticRegression()"
            ],
            "text/html": [
              "<style>#sk-container-id-21 {\n",
              "  /* Definition of color scheme common for light and dark mode */\n",
              "  --sklearn-color-text: #000;\n",
              "  --sklearn-color-text-muted: #666;\n",
              "  --sklearn-color-line: gray;\n",
              "  /* Definition of color scheme for unfitted estimators */\n",
              "  --sklearn-color-unfitted-level-0: #fff5e6;\n",
              "  --sklearn-color-unfitted-level-1: #f6e4d2;\n",
              "  --sklearn-color-unfitted-level-2: #ffe0b3;\n",
              "  --sklearn-color-unfitted-level-3: chocolate;\n",
              "  /* Definition of color scheme for fitted estimators */\n",
              "  --sklearn-color-fitted-level-0: #f0f8ff;\n",
              "  --sklearn-color-fitted-level-1: #d4ebff;\n",
              "  --sklearn-color-fitted-level-2: #b3dbfd;\n",
              "  --sklearn-color-fitted-level-3: cornflowerblue;\n",
              "\n",
              "  /* Specific color for light theme */\n",
              "  --sklearn-color-text-on-default-background: var(--sg-text-color, var(--theme-code-foreground, var(--jp-content-font-color1, black)));\n",
              "  --sklearn-color-background: var(--sg-background-color, var(--theme-background, var(--jp-layout-color0, white)));\n",
              "  --sklearn-color-border-box: var(--sg-text-color, var(--theme-code-foreground, var(--jp-content-font-color1, black)));\n",
              "  --sklearn-color-icon: #696969;\n",
              "\n",
              "  @media (prefers-color-scheme: dark) {\n",
              "    /* Redefinition of color scheme for dark theme */\n",
              "    --sklearn-color-text-on-default-background: var(--sg-text-color, var(--theme-code-foreground, var(--jp-content-font-color1, white)));\n",
              "    --sklearn-color-background: var(--sg-background-color, var(--theme-background, var(--jp-layout-color0, #111)));\n",
              "    --sklearn-color-border-box: var(--sg-text-color, var(--theme-code-foreground, var(--jp-content-font-color1, white)));\n",
              "    --sklearn-color-icon: #878787;\n",
              "  }\n",
              "}\n",
              "\n",
              "#sk-container-id-21 {\n",
              "  color: var(--sklearn-color-text);\n",
              "}\n",
              "\n",
              "#sk-container-id-21 pre {\n",
              "  padding: 0;\n",
              "}\n",
              "\n",
              "#sk-container-id-21 input.sk-hidden--visually {\n",
              "  border: 0;\n",
              "  clip: rect(1px 1px 1px 1px);\n",
              "  clip: rect(1px, 1px, 1px, 1px);\n",
              "  height: 1px;\n",
              "  margin: -1px;\n",
              "  overflow: hidden;\n",
              "  padding: 0;\n",
              "  position: absolute;\n",
              "  width: 1px;\n",
              "}\n",
              "\n",
              "#sk-container-id-21 div.sk-dashed-wrapped {\n",
              "  border: 1px dashed var(--sklearn-color-line);\n",
              "  margin: 0 0.4em 0.5em 0.4em;\n",
              "  box-sizing: border-box;\n",
              "  padding-bottom: 0.4em;\n",
              "  background-color: var(--sklearn-color-background);\n",
              "}\n",
              "\n",
              "#sk-container-id-21 div.sk-container {\n",
              "  /* jupyter's `normalize.less` sets `[hidden] { display: none; }`\n",
              "     but bootstrap.min.css set `[hidden] { display: none !important; }`\n",
              "     so we also need the `!important` here to be able to override the\n",
              "     default hidden behavior on the sphinx rendered scikit-learn.org.\n",
              "     See: https://github.com/scikit-learn/scikit-learn/issues/21755 */\n",
              "  display: inline-block !important;\n",
              "  position: relative;\n",
              "}\n",
              "\n",
              "#sk-container-id-21 div.sk-text-repr-fallback {\n",
              "  display: none;\n",
              "}\n",
              "\n",
              "div.sk-parallel-item,\n",
              "div.sk-serial,\n",
              "div.sk-item {\n",
              "  /* draw centered vertical line to link estimators */\n",
              "  background-image: linear-gradient(var(--sklearn-color-text-on-default-background), var(--sklearn-color-text-on-default-background));\n",
              "  background-size: 2px 100%;\n",
              "  background-repeat: no-repeat;\n",
              "  background-position: center center;\n",
              "}\n",
              "\n",
              "/* Parallel-specific style estimator block */\n",
              "\n",
              "#sk-container-id-21 div.sk-parallel-item::after {\n",
              "  content: \"\";\n",
              "  width: 100%;\n",
              "  border-bottom: 2px solid var(--sklearn-color-text-on-default-background);\n",
              "  flex-grow: 1;\n",
              "}\n",
              "\n",
              "#sk-container-id-21 div.sk-parallel {\n",
              "  display: flex;\n",
              "  align-items: stretch;\n",
              "  justify-content: center;\n",
              "  background-color: var(--sklearn-color-background);\n",
              "  position: relative;\n",
              "}\n",
              "\n",
              "#sk-container-id-21 div.sk-parallel-item {\n",
              "  display: flex;\n",
              "  flex-direction: column;\n",
              "}\n",
              "\n",
              "#sk-container-id-21 div.sk-parallel-item:first-child::after {\n",
              "  align-self: flex-end;\n",
              "  width: 50%;\n",
              "}\n",
              "\n",
              "#sk-container-id-21 div.sk-parallel-item:last-child::after {\n",
              "  align-self: flex-start;\n",
              "  width: 50%;\n",
              "}\n",
              "\n",
              "#sk-container-id-21 div.sk-parallel-item:only-child::after {\n",
              "  width: 0;\n",
              "}\n",
              "\n",
              "/* Serial-specific style estimator block */\n",
              "\n",
              "#sk-container-id-21 div.sk-serial {\n",
              "  display: flex;\n",
              "  flex-direction: column;\n",
              "  align-items: center;\n",
              "  background-color: var(--sklearn-color-background);\n",
              "  padding-right: 1em;\n",
              "  padding-left: 1em;\n",
              "}\n",
              "\n",
              "\n",
              "/* Toggleable style: style used for estimator/Pipeline/ColumnTransformer box that is\n",
              "clickable and can be expanded/collapsed.\n",
              "- Pipeline and ColumnTransformer use this feature and define the default style\n",
              "- Estimators will overwrite some part of the style using the `sk-estimator` class\n",
              "*/\n",
              "\n",
              "/* Pipeline and ColumnTransformer style (default) */\n",
              "\n",
              "#sk-container-id-21 div.sk-toggleable {\n",
              "  /* Default theme specific background. It is overwritten whether we have a\n",
              "  specific estimator or a Pipeline/ColumnTransformer */\n",
              "  background-color: var(--sklearn-color-background);\n",
              "}\n",
              "\n",
              "/* Toggleable label */\n",
              "#sk-container-id-21 label.sk-toggleable__label {\n",
              "  cursor: pointer;\n",
              "  display: flex;\n",
              "  width: 100%;\n",
              "  margin-bottom: 0;\n",
              "  padding: 0.5em;\n",
              "  box-sizing: border-box;\n",
              "  text-align: center;\n",
              "  align-items: start;\n",
              "  justify-content: space-between;\n",
              "  gap: 0.5em;\n",
              "}\n",
              "\n",
              "#sk-container-id-21 label.sk-toggleable__label .caption {\n",
              "  font-size: 0.6rem;\n",
              "  font-weight: lighter;\n",
              "  color: var(--sklearn-color-text-muted);\n",
              "}\n",
              "\n",
              "#sk-container-id-21 label.sk-toggleable__label-arrow:before {\n",
              "  /* Arrow on the left of the label */\n",
              "  content: \"▸\";\n",
              "  float: left;\n",
              "  margin-right: 0.25em;\n",
              "  color: var(--sklearn-color-icon);\n",
              "}\n",
              "\n",
              "#sk-container-id-21 label.sk-toggleable__label-arrow:hover:before {\n",
              "  color: var(--sklearn-color-text);\n",
              "}\n",
              "\n",
              "/* Toggleable content - dropdown */\n",
              "\n",
              "#sk-container-id-21 div.sk-toggleable__content {\n",
              "  max-height: 0;\n",
              "  max-width: 0;\n",
              "  overflow: hidden;\n",
              "  text-align: left;\n",
              "  /* unfitted */\n",
              "  background-color: var(--sklearn-color-unfitted-level-0);\n",
              "}\n",
              "\n",
              "#sk-container-id-21 div.sk-toggleable__content.fitted {\n",
              "  /* fitted */\n",
              "  background-color: var(--sklearn-color-fitted-level-0);\n",
              "}\n",
              "\n",
              "#sk-container-id-21 div.sk-toggleable__content pre {\n",
              "  margin: 0.2em;\n",
              "  border-radius: 0.25em;\n",
              "  color: var(--sklearn-color-text);\n",
              "  /* unfitted */\n",
              "  background-color: var(--sklearn-color-unfitted-level-0);\n",
              "}\n",
              "\n",
              "#sk-container-id-21 div.sk-toggleable__content.fitted pre {\n",
              "  /* unfitted */\n",
              "  background-color: var(--sklearn-color-fitted-level-0);\n",
              "}\n",
              "\n",
              "#sk-container-id-21 input.sk-toggleable__control:checked~div.sk-toggleable__content {\n",
              "  /* Expand drop-down */\n",
              "  max-height: 200px;\n",
              "  max-width: 100%;\n",
              "  overflow: auto;\n",
              "}\n",
              "\n",
              "#sk-container-id-21 input.sk-toggleable__control:checked~label.sk-toggleable__label-arrow:before {\n",
              "  content: \"▾\";\n",
              "}\n",
              "\n",
              "/* Pipeline/ColumnTransformer-specific style */\n",
              "\n",
              "#sk-container-id-21 div.sk-label input.sk-toggleable__control:checked~label.sk-toggleable__label {\n",
              "  color: var(--sklearn-color-text);\n",
              "  background-color: var(--sklearn-color-unfitted-level-2);\n",
              "}\n",
              "\n",
              "#sk-container-id-21 div.sk-label.fitted input.sk-toggleable__control:checked~label.sk-toggleable__label {\n",
              "  background-color: var(--sklearn-color-fitted-level-2);\n",
              "}\n",
              "\n",
              "/* Estimator-specific style */\n",
              "\n",
              "/* Colorize estimator box */\n",
              "#sk-container-id-21 div.sk-estimator input.sk-toggleable__control:checked~label.sk-toggleable__label {\n",
              "  /* unfitted */\n",
              "  background-color: var(--sklearn-color-unfitted-level-2);\n",
              "}\n",
              "\n",
              "#sk-container-id-21 div.sk-estimator.fitted input.sk-toggleable__control:checked~label.sk-toggleable__label {\n",
              "  /* fitted */\n",
              "  background-color: var(--sklearn-color-fitted-level-2);\n",
              "}\n",
              "\n",
              "#sk-container-id-21 div.sk-label label.sk-toggleable__label,\n",
              "#sk-container-id-21 div.sk-label label {\n",
              "  /* The background is the default theme color */\n",
              "  color: var(--sklearn-color-text-on-default-background);\n",
              "}\n",
              "\n",
              "/* On hover, darken the color of the background */\n",
              "#sk-container-id-21 div.sk-label:hover label.sk-toggleable__label {\n",
              "  color: var(--sklearn-color-text);\n",
              "  background-color: var(--sklearn-color-unfitted-level-2);\n",
              "}\n",
              "\n",
              "/* Label box, darken color on hover, fitted */\n",
              "#sk-container-id-21 div.sk-label.fitted:hover label.sk-toggleable__label.fitted {\n",
              "  color: var(--sklearn-color-text);\n",
              "  background-color: var(--sklearn-color-fitted-level-2);\n",
              "}\n",
              "\n",
              "/* Estimator label */\n",
              "\n",
              "#sk-container-id-21 div.sk-label label {\n",
              "  font-family: monospace;\n",
              "  font-weight: bold;\n",
              "  display: inline-block;\n",
              "  line-height: 1.2em;\n",
              "}\n",
              "\n",
              "#sk-container-id-21 div.sk-label-container {\n",
              "  text-align: center;\n",
              "}\n",
              "\n",
              "/* Estimator-specific */\n",
              "#sk-container-id-21 div.sk-estimator {\n",
              "  font-family: monospace;\n",
              "  border: 1px dotted var(--sklearn-color-border-box);\n",
              "  border-radius: 0.25em;\n",
              "  box-sizing: border-box;\n",
              "  margin-bottom: 0.5em;\n",
              "  /* unfitted */\n",
              "  background-color: var(--sklearn-color-unfitted-level-0);\n",
              "}\n",
              "\n",
              "#sk-container-id-21 div.sk-estimator.fitted {\n",
              "  /* fitted */\n",
              "  background-color: var(--sklearn-color-fitted-level-0);\n",
              "}\n",
              "\n",
              "/* on hover */\n",
              "#sk-container-id-21 div.sk-estimator:hover {\n",
              "  /* unfitted */\n",
              "  background-color: var(--sklearn-color-unfitted-level-2);\n",
              "}\n",
              "\n",
              "#sk-container-id-21 div.sk-estimator.fitted:hover {\n",
              "  /* fitted */\n",
              "  background-color: var(--sklearn-color-fitted-level-2);\n",
              "}\n",
              "\n",
              "/* Specification for estimator info (e.g. \"i\" and \"?\") */\n",
              "\n",
              "/* Common style for \"i\" and \"?\" */\n",
              "\n",
              ".sk-estimator-doc-link,\n",
              "a:link.sk-estimator-doc-link,\n",
              "a:visited.sk-estimator-doc-link {\n",
              "  float: right;\n",
              "  font-size: smaller;\n",
              "  line-height: 1em;\n",
              "  font-family: monospace;\n",
              "  background-color: var(--sklearn-color-background);\n",
              "  border-radius: 1em;\n",
              "  height: 1em;\n",
              "  width: 1em;\n",
              "  text-decoration: none !important;\n",
              "  margin-left: 0.5em;\n",
              "  text-align: center;\n",
              "  /* unfitted */\n",
              "  border: var(--sklearn-color-unfitted-level-1) 1pt solid;\n",
              "  color: var(--sklearn-color-unfitted-level-1);\n",
              "}\n",
              "\n",
              ".sk-estimator-doc-link.fitted,\n",
              "a:link.sk-estimator-doc-link.fitted,\n",
              "a:visited.sk-estimator-doc-link.fitted {\n",
              "  /* fitted */\n",
              "  border: var(--sklearn-color-fitted-level-1) 1pt solid;\n",
              "  color: var(--sklearn-color-fitted-level-1);\n",
              "}\n",
              "\n",
              "/* On hover */\n",
              "div.sk-estimator:hover .sk-estimator-doc-link:hover,\n",
              ".sk-estimator-doc-link:hover,\n",
              "div.sk-label-container:hover .sk-estimator-doc-link:hover,\n",
              ".sk-estimator-doc-link:hover {\n",
              "  /* unfitted */\n",
              "  background-color: var(--sklearn-color-unfitted-level-3);\n",
              "  color: var(--sklearn-color-background);\n",
              "  text-decoration: none;\n",
              "}\n",
              "\n",
              "div.sk-estimator.fitted:hover .sk-estimator-doc-link.fitted:hover,\n",
              ".sk-estimator-doc-link.fitted:hover,\n",
              "div.sk-label-container:hover .sk-estimator-doc-link.fitted:hover,\n",
              ".sk-estimator-doc-link.fitted:hover {\n",
              "  /* fitted */\n",
              "  background-color: var(--sklearn-color-fitted-level-3);\n",
              "  color: var(--sklearn-color-background);\n",
              "  text-decoration: none;\n",
              "}\n",
              "\n",
              "/* Span, style for the box shown on hovering the info icon */\n",
              ".sk-estimator-doc-link span {\n",
              "  display: none;\n",
              "  z-index: 9999;\n",
              "  position: relative;\n",
              "  font-weight: normal;\n",
              "  right: .2ex;\n",
              "  padding: .5ex;\n",
              "  margin: .5ex;\n",
              "  width: min-content;\n",
              "  min-width: 20ex;\n",
              "  max-width: 50ex;\n",
              "  color: var(--sklearn-color-text);\n",
              "  box-shadow: 2pt 2pt 4pt #999;\n",
              "  /* unfitted */\n",
              "  background: var(--sklearn-color-unfitted-level-0);\n",
              "  border: .5pt solid var(--sklearn-color-unfitted-level-3);\n",
              "}\n",
              "\n",
              ".sk-estimator-doc-link.fitted span {\n",
              "  /* fitted */\n",
              "  background: var(--sklearn-color-fitted-level-0);\n",
              "  border: var(--sklearn-color-fitted-level-3);\n",
              "}\n",
              "\n",
              ".sk-estimator-doc-link:hover span {\n",
              "  display: block;\n",
              "}\n",
              "\n",
              "/* \"?\"-specific style due to the `<a>` HTML tag */\n",
              "\n",
              "#sk-container-id-21 a.estimator_doc_link {\n",
              "  float: right;\n",
              "  font-size: 1rem;\n",
              "  line-height: 1em;\n",
              "  font-family: monospace;\n",
              "  background-color: var(--sklearn-color-background);\n",
              "  border-radius: 1rem;\n",
              "  height: 1rem;\n",
              "  width: 1rem;\n",
              "  text-decoration: none;\n",
              "  /* unfitted */\n",
              "  color: var(--sklearn-color-unfitted-level-1);\n",
              "  border: var(--sklearn-color-unfitted-level-1) 1pt solid;\n",
              "}\n",
              "\n",
              "#sk-container-id-21 a.estimator_doc_link.fitted {\n",
              "  /* fitted */\n",
              "  border: var(--sklearn-color-fitted-level-1) 1pt solid;\n",
              "  color: var(--sklearn-color-fitted-level-1);\n",
              "}\n",
              "\n",
              "/* On hover */\n",
              "#sk-container-id-21 a.estimator_doc_link:hover {\n",
              "  /* unfitted */\n",
              "  background-color: var(--sklearn-color-unfitted-level-3);\n",
              "  color: var(--sklearn-color-background);\n",
              "  text-decoration: none;\n",
              "}\n",
              "\n",
              "#sk-container-id-21 a.estimator_doc_link.fitted:hover {\n",
              "  /* fitted */\n",
              "  background-color: var(--sklearn-color-fitted-level-3);\n",
              "}\n",
              "</style><div id=\"sk-container-id-21\" class=\"sk-top-container\"><div class=\"sk-text-repr-fallback\"><pre>LogisticRegression()</pre><b>In a Jupyter environment, please rerun this cell to show the HTML representation or trust the notebook. <br />On GitHub, the HTML representation is unable to render, please try loading this page with nbviewer.org.</b></div><div class=\"sk-container\" hidden><div class=\"sk-item\"><div class=\"sk-estimator fitted sk-toggleable\"><input class=\"sk-toggleable__control sk-hidden--visually\" id=\"sk-estimator-id-21\" type=\"checkbox\" checked><label for=\"sk-estimator-id-21\" class=\"sk-toggleable__label fitted sk-toggleable__label-arrow\"><div><div>LogisticRegression</div></div><div><a class=\"sk-estimator-doc-link fitted\" rel=\"noreferrer\" target=\"_blank\" href=\"https://scikit-learn.org/1.6/modules/generated/sklearn.linear_model.LogisticRegression.html\">?<span>Documentation for LogisticRegression</span></a><span class=\"sk-estimator-doc-link fitted\">i<span>Fitted</span></span></div></label><div class=\"sk-toggleable__content fitted\"><pre>LogisticRegression()</pre></div> </div></div></div></div>"
            ]
          },
          "metadata": {},
          "execution_count": 227
        }
      ]
    },
    {
      "cell_type": "markdown",
      "source": [
        "# Phase 3 : Prédictions et Évaluation Quantitative"
      ],
      "metadata": {
        "id": "7mlhVqBDXrTP"
      }
    },
    {
      "cell_type": "code",
      "source": [
        "# 4 Application du Modèle pour la Prédiction\n",
        "y_pred = model.predict(X_test)\n",
        "\n",
        "# Affichage comparé\n",
        "print(\"Réel :\", y_test.values[:10])\n",
        "print(\"Prédit :\", y_pred[:10])\n"
      ],
      "metadata": {
        "colab": {
          "base_uri": "https://localhost:8080/"
        },
        "id": "7ZIlctK7WlMs",
        "outputId": "00069926-aaf5-42dd-b43f-5eba0e6673f1"
      },
      "execution_count": 228,
      "outputs": [
        {
          "output_type": "stream",
          "name": "stdout",
          "text": [
            "Réel : [1 0 0 0 0 0 0 1 0 0]\n",
            "Prédit : [0 0 0 0 0 0 0 1 1 0]\n"
          ]
        }
      ]
    },
    {
      "cell_type": "code",
      "source": [
        "# Création d'une grille de points\n",
        "x_values = np.linspace(df['Exam1'].min(), df['Exam1'].max(), 100)\n",
        "# Calcul de la frontière de décision : θ0 + θ1*x1 + θ2*x2 = 0  ⇒ x2 = -(θ0 + θ1*x1)/θ2\n",
        "y_values = -(model.intercept_[0] + model.coef_[0][0] * x_values) / model.coef_[0][1]\n",
        "\n",
        "# Affichage\n",
        "plt.scatter(admitted['Exam1'], admitted['Exam2'], c='b', label='Admis')\n",
        "plt.scatter(not_admitted['Exam1'], not_admitted['Exam2'], c='r', label='Non admis')\n",
        "plt.plot(x_values, y_values, label='Frontière de décision', linewidth=2)\n",
        "plt.xlabel(\"Note examen 1\")\n",
        "plt.ylabel(\"Note examen 2\")\n",
        "plt.legend()\n",
        "plt.title(\"Régression logistique - frontière de décision\")\n",
        "plt.show()"
      ],
      "metadata": {
        "colab": {
          "base_uri": "https://localhost:8080/",
          "height": 472
        },
        "id": "Lv5Koyjq9dWR",
        "outputId": "916aefc8-4584-4578-e0dd-e3c7865c49ed"
      },
      "execution_count": 229,
      "outputs": [
        {
          "output_type": "display_data",
          "data": {
            "text/plain": [
              "<Figure size 640x480 with 1 Axes>"
            ],
            "image/png": "[encoded data removed]"
          },
          "metadata": {}
        }
      ]
    },
    {
      "cell_type": "markdown",
      "source": [
        "# Le modèle prédit 1 (admis) si la probabilité > 0.5 (seuil par défaut).\n",
        "\n",
        "Affichage côte à côte des valeurs réelles et prédites pour vérifier visuellement les erreurs.\n",
        "\n"
      ],
      "metadata": {
        "id": "4X4gqLC2XC57"
      }
    },
    {
      "cell_type": "code",
      "source": [
        "# 5. Évaluation du modèle\n",
        "accuracy = accuracy_score(y_test, y_pred)\n",
        "print(f\"Précision du modèle (sur données test) : {accuracy:.2f}\")\n",
        "print(\"Coefficients (importance de chaque note d'examen) :\", model.coef_)\n",
        "print(\"Intercept (biais) :\", model.intercept_)\n",
        "# Interprétation : Une précision proche de 1 indique un bon modèle. Les coefficients indiquent l'influence des examens sur la prédiction."
      ],
      "metadata": {
        "colab": {
          "base_uri": "https://localhost:8080/"
        },
        "id": "I1gaa0Yf-HV6",
        "outputId": "658c54df-440e-4397-a269-515b2323be3d"
      },
      "execution_count": 230,
      "outputs": [
        {
          "output_type": "stream",
          "name": "stdout",
          "text": [
            "Précision du modèle (sur données test) : 0.80\n",
            "Coefficients (importance de chaque note d'examen) : [[0.25970232 0.22481016]]\n",
            "Intercept (biais) : [-30.20000099]\n"
          ]
        }
      ]
    },
    {
      "cell_type": "markdown",
      "source": [
        "# 5. Interprétation et évaluation du modèle**\n",
        "\n",
        "* **Précision : 0.80**\n",
        "  signifie que 80 % des prédictions sont correctes sur les données de test.\n",
        "\n",
        "* **Coefficients : \\[0.2597, 0.2248]**\n",
        "  Signifie que le modèle accorde un poids positif aux deux scores.\n",
        "  Signifie qie : plus un étudiant a une bonne note à l’un ou l’autre des examens, plus la probabilité d’admission augmente.\n",
        "\n",
        "* **Intercept : -30.2000**\n",
        "  → Ceci décale la frontière de décision pour séparer admis / non-admis."
      ],
      "metadata": {
        "id": "8MxdzHEO-Xas"
      }
    },
    {
      "cell_type": "markdown",
      "source": [
        "# Ajustement de cet exercice avec les nouvelles instructions"
      ],
      "metadata": {
        "id": "Yl-XwAh6ZL4r"
      }
    },
    {
      "cell_type": "markdown",
      "source": [
        "Phase 1 : Exploration et Visualisation"
      ],
      "metadata": {
        "id": "Qo5QB39JAOMe"
      }
    },
    {
      "cell_type": "code",
      "source": [
        "print(df.shape)\n",
        "print(df.dtypes)"
      ],
      "metadata": {
        "colab": {
          "base_uri": "https://localhost:8080/"
        },
        "id": "ySh2883YAfsS",
        "outputId": "07798b26-557d-4d65-982b-25ffaf9e905a"
      },
      "execution_count": 231,
      "outputs": [
        {
          "output_type": "stream",
          "name": "stdout",
          "text": [
            "(100, 3)\n",
            "Exam1       float64\n",
            "Exam2       float64\n",
            "Admitted      int64\n",
            "dtype: object\n"
          ]
        }
      ]
    },
    {
      "cell_type": "markdown",
      "source": [
        "* **(100, 3)** : le dataset contient **100 observations** (étudiants) et **3 colonnes**.\n",
        "* **Colonnes :**\n",
        "\n",
        "  * `Exam1` et `Exam2` : **variables numériques continues** (type `float64`) → scores aux examens.\n",
        "  * `Admitted` : **variable cible binaire** (`int64`, 0 ou 1) → indique si l'étudiant a été admis.\n",
        "\n",
        "Dataset propre, bien formaté, prêt pour une modélisation supervisée de type **classification binaire**."
      ],
      "metadata": {
        "id": "LNXO-EqIArpD"
      }
    },
    {
      "cell_type": "code",
      "source": [
        "# Détection des valeurs null\n",
        "print(df.isnull().sum())"
      ],
      "metadata": {
        "colab": {
          "base_uri": "https://localhost:8080/"
        },
        "id": "sa7TIBtUBIgI",
        "outputId": "c75a4c03-542d-49fd-9211-e3fc45ba5a4b"
      },
      "execution_count": 232,
      "outputs": [
        {
          "output_type": "stream",
          "name": "stdout",
          "text": [
            "Exam1       0\n",
            "Exam2       0\n",
            "Admitted    0\n",
            "dtype: int64\n"
          ]
        }
      ]
    },
    {
      "cell_type": "markdown",
      "source": [
        "Aucune valeur manquante dans le dataframe, aucun nettoyage n'est nécessaire"
      ],
      "metadata": {
        "id": "Z1ArCi9NBUtO"
      }
    },
    {
      "cell_type": "markdown",
      "source": [
        "Statistiques descriptives :"
      ],
      "metadata": {
        "id": "y7skPKxDB8LU"
      }
    },
    {
      "cell_type": "code",
      "source": [
        "print(df.describe())"
      ],
      "metadata": {
        "colab": {
          "base_uri": "https://localhost:8080/"
        },
        "id": "zPKRbVq7CFHc",
        "outputId": "22f2e995-72b3-4d8e-d67d-9dd3f5874222"
      },
      "execution_count": 233,
      "outputs": [
        {
          "output_type": "stream",
          "name": "stdout",
          "text": [
            "            Exam1       Exam2    Admitted\n",
            "count  100.000000  100.000000  100.000000\n",
            "mean    65.644274   66.221998    0.600000\n",
            "std     19.458222   18.582783    0.492366\n",
            "min     30.058822   30.603263    0.000000\n",
            "25%     50.919511   48.179205    0.000000\n",
            "50%     67.032988   67.682381    1.000000\n",
            "75%     80.212529   79.360605    1.000000\n",
            "max     99.827858   98.869436    1.000000\n"
          ]
        }
      ]
    },
    {
      "cell_type": "markdown",
      "source": [
        "Analyse rapide des statistiques descriptive :\n",
        "\n",
        "Nombre d’échantillons : 100 pour chaque variable.\n",
        "\n",
        "Moyennes Exam1 (65.6) et Exam2 (66.2) → scores globalement similaires et centrés autour de 65.\n",
        "\n",
        "Écart-type (~19) : dispersion modérée, donc une bonne variabilité.\n",
        "\n",
        "Minimum ≈ 30 / Maximum ≈ 99 : large plage de scores.\n",
        "\n",
        "Admitted (binaire) :\n",
        "\n",
        "Moyenne = 0.6 → 60% des étudiants admis.\n",
        "Médiane = 1 → la moitié des étudiants ou plus sont admis.\n",
        "Répartition légèrement déséquilibrée (60% admis, 40% non-admis), mais encore raisonnable.\n",
        "Les deux examens semblent avoir un poids comparable, et la cible est suffisamment variée pour entraîner un bon modèle."
      ],
      "metadata": {
        "id": "LZdaXXLOCrJX"
      }
    },
    {
      "cell_type": "markdown",
      "source": [
        "Scatter plot clair avec légende :"
      ],
      "metadata": {
        "id": "z_o_oP1ODCki"
      }
    },
    {
      "cell_type": "code",
      "source": [
        "admitted = df[df[\"Admitted\"] == 1]\n",
        "not_admitted = df[df[\"Admitted\"] == 0]\n",
        "\n",
        "plt.scatter(admitted[\"Exam1\"], admitted[\"Exam2\"], label=\"Admitted\", marker='o')\n",
        "plt.scatter(not_admitted[\"Exam1\"], not_admitted[\"Exam2\"], label=\"Not Admitted\", marker='x')\n",
        "plt.xlabel(\"Exam 1 Score\")\n",
        "plt.ylabel(\"Exam 2 Score\")\n",
        "plt.legend()\n",
        "plt.title(\"Exam Scores vs Admission\")\n",
        "plt.show()"
      ],
      "metadata": {
        "colab": {
          "base_uri": "https://localhost:8080/",
          "height": 472
        },
        "id": "RTHUPy0QDJ4X",
        "outputId": "2ffc4e91-5046-49bf-f1b8-d3b42c7a2edc"
      },
      "execution_count": 234,
      "outputs": [
        {
          "output_type": "display_data",
          "data": {
            "text/plain": [
              "<Figure size 640x480 with 1 Axes>"
            ],
            "image/png": "[encoded data removed]"
          },
          "metadata": {}
        }
      ]
    },
    {
      "cell_type": "markdown",
      "source": [
        "Phase 2 : Modélisation"
      ],
      "metadata": {
        "id": "-FYTw1zJDW1L"
      }
    },
    {
      "cell_type": "code",
      "source": [
        "X = df[[\"Exam1\", \"Exam2\"]]\n",
        "y = df[\"Admitted\"]"
      ],
      "metadata": {
        "id": "_LbVO1wIDZLi"
      },
      "execution_count": 235,
      "outputs": []
    },
    {
      "cell_type": "markdown",
      "source": [
        "Entraîner le modèle :"
      ],
      "metadata": {
        "id": "6PZv5OQzDp3V"
      }
    },
    {
      "cell_type": "code",
      "source": [
        "model = LogisticRegression()\n",
        "model.fit(X, y)"
      ],
      "metadata": {
        "colab": {
          "base_uri": "https://localhost:8080/",
          "height": 81
        },
        "id": "vKExpktmDtqE",
        "outputId": "60f49680-5c5c-4446-aabd-7307f904bf36"
      },
      "execution_count": 236,
      "outputs": [
        {
          "output_type": "execute_result",
          "data": {
            "text/plain": [
              "LogisticRegression()"
            ],
            "text/html": [
              "<style>#sk-container-id-22 {\n",
              "  /* Definition of color scheme common for light and dark mode */\n",
              "  --sklearn-color-text: #000;\n",
              "  --sklearn-color-text-muted: #666;\n",
              "  --sklearn-color-line: gray;\n",
              "  /* Definition of color scheme for unfitted estimators */\n",
              "  --sklearn-color-unfitted-level-0: #fff5e6;\n",
              "  --sklearn-color-unfitted-level-1: #f6e4d2;\n",
              "  --sklearn-color-unfitted-level-2: #ffe0b3;\n",
              "  --sklearn-color-unfitted-level-3: chocolate;\n",
              "  /* Definition of color scheme for fitted estimators */\n",
              "  --sklearn-color-fitted-level-0: #f0f8ff;\n",
              "  --sklearn-color-fitted-level-1: #d4ebff;\n",
              "  --sklearn-color-fitted-level-2: #b3dbfd;\n",
              "  --sklearn-color-fitted-level-3: cornflowerblue;\n",
              "\n",
              "  /* Specific color for light theme */\n",
              "  --sklearn-color-text-on-default-background: var(--sg-text-color, var(--theme-code-foreground, var(--jp-content-font-color1, black)));\n",
              "  --sklearn-color-background: var(--sg-background-color, var(--theme-background, var(--jp-layout-color0, white)));\n",
              "  --sklearn-color-border-box: var(--sg-text-color, var(--theme-code-foreground, var(--jp-content-font-color1, black)));\n",
              "  --sklearn-color-icon: #696969;\n",
              "\n",
              "  @media (prefers-color-scheme: dark) {\n",
              "    /* Redefinition of color scheme for dark theme */\n",
              "    --sklearn-color-text-on-default-background: var(--sg-text-color, var(--theme-code-foreground, var(--jp-content-font-color1, white)));\n",
              "    --sklearn-color-background: var(--sg-background-color, var(--theme-background, var(--jp-layout-color0, #111)));\n",
              "    --sklearn-color-border-box: var(--sg-text-color, var(--theme-code-foreground, var(--jp-content-font-color1, white)));\n",
              "    --sklearn-color-icon: #878787;\n",
              "  }\n",
              "}\n",
              "\n",
              "#sk-container-id-22 {\n",
              "  color: var(--sklearn-color-text);\n",
              "}\n",
              "\n",
              "#sk-container-id-22 pre {\n",
              "  padding: 0;\n",
              "}\n",
              "\n",
              "#sk-container-id-22 input.sk-hidden--visually {\n",
              "  border: 0;\n",
              "  clip: rect(1px 1px 1px 1px);\n",
              "  clip: rect(1px, 1px, 1px, 1px);\n",
              "  height: 1px;\n",
              "  margin: -1px;\n",
              "  overflow: hidden;\n",
              "  padding: 0;\n",
              "  position: absolute;\n",
              "  width: 1px;\n",
              "}\n",
              "\n",
              "#sk-container-id-22 div.sk-dashed-wrapped {\n",
              "  border: 1px dashed var(--sklearn-color-line);\n",
              "  margin: 0 0.4em 0.5em 0.4em;\n",
              "  box-sizing: border-box;\n",
              "  padding-bottom: 0.4em;\n",
              "  background-color: var(--sklearn-color-background);\n",
              "}\n",
              "\n",
              "#sk-container-id-22 div.sk-container {\n",
              "  /* jupyter's `normalize.less` sets `[hidden] { display: none; }`\n",
              "     but bootstrap.min.css set `[hidden] { display: none !important; }`\n",
              "     so we also need the `!important` here to be able to override the\n",
              "     default hidden behavior on the sphinx rendered scikit-learn.org.\n",
              "     See: https://github.com/scikit-learn/scikit-learn/issues/21755 */\n",
              "  display: inline-block !important;\n",
              "  position: relative;\n",
              "}\n",
              "\n",
              "#sk-container-id-22 div.sk-text-repr-fallback {\n",
              "  display: none;\n",
              "}\n",
              "\n",
              "div.sk-parallel-item,\n",
              "div.sk-serial,\n",
              "div.sk-item {\n",
              "  /* draw centered vertical line to link estimators */\n",
              "  background-image: linear-gradient(var(--sklearn-color-text-on-default-background), var(--sklearn-color-text-on-default-background));\n",
              "  background-size: 2px 100%;\n",
              "  background-repeat: no-repeat;\n",
              "  background-position: center center;\n",
              "}\n",
              "\n",
              "/* Parallel-specific style estimator block */\n",
              "\n",
              "#sk-container-id-22 div.sk-parallel-item::after {\n",
              "  content: \"\";\n",
              "  width: 100%;\n",
              "  border-bottom: 2px solid var(--sklearn-color-text-on-default-background);\n",
              "  flex-grow: 1;\n",
              "}\n",
              "\n",
              "#sk-container-id-22 div.sk-parallel {\n",
              "  display: flex;\n",
              "  align-items: stretch;\n",
              "  justify-content: center;\n",
              "  background-color: var(--sklearn-color-background);\n",
              "  position: relative;\n",
              "}\n",
              "\n",
              "#sk-container-id-22 div.sk-parallel-item {\n",
              "  display: flex;\n",
              "  flex-direction: column;\n",
              "}\n",
              "\n",
              "#sk-container-id-22 div.sk-parallel-item:first-child::after {\n",
              "  align-self: flex-end;\n",
              "  width: 50%;\n",
              "}\n",
              "\n",
              "#sk-container-id-22 div.sk-parallel-item:last-child::after {\n",
              "  align-self: flex-start;\n",
              "  width: 50%;\n",
              "}\n",
              "\n",
              "#sk-container-id-22 div.sk-parallel-item:only-child::after {\n",
              "  width: 0;\n",
              "}\n",
              "\n",
              "/* Serial-specific style estimator block */\n",
              "\n",
              "#sk-container-id-22 div.sk-serial {\n",
              "  display: flex;\n",
              "  flex-direction: column;\n",
              "  align-items: center;\n",
              "  background-color: var(--sklearn-color-background);\n",
              "  padding-right: 1em;\n",
              "  padding-left: 1em;\n",
              "}\n",
              "\n",
              "\n",
              "/* Toggleable style: style used for estimator/Pipeline/ColumnTransformer box that is\n",
              "clickable and can be expanded/collapsed.\n",
              "- Pipeline and ColumnTransformer use this feature and define the default style\n",
              "- Estimators will overwrite some part of the style using the `sk-estimator` class\n",
              "*/\n",
              "\n",
              "/* Pipeline and ColumnTransformer style (default) */\n",
              "\n",
              "#sk-container-id-22 div.sk-toggleable {\n",
              "  /* Default theme specific background. It is overwritten whether we have a\n",
              "  specific estimator or a Pipeline/ColumnTransformer */\n",
              "  background-color: var(--sklearn-color-background);\n",
              "}\n",
              "\n",
              "/* Toggleable label */\n",
              "#sk-container-id-22 label.sk-toggleable__label {\n",
              "  cursor: pointer;\n",
              "  display: flex;\n",
              "  width: 100%;\n",
              "  margin-bottom: 0;\n",
              "  padding: 0.5em;\n",
              "  box-sizing: border-box;\n",
              "  text-align: center;\n",
              "  align-items: start;\n",
              "  justify-content: space-between;\n",
              "  gap: 0.5em;\n",
              "}\n",
              "\n",
              "#sk-container-id-22 label.sk-toggleable__label .caption {\n",
              "  font-size: 0.6rem;\n",
              "  font-weight: lighter;\n",
              "  color: var(--sklearn-color-text-muted);\n",
              "}\n",
              "\n",
              "#sk-container-id-22 label.sk-toggleable__label-arrow:before {\n",
              "  /* Arrow on the left of the label */\n",
              "  content: \"▸\";\n",
              "  float: left;\n",
              "  margin-right: 0.25em;\n",
              "  color: var(--sklearn-color-icon);\n",
              "}\n",
              "\n",
              "#sk-container-id-22 label.sk-toggleable__label-arrow:hover:before {\n",
              "  color: var(--sklearn-color-text);\n",
              "}\n",
              "\n",
              "/* Toggleable content - dropdown */\n",
              "\n",
              "#sk-container-id-22 div.sk-toggleable__content {\n",
              "  max-height: 0;\n",
              "  max-width: 0;\n",
              "  overflow: hidden;\n",
              "  text-align: left;\n",
              "  /* unfitted */\n",
              "  background-color: var(--sklearn-color-unfitted-level-0);\n",
              "}\n",
              "\n",
              "#sk-container-id-22 div.sk-toggleable__content.fitted {\n",
              "  /* fitted */\n",
              "  background-color: var(--sklearn-color-fitted-level-0);\n",
              "}\n",
              "\n",
              "#sk-container-id-22 div.sk-toggleable__content pre {\n",
              "  margin: 0.2em;\n",
              "  border-radius: 0.25em;\n",
              "  color: var(--sklearn-color-text);\n",
              "  /* unfitted */\n",
              "  background-color: var(--sklearn-color-unfitted-level-0);\n",
              "}\n",
              "\n",
              "#sk-container-id-22 div.sk-toggleable__content.fitted pre {\n",
              "  /* unfitted */\n",
              "  background-color: var(--sklearn-color-fitted-level-0);\n",
              "}\n",
              "\n",
              "#sk-container-id-22 input.sk-toggleable__control:checked~div.sk-toggleable__content {\n",
              "  /* Expand drop-down */\n",
              "  max-height: 200px;\n",
              "  max-width: 100%;\n",
              "  overflow: auto;\n",
              "}\n",
              "\n",
              "#sk-container-id-22 input.sk-toggleable__control:checked~label.sk-toggleable__label-arrow:before {\n",
              "  content: \"▾\";\n",
              "}\n",
              "\n",
              "/* Pipeline/ColumnTransformer-specific style */\n",
              "\n",
              "#sk-container-id-22 div.sk-label input.sk-toggleable__control:checked~label.sk-toggleable__label {\n",
              "  color: var(--sklearn-color-text);\n",
              "  background-color: var(--sklearn-color-unfitted-level-2);\n",
              "}\n",
              "\n",
              "#sk-container-id-22 div.sk-label.fitted input.sk-toggleable__control:checked~label.sk-toggleable__label {\n",
              "  background-color: var(--sklearn-color-fitted-level-2);\n",
              "}\n",
              "\n",
              "/* Estimator-specific style */\n",
              "\n",
              "/* Colorize estimator box */\n",
              "#sk-container-id-22 div.sk-estimator input.sk-toggleable__control:checked~label.sk-toggleable__label {\n",
              "  /* unfitted */\n",
              "  background-color: var(--sklearn-color-unfitted-level-2);\n",
              "}\n",
              "\n",
              "#sk-container-id-22 div.sk-estimator.fitted input.sk-toggleable__control:checked~label.sk-toggleable__label {\n",
              "  /* fitted */\n",
              "  background-color: var(--sklearn-color-fitted-level-2);\n",
              "}\n",
              "\n",
              "#sk-container-id-22 div.sk-label label.sk-toggleable__label,\n",
              "#sk-container-id-22 div.sk-label label {\n",
              "  /* The background is the default theme color */\n",
              "  color: var(--sklearn-color-text-on-default-background);\n",
              "}\n",
              "\n",
              "/* On hover, darken the color of the background */\n",
              "#sk-container-id-22 div.sk-label:hover label.sk-toggleable__label {\n",
              "  color: var(--sklearn-color-text);\n",
              "  background-color: var(--sklearn-color-unfitted-level-2);\n",
              "}\n",
              "\n",
              "/* Label box, darken color on hover, fitted */\n",
              "#sk-container-id-22 div.sk-label.fitted:hover label.sk-toggleable__label.fitted {\n",
              "  color: var(--sklearn-color-text);\n",
              "  background-color: var(--sklearn-color-fitted-level-2);\n",
              "}\n",
              "\n",
              "/* Estimator label */\n",
              "\n",
              "#sk-container-id-22 div.sk-label label {\n",
              "  font-family: monospace;\n",
              "  font-weight: bold;\n",
              "  display: inline-block;\n",
              "  line-height: 1.2em;\n",
              "}\n",
              "\n",
              "#sk-container-id-22 div.sk-label-container {\n",
              "  text-align: center;\n",
              "}\n",
              "\n",
              "/* Estimator-specific */\n",
              "#sk-container-id-22 div.sk-estimator {\n",
              "  font-family: monospace;\n",
              "  border: 1px dotted var(--sklearn-color-border-box);\n",
              "  border-radius: 0.25em;\n",
              "  box-sizing: border-box;\n",
              "  margin-bottom: 0.5em;\n",
              "  /* unfitted */\n",
              "  background-color: var(--sklearn-color-unfitted-level-0);\n",
              "}\n",
              "\n",
              "#sk-container-id-22 div.sk-estimator.fitted {\n",
              "  /* fitted */\n",
              "  background-color: var(--sklearn-color-fitted-level-0);\n",
              "}\n",
              "\n",
              "/* on hover */\n",
              "#sk-container-id-22 div.sk-estimator:hover {\n",
              "  /* unfitted */\n",
              "  background-color: var(--sklearn-color-unfitted-level-2);\n",
              "}\n",
              "\n",
              "#sk-container-id-22 div.sk-estimator.fitted:hover {\n",
              "  /* fitted */\n",
              "  background-color: var(--sklearn-color-fitted-level-2);\n",
              "}\n",
              "\n",
              "/* Specification for estimator info (e.g. \"i\" and \"?\") */\n",
              "\n",
              "/* Common style for \"i\" and \"?\" */\n",
              "\n",
              ".sk-estimator-doc-link,\n",
              "a:link.sk-estimator-doc-link,\n",
              "a:visited.sk-estimator-doc-link {\n",
              "  float: right;\n",
              "  font-size: smaller;\n",
              "  line-height: 1em;\n",
              "  font-family: monospace;\n",
              "  background-color: var(--sklearn-color-background);\n",
              "  border-radius: 1em;\n",
              "  height: 1em;\n",
              "  width: 1em;\n",
              "  text-decoration: none !important;\n",
              "  margin-left: 0.5em;\n",
              "  text-align: center;\n",
              "  /* unfitted */\n",
              "  border: var(--sklearn-color-unfitted-level-1) 1pt solid;\n",
              "  color: var(--sklearn-color-unfitted-level-1);\n",
              "}\n",
              "\n",
              ".sk-estimator-doc-link.fitted,\n",
              "a:link.sk-estimator-doc-link.fitted,\n",
              "a:visited.sk-estimator-doc-link.fitted {\n",
              "  /* fitted */\n",
              "  border: var(--sklearn-color-fitted-level-1) 1pt solid;\n",
              "  color: var(--sklearn-color-fitted-level-1);\n",
              "}\n",
              "\n",
              "/* On hover */\n",
              "div.sk-estimator:hover .sk-estimator-doc-link:hover,\n",
              ".sk-estimator-doc-link:hover,\n",
              "div.sk-label-container:hover .sk-estimator-doc-link:hover,\n",
              ".sk-estimator-doc-link:hover {\n",
              "  /* unfitted */\n",
              "  background-color: var(--sklearn-color-unfitted-level-3);\n",
              "  color: var(--sklearn-color-background);\n",
              "  text-decoration: none;\n",
              "}\n",
              "\n",
              "div.sk-estimator.fitted:hover .sk-estimator-doc-link.fitted:hover,\n",
              ".sk-estimator-doc-link.fitted:hover,\n",
              "div.sk-label-container:hover .sk-estimator-doc-link.fitted:hover,\n",
              ".sk-estimator-doc-link.fitted:hover {\n",
              "  /* fitted */\n",
              "  background-color: var(--sklearn-color-fitted-level-3);\n",
              "  color: var(--sklearn-color-background);\n",
              "  text-decoration: none;\n",
              "}\n",
              "\n",
              "/* Span, style for the box shown on hovering the info icon */\n",
              ".sk-estimator-doc-link span {\n",
              "  display: none;\n",
              "  z-index: 9999;\n",
              "  position: relative;\n",
              "  font-weight: normal;\n",
              "  right: .2ex;\n",
              "  padding: .5ex;\n",
              "  margin: .5ex;\n",
              "  width: min-content;\n",
              "  min-width: 20ex;\n",
              "  max-width: 50ex;\n",
              "  color: var(--sklearn-color-text);\n",
              "  box-shadow: 2pt 2pt 4pt #999;\n",
              "  /* unfitted */\n",
              "  background: var(--sklearn-color-unfitted-level-0);\n",
              "  border: .5pt solid var(--sklearn-color-unfitted-level-3);\n",
              "}\n",
              "\n",
              ".sk-estimator-doc-link.fitted span {\n",
              "  /* fitted */\n",
              "  background: var(--sklearn-color-fitted-level-0);\n",
              "  border: var(--sklearn-color-fitted-level-3);\n",
              "}\n",
              "\n",
              ".sk-estimator-doc-link:hover span {\n",
              "  display: block;\n",
              "}\n",
              "\n",
              "/* \"?\"-specific style due to the `<a>` HTML tag */\n",
              "\n",
              "#sk-container-id-22 a.estimator_doc_link {\n",
              "  float: right;\n",
              "  font-size: 1rem;\n",
              "  line-height: 1em;\n",
              "  font-family: monospace;\n",
              "  background-color: var(--sklearn-color-background);\n",
              "  border-radius: 1rem;\n",
              "  height: 1rem;\n",
              "  width: 1rem;\n",
              "  text-decoration: none;\n",
              "  /* unfitted */\n",
              "  color: var(--sklearn-color-unfitted-level-1);\n",
              "  border: var(--sklearn-color-unfitted-level-1) 1pt solid;\n",
              "}\n",
              "\n",
              "#sk-container-id-22 a.estimator_doc_link.fitted {\n",
              "  /* fitted */\n",
              "  border: var(--sklearn-color-fitted-level-1) 1pt solid;\n",
              "  color: var(--sklearn-color-fitted-level-1);\n",
              "}\n",
              "\n",
              "/* On hover */\n",
              "#sk-container-id-22 a.estimator_doc_link:hover {\n",
              "  /* unfitted */\n",
              "  background-color: var(--sklearn-color-unfitted-level-3);\n",
              "  color: var(--sklearn-color-background);\n",
              "  text-decoration: none;\n",
              "}\n",
              "\n",
              "#sk-container-id-22 a.estimator_doc_link.fitted:hover {\n",
              "  /* fitted */\n",
              "  background-color: var(--sklearn-color-fitted-level-3);\n",
              "}\n",
              "</style><div id=\"sk-container-id-22\" class=\"sk-top-container\"><div class=\"sk-text-repr-fallback\"><pre>LogisticRegression()</pre><b>In a Jupyter environment, please rerun this cell to show the HTML representation or trust the notebook. <br />On GitHub, the HTML representation is unable to render, please try loading this page with nbviewer.org.</b></div><div class=\"sk-container\" hidden><div class=\"sk-item\"><div class=\"sk-estimator fitted sk-toggleable\"><input class=\"sk-toggleable__control sk-hidden--visually\" id=\"sk-estimator-id-22\" type=\"checkbox\" checked><label for=\"sk-estimator-id-22\" class=\"sk-toggleable__label fitted sk-toggleable__label-arrow\"><div><div>LogisticRegression</div></div><div><a class=\"sk-estimator-doc-link fitted\" rel=\"noreferrer\" target=\"_blank\" href=\"https://scikit-learn.org/1.6/modules/generated/sklearn.linear_model.LogisticRegression.html\">?<span>Documentation for LogisticRegression</span></a><span class=\"sk-estimator-doc-link fitted\">i<span>Fitted</span></span></div></label><div class=\"sk-toggleable__content fitted\"><pre>LogisticRegression()</pre></div> </div></div></div></div>"
            ]
          },
          "metadata": {},
          "execution_count": 236
        }
      ]
    },
    {
      "cell_type": "markdown",
      "source": [
        "Affichage des coefficients pris"
      ],
      "metadata": {
        "id": "GYtd7-vRD7TG"
      }
    },
    {
      "cell_type": "code",
      "source": [
        "print(\"\\n model.coef_, model.intercept_\", model.coef_, model.intercept_)\n"
      ],
      "metadata": {
        "colab": {
          "base_uri": "https://localhost:8080/"
        },
        "id": "tKjsAjaAEGTs",
        "outputId": "366d9d1f-5464-4183-b0ce-3d09f1789f66"
      },
      "execution_count": 237,
      "outputs": [
        {
          "output_type": "stream",
          "name": "stdout",
          "text": [
            "\n",
            " model.coef_, model.intercept_ [[0.20535491 0.2005838 ]] [-25.05219314]\n"
          ]
        }
      ]
    },
    {
      "cell_type": "markdown",
      "source": [
        "Analyse des coefficients du modèle de régression logistique :\n",
        "\n",
        "Coefficients :\n",
        "\n",
        "Exam1 → 0.205\n",
        "Exam2 → 0.201\n",
        "Intercept : -25.05\n",
        "keyboard_arrow_down\n",
        "Interprétation :\n",
        "Les deux scores contribuent positivement à la probabilité d’admission (plus le score est haut, plus la proba d’être admis augmente).\n",
        "Les coefficients sont quasi identiques, donc les deux examens ont un poids similaire dans la décision.\n",
        "L'intercept négatif implique qu’un certain seuil combiné des scores est nécessaire pour avoir une proba > 0.5 (admission).\n",
        "👉 En résumé : les deux examens comptent autant, et il faut avoir un niveau suffisant dans les deux pour être admis.\n",
        "\n"
      ],
      "metadata": {
        "id": "S9h3d2bBZM_z"
      }
    },
    {
      "cell_type": "markdown",
      "source": [
        "Phase 3 : Prédictions et Évaluation"
      ],
      "metadata": {
        "id": "7xFaI7hfEg-9"
      }
    },
    {
      "cell_type": "markdown",
      "source": [
        "Compléments à ajouter : Faire les prédictions :"
      ],
      "metadata": {
        "id": "cTYW3l2vEoML"
      }
    },
    {
      "cell_type": "code",
      "source": [
        "y_pred = model.predict(X_test)"
      ],
      "metadata": {
        "id": "UWukR4JcExNf"
      },
      "execution_count": 238,
      "outputs": []
    },
    {
      "cell_type": "markdown",
      "source": [
        "Comparaison des 10 premières prédictions :"
      ],
      "metadata": {
        "id": "XSRlgRo0FFsN"
      }
    },
    {
      "cell_type": "code",
      "source": [
        "# Comparaison entre les valeurs réelles et les prédictions (extrait)\n",
        "print(pd.DataFrame({\"Valeur réelle\": y[:10], \"Valeur prédite\": y_pred[:10]}))\n",
        "# Cela permet de voir si le modèle prédit correctement les premières valeurs."
      ],
      "metadata": {
        "colab": {
          "base_uri": "https://localhost:8080/"
        },
        "id": "tMTplp7-FQPK",
        "outputId": "91fd80b2-56ce-4575-9842-ca0757827f91"
      },
      "execution_count": 239,
      "outputs": [
        {
          "output_type": "stream",
          "name": "stdout",
          "text": [
            "   Valeur réelle  Valeur prédite\n",
            "0              0               0\n",
            "1              0               0\n",
            "2              0               0\n",
            "3              1               0\n",
            "4              1               0\n",
            "5              0               0\n",
            "6              1               0\n",
            "7              1               1\n",
            "8              1               1\n",
            "9              1               0\n"
          ]
        }
      ]
    },
    {
      "cell_type": "markdown",
      "source": [
        "Analyse rapide des prédictions (10 premiers cas) :\n",
        "\n",
        "* **8 bonnes prédictions**, **2 erreurs** :\n",
        "\n",
        "  * Ligne **7** : réel = 1, prévu = 0 → **faux négatif** (étudiant admis, prédit non admis).\n",
        "* Le modèle semble :\n",
        "\n",
        "  * Bien capturer la tendance générale.\n",
        "  * Faire quelques **erreurs sur des cas limites**, comme les faux négatifs.\n",
        "\n",
        "Bon démarrage, mais **à affiner si ces erreurs sont fréquentes**. Important de vérifier s’il y a **un biais vers les 0 ou les 1**."
      ],
      "metadata": {
        "id": "VluQdVwPFiEK"
      }
    },
    {
      "cell_type": "markdown",
      "source": [
        "Calculer l'accuracy :"
      ],
      "metadata": {
        "id": "gpBUhuNrGl1C"
      }
    },
    {
      "cell_type": "code",
      "source": [
        "print(len(y_test), len(y_pred))\n",
        "print(type(y_pred), y_pred.shape)\n",
        "print(type(y_test), y_test.shape)"
      ],
      "metadata": {
        "colab": {
          "base_uri": "https://localhost:8080/"
        },
        "id": "LFSQi321JtQi",
        "outputId": "f7fe0aa0-7c39-429d-8b71-10e147f30e1f"
      },
      "execution_count": 240,
      "outputs": [
        {
          "output_type": "stream",
          "name": "stdout",
          "text": [
            "20 20\n",
            "<class 'numpy.ndarray'> (20,)\n",
            "<class 'pandas.core.series.Series'> (20,)\n"
          ]
        }
      ]
    },
    {
      "cell_type": "code",
      "source": [
        "# 5. Évaluation du modèle\n",
        "accuracy = accuracy_score(y_test, y_pred)\n",
        "print(f\"Précision du modèle (sur données test) : {accuracy:.2f}\")\n",
        "print(\"Coefficients (importance de chaque note d'examen) :\", model.coef_)\n",
        "print(\"Intercept (biais) :\", model.intercept_)\n",
        "# Interprétation : Une précision proche de 1 indique un bon modèle. Les coefficients indiquent l'influence des examens sur la prédiction."
      ],
      "metadata": {
        "colab": {
          "base_uri": "https://localhost:8080/"
        },
        "id": "PYkO2_GIGrtb",
        "outputId": "70c941c0-381a-4219-90ed-6479b2bfb922"
      },
      "execution_count": 241,
      "outputs": [
        {
          "output_type": "stream",
          "name": "stdout",
          "text": [
            "Précision du modèle (sur données test) : 0.85\n",
            "Coefficients (importance de chaque note d'examen) : [[0.20535491 0.2005838 ]]\n",
            "Intercept (biais) : [-25.05219314]\n"
          ]
        }
      ]
    },
    {
      "cell_type": "markdown",
      "source": [
        "# 5. Évaluation du modèle\n",
        "accuracy = accuracy_score(y_test, y_pred)\n",
        "print(f\"Précision du modèle (sur données test) : {accuracy:.2f}\")\n",
        "print(\"Coefficients (importance de chaque note d'examen) :\", model.coef_)\n",
        "print(\"Intercept (biais) :\", model.intercept_)\n",
        "# Interprétation : Une précision proche de 1 indique un bon modèle. Les coefficients indiquent l'influence des examens sur la prédiction."
      ],
      "metadata": {
        "id": "HB82vIAdGw4d"
      }
    },
    {
      "cell_type": "markdown",
      "source": [
        "Superposer la frontière de décision :"
      ],
      "metadata": {
        "id": "QfY5ggVHG2Ba"
      }
    },
    {
      "cell_type": "code",
      "source": [
        "xx, yy = np.meshgrid(np.linspace(df.Exam1.min(), df.Exam1.max(), 100),\n",
        "                     np.linspace(df.Exam2.min(), df.Exam2.max(), 100))\n",
        "grid = np.c_[xx.ravel(), yy.ravel()]\n",
        "probs = model.predict(grid).reshape(xx.shape)\n",
        "\n",
        "plt.contourf(xx, yy, probs, alpha=0.3)\n",
        "plt.scatter(admitted[\"Exam1\"], admitted[\"Exam2\"], label=\"Admitted\")\n",
        "plt.scatter(not_admitted[\"Exam1\"], not_admitted[\"Exam2\"], label=\"Not Admitted\")\n",
        "plt.xlabel(\"Exam 1\")\n",
        "plt.ylabel(\"Exam 2\")\n",
        "plt.legend()\n",
        "plt.title(\"Decision Boundary\")\n",
        "plt.show()\n"
      ],
      "metadata": {
        "colab": {
          "base_uri": "https://localhost:8080/",
          "height": 507
        },
        "id": "bKdVqupMG3cn",
        "outputId": "f0835dc8-7148-4493-b56e-71d02ea1c10a"
      },
      "execution_count": 242,
      "outputs": [
        {
          "output_type": "stream",
          "name": "stderr",
          "text": [
            "/usr/local/lib/python3.11/dist-packages/sklearn/utils/validation.py:2739: UserWarning: X does not have valid feature names, but LogisticRegression was fitted with feature names\n",
            "  warnings.warn(\n"
          ]
        },
        {
          "output_type": "display_data",
          "data": {
            "text/plain": [
              "<Figure size 640x480 with 1 Axes>"
            ],
            "image/png": "[encoded data removed]"
          },
          "metadata": {}
        }
      ]
    },
    {
      "cell_type": "markdown",
      "source": [
        "Analyse du graphique de la **frontière de décision** :\n",
        "\n",
        "* La ligne verte sépare les deux zones de prédiction :\n",
        "\n",
        "  * **Zone jaune** → prédiction : *Admis*.\n",
        "  * **Zone violette** → prédiction : *Non admis*.\n",
        "\n",
        "### Observations :\n",
        "\n",
        "* La frontière est **linéaire**, cohérente avec la régression logistique.\n",
        "* **Bonne séparation globale** : la majorité des points bleus (admis) sont du bon côté, et pareil pour les oranges (non admis).\n",
        "* **Erreurs visibles** :\n",
        "\n",
        "  * Quelques **points bleus en zone violette** → **faux négatifs**.\n",
        "  * Quelques **points oranges en zone jaune** → **faux positifs**.\n",
        "* Les erreurs se situent **près de la frontière**, ce qui est typique pour un modèle linéaire.\n",
        "\n",
        "### Conclusion :\n",
        "\n",
        "* Le modèle capte bien la tendance générale.\n",
        "* Il montre ses **limites sur des cas ambigus**, ce qui pourrait être amélioré par un modèle plus complexe ou l'ajout de nouvelles variables."
      ],
      "metadata": {
        "id": "l4qMGUEMHD4T"
      }
    },
    {
      "cell_type": "markdown",
      "source": [
        "Analyser des erreurs :"
      ],
      "metadata": {
        "id": "WOKk0bjWHKQD"
      }
    },
    {
      "cell_type": "code",
      "source": [
        "# Affichage des erreurs de prédiction\n",
        "\n",
        "\n",
        "\n",
        "\n",
        "# Ces exemples montrent où le modèle s'est trompé. Cela peut aider à comprendre ses limites.\n",
        "X_test_full = df.loc[X_test.index].copy()\n",
        "X_test_full[\"Vrai\"] = y_test\n",
        "X_test_full[\"Prévu\"] = y_pred\n",
        "\n",
        "# Filtrage des erreurs de prédiction\n",
        "erreurs = X_test_full[X_test_full[\"Vrai\"] != X_test_full[\"Prévu\"]]\n",
        "\n",
        "# Affichage\n",
        "print(\"Erreurs de prédiction avec toutes les colonnes d'origine :\")\n",
        "print(erreurs.head())"
      ],
      "metadata": {
        "colab": {
          "base_uri": "https://localhost:8080/"
        },
        "id": "-ihm94JKHTAW",
        "outputId": "807f879e-7e2d-47bf-bb3c-4d947300897c"
      },
      "execution_count": 243,
      "outputs": [
        {
          "output_type": "stream",
          "name": "stdout",
          "text": [
            "Erreurs de prédiction avec toutes les colonnes d'origine :\n",
            "        Exam1      Exam2  Admitted  Vrai  Prévu\n",
            "83  57.238706  59.514282         1     1      0\n",
            "10  95.861555  38.225278         0     0      1\n",
            "33  52.045405  69.432860         1     1      0\n"
          ]
        }
      ]
    },
    {
      "cell_type": "markdown",
      "source": [
        "Voici une **analyse directe** de ces 5 lignes :\n",
        "\n",
        "| Index | Exam1 | Exam2 | Admis | Analyse                                                            |\n",
        "| ----- | ----- | ----- | ----- | ------------------------------------------------------------------ |\n",
        "| 83     | 57.23  | 59.51  | 1     |Scores moyens à bons → admis. Cohérent.                            |\n",
        "| 10    | 95.9  | 38.2  | 0     | Très haut Exam1, faible Exam2 → non admis. Exam2 semble limitant.  |\n",
        "| 16    | 69.1  | 52.7  | 1     | Scores moyens à bons → admis. Cohérent.                            |\n",
        "| 27    | 93.1  | 38.8  | 0     | Encore un cas de haut Exam1, bas Exam2 → non admis. Exam2 crucial. |\n",
        "| 33    | 52.0  | 69.4  | 1     | Exam1 moyen, Exam2 haut → admis. Confirmé que Exam2 compense.      |\n",
        "\n",
        "### Conclusion :\n",
        "\n",
        "* **Exam2 semble plus discriminant** dans ces exemples.\n",
        "* Un **haut score dans un seul examen ne garantit pas l’admission**.\n",
        "* Le modèle (et la réalité) valorise **une certaine balance entre les deux scores**.\n"
      ],
      "metadata": {
        "id": "isCTJEL-HZbW"
      }
    },
    {
      "cell_type": "markdown",
      "source": [
        "Matrice de confusion tel que proposé"
      ],
      "metadata": {
        "id": "jYcHmtUbHbZq"
      }
    },
    {
      "cell_type": "code",
      "source": [
        "from sklearn.metrics import confusion_matrix, ConfusionMatrixDisplay\n",
        "\n",
        "# Prédiction sur l'ensemble des données pour évaluer globalement le modèle\n",
        "y_pred = model.predict(X)\n",
        "\n",
        "# Création de la matrice de confusion\n",
        "cm = confusion_matrix(y, y_pred)\n",
        "disp = ConfusionMatrixDisplay(confusion_matrix=cm, display_labels=[\"Non Admis\", \"Admis\"])\n",
        "\n",
        "# Affichage\n",
        "plt.figure(figsize=(6,4))\n",
        "disp.plot(cmap=\"Blues\")\n",
        "plt.title(\"Matrice de Confusion\")\n",
        "plt.show()\n",
        "# Interprétation : la diagonale montre les prédictions correctes. Un bon modèle a peu d'erreurs hors diagonale."
      ],
      "metadata": {
        "colab": {
          "base_uri": "https://localhost:8080/",
          "height": 489
        },
        "id": "wSpYT5iSHcCq",
        "outputId": "50264b40-6aa7-4370-b1d1-9fcfceb3af96"
      },
      "execution_count": 244,
      "outputs": [
        {
          "output_type": "display_data",
          "data": {
            "text/plain": [
              "<Figure size 600x400 with 0 Axes>"
            ]
          },
          "metadata": {}
        },
        {
          "output_type": "display_data",
          "data": {
            "text/plain": [
              "<Figure size 640x480 with 2 Axes>"
            ],
            "image/png": "[encoded data removed]"
          },
          "metadata": {}
        }
      ]
    },
    {
      "cell_type": "markdown",
      "source": [
        "Analyse rapide de la **matrice de confusion** :\n",
        "\n",
        "* **Vrais positifs (Admis bien prédits)** : 54\n",
        "* **Vrais négatifs (Non Admis bien prédits)** : 35\n",
        "* **Faux positifs (Non Admis prédits Admis)** : 5\n",
        "* **Faux négatifs (Admis prédits Non Admis)** : 6\n",
        "\n",
        "### Interprétation :\n",
        "\n",
        "* Le modèle **fait très peu d’erreurs** : seulement 11 sur 100.\n",
        "* Légère tendance à **sous-classer certains admis** (6 faux négatifs), mais pas dramatique.\n",
        "* La performance est **équilibrée**, sans biais fort vers une classe.\n",
        "\n",
        "👉 Le modèle est **fiable**, bien calibré pour ce problème de classification binaire.\n"
      ],
      "metadata": {
        "id": "2XbXzWEeHoER"
      }
    },
    {
      "cell_type": "markdown",
      "source": [
        "Synthèse globale de l’exercice"
      ],
      "metadata": {
        "id": "OfTEVQwcHrbC"
      }
    },
    {
      "cell_type": "markdown",
      "source": [
        "1. Qualité des données\n",
        "Jeu de données propre et complet : 100 lignes, 3 colonnes (2 scores + 1 cible).\n",
        "Pas de valeurs manquantes, pas de duplication, données bien formatées.\n",
        "Distribution équilibrée (60 % admis, 40 % non admis).\n",
        "Bonne dispersion des scores → idéal pour l’apprentissage supervisé.\n"
      ],
      "metadata": {
        "id": "4gTkXqwyH8n3"
      }
    },
    {
      "cell_type": "markdown",
      "source": [
        "2. Exploration et visualisation\n",
        "Les deux scores (Exam1, Exam2) ont un impact visuel clair sur l’admission.\n",
        "Les étudiants admis se concentrent dans la zone des hauts scores dans les deux examens.\n",
        "Pas de séparation parfaite, mais une tendance nette observable → modèle linéaire pertinent."
      ],
      "metadata": {
        "id": "BanxCk6HIN-O"
      }
    },
    {
      "cell_type": "markdown",
      "source": [
        "3. Modélisation\n",
        "Modèle utilisé : régression logistique (adaptée à la classification binaire).\n",
        "Coefficients appris positifs et équilibrés pour les deux scores → impact similaire.\n",
        "Le modèle a bien convergé, sans surapprentissage."
      ],
      "metadata": {
        "id": "siUaGKEHIPGz"
      }
    },
    {
      "cell_type": "markdown",
      "source": [
        "4. Évaluation\n",
        "Accuracy : 89 % → très bon taux de prédiction correcte.\n",
        "\n",
        "Matrice de confusion :\n",
        "\n",
        "54 admis correctement prédits, 35 non admis bien prédits.\n",
        "Seulement 11 erreurs : 6 faux négatifs, 5 faux positifs.\n",
        "Visualisation de la frontière de décision :\n",
        "\n",
        "Cohérente avec la logique du modèle.\n",
        "Les erreurs sont proches de la frontière → attendues.\n"
      ],
      "metadata": {
        "id": "9Btl0YsOIW47"
      }
    },
    {
      "cell_type": "markdown",
      "source": [
        "5. Interprétation et limites\n",
        "Le modèle capte bien la logique : plus les scores sont élevés, plus la proba d’admission augmente.\n",
        "\n",
        "Les erreurs proviennent de cas limites où un seul score est bon.\n",
        "\n",
        "Limite principale :\n",
        "\n",
        "Le modèle ne tient compte que de 2 variables. Or, dans la réalité, d'autres facteurs influencent l’admission (lettres de motivation, entretiens, etc.)."
      ],
      "metadata": {
        "id": "iDzYI0mXIY_g"
      }
    },
    {
      "cell_type": "markdown",
      "source": [
        "Conclusion\n",
        "Le modèle est simple, efficace et interprétable. Il donne une bonne performance (89 %) sur un jeu de données propre et bien structuré. Il est recommandé pour des cas pédagogiques ou des premières analyses exploratoires, mais pas suffisant seul pour des décisions réelles sans données complémentaires."
      ],
      "metadata": {
        "id": "rICIfyDPIoSY"
      }
    }
  ]
}