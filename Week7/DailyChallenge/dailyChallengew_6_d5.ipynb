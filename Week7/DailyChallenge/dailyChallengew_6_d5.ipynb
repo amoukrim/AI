{
  "nbformat": 4,
  "nbformat_minor": 0,
  "metadata": {
    "colab": {
      "provenance": [],
      "gpuType": "T4",
      "authorship_tag": "ABX9TyMaRs1Ez0dv/iCE2p37Xwp4",
      "include_colab_link": true
    },
    "kernelspec": {
      "name": "python3",
      "display_name": "Python 3"
    },
    "language_info": {
      "name": "python"
    },
    "accelerator": "GPU"
  },
  "cells": [
    {
      "cell_type": "markdown",
      "metadata": {
        "id": "view-in-github",
        "colab_type": "text"
      },
      "source": [
        "<a href=\"https://colab.research.google.com/github/amoukrim/AI/blob/main/Week7/DailyChallenge/dailyChallengew_6_d5.ipynb\" target=\"_parent\"><img src=\"https://colab.research.google.com/assets/colab-badge.svg\" alt=\"Open In Colab\"/></a>"
      ]
    },
    {
      "cell_type": "markdown",
      "source": [
        "@Author : ADil MOUKRIM\n",
        "#Text summarization using NLP\n",
        "Last Updated: April 8th, 2025\n",
        "\n",
        "Daily Challenge : Text summarization using NLP\n",
        "\n",
        "\n",
        "Introduction\n",
        "This notebook demonstrates a practical application of Natural Language Processing (NLP) techniques to automatically generate summaries of text documents. We will explore how to preprocess text data, represent words and sentences as vectors, and leverage graph-based algorithms to identify the most important sentences for summarization.\n",
        "\n",
        "\n",
        "\n",
        "👩‍🏫 👩🏿‍🏫 What You’ll learn\n",
        "Text Preprocessing: Techniques for cleaning and preparing text data, including tokenization, stop word removal, and converting text to lowercase.\n",
        "Word Embeddings: Understanding and using pre-trained word embeddings like GloVe to represent words as dense vectors.\n",
        "Sentence Vectorization: Creating vector representations of sentences by aggregating word embeddings.\n",
        "Similarity Measures: Using cosine similarity to determine the semantic similarity between sentences.\n",
        "Graph-Based Summarization: Applying the PageRank algorithm on a graph of sentence similarities to rank sentence importance.\n",
        "Text Summarization Implementation: Combining these techniques to build a text summarization system.\n",
        "\n",
        "\n",
        "🛠️ What you will create\n",
        "You will create an automatic text summarization system that can take a collection of tennis articles as input and generate a concise summary highlighting the key information.\n",
        "\n",
        "\n",
        "\n",
        "Task\n",
        "1. Data Loading and Inspection\n",
        "\n",
        "Load the tennis articles dataset from the .xls file using pandas.\n",
        "Explore the dataset using .head() and .info() to understand its structure.\n",
        "Drop the article_title column to simplify the dataset.\n",
        "2. Sentence Tokenization\n",
        "\n",
        "Use nltk.sent_tokenize() to split the article_text into individual sentences.\n",
        "Flatten the resulting list of sentence lists into a single list of all sentences.\n",
        "3. Download and Load GloVe Word Embeddings\n",
        "\n",
        "Download the pre-trained GloVe vectors (e.g., glove.6B.100d.txt).\n",
        "Load the embeddings into a Python dictionary where each word maps to its 100-dimensional vector.\n",
        "4. Text Cleaning and Normalization\n",
        "\n",
        "Remove punctuation, special characters, and numbers using regex.\n",
        "Convert all sentences to lowercase to avoid case-sensitive mismatch.\n",
        "Remove stop words using nltk.corpus.stopwords to reduce noise in the data.\n",
        "5. Sentence Vectorization\n",
        "\n",
        "For each cleaned sentence:\n",
        "Split into words.\n",
        "Replace each word with its GloVe vector (use a zero-vector if the word is not in the embedding).\n",
        "Compute the average of all word vectors in the sentence.\n",
        "Store all resulting sentence vectors in a list.\n",
        "6. Similarity Matrix Construction\n",
        "\n",
        "Initialize an empty matrix of size (number of sentences × number of sentences).\n",
        "Compute pairwise cosine similarity between sentence vectors.\n",
        "Fill in the matrix such that each cell represents the similarity between two sentences.\n",
        "7. Graph Construction and Sentence Ranking\n",
        "\n",
        "Convert the similarity matrix into a graph using networkx.\n",
        "Apply the PageRank algorithm to score the importance of each sentence.\n",
        "8. Summarization\n",
        "\n",
        "Sort all sentences based on their PageRank scores in descending order.\n",
        "Extract the top N sentences (e.g., 10) as the final summary.\n",
        "Print or return the summarized sentences."
      ],
      "metadata": {
        "id": "9OZeqO8DbkDy"
      }
    },
    {
      "cell_type": "markdown",
      "source": [
        "#Étape 1 : Chargement et inspection des données"
      ],
      "metadata": {
        "id": "iHTFDcxBbfsx"
      }
    },
    {
      "cell_type": "code",
      "execution_count": 12,
      "metadata": {
        "colab": {
          "base_uri": "https://localhost:8080/"
        },
        "id": "YZ7z70T4bbvA",
        "outputId": "b645cc53-6c4d-4981-bd36-e69c46c83517"
      },
      "outputs": [
        {
          "output_type": "stream",
          "name": "stdout",
          "text": [
            "✅ Fichier chargé avec succès (encoding='latin-1')\n",
            "\n",
            "=== APERCU DES PREMIÈRES LIGNES ===\n",
            "   article_id                                      article_title  \\\n",
            "0           1  I do not have friends in tennis, says Maria Sh...   \n",
            "1           2  Federer defeats Medvedev to advance to 14th Sw...   \n",
            "2           3  Tennis: Roger Federer ignored deadline set by ...   \n",
            "3           4  Nishikori to face off against Anderson in Vien...   \n",
            "4           5  Roger Federer has made this huge change to ten...   \n",
            "\n",
            "                                        article_text  \\\n",
            "0  Maria Sharapova has basically no friends as te...   \n",
            "1  BASEL, Switzerland (AP)  Roger Federer advanc...   \n",
            "2  Roger Federer has revealed that organisers of ...   \n",
            "3  Kei Nishikori will try to end his long losing ...   \n",
            "4  Federer, 37, first broke through on tour over ...   \n",
            "\n",
            "                                              source  \n",
            "0  https://www.tennisworldusa.org/tennis/news/Mar...  \n",
            "1  http://www.tennis.com/pro-game/2018/10/copil-s...  \n",
            "2  https://scroll.in/field/899938/tennis-roger-fe...  \n",
            "3  http://www.tennis.com/pro-game/2018/10/nishiko...  \n",
            "4  https://www.express.co.uk/sport/tennis/1036101...  \n",
            "\n",
            "=== INFORMATIONS SUR LE DATASET ===\n",
            "<class 'pandas.core.frame.DataFrame'>\n",
            "RangeIndex: 8 entries, 0 to 7\n",
            "Data columns (total 4 columns):\n",
            " #   Column         Non-Null Count  Dtype \n",
            "---  ------         --------------  ----- \n",
            " 0   article_id     8 non-null      int64 \n",
            " 1   article_title  8 non-null      object\n",
            " 2   article_text   8 non-null      object\n",
            " 3   source         8 non-null      object\n",
            "dtypes: int64(1), object(3)\n",
            "memory usage: 388.0+ bytes\n",
            "None\n"
          ]
        }
      ],
      "source": [
        "# Import des bibliothèques nécessaires\n",
        "import pandas as pd\n",
        "import numpy as np\n",
        "\n",
        "# Étape 1 : Chargement du dataset avec encodage approprié\n",
        "# Tentative avec Latin-1 qui couvre la plupart des caractères européens\n",
        "try:\n",
        "    df = pd.read_csv('/content/tennis_articles.csv', encoding='latin-1')\n",
        "    print(\"✅ Fichier chargé avec succès (encoding='latin-1')\")\n",
        "except Exception as e:\n",
        "    # Si Latin-1 échoue, tentative avec Windows-1252\n",
        "    print(f\"⚠️ Erreur avec latin-1 : {str(e)[:50]}...\")\n",
        "    try:\n",
        "        df = pd.read_csv('/content/tennis_articles.csv', encoding='cp1252')\n",
        "        print(\"✅ Fichier chargé avec succès (encoding='cp1252')\")\n",
        "    except Exception as e2:\n",
        "        # Dernière tentative avec UTF-8 et gestion des erreurs\n",
        "        print(f\"⚠️ Erreur avec cp1252 : {str(e2)[:50]}...\")\n",
        "        df = pd.read_csv('/content/tennis_articles.csv', encoding='utf-8', errors='ignore')\n",
        "        print(\"✅ Fichier chargé avec gestion des erreurs d'encodage\")\n",
        "\n",
        "# Exploration initiale du dataset\n",
        "print(\"\\n=== APERCU DES PREMIÈRES LIGNES ===\")\n",
        "print(df.head())\n",
        "\n",
        "print(\"\\n=== INFORMATIONS SUR LE DATASET ===\")\n",
        "print(df.info())\n",
        "\n",
        "\n",
        "\n"
      ]
    },
    {
      "cell_type": "code",
      "source": [
        "# Simplification du dataset\n",
        "\n",
        "df = df.drop(columns=['article_title'])\n",
        "print(\"\\n✅ Colonne 'article_title' supprimée\")\n",
        "print(f\"\\n📊 Le dataset contient maintenant {len(df)} articles\")"
      ],
      "metadata": {
        "colab": {
          "base_uri": "https://localhost:8080/"
        },
        "id": "0W3JksLjdyAy",
        "outputId": "0b325aa6-806b-4022-e639-108d44e00914"
      },
      "execution_count": 13,
      "outputs": [
        {
          "output_type": "stream",
          "name": "stdout",
          "text": [
            "\n",
            "✅ Colonne 'article_title' supprimée\n",
            "\n",
            "📊 Le dataset contient maintenant 8 articles\n"
          ]
        }
      ]
    },
    {
      "cell_type": "markdown",
      "source": [
        "#Étape 2 : Tokenisation des phrases\n",
        "L'Objectif est de découper tous les articles en phrases individuelles pour préparer l'analyse."
      ],
      "metadata": {
        "id": "Y9Nok5ZGeUFC"
      }
    },
    {
      "cell_type": "markdown",
      "source": [
        "Cette solution est une alternative à la solustion NLTK qui se charge pas"
      ],
      "metadata": {
        "id": "eiFt4YzBfytr"
      }
    },
    {
      "cell_type": "code",
      "source": [
        "# Méthode 100% Python sans NLTK (fallback)\n",
        "import re\n",
        "\n",
        "def simple_sentence_split(text):\n",
        "    \"\"\"Découpage simple des phrases en utilisant la ponctuation\"\"\"\n",
        "    # Expression régulière pour identifier les fins de phrases\n",
        "    sentence_endings = re.compile(r'(?<=[.!?])\\s+')\n",
        "    sentences = sentence_endings.split(text)\n",
        "    return [s.strip() for s in sentences if s.strip() and len(s) > 10]\n",
        "\n",
        "# Utilisation de la méthode alternative\n",
        "all_sentences = []\n",
        "for article in df['article_text']:\n",
        "    sentences = simple_sentence_split(article)\n",
        "    all_sentences.extend(sentences)\n",
        "\n",
        "print(\"✅ Tokenisation alternative réussie\")\n",
        "print(f\"Total de phrases: {len(all_sentences)}\")"
      ],
      "metadata": {
        "colab": {
          "base_uri": "https://localhost:8080/"
        },
        "id": "YUNKZKiEeeGp",
        "outputId": "51dc536c-99c1-4c5c-fe23-b415f3c265dd"
      },
      "execution_count": 16,
      "outputs": [
        {
          "output_type": "stream",
          "name": "stdout",
          "text": [
            "✅ Tokenisation alternative réussie\n",
            "Total de phrases: 128\n"
          ]
        }
      ]
    },
    {
      "cell_type": "markdown",
      "source": [
        "# Étape 3 : Téléchargement et chargement des embeddings GloVe\n",
        "L'Objectif est d'obtenir des vecteurs de mots pré-entraînés (100 dimensions) pour représenter sémantiquement chaque mot."
      ],
      "metadata": {
        "id": "vCzWWThlgU9h"
      }
    },
    {
      "cell_type": "code",
      "source": [
        "import os\n",
        "import urllib.request\n",
        "import zipfile\n",
        "\n",
        "# Étape 3 : Téléchargement des embeddings GloVe\n",
        "# Les embeddings GloVe sont des vecteurs de mots pré-entraînés sur des corpus massifs\n",
        "\n",
        "print(\"📥 Téléchargement des embeddings GloVe...\")\n",
        "\n",
        "# URL officielle de Stanford pour GloVe 6B (100d)\n",
        "glove_url = \"http://nlp.stanford.edu/data/glove.6B.zip\"\n",
        "glove_zip_path = \"/content/glove.6B.zip\"\n",
        "glove_extract_path = \"/content/glove_embeddings\"\n",
        "\n",
        "# Téléchargement si non déjà présent\n",
        "if not os.path.exists(glove_extract_path):\n",
        "    # Création du dossier\n",
        "    os.makedirs(glove_extract_path, exist_ok=True)\n",
        "\n",
        "    # Téléchargement du fichier zip (environ 862MB)\n",
        "    print(\"⏳ Téléchargement du fichier GloVe (peut prendre 1-2 minutes)...\")\n",
        "    urllib.request.urlretrieve(glove_url, glove_zip_path)\n",
        "\n",
        "    # Extraction des fichiers\n",
        "    print(\"📦 Extraction des fichiers...\")\n",
        "    with zipfile.ZipFile(glove_zip_path, 'r') as zip_ref:\n",
        "        zip_ref.extractall(glove_extract_path)\n",
        "\n",
        "    # Nettoyage : suppression du zip\n",
        "    os.remove(glove_zip_path)\n",
        "    print(\"✅ Téléchargement et extraction terminés!\")\n",
        "\n",
        "# Chargement des embeddings dans un dictionnaire\n",
        "# Nous utilisons glove.6B.100d.txt pour avoir 100 dimensions par mot\n",
        "glove_file = os.path.join(glove_extract_path, \"glove.6B.100d.txt\")\n",
        "word_embeddings = {}\n",
        "\n",
        "print(\" Chargement des embeddings dans la mémoire...\")\n",
        "with open(glove_file, encoding='utf-8') as f:\n",
        "    # Chaque ligne contient : mot + 100 valeurs numériques\n",
        "    for line in f:\n",
        "        values = line.split()\n",
        "        word = values[0]  # Premier élément = le mot\n",
        "        vector = np.asarray(values[1:], dtype='float32')  # 100 dimensions\n",
        "        word_embeddings[word] = vector\n",
        "\n",
        "# Vérification du chargement\n",
        "print(f\" Chargement terminé! {len(word_embeddings)} mots chargés\")\n",
        "print(f\" Dimensions des vecteurs: {len(next(iter(word_embeddings.values())))}\")\n",
        "\n",
        "# Test rapide avec quelques mots de tennis\n",
        "test_words = ['tennis', 'federer', 'sharapova', 'match']\n",
        "print(\"\\n=== TEST DES EMBEDDINGS ===\")\n",
        "for word in test_words:\n",
        "    if word in word_embeddings:\n",
        "        print(f\"✅ '{word}' trouvé - Extrait du vecteur: {word_embeddings[word][:5]}...\")\n",
        "    else:\n",
        "        print(f\"❌ '{word}' non trouvé dans les embeddings\")"
      ],
      "metadata": {
        "colab": {
          "base_uri": "https://localhost:8080/"
        },
        "id": "VILpdZPhgeqx",
        "outputId": "7483ef57-f3e7-4142-f4a1-7cdf43570990"
      },
      "execution_count": 17,
      "outputs": [
        {
          "output_type": "stream",
          "name": "stdout",
          "text": [
            "📥 Téléchargement des embeddings GloVe...\n",
            "⏳ Téléchargement du fichier GloVe (peut prendre 1-2 minutes)...\n",
            "📦 Extraction des fichiers...\n",
            "✅ Téléchargement et extraction terminés!\n",
            "📚 Chargement des embeddings dans la mémoire...\n",
            "✅ Chargement terminé! 400000 mots chargés\n",
            "📏 Dimensions des vecteurs: 100\n",
            "\n",
            "=== TEST DES EMBEDDINGS ===\n",
            "✅ 'tennis' trouvé - Extrait du vecteur: [ 0.21508  0.61981  0.84039  0.71394 -0.29904]...\n",
            "✅ 'federer' trouvé - Extrait du vecteur: [ 0.22673  -0.048534  0.64561   0.69949   0.57822 ]...\n",
            "✅ 'sharapova' trouvé - Extrait du vecteur: [0.12194 0.26347 1.2314  0.90343 0.03207]...\n",
            "✅ 'match' trouvé - Extrait du vecteur: [-0.27317   0.024643  0.60197   0.10075  -0.91521 ]...\n"
          ]
        }
      ]
    },
    {
      "cell_type": "markdown",
      "source": [
        "#Étape 4 : Nettoyage et normalisation du texte\n",
        "L'Objectif est de préparer les phrases pour la vectorisation en éliminant le bruit (ponctuation, stop words, etc.)."
      ],
      "metadata": {
        "id": "7XWEguxMiPrS"
      }
    },
    {
      "cell_type": "code",
      "source": [
        "# Import des bibliothèques nécessaires\n",
        "import re\n",
        "import nltk\n",
        "from nltk.corpus import stopwords\n",
        "\n",
        "# Téléchargement des stopwords\n",
        "try:\n",
        "    nltk.data.find('corpora/stopwords')\n",
        "except LookupError:\n",
        "    nltk.download('stopwords')\n",
        "\n",
        "#  Nettoyage et normalisation du texte\n",
        "print(\" Début du nettoyage et de la normalisation...\")\n",
        "\n",
        "# Récupération de la liste des stopwords anglais\n",
        "stop_words = set(stopwords.words('english'))\n",
        "print(f\"📋 {len(stop_words)} stopwords chargés (ex: {list(stop_words)[:10]})\")\n",
        "\n",
        "# Fonction de nettoyage complète\n",
        "def clean_sentence(sentence):\n",
        "    \"\"\"\n",
        "    Nettoie une phrase en appliquant plusieurs étapes :\n",
        "    1. Conversion en minuscules\n",
        "    2. Suppression des caractères spéciaux et chiffres\n",
        "    3. Suppression des stopwords\n",
        "    4. Suppression des espaces multiples\n",
        "    \"\"\"\n",
        "\n",
        "    # 1. Conversion en minuscules\n",
        "    sentence = sentence.lower()\n",
        "\n",
        "    # 2. Suppression des caractères spéciaux et chiffres\n",
        "    # Garde uniquement les lettres et les espaces\n",
        "    sentence = re.sub(r'[^a-zA-Z\\s]', '', sentence)\n",
        "\n",
        "    # 3. Tokenisation en mots\n",
        "    words = sentence.split()\n",
        "\n",
        "    # 4. Suppression des stopwords et mots trop courts (< 2 lettres)\n",
        "    cleaned_words = [word for word in words\n",
        "                    if word not in stop_words and len(word) > 2]\n",
        "\n",
        "    # 5. Reconstruction de la phrase\n",
        "    cleaned_sentence = ' '.join(cleaned_words)\n",
        "\n",
        "    return cleaned_sentence\n",
        "\n",
        "# Application du nettoyage à toutes les phrases\n",
        "print(\"\\n Nettoyage des phrases en cours...\")\n",
        "cleaned_sentences = []\n",
        "\n",
        "for idx, sentence in enumerate(all_sentences):\n",
        "    cleaned = clean_sentence(sentence)\n",
        "    if cleaned:  # Garde uniquement les phrases non vides\n",
        "        cleaned_sentences.append(cleaned)\n",
        "\n",
        "    # Affichage du progrès pour les premières phrases\n",
        "    if idx < 3:\n",
        "        print(f\"\\n Phrase originale {idx+1}:\")\n",
        "        print(f\"   {sentence[:100]}...\")\n",
        "        print(f\" Après nettoyage:\")\n",
        "        print(f\"   {cleaned}\")\n",
        "\n",
        "# Statistiques post-nettoyage\n",
        "print(\"\\n=== RÉSUMÉ DU NETTOYAGE ===\")\n",
        "print(f\" Phrases avant nettoyage: {len(all_sentences)}\")\n",
        "print(f\" Phrases après nettoyage: {len(cleaned_sentences)}\")\n",
        "print(f\" Phrases éliminées: {len(all_sentences) - len(cleaned_sentences)}\")\n",
        "\n",
        "# Aperçu des premières phrases nettoyées\n",
        "print(\"\\n=== APERCU DES PHRASES NETTOYÉES ===\")\n",
        "for i, sentence in enumerate(cleaned_sentences[:5]):\n",
        "    print(f\"{i+1}. {sentence}\")\n",
        "\n",
        "# Vérification du vocabulaire couvert par GloVe\n",
        "print(\"\\n=== VÉRIFICATION DU VOCABULAIRE ===\")\n",
        "all_words = ' '.join(cleaned_sentences).split()\n",
        "unique_words = set(all_words)\n",
        "found_words = [word for word in unique_words if word in word_embeddings]\n",
        "coverage = len(found_words) / len(unique_words) * 100\n",
        "\n",
        "print(f\" Mots uniques trouvés: {len(found_words)}/{len(unique_words)}\")\n",
        "print(f\"Couverture GloVe: {coverage:.1f}%\")"
      ],
      "metadata": {
        "colab": {
          "base_uri": "https://localhost:8080/"
        },
        "id": "zSOQ5FCGicu6",
        "outputId": "0b5162be-ae72-4362-c8a1-0dc1bb21b369"
      },
      "execution_count": 19,
      "outputs": [
        {
          "output_type": "stream",
          "name": "stdout",
          "text": [
            " Début du nettoyage et de la normalisation...\n",
            "📋 198 stopwords chargés (ex: [\"you've\", 'isn', 'from', \"doesn't\", 'into', 'after', 'here', \"don't\", 'will', \"mustn't\"])\n",
            "\n",
            " Nettoyage des phrases en cours...\n",
            "\n",
            " Phrase originale 1:\n",
            "   Maria Sharapova has basically no friends as tennis players on the WTA Tour....\n",
            " Après nettoyage:\n",
            "   maria sharapova basically friends tennis players wta tour\n",
            "\n",
            " Phrase originale 2:\n",
            "   The Russian player has no problems in openly speaking about it and in a recent interview she said: '...\n",
            " Après nettoyage:\n",
            "   russian player problems openly speaking recent interview said dont really hide feelings much\n",
            "\n",
            " Phrase originale 3:\n",
            "   I think everyone knows this is my job here....\n",
            " Après nettoyage:\n",
            "   think everyone knows job\n",
            "\n",
            "=== RÉSUMÉ DU NETTOYAGE ===\n",
            " Phrases avant nettoyage: 128\n",
            " Phrases après nettoyage: 127\n",
            " Phrases éliminées: 1\n",
            "\n",
            "=== APERCU DES PHRASES NETTOYÉES ===\n",
            "1. maria sharapova basically friends tennis players wta tour\n",
            "2. russian player problems openly speaking recent interview said dont really hide feelings much\n",
            "3. think everyone knows job\n",
            "4. courts court playing competitor want beat every single person whether theyre locker room across net\n",
            "5. one strike conversation weather know next minutes try win tennis match\n",
            "\n",
            "=== VÉRIFICATION DU VOCABULAIRE ===\n",
            " Mots uniques trouvés: 821/872\n",
            "Couverture GloVe: 94.2%\n"
          ]
        }
      ]
    },
    {
      "cell_type": "markdown",
      "source": [
        "#Étape 5 : Vectorisation des phrases\n",
        "L'objectif est de Convertir chaque phrase nettoyée en un vecteur numérique en utilisant les moyennes des embeddings GloVe."
      ],
      "metadata": {
        "id": "WMsTP3bsjLQr"
      }
    },
    {
      "cell_type": "code",
      "source": [
        "\n",
        "print(\" Vectorisation des phrases\")\n",
        "\n",
        "def sentence_to_vector(sentence, embeddings):\n",
        "    \"\"\"\n",
        "    Convertit une phrase en vecteur en moyennant les embeddings de ses mots.\n",
        "\n",
        "    Args:\n",
        "        sentence (str): Phrase nettoyée\n",
        "        embeddings (dict): Dictionnaire des embeddings GloVe\n",
        "\n",
        "    Returns:\n",
        "        np.array: Vecteur de 100 dimensions, ou vecteur nul si aucun mot trouvé\n",
        "    \"\"\"\n",
        "    words = sentence.split()\n",
        "    word_vectors = []\n",
        "\n",
        "    for word in words:\n",
        "        if word in embeddings:\n",
        "            word_vectors.append(embeddings[word])\n",
        "\n",
        "    if len(word_vectors) == 0:\n",
        "        # Retourne un vecteur nul si aucun mot n'est trouvé\n",
        "        return np.zeros(100)\n",
        "\n",
        "    # Moyenne des vecteurs de mots\n",
        "    sentence_vector = np.mean(word_vectors, axis=0)\n",
        "    return sentence_vector\n",
        "\n",
        "# Application de la vectorisation\n",
        "sentence_vectors = []\n",
        "\n",
        "for idx, sentence in enumerate(cleaned_sentences):\n",
        "    vector = sentence_to_vector(sentence, word_embeddings)\n",
        "    sentence_vectors.append(vector)\n",
        "\n",
        "    # Affichage pour les premières phrases\n",
        "    if idx < 3:\n",
        "        print(f\"\\n Phrase {idx+1}: {sentence}\")\n",
        "        print(f\" Vecteur (5 premières dimensions): {vector[:5]}...\")\n",
        "        print(f\" Norme du vecteur: {np.linalg.norm(vector):.3f}\")\n",
        "\n",
        "# Conversion en array numpy pour des calculs plus efficaces\n",
        "sentence_vectors = np.array(sentence_vectors)\n",
        "\n",
        "# Vérification finale\n",
        "print(\"\\n=== RÉSUMÉ DE LA VECTORISATION ===\")\n",
        "print(f\"Nombre de phrases vectorisées: {len(sentence_vectors)}\")\n",
        "print(f\"Dimensions des vecteurs: {sentence_vectors.shape[1]}\")\n",
        "print(f\"Forme de la matrice: {sentence_vectors.shape}\")\n",
        "\n",
        "# Statistiques sur les vecteurs\n",
        "zero_vectors = np.sum(np.all(sentence_vectors == 0, axis=1))\n",
        "print(f\"Phrases sans vecteurs (mots non trouvés): {zero_vectors}\")\n",
        "\n",
        "# Visualisation de la distribution des normes\n",
        "norms = [np.linalg.norm(vec) for vec in sentence_vectors if not np.all(vec == 0)]\n",
        "if norms:\n",
        "    print(f\"Norme moyenne des vecteurs: {np.mean(norms):.3f}\")\n",
        "    print(f\"Norme min/maxe: {np.min(norms):.3f} / {np.max(norms):.3f}\")"
      ],
      "metadata": {
        "colab": {
          "base_uri": "https://localhost:8080/"
        },
        "id": "1zc78EhtjVla",
        "outputId": "bb47470c-a6cf-493c-ffef-292f3bdb40d2"
      },
      "execution_count": 20,
      "outputs": [
        {
          "output_type": "stream",
          "name": "stdout",
          "text": [
            " Vectorisation des phrases\n",
            "\n",
            " Phrase 1: maria sharapova basically friends tennis players wta tour\n",
            " Vecteur (5 premières dimensions): [ 0.051489    0.1105585   0.6950863   0.18919174 -0.09581975]...\n",
            " Norme du vecteur: 3.802\n",
            "\n",
            " Phrase 2: russian player problems openly speaking recent interview said dont really hide feelings much\n",
            " Vecteur (5 premières dimensions): [-0.07791846  0.19516078  0.41307408 -0.09757367 -0.26040584]...\n",
            " Norme du vecteur: 3.647\n",
            "\n",
            " Phrase 3: think everyone knows job\n",
            " Vecteur (5 premières dimensions): [ 0.14818695  0.4246085   0.660479   -0.5043     -0.5471025 ]...\n",
            " Norme du vecteur: 4.765\n",
            "\n",
            "=== RÉSUMÉ DE LA VECTORISATION ===\n",
            "Nombre de phrases vectorisées: 127\n",
            "Dimensions des vecteurs: 100\n",
            "Forme de la matrice: (127, 100)\n",
            "Phrases sans vecteurs (mots non trouvés): 0\n",
            "Norme moyenne des vecteurs: 3.571\n",
            "Norme min/maxe: 2.236 / 4.765\n"
          ]
        }
      ]
    },
    {
      "cell_type": "markdown",
      "source": [
        "#Étape 6 : Construction de la matrice de similarité\n",
        "\n",
        "l'Objectif est de créer une matrice carrée où chaque cellule représente la similarité cosinus entre deux phrases."
      ],
      "metadata": {
        "id": "Spjq12tEj_Fp"
      }
    },
    {
      "cell_type": "code",
      "source": [
        "from sklearn.metrics.pairwise import cosine_similarity\n",
        "\n",
        "# Étape 6 : Construction de la matrice de similarité\n",
        "print(\"Construction de la matrice de similarité...\")\n",
        "\n",
        "# Calcul de la matrice de similarité cosinus\n",
        "# cosine_similarity retourne une matrice de taille (n_phrases × n_phrases)\n",
        "similarity_matrix = cosine_similarity(sentence_vectors)\n",
        "\n",
        "# Affichage des dimensions\n",
        "print(f\"Dimensions de la matrice: {similarity_matrix.shape}\")\n",
        "print(f\"Type de données: {similarity_matrix.dtype}\")\n",
        "\n",
        "# Vérification des valeurs\n",
        "print(f\"\\n=== STATISTIQUES DE LA MATRICE ===\")\n",
        "print(f\"Similarité min: {similarity_matrix.min():.3f}\")\n",
        "print(f\"Similarité max: {similarity_matrix.max():.3f}\")\n",
        "print(f\"Similarité moyenne: {similarity_matrix.mean():.3f}\")\n",
        "\n",
        "# Affichage d'un échantillon de la matrice\n",
        "print(\"\\n=== APERCU DE LA MATRICE (5×5) ===\")\n",
        "import pandas as pd\n",
        "sample_df = pd.DataFrame(\n",
        "    similarity_matrix[:5, :5],\n",
        "    index=[f\"P{i+1}\" for i in range(5)],\n",
        "    columns=[f\"P{i+1}\" for i in range(5)]\n",
        ")\n",
        "print(sample_df.round(3))\n",
        "\n",
        "# Visualisation de la diagonalité (chaque phrase est parfaitement similaire à elle-même)\n",
        "print(\"\\n=== VÉRIFICATION DIAGONALE ===\")\n",
        "diagonal_values = np.diagonal(similarity_matrix)\n",
        "print(f\"Valeurs diagonales (auto-similarité): {np.unique(diagonal_values)}\")\n",
        "\n",
        "# Identification des paires les plus similaires\n",
        "print(\"\\n=== PHRASES LES PLUS SIMILAIRES ===\")\n",
        "# Masque pour ignorer la diagonale\n",
        "mask = np.eye(similarity_matrix.shape[0], dtype=bool)\n",
        "masked_matrix = similarity_matrix.copy()\n",
        "masked_matrix[mask] = 0  # Met 0 sur la diagonale\n",
        "\n",
        "# Trouver les 3 paires les plus similaires\n",
        "flat_indices = np.argsort(masked_matrix.flatten())[-3:][::-1]\n",
        "for idx in flat_indices:\n",
        "    i, j = np.unravel_index(idx, similarity_matrix.shape)\n",
        "    sim_score = similarity_matrix[i, j]\n",
        "\n",
        "    print(f\"\\nSimilarité: {sim_score:.3f}\")\n",
        "    print(f\"Phrase {i+1}: {cleaned_sentences[i][:80]}...\")\n",
        "    print(f\"Phrase {j+1}: {cleaned_sentences[j][:80]}...\")"
      ],
      "metadata": {
        "colab": {
          "base_uri": "https://localhost:8080/"
        },
        "id": "b0yGRslVkAsJ",
        "outputId": "7afb4933-84ec-4b85-beb3-e51ab2779f0d"
      },
      "execution_count": 21,
      "outputs": [
        {
          "output_type": "stream",
          "name": "stdout",
          "text": [
            "🔗 Construction de la matrice de similarité...\n",
            "📊 Dimensions de la matrice: (127, 127)\n",
            "📈 Type de données: float32\n",
            "\n",
            "=== STATISTIQUES DE LA MATRICE ===\n",
            "📊 Similarité min: 0.070\n",
            "📊 Similarité max: 1.000\n",
            "📊 Similarité moyenne: 0.733\n",
            "\n",
            "=== APERCU DE LA MATRICE (5×5) ===\n",
            "       P1     P2     P3     P4     P5\n",
            "P1  1.000  0.643  0.592  0.702  0.757\n",
            "P2  0.643  1.000  0.856  0.842  0.823\n",
            "P3  0.592  0.856  1.000  0.822  0.783\n",
            "P4  0.702  0.842  0.822  1.000  0.890\n",
            "P5  0.757  0.823  0.783  0.890  1.000\n",
            "\n",
            "=== VÉRIFICATION DIAGONALE ===\n",
            "Valeurs diagonales (auto-similarité): [0.9999996  0.9999997  0.99999976 0.9999998  0.9999999  0.99999994\n",
            " 1.         1.0000001  1.0000002  1.0000004 ]\n",
            "\n",
            "=== PHRASES LES PLUS SIMILAIRES ===\n",
            "\n",
            "Similarité: 0.957\n",
            "Phrase 62: think really nice environment great atmosphere especially veteran players helpin...\n",
            "Phrase 66: always really feel like mid years huge shift attitudes top players friendly givi...\n",
            "\n",
            "Similarité: 0.957\n",
            "Phrase 66: always really feel like mid years huge shift attitudes top players friendly givi...\n",
            "Phrase 62: think really nice environment great atmosphere especially veteran players helpin...\n",
            "\n",
            "Similarité: 0.953\n",
            "Phrase 66: always really feel like mid years huge shift attitudes top players friendly givi...\n",
            "Phrase 9: lot friends away courts said really close lot players something strategic...\n"
          ]
        }
      ]
    },
    {
      "cell_type": "markdown",
      "source": [
        "#Étape 7 : Construction du graphe et application de PageRank"
      ],
      "metadata": {
        "id": "3CmTCdiFktiL"
      }
    },
    {
      "cell_type": "code",
      "source": [
        "import networkx as nx\n",
        "\n",
        "# Étape 7 : Construction du graphe et application de PageRank\n",
        "print(\"Construction du graphe de phrases...\")\n",
        "\n",
        "# Création du graphe dirigé pondéré\n",
        "G = nx.Graph()  # Graphe non-dirigé pour PageRank\n",
        "\n",
        "# Ajout des nœuds (chaque phrase est un nœud)\n",
        "for i in range(len(cleaned_sentences)):\n",
        "    G.add_node(i)\n",
        "\n",
        "# Ajout des arêtes pondérées par similarité\n",
        "# N'utilisons que les similarités > 0.1 pour éviter les connexions faibles\n",
        "threshold = 0.1 # Filtre les connexions faibles pour éviter un graphe trop dense\n",
        "edges_added = 0\n",
        "\n",
        "for i in range(len(cleaned_sentences)):\n",
        "    for j in range(i+1, len(cleaned_sentences)):  # Évite les doublons\n",
        "        if similarity_matrix[i][j] > threshold:\n",
        "            G.add_edge(i, j, weight=similarity_matrix[i][j])\n",
        "            edges_added += 1\n",
        "\n",
        "print(f\" Nœuds dans le graphe: {G.number_of_nodes()}\")\n",
        "print(f\"Arêtes ajoutées: {edges_added}\")\n",
        "\n",
        "# Application de l'algorithme PageRank\n",
        "print(\"\\nCalcul du PageRank...\")\n",
        "pagerank_scores = nx.pagerank(\n",
        "    G,\n",
        "    weight='weight',  # Utilise les poids de similarité\n",
        "    max_iter=100,     # Maximum d'itérations\n",
        "    tol=1e-06         # Tolérance de convergence\n",
        ")\n",
        "\n",
        "# Affichage des scores\n",
        "print(\"\\n=== SCORES PAGERANK (TOP 10) ===\")\n",
        "# Tri par score décroissant\n",
        "sorted_scores = sorted(pagerank_scores.items(), key=lambda x: x[1], reverse=True)\n",
        "\n",
        "for rank, (idx, score) in enumerate(sorted_scores[:10], 1):\n",
        "    print(f\"\\nRang {rank} - Score: {score:.4f}\")\n",
        "    print(f\"Phrase: {cleaned_sentences[idx][:100]}...\")\n",
        "\n",
        "# Distribution des scores\n",
        "print(\"\\n=== DISTRIBUTION DES SCORES ===\")\n",
        "scores = list(pagerank_scores.values())\n",
        "print(f\"Score moyen: {np.mean(scores):.4f}\")\n",
        "print(f\"Score médian: {np.median(scores):.4f}\")\n",
        "print(f\"Score min/max: {min(scores):.4f} / {max(scores):.4f}\")\n",
        "\n",
        "# Visualisation rapide du graphe (optionnel)\n",
        "print(\"\\n=== STRUCTURE DU GRAPHE ===\")\n",
        "print(f\"Nombre de composantes connexes: {nx.number_connected_components(G)}\")\n",
        "print(f\"Densité du graphe: {nx.density(G):.4f}\")"
      ],
      "metadata": {
        "colab": {
          "base_uri": "https://localhost:8080/"
        },
        "id": "KbIntqj8k--a",
        "outputId": "22292ed6-5e6a-4325-eced-05380915d655"
      },
      "execution_count": 25,
      "outputs": [
        {
          "output_type": "stream",
          "name": "stdout",
          "text": [
            "Construction du graphe de phrases...\n",
            " Nœuds dans le graphe: 127\n",
            "Arêtes ajoutées: 8000\n",
            "\n",
            "Calcul du PageRank...\n",
            "\n",
            "=== SCORES PAGERANK (TOP 10) ===\n",
            "\n",
            "Rang 1 - Score: 0.0088\n",
            "Phrase: nice trajectorythen reid recalledif hadnt got sick think could started pushing towards second week s...\n",
            "\n",
            "Rang 2 - Score: 0.0087\n",
            "Phrase: major players feel big event late november combined one january australian open mean much tennis lit...\n",
            "\n",
            "Rang 3 - Score: 0.0087\n",
            "Phrase: one strike conversation weather know next minutes try win tennis match...\n",
            "\n",
            "Rang 4 - Score: 0.0087\n",
            "Phrase: felt like best weeks get know players playing fed cup weeks olympic weeks necessarily tournaments...\n",
            "\n",
            "Rang 5 - Score: 0.0086\n",
            "Phrase: speaking swiss indoors tournament play sundays final romanian qualifier marius copil world number th...\n",
            "\n",
            "Rang 6 - Score: 0.0086\n",
            "Phrase: felt like really kind changed people little bit definitely lot quiet started become better meanwhile...\n",
            "\n",
            "Rang 7 - Score: 0.0086\n",
            "Phrase: exhausted spending half round deep bushes searching ball well two golfers hed never met incredibly g...\n",
            "\n",
            "Rang 8 - Score: 0.0086\n",
            "Phrase: used first break point close first set going second wrapping win first match point...\n",
            "\n",
            "Rang 9 - Score: 0.0086\n",
            "Phrase: federer said earlier month shanghai chances playing davis cup nonexistent...\n",
            "\n",
            "Rang 10 - Score: 0.0085\n",
            "Phrase: federer easier time previous match medvedev threesetter shanghai two weeks ago...\n",
            "\n",
            "=== DISTRIBUTION DES SCORES ===\n",
            "Score moyen: 0.0079\n",
            "Score médian: 0.0080\n",
            "Score min/max: 0.0053 / 0.0088\n",
            "\n",
            "=== STRUCTURE DU GRAPHE ===\n",
            "Nombre de composantes connexes: 1\n",
            "Densité du graphe: 0.9999\n"
          ]
        }
      ]
    },
    {
      "cell_type": "markdown",
      "source": [
        "# Étape 8 : Résumé final\n",
        "\n",
        "L'Objectif est d'extraire les phrases les plus importantes selon PageRank pour créer un résumé cohérent."
      ],
      "metadata": {
        "id": "7El0ix0qmBXj"
      }
    },
    {
      "cell_type": "code",
      "source": [
        "# Résumé final\n",
        "\n",
        "\n",
        "# Paramètres du résumé\n",
        "NUM_SENTENCES_SUMMARY = 5  # Nombre de phrases dans le résumé\n",
        "\n",
        "# Récupération des phrases originales (non nettoyées) pour le résumé\n",
        "# Important : on utilise les phrases originales pour garder la lisibilité\n",
        "original_sentences = [s for s in all_sentences if s.strip()]\n",
        "\n",
        "# Création du mapping entre indices de phrases nettoyées et originales\n",
        "# (Dans notre cas, cleaned_sentences et original_sentences correspondent)\n",
        "phrase_mapping = {i: i for i in range(len(original_sentences))}\n",
        "\n",
        "# Récupération des meilleures phrases\n",
        "top_indices = [idx for idx, score in sorted_scores[:NUM_SENTENCES_SUMMARY]]\n",
        "\n",
        "# Tri par ordre d'apparition dans les articles originaux\n",
        "# (Pour garder la cohérence narrative)\n",
        "top_indices_sorted = sorted(top_indices)\n",
        "\n",
        "# Construction du résumé\n",
        "summary_sentences = [original_sentences[idx] for idx in top_indices_sorted]\n",
        "\n",
        "# Affichage du résumé\n",
        "print(\"\\n\" + \"=\"*60)\n",
        "print(\"RÉSUMÉ\")\n",
        "print(\"=\"*60)\n",
        "\n",
        "for i, sentence in enumerate(summary_sentences, 1):\n",
        "    # Nettoyage de l'affichage (suppression des espaces multiples)\n",
        "    clean_display = ' '.join(sentence.split())\n",
        "    print(f\"\\n{i}. {clean_display}\")\n",
        "\n",
        "# Statistiques du résumé\n",
        "print(\"\\n\" + \"=\"*60)\n",
        "print(\"STATISTIQUES DU RÉSUMÉ\")\n",
        "print(\"=\"*60)\n",
        "print(f\"📄 Nombre de phrases: {len(summary_sentences)}\")\n",
        "print(f\"📊 Score moyen PageRank des phrases sélectionnées: {np.mean([pagerank_scores[idx] for idx in top_indices]):.4f}\")\n",
        "print(f\"📏 Longueur moyenne des phrases: {np.mean([len(s.split()) for s in summary_sentences]):.1f} mots\")\n",
        "\n",
        "# Calcul du taux de compression\n",
        "original_length = sum(len(s.split()) for s in original_sentences)\n",
        "summary_length = sum(len(s.split()) for s in summary_sentences)\n",
        "compression_rate = (1 - summary_length/original_length) * 100\n",
        "\n",
        "print(f\"📈 Taux de compression: {compression_rate:.1f}%\")\n",
        "print(f\"   Texte original: {original_length} mots\")\n",
        "print(f\"   Résumé: {summary_length} mots\")\n",
        "\n",
        "# Sauvegarde optionnelle du résumé\n",
        "print(\"\\nSauvegarde du résumé...\")\n",
        "summary_text = \"\\n\\n\".join(summary_sentences)\n",
        "with open(\"/content/tennis_summary.txt\", \"w\", encoding=\"utf-8\") as f:\n",
        "    f.write(\"RÉSUMÉ DES ARTICLES DE TENNIS\\n\")\n",
        "    f.write(\"=\"*50 + \"\\n\\n\")\n",
        "    f.write(summary_text)\n",
        "\n",
        "print(\" Résumé sauvegardé dans 'tennis_summary.txt'\")"
      ],
      "metadata": {
        "colab": {
          "base_uri": "https://localhost:8080/"
        },
        "id": "e7PSsqCdmfmy",
        "outputId": "6b237533-e26d-4284-a5b0-4bcc4d9dc687"
      },
      "execution_count": 27,
      "outputs": [
        {
          "output_type": "stream",
          "name": "stdout",
          "text": [
            "\n",
            "============================================================\n",
            "RÉSUMÉ\n",
            "============================================================\n",
            "\n",
            "1. So I'm not the one to strike up a conversation about the weather and know that in the next few minutes I have to go and try to win a tennis match.\n",
            "\n",
            "2. Roger Federer has revealed that organisers of the re-launched and condensed Davis Cup gave him three days to decide if he would commit to the controversial competition.\n",
            "\n",
            "3. Novak Djokovic has said he will give precedence to the ATPs intended re-launch of the defunct World Team Cup in January 2020, at various Australian venues.\n",
            "\n",
            "4. It's a very pleasant atmosphere, I'd have to say, around the locker rooms.\n",
            "\n",
            "5. Hed backed up his last-32 showingat Melbourne Park with a string of wins over elites including French Open champion and then world No.9 Gaston Gaudio and Roland Garros runner-up Martin Verkerk in 2004 before illness struck.\n",
            "\n",
            "============================================================\n",
            "STATISTIQUES DU RÉSUMÉ\n",
            "============================================================\n",
            "📄 Nombre de phrases: 5\n",
            "📊 Score moyen PageRank des phrases sélectionnées: 0.0087\n",
            "📏 Longueur moyenne des phrases: 26.8 mots\n",
            "📈 Taux de compression: 95.1%\n",
            "   Texte original: 2755 mots\n",
            "   Résumé: 134 mots\n",
            "\n",
            "Sauvegarde du résumé...\n",
            " Résumé sauvegardé dans 'tennis_summary.txt'\n"
          ]
        }
      ]
    },
    {
      "cell_type": "markdown",
      "source": [
        "# Conclusion :\n",
        "Le système de résumé automatique est COMPLET !\n",
        "Le pipeline NLP  est construit de A à Z :\n",
        "\n",
        "Récapitulatif des étapes suivies :\n",
        "\n",
        "\n",
        "| Étape   | Compétence acquise                         | Statut     |\n",
        "| ------- | ------------------------------------------ | ---------- |\n",
        "| ✅ **1** | Chargement et exploration des données      | **Réussi** |\n",
        "| ✅ **2** | Tokenisation avancée avec NLTK             | **Réussi** |\n",
        "| ✅ **3** | Intégration d'embeddings GloVe (400K mots) | **Réussi** |\n",
        "| ✅ **4** | Nettoyage NLP avec stopwords et regex      | **Réussi** |\n",
        "| ✅ **5** | Vectorisation par moyenne d'embeddings     | **Réussi** |\n",
        "| ✅ **6** | Calcul de similarité cosinus (127×127)     | **Réussi** |\n",
        "| ✅ **7** | Graph-based ranking avec PageRank          | **Réussi** |\n",
        "| ✅ **8** | Génération de résumé cohérent              | **Réussi** |\n"
      ],
      "metadata": {
        "id": "lozaFwepnpLb"
      }
    }
  ]
}