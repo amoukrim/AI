{
  "nbformat": 4,
  "nbformat_minor": 0,
  "metadata": {
    "colab": {
      "provenance": [],
      "gpuType": "T4",
      "authorship_tag": "ABX9TyOSGQOuDiM3LrEsFxkOU4ck",
      "include_colab_link": true
    },
    "kernelspec": {
      "name": "python3",
      "display_name": "Python 3"
    },
    "language_info": {
      "name": "python"
    },
    "accelerator": "GPU"
  },
  "cells": [
    {
      "cell_type": "markdown",
      "metadata": {
        "id": "view-in-github",
        "colab_type": "text"
      },
      "source": [
        "<a href=\"https://colab.research.google.com/github/amoukrim/AI/blob/main/Week7/DailyChallenge/dailyChallengew_7_d4.ipynb\" target=\"_parent\"><img src=\"https://colab.research.google.com/assets/colab-badge.svg\" alt=\"Open In Colab\"/></a>"
      ]
    },
    {
      "cell_type": "markdown",
      "source": [
        "#@Author : Adil MOUKRIM\n",
        "#Building a GAN-Based AI Text Detector\n",
        "Last Updated: July 14th, 2025\n",
        "\n",
        "Daily Challenge : Building a GAN-Based AI Text Detector\n",
        "\n",
        "\n",
        "👩‍🏫 👩🏿‍🏫 What You’ll learn\n",
        "How to train a Generative Adversarial Network (GAN) for detecting AI-generated text.\n",
        "How to use a pre-trained BERT model for sequence classification.\n",
        "How to preprocess text data and tokenize it for deep learning models.\n",
        "How to evaluate model performance using AUC scores.\n",
        "How to fine-tune and optimize deep learning models.\n",
        "How to perform inference and generate predictions on test data.\n",
        "\n",
        "\n",
        "🛠️ What you will create\n",
        "A GAN-based model that detects AI-generated text using embeddings from a BERT model.\n",
        "A training pipeline that leverages a discriminator and generator network.\n",
        "A model that improves based on AUC scores for stability in training.\n",
        "A final submission file with predictions on the test dataset.\n",
        "\n",
        "\n",
        "Dataset\n",
        "You can find the dataset for this exercise here: Dataset\n",
        "\n",
        "\n",
        "\n",
        "Task\n",
        "For today’s challenge, you are provided with the final code with parts to fill. When you see a “TODO” it means you need to write code. Complete all of them.\n",
        "\n",
        "\n",
        "\n",
        "import numpy as np # linear algebra\n",
        "import pandas as pd # data processing, CSV file I/O (e.g. pd.read_csv)\n",
        "import random\n",
        "import string\n",
        "\n",
        "import torch\n",
        "import torch.nn as nn\n",
        "import torch.optim as optim\n",
        "from torch.utils.data import DataLoader\n",
        "\n",
        "from transformers import BertTokenizer, BertForSequenceClassification\n",
        "from transformers import BertConfig\n",
        "from transformers.models.bert.modeling_bert import BertEncoder\n",
        "from sklearn.metrics import roc_auc_score\n",
        "\n",
        "#device = torch.device(\"cuda:0\" if torch.cuda.is_available() else \"cpu\")\n",
        "\n",
        "TRAIN_PATH = TODO\n",
        "TEST_PATH = TODO\n",
        "PROMPT_PATH = TODO\n",
        "\n",
        "src_train = TODO\n",
        "src_prompt = TODO\n",
        "\n",
        "src_sub = TODO\n",
        "\n",
        "\n",
        "# Model preparation\n",
        "\n",
        "tokenizer_save_path = TODO\n",
        "model_save_path = TODO\n",
        "\n",
        "tokenizer = TODO\n",
        "pretrained_model = TODO\n",
        "embedding_model = TODO\n",
        "\n",
        "\"\"\"# Parameter definition\"\"\"\n",
        "\n",
        "train_batch_size = TODO\n",
        "test_batch_size = TODO\n",
        "lr = TODO\n",
        "beta1 = TODO\n",
        "nz = 100  # Dimensions of the latent vector\n",
        "num_epochs = TODO\n",
        "num_hidden_layers = TODO\n",
        "train_ratio = TODO\n",
        "\n",
        "\"\"\"# Data Preparation\"\"\"\n",
        "\n",
        "class GANDAIGDataset(torch.utils.data.Dataset):\n",
        "    def __init__(self, texts, labels):\n",
        "        self.texts = texts\n",
        "        self.labels = labels\n",
        "\n",
        "    def __len__(self):\n",
        "        return len(self.texts)\n",
        "\n",
        "    def __getitem__(self, idx):\n",
        "        return self.texts[idx], self.labels[idx]\n",
        "\n",
        "all_num = TODO\n",
        "train_num = TODO\n",
        "test_num = TODO\n",
        "\n",
        "\n",
        "train_set = TODO\n",
        "test_set = pd.concat([\n",
        "    TODO,\n",
        "]).reset_index(drop=True)\n",
        "\n",
        "\n",
        "train_dataset = TODO\n",
        "test_dataset = TODO\n",
        "\n",
        "train_loader = TODO\n",
        "test_loader = TODO\n",
        "\n",
        "\"\"\"# Generator definition\"\"\"\n",
        "\n",
        "config = BertConfig(num_hidden_layers=num_hidden_layers)\n",
        "\n",
        "class Generator(nn.Module):\n",
        "    def __init__(self, input_dim):\n",
        "        super().__init__()\n",
        "        self.fc = nn.Linear(input_dim, 256 * 128)\n",
        "\n",
        "        self.conv_net = nn.Sequential(\n",
        "            TODO\n",
        "        )\n",
        "        self.bert_encoder = BertEncoder(config)\n",
        "\n",
        "\n",
        "    def forward(self, x):\n",
        "        TODO\n",
        "        return x\n",
        "\n",
        "\"\"\"# Discriminator definition\"\"\"\n",
        "\n",
        "class SumBertPooler(torch.nn.Module):\n",
        "    def __init__(self):\n",
        "        super().__init__()\n",
        "\n",
        "    def forward(self, hidden_states: torch.Tensor) -> torch.Tensor:\n",
        "        sum_hidden = hidden_states.sum(dim=1)\n",
        "        sum_mask = sum_hidden.sum(1).unsqueeze(1)\n",
        "        sum_mask = torch.clamp(sum_mask, min=1e-9)\n",
        "\n",
        "        mean_embeddings = sum_hidden / sum_mask\n",
        "        return mean_embeddings\n",
        "\n",
        "\n",
        "class Discriminator(nn.Module):\n",
        "    def __init__(self):\n",
        "        super().__init__()\n",
        "        self.bert_encoder = BertEncoder(config)\n",
        "        self.bert_encoder.layer = nn.ModuleList([\n",
        "            layer for layer in pretrained_model.bert.encoder.layer[:6]\n",
        "        ])\n",
        "        self.pooler = SumBertPooler()\n",
        "        self.classifier = torch.nn.Sequential(\n",
        "            TODO\n",
        "\n",
        "        )\n",
        "\n",
        "    def forward(self, input):\n",
        "        out = self.bert_encoder(input)\n",
        "        out = self.pooler(out.last_hidden_state)\n",
        "        out = self.classifier(out)\n",
        "        return torch.sigmoid(out).view(-1)\n",
        "\n",
        "\"\"\"# Training\"\"\"\n",
        "\n",
        "# Commented out IPython magic to ensure Python compatibility.\n",
        "def eval_auc(model):\n",
        "    model.eval()\n",
        "\n",
        "    predictions = []\n",
        "    actuals = []\n",
        "    with torch.no_grad():\n",
        "        for batch in test_loader:\n",
        "            encodings = TODO\n",
        "            input_ids = TODO\n",
        "            token_type_ids = TODO\n",
        "            embeded = TODO\n",
        "            embeded =TODO\n",
        "            attention_mask = TODO\n",
        "            label = batch[1].float().to(device)\n",
        "\n",
        "            outputs = model(embeded)\n",
        "            predictions.extend(outputs.cpu().numpy())\n",
        "            actuals.extend(label.cpu().numpy())\n",
        "\n",
        "    auc = TODO\n",
        "    print(\"AUC:\", auc)\n",
        "    return auc\n",
        "\n",
        "def get_model_info_dict(model, epoch, auc_score):\n",
        "    current_device = next(model.parameters()).device\n",
        "    model.to('cpu')\n",
        "\n",
        "    model_info = {\n",
        "        'epoch': epoch,\n",
        "        'model_state_dict': model.state_dict(),\n",
        "        'auc_score': auc_score,\n",
        "    }\n",
        "\n",
        "    model.to(current_device)\n",
        "    return model_info\n",
        "\n",
        "def preparation_embedding(texts):\n",
        "    encodings = tokenizer(texts, padding=True, truncation=True, return_tensors=\"pt\")\n",
        "    input_ids = encodings['input_ids']\n",
        "    token_type_ids = encodings['token_type_ids']\n",
        "    embeded = embedding_model(input_ids=input_ids, token_type_ids=token_type_ids)\n",
        "    return embeded\n",
        "\n",
        "def GAN_step(optimizerG, optimizerD, netG, netD, real_data, label, epoch, i):\n",
        "    netD.zero_grad()\n",
        "    batch_size = real_data.size(0)\n",
        "\n",
        "    output = netD(real_data)\n",
        "    errD_real = criterion(output, label)\n",
        "    errD_real.backward()\n",
        "    D_x = output.mean().item()\n",
        "\n",
        "    noise = torch.randn(batch_size, nz, device=device)\n",
        "    fake_data = netG(noise).last_hidden_state\n",
        "    label.fill_(1)\n",
        "    output = netD(fake_data.detach())\n",
        "    errD_fake = criterion(output, label)\n",
        "    errD_fake.backward()\n",
        "    D_G_z1 = output.mean().item()\n",
        "    errD = errD_real + errD_fake\n",
        "    optimizerD.step()\n",
        "\n",
        "    netG.zero_grad()\n",
        "    label.fill_(0)\n",
        "    output = netD(fake_data)\n",
        "    errG = criterion(output, label)\n",
        "    errG.backward()\n",
        "    D_G_z2 = output.mean().item()\n",
        "    optimizerG.step()\n",
        "    if i % 50 == 0:\n",
        "        print('[%d/%d][%d/%d] Loss_D: %.4f Loss_G: %.4f D(x): %.4f D(G(z)): %.4f / %.4f'\n",
        "#               % (epoch, num_epochs, i, len(train_loader), errD.item(), errG.item(), D_x, D_G_z1, D_G_z2))\n",
        "\n",
        "    return optimizerG, optimizerD, netG, netD\n",
        "\n",
        "netG = TODO\n",
        "netD = TODO\n",
        "\n",
        "criterion = TODO\n",
        "optimizerD = TODO\n",
        "optimizerG = TODO\n",
        "\n",
        "model_infos = []\n",
        "for epoch in range(num_epochs):\n",
        "    for i, data in enumerate(train_loader, 0):\n",
        "        with torch.no_grad():\n",
        "            embeded = preparation_embedding(data[0])\n",
        "\n",
        "        optimizerG, optimizerD, netG, netD = GAN_step(\n",
        "            optimizerG=TODO,\n",
        "            optimizerD=TODO,\n",
        "            netG=netG,\n",
        "            netD=netD,\n",
        "            real_data=embeded.to(device),\n",
        "            label=data[1].float().to(device),\n",
        "            epoch=epoch, i=i)\n",
        "\n",
        "    auc_score = TODO\n",
        "    model_infos.append(get_model_info_dict(netD, epoch, auc_score))\n",
        "\n",
        "print('Train complete！')\n",
        "\n",
        "\"\"\"# Inference\"\"\"\n",
        "\n",
        "max_auc_model_info = TODO\n",
        "model = Discriminator()\n",
        "model.load_state_dict(max_auc_model_info['model_state_dict'])\n",
        "model.to(device)\n",
        "model.eval()\n",
        "\n",
        "class InferenceDataset(torch.utils.data.Dataset):\n",
        "    def __init__(self, texts):\n",
        "        self.texts = texts\n",
        "\n",
        "    def __getitem__(self, idx):\n",
        "        return self.texts[idx]\n",
        "\n",
        "    def __len__(self):\n",
        "        return len(self.texts)\n",
        "\n",
        "sub_dataset = TODO\n",
        "\n",
        "inference_loader = TODO\n",
        "\n",
        "sub_predictions = []\n",
        "with torch.no_grad():\n",
        "    for batch in inference_loader:\n",
        "        encodings = TODO\n",
        "        input_ids = TODO\n",
        "        token_type_ids = TODO\n",
        "        embeded = TODO\n",
        "        embeded = embeded.to(device)\n",
        "\n",
        "        outputs = model(embeded)\n",
        "        sub_predictions.extend(outputs.cpu().numpy())\n",
        "\n",
        "sub_ans_df = TODO\n",
        "print(sub_ans_df)\n",
        "\n",
        "\n",
        "Instructions :\n",
        "1. Download the Dataset\n",
        "\n",
        "Upload the Kaggle API key.\n",
        "Move the key to the correct directory and set permissions, you may accept the rules of the competitions in Rulesor in Participate.\n",
        "Download and unzip the dataset.\n",
        "or :\n",
        "Download manually from Kaggle\n",
        "2. Load the Data\n",
        "\n",
        "Read the training and test datasets using pandas.\n",
        "Display basic statistics and structure of the dataset.\n",
        "3. Prepare the Model\n",
        "\n",
        "Load the BERT tokenizer and pre-trained model for sequence classification : bert-base-uncased.\n",
        "Extract embeddings from the BERT model to use in the GAN framework.\n",
        "4. Set Hyperparameters\n",
        "\n",
        "Define batch sizes, learning rates, latent vector dimensions, and training epochs.\n",
        "5. Prepare the Data for Training\n",
        "\n",
        "Create a PyTorch dataset class for handling text data.\n",
        "Split the data into training and testing sets.\n",
        "Use DataLoader to load batches efficiently.\n",
        "6. Define the Generator Model\n",
        "\n",
        "Build a neural network that generates text embeddings using ConvTranspose1D layers.\n",
        "Incorporate a BERT encoder in the generator.\n",
        "7. Define the Discriminator Model\n",
        "\n",
        "Extract and modify layers from a pre-trained BERT model.\n",
        "Implement a pooling mechanism for text classification.\n",
        "Construct a classification head using fully connected layers.\n",
        "8. Train the Model\n",
        "\n",
        "Implement a GAN training loop.\n",
        "Train the generator to produce embeddings that fool the discriminator.\n",
        "Train the discriminator to differentiate between real and generated embeddings.\n",
        "Evaluate the model using AUC scores to monitor training stability.\n",
        "9. Perform Inference\n",
        "\n",
        "Load the best-performing discriminator model based on AUC scores.\n",
        "Process test data through the model to generate predictions.\n",
        "\n",
        "\n",
        "\n",
        "\n"
      ],
      "metadata": {
        "id": "z-__reir3E6-"
      }
    },
    {
      "cell_type": "markdown",
      "source": [
        "Étape 1 : Chargement des données"
      ],
      "metadata": {
        "id": "PTKrkd5c-vaR"
      }
    },
    {
      "cell_type": "code",
      "source": [
        "import os\n",
        "import zipfile\n",
        "import requests\n",
        "\n",
        "# 🔁 1. Télécharger le zip s’il n’existe pas\n",
        "zip_url = \"https://github.com/devtlv/Datasets-GEN-AI-Bootcamp/raw/refs/heads/main/Week%207/W7D4/llm-detect-ai-generated-text.zip\"\n",
        "zip_path = \"llm_dataset.zip\"\n",
        "\n",
        "if not os.path.exists(zip_path):\n",
        "    print(\"📥 Téléchargement du dataset...\")\n",
        "    r = requests.get(zip_url)\n",
        "    with open(zip_path, \"wb\") as f:\n",
        "        f.write(r.content)\n",
        "    print(\"✅ Téléchargé.\")\n",
        "else:\n",
        "    print(\"📦 Archive déjà téléchargée.\")\n",
        "\n",
        "# 📂 2. Extraire dans un dossier\n",
        "extract_dir = \"./llm-dataset\"\n",
        "if not os.path.exists(extract_dir):\n",
        "    print(\"📂 Extraction...\")\n",
        "    with zipfile.ZipFile(zip_path, 'r') as zip_ref:\n",
        "        zip_ref.extractall(extract_dir)\n",
        "    print(\"✅ Extraction terminée.\")\n",
        "else:\n",
        "    print(\"📁 Dossier déjà extrait.\")\n",
        "\n"
      ],
      "metadata": {
        "colab": {
          "base_uri": "https://localhost:8080/"
        },
        "id": "PxfvaxPE-pNW",
        "outputId": "dbd498c4-369a-4f8f-879c-0116abf519e0"
      },
      "execution_count": 95,
      "outputs": [
        {
          "output_type": "stream",
          "name": "stdout",
          "text": [
            "📦 Archive déjà téléchargée.\n",
            "📁 Dossier déjà extrait.\n"
          ]
        }
      ]
    },
    {
      "cell_type": "code",
      "source": [
        "# 🗂️ Mise à jour des chemins réels\n",
        "TRAIN_PATH = \"./train_essays.csv\"\n",
        "TEST_PATH = \"./test_essays.csv\"\n",
        "PROMPT_PATH = \"./train_prompts.csv\"\n",
        "\n",
        "\n",
        "# ✅ Chargement avec pandas\n",
        "TRAIN_PATH = \"./llm-dataset/train_essays.csv\"\n",
        "TEST_PATH = \"./llm-dataset/test_essays.csv\"\n",
        "PROMPT_PATH = \"./llm-dataset/train_prompts.csv\"\n",
        "\n",
        "import pandas as pd\n",
        "src_train = pd.read_csv(TRAIN_PATH)\n",
        "src_test = pd.read_csv(TEST_PATH)\n",
        "src_prompt = pd.read_csv(PROMPT_PATH)\n",
        "\n",
        "print(\"✅ Données chargées !\")\n",
        "\n",
        "# 👀 Affichage d’un aperçu\n",
        "print(\"✅ Données d'entraînement :\")\n",
        "print(src_train.head())\n",
        "\n",
        "print(\"\\n✅ Données de test :\")\n",
        "print(src_test.head())\n",
        "\n",
        "print(\"\\n✅ Données de prompts :\")\n",
        "print(src_prompt.head())\n",
        "\n",
        "print(\"\\n📊 Distribution des labels (0 = humain, 1 = IA):\")\n",
        "print(src_train['generated'].value_counts())\n",
        "\n"
      ],
      "metadata": {
        "colab": {
          "base_uri": "https://localhost:8080/"
        },
        "id": "cmuiqfVEAG9R",
        "outputId": "45c59e25-5d94-4e45-aca4-88aaafdb13d5"
      },
      "execution_count": 96,
      "outputs": [
        {
          "output_type": "stream",
          "name": "stdout",
          "text": [
            "✅ Données chargées !\n",
            "✅ Données d'entraînement :\n",
            "         id  prompt_id                                               text  \\\n",
            "0  0059830c          0  Cars. Cars have been around since they became ...   \n",
            "1  005db917          0  Transportation is a large necessity in most co...   \n",
            "2  008f63e3          0  \"America's love affair with it's vehicles seem...   \n",
            "3  00940276          0  How often do you ride in a car? Do you drive a...   \n",
            "4  00c39458          0  Cars are a wonderful thing. They are perhaps o...   \n",
            "\n",
            "   generated  \n",
            "0          0  \n",
            "1          0  \n",
            "2          0  \n",
            "3          0  \n",
            "4          0  \n",
            "\n",
            "✅ Données de test :\n",
            "         id  prompt_id          text\n",
            "0  0000aaaa          2  Aaa bbb ccc.\n",
            "1  1111bbbb          3  Bbb ccc ddd.\n",
            "2  2222cccc          4  CCC ddd eee.\n",
            "\n",
            "✅ Données de prompts :\n",
            "   prompt_id                       prompt_name  \\\n",
            "0          0                   Car-free cities   \n",
            "1          1  Does the electoral college work?   \n",
            "\n",
            "                                        instructions  \\\n",
            "0  Write an explanatory essay to inform fellow ci...   \n",
            "1  Write a letter to your state senator in which ...   \n",
            "\n",
            "                                         source_text  \n",
            "0  # In German Suburb, Life Goes On Without Cars ...  \n",
            "1  # What Is the Electoral College? by the Office...  \n",
            "\n",
            "📊 Distribution des labels (0 = humain, 1 = IA):\n",
            "generated\n",
            "0    1375\n",
            "1       3\n",
            "Name: count, dtype: int64\n"
          ]
        }
      ]
    },
    {
      "cell_type": "markdown",
      "source": [
        "| Donnée       | Résumé                               |\n",
        "| ------------ | ------------------------------------ |\n",
        "| `src_train`  | ✔️ Texte + `generated` (pas `label`) |\n",
        "| `src_test`   | ✔️ Texte à prédire                   |\n",
        "| `src_prompt` | ✔️ Métadonnées sur les prompts       |\n",
        "\n",
        "\n",
        "Distribution des textes (train)\n",
        "\n",
        "| Type de texte          | Nombre |\n",
        "| ---------------------- | ------ |\n",
        "| 🧑 Humain (`0`)        | 1375   |\n",
        "| 🤖 Généré par IA (`1`) | **3**  |\n",
        "\n",
        "Remarque :\n",
        "Le jeu de données est fortement déséquilibré :\n",
        "\n",
        "Seulement 3 textes générés par IA sur 1378 au total.\n",
        "\n",
        "Cela rendra l’entraînement du GAN très instable si on ne fait rien."
      ],
      "metadata": {
        "id": "n1-dld4GBNAm"
      }
    },
    {
      "cell_type": "markdown",
      "source": [
        "# Étape EDA – Analyse exploratoire des données"
      ],
      "metadata": {
        "id": "_Tw4z-YHTk3k"
      }
    },
    {
      "cell_type": "code",
      "source": [
        "import matplotlib.pyplot as plt\n",
        "import seaborn as sns\n",
        "\n",
        "# 🔢 Taille des jeux\n",
        "print(f\"Nombre de textes d'entraînement : {len(src_train)}\")\n",
        "print(f\"Nombre de textes de test : {len(src_test)}\")\n",
        "print(f\"Nombre de prompts : {len(src_prompt)}\")\n",
        "\n",
        "# 📊 Distribution des labels\n",
        "label_counts = src_train[\"generated\"].value_counts().sort_index()\n",
        "plt.figure(figsize=(6, 4))\n",
        "sns.barplot(x=label_counts.index, y=label_counts.values, palette=\"pastel\")\n",
        "plt.xticks([0, 1], ['Humain', 'IA'])\n",
        "plt.ylabel(\"Nombre de textes\")\n",
        "plt.title(\"Distribution des textes humains vs générés\")\n",
        "plt.grid(True, linestyle=\"--\", alpha=0.5)\n",
        "plt.show()"
      ],
      "metadata": {
        "colab": {
          "base_uri": "https://localhost:8080/",
          "height": 550
        },
        "id": "DsIa2Xd1TARk",
        "outputId": "029fe70f-7f7e-4422-cf8a-a3797633fe9e"
      },
      "execution_count": 97,
      "outputs": [
        {
          "output_type": "stream",
          "name": "stdout",
          "text": [
            "Nombre de textes d'entraînement : 1378\n",
            "Nombre de textes de test : 3\n",
            "Nombre de prompts : 2\n"
          ]
        },
        {
          "output_type": "stream",
          "name": "stderr",
          "text": [
            "/tmp/ipython-input-97-2183461306.py:12: FutureWarning: \n",
            "\n",
            "Passing `palette` without assigning `hue` is deprecated and will be removed in v0.14.0. Assign the `x` variable to `hue` and set `legend=False` for the same effect.\n",
            "\n",
            "  sns.barplot(x=label_counts.index, y=label_counts.values, palette=\"pastel\")\n"
          ]
        },
        {
          "output_type": "display_data",
          "data": {
            "text/plain": [
              "<Figure size 600x400 with 1 Axes>"
            ],
            "image/png": "[encoded data removed]"
          },
          "metadata": {}
        }
      ]
    },
    {
      "cell_type": "markdown",
      "source": [
        "**Interprétation :**\n",
        "Deux catégories sont représentées :\n",
        "\n",
        "Humain (label 0)\n",
        "\n",
        "IA (label 1)\n",
        "\n",
        "La barre des textes humains est très haute (~1375 textes).\n",
        "\n",
        "La barre des textes IA est quasiment inexistante (seulement 3 textes IA).\n",
        "\n",
        "❗ Interprétation :\n",
        "Déséquilibre extrême des classes :\n",
        "\n",
        "99.8% des textes sont humains\n",
        "\n",
        "Moins de 0.2% sont générés par IA\n",
        "\n",
        "Cela pose un sérieux problème pour l'entraînement d'un modèle :\n",
        "\n",
        "Un modèle naïf pourrait prédire systématiquement “Humain” et avoir 99.8% de précision… sans rien apprendre.\n",
        "\n",
        "Les métriques comme la précision sont donc peu utiles ici — il faut plutôt se baser sur le score AUC, rappel, ou F1-score.\n",
        "\n",
        "✅ Conclusion :\n",
        "Ce graphique justifie à lui seul l’usage d’un GAN :\n",
        "\n",
        "Le générateur peut produire artificiellement plus d’exemples IA, augmentant la diversité.\n",
        "\n",
        "Le discriminateur apprend à distinguer plus finement, même avec peu de données IA au départ."
      ],
      "metadata": {
        "id": "Ta6OkYvkUBBu"
      }
    },
    {
      "cell_type": "code",
      "source": [
        "# 🧠 Longueur des textes\n",
        "src_train[\"text_length\"] = src_train[\"text\"].apply(lambda x: len(x.split()))\n",
        "plt.figure(figsize=(8, 4))\n",
        "sns.histplot(data=src_train, x=\"text_length\", hue=\"generated\", bins=30, palette=\"Set2\", kde=True)\n",
        "plt.title(\"Distribution de la longueur des textes (en mots)\")\n",
        "plt.xlabel(\"Nombre de mots\")\n",
        "plt.ylabel(\"Nombre de textes\")\n",
        "plt.grid(True, linestyle=\"--\", alpha=0.4)\n",
        "plt.show()"
      ],
      "metadata": {
        "colab": {
          "base_uri": "https://localhost:8080/",
          "height": 410
        },
        "id": "1VaOTppAUIpK",
        "outputId": "6438bbc9-1055-4e5c-a0a3-bfb494779569"
      },
      "execution_count": 98,
      "outputs": [
        {
          "output_type": "display_data",
          "data": {
            "text/plain": [
              "<Figure size 800x400 with 1 Axes>"
            ],
            "image/png": "[encoded data removed]"
          },
          "metadata": {}
        }
      ]
    },
    {
      "cell_type": "markdown",
      "source": [],
      "metadata": {
        "id": "jVKsk1LoUXJ-"
      }
    },
    {
      "cell_type": "markdown",
      "source": [
        "** Interprétation :**\n",
        "✅ Similarité de longueur entre les textes humains et IA :\n",
        "Les deux types de texte ont des distributions très proches en termes de longueur.\n",
        "\n",
        "La majorité des textes ont une longueur entre 400 et 600 mots, ce qui est typique d’un essai académique.\n",
        "\n",
        "Les textes IA (bien que très peu nombreux) s’insèrent dans la même gamme de longueur que les textes humains.\n",
        "\n",
        "👉 La longueur ne suffit pas à distinguer un texte humain d’un texte IA.\n",
        "\n",
        "Il est donc inutile de se baser uniquement sur la taille du texte pour détecter la génération automatique.\n",
        "\n",
        "Cela justifie l’approche par embeddings + GAN, qui se concentre sur la structure sémantique plutôt que la forme brute."
      ],
      "metadata": {
        "id": "IWACp4r4WH3g"
      }
    },
    {
      "cell_type": "markdown",
      "source": [],
      "metadata": {
        "id": "A4DQH_WvUZe9"
      }
    },
    {
      "cell_type": "code",
      "source": [
        "# 📌 Nombre de textes par prompt\n",
        "prompt_distribution = src_train[\"prompt_id\"].value_counts().sort_values(ascending=False)\n",
        "plt.figure(figsize=(10, 5))\n",
        "sns.barplot(x=prompt_distribution.index, y=prompt_distribution.values, palette=\"coolwarm\")\n",
        "plt.title(\"Nombre de textes par prompt\")\n",
        "plt.xlabel(\"ID du prompt\")\n",
        "plt.ylabel(\"Nombre de textes\")\n",
        "plt.grid(True, linestyle=\"--\", alpha=0.3)\n",
        "plt.show()\n",
        "\n",
        "# 🔎 Aperçu des prompts\n",
        "print(\"\\n📄 Prompts utilisés (extrait) :\")\n",
        "for i in range(min(5, len(src_prompt))):\n",
        "    print(f\"\\n➡️ Prompt {src_prompt.loc[i, 'prompt_id']}: {src_prompt.loc[i, 'prompt_name']}\")\n",
        "    print(f\"   Instructions: {src_prompt.loc[i, 'instructions'][:100]}...\")\n"
      ],
      "metadata": {
        "colab": {
          "base_uri": "https://localhost:8080/",
          "height": 713
        },
        "id": "yrUBCDV2Uga0",
        "outputId": "d3e856fb-0ff0-4692-8f5a-7bd1bebbae57"
      },
      "execution_count": 100,
      "outputs": [
        {
          "output_type": "stream",
          "name": "stderr",
          "text": [
            "/tmp/ipython-input-100-3496634512.py:4: FutureWarning: \n",
            "\n",
            "Passing `palette` without assigning `hue` is deprecated and will be removed in v0.14.0. Assign the `x` variable to `hue` and set `legend=False` for the same effect.\n",
            "\n",
            "  sns.barplot(x=prompt_distribution.index, y=prompt_distribution.values, palette=\"coolwarm\")\n"
          ]
        },
        {
          "output_type": "display_data",
          "data": {
            "text/plain": [
              "<Figure size 1000x500 with 1 Axes>"
            ],
            "image/png": "[encoded data removed]"
          },
          "metadata": {}
        },
        {
          "output_type": "stream",
          "name": "stdout",
          "text": [
            "\n",
            "📄 Prompts utilisés (extrait) :\n",
            "\n",
            "➡️ Prompt 0: Car-free cities\n",
            "   Instructions: Write an explanatory essay to inform fellow citizens about the advantages of limiting car usage. You...\n",
            "\n",
            "➡️ Prompt 1: Does the electoral college work?\n",
            "   Instructions: Write a letter to your state senator in which you argue in favor of keeping the Electoral College or...\n"
          ]
        }
      ]
    },
    {
      "cell_type": "markdown",
      "source": [
        "#Interprétation :\n",
        "✅ Répartition assez équilibrée :\n",
        "Il y a un peu plus de textes pour le prompt 0 (710) que pour le prompt 1 (~670).\n",
        "\n",
        "➕ Cette différence est modérée, donc l’échantillon semble relativement équilibré entre les deux prompts.\n",
        "\n",
        "ℹ️ Ce que cela signifie :\n",
        "Le jeu de données a été conçu de manière à couvrir équitablement différents sujets.\n",
        "\n",
        "Cela aide à éviter un biais de sujet : si un seul prompt dominait, le modèle pourrait apprendre à détecter un sujet plutôt que la nature (IA/humain) du texte.\n",
        "\n",
        "🧠 Conclusion :\n",
        "👉 Bonne couverture des prompts."
      ],
      "metadata": {
        "id": "o3UmvcUUWo87"
      }
    },
    {
      "cell_type": "markdown",
      "source": [
        "#Étape 2 : Préparation du modèle BERT\n",
        "\n",
        "\n",
        "*   Élément de liste\n",
        "*   Élément de liste\n",
        "\n",
        "\n",
        "L'objectif est de Charger un tokenizer BERT\n",
        "\n",
        "Charger un modèle BERT pré-entraîné pour produire des embeddings"
      ],
      "metadata": {
        "id": "VL4Jy3kvCNAa"
      }
    },
    {
      "cell_type": "code",
      "source": [
        "from transformers import BertTokenizer, BertModel\n",
        "\n",
        "# Chemins de sauvegarde facultatifs\n",
        "tokenizer_save_path = \"./bert_tokenizer\"\n",
        "model_save_path = \"./bert_embedding_model\"\n",
        "\n",
        "# 1. Charger le tokenizer BERT\n",
        "tokenizer = BertTokenizer.from_pretrained(\"bert-base-uncased\")\n",
        "tokenizer.save_pretrained(tokenizer_save_path)\n",
        "\n",
        "# 2. Charger le modèle BERT (sans tête de classification)\n",
        "pretrained_model = BertModel.from_pretrained(\"bert-base-uncased\")\n",
        "pretrained_model.save_pretrained(model_save_path)\n",
        "\n",
        "# 3. Ce modèle servira d'extracteur d'embeddings\n",
        "embedding_model = pretrained_model\n",
        "\n",
        "# 4. Déterminer si GPU dispo\n",
        "import torch\n",
        "device = torch.device(\"cuda\" if torch.cuda.is_available() else \"cpu\")\n",
        "print(\" Modèle chargé sur :\", device)\n"
      ],
      "metadata": {
        "colab": {
          "base_uri": "https://localhost:8080/"
        },
        "id": "OjeUzkxaEbHz",
        "outputId": "5e669ecd-2eaa-4fcb-da70-37fa526fd6fa"
      },
      "execution_count": 101,
      "outputs": [
        {
          "output_type": "stream",
          "name": "stdout",
          "text": [
            " Modèle chargé sur : cuda\n"
          ]
        }
      ]
    },
    {
      "cell_type": "code",
      "source": [],
      "metadata": {
        "id": "EJ9XGhc6F1sg"
      },
      "execution_count": 101,
      "outputs": []
    },
    {
      "cell_type": "markdown",
      "source": [
        "##Résumé de cette étape:\n",
        "\n",
        "| Élément         | Résultat                                                           |\n",
        "| --------------- | ------------------------------------------------------------------ |\n",
        "| Tokenizer       | ✔️ Téléchargé et prêt                                              |\n",
        "| Modèle BERT     | ✔️ Prêt pour extraire des embeddings                               |\n",
        "\n"
      ],
      "metadata": {
        "id": "Ot5LjHo1FpkT"
      }
    },
    {
      "cell_type": "markdown",
      "source": [
        "#Étape 3 : Définir les hyperparamètres et préparer les données:\n",
        "\n",
        "L'Objectif :\n",
        "\n",
        "* Définir les batch sizes, taux d'apprentissage, etc.\n",
        "\n",
        "* Créer un Dataset PyTorch pour l'entraînement\n",
        "\n",
        "* Créer des DataLoader efficaces"
      ],
      "metadata": {
        "id": "XSENj1vqF6de"
      }
    },
    {
      "cell_type": "code",
      "source": [
        "from torch.utils.data import Dataset, DataLoader\n",
        "\n",
        "# 🎯 Hyperparamètres\n",
        "train_batch_size = 16\n",
        "test_batch_size = 32\n",
        "lr = 2e-5\n",
        "beta1 = 0.5\n",
        "nz = 64  # Dimension du vecteur latent pour le générateur\n",
        "num_epochs = 10\n",
        "num_hidden_layers = 6\n",
        "train_ratio = 0.8\n",
        "\n",
        "#Dataset PyTorch\n",
        "class GANDAIGDataset(Dataset):\n",
        "    def __init__(self, texts, labels):\n",
        "        self.texts = texts\n",
        "        self.labels = labels\n",
        "\n",
        "    def __len__(self):\n",
        "        return len(self.texts)\n",
        "\n",
        "    def __getitem__(self, idx):\n",
        "        return self.texts[idx], self.labels[idx]\n",
        "\n",
        "# Limiter les données (pour équilibrer)\n",
        "human_df = src_train[src_train[\"generated\"] == 0].sample(n=100, random_state=42)\n",
        "ai_df = src_train[src_train[\"generated\"] == 1]\n",
        "\n",
        "balanced_df = pd.concat([human_df, ai_df]).sample(frac=1, random_state=42).reset_index(drop=True)\n",
        "\n",
        "# Split train/test\n",
        "train_size = int(len(balanced_df) * train_ratio)\n",
        "train_df = balanced_df[:train_size]\n",
        "test_df = balanced_df[train_size:]\n",
        "\n",
        "# Datasets PyTorch\n",
        "train_dataset = GANDAIGDataset(train_df[\"text\"].tolist(), train_df[\"generated\"].tolist())\n",
        "test_dataset = GANDAIGDataset(test_df[\"text\"].tolist(), test_df[\"generated\"].tolist())\n",
        "\n",
        "# 🚚 Loaders\n",
        "train_loader = DataLoader(train_dataset, batch_size=train_batch_size, shuffle=True)\n",
        "test_loader = DataLoader(test_dataset, batch_size=test_batch_size, shuffle=False)\n",
        "\n",
        "# 🔍 Vérif\n",
        "print(f\"✔️ Train size: {len(train_dataset)}, Test size: {len(test_dataset)}\")\n"
      ],
      "metadata": {
        "colab": {
          "base_uri": "https://localhost:8080/"
        },
        "id": "Li2OUSehGayQ",
        "outputId": "e027df1e-955b-455e-f5c7-d522423b34df"
      },
      "execution_count": 102,
      "outputs": [
        {
          "output_type": "stream",
          "name": "stdout",
          "text": [
            "✔️ Train size: 82, Test size: 21\n"
          ]
        }
      ]
    },
    {
      "cell_type": "markdown",
      "source": [
        "##Résumé de l’étape 3 : Préparation des données PyTorch\n",
        "\n",
        "Il y a 82 exemples d'entraînement\n",
        "\n",
        "21 exemples de test"
      ],
      "metadata": {
        "id": "JEZF3bwXGZYU"
      }
    },
    {
      "cell_type": "markdown",
      "source": [
        "# Étape 4 : Implémentation du Generator :\n",
        "L'Objectif est de :\n",
        "\n",
        "* Créer un réseau neuronal qui :\n",
        "\n",
        "* Prend un vecteur latent aléatoire z (taille 100)\n",
        "\n",
        "* Le transforme en embedding BERT-like (forme [batch, seq_len, hidden_size])\n",
        "\n",
        "* Passe par un BertEncoder pour affiner les représentations"
      ],
      "metadata": {
        "id": "pDZ9nUjXHc3K"
      }
    },
    {
      "cell_type": "code",
      "source": [
        "import torch\n",
        "import torch.nn as nn\n",
        "from transformers import BertConfig\n",
        "from transformers.models.bert.modeling_bert import BertEncoder\n",
        "\n",
        "# 🧠 Configuration du BERT Encoder (nombre de couches défini dans les hyperparamètres)\n",
        "config = BertConfig(num_hidden_layers=num_hidden_layers)\n",
        "\n",
        "class Generator(nn.Module):\n",
        "    def __init__(self, input_dim):\n",
        "        super().__init__()\n",
        "\n",
        "        # 🎯 1. Couche linéaire pour transformer le bruit latent en un grand vecteur\n",
        "        self.fc = nn.Linear(input_dim, 256 * 128)  # 256 étapes temporelles, 128 features\n",
        "\n",
        "        # 🎛️ 2. Réseau de convolution transpose pour simuler des représentations style BERT\n",
        "        self.conv_net = nn.Sequential(\n",
        "            nn.ConvTranspose1d(in_channels=256, out_channels=512, kernel_size=3, padding=1),\n",
        "            nn.ReLU(),\n",
        "            nn.ConvTranspose1d(in_channels=512, out_channels=768, kernel_size=3, padding=1),\n",
        "            nn.ReLU()\n",
        "        )\n",
        "\n",
        "        # 🧠 3. Encodeur BERT (utilisé sans tokenization, sur des embeddings simulés)\n",
        "        self.bert_encoder = BertModel.from_pretrained(\"bert-base-uncased\")\n",
        "        self.bert_encoder.to(device)\n",
        "\n",
        "\n",
        "    def forward(self, x):\n",
        "        \"\"\"\n",
        "        Forward pass :\n",
        "        - x : vecteur latent bruité (shape: [batch_size, nz])\n",
        "        - retour : sortie BERT Encoder simulée à partir d'embeddings générés\n",
        "        \"\"\"\n",
        "\n",
        "        # 1️⃣ Étendre le bruit latent : (batch_size, nz) → (batch_size, 256*128)\n",
        "        x = self.fc(x)\n",
        "\n",
        "        # 2️⃣ Reshape pour conv1d : (batch_size, 256, 128)\n",
        "        x = x.view(-1, 256, 128)\n",
        "\n",
        "        # 3️⃣ Appliquer les convolutions transposées : (batch_size, 768, 128)\n",
        "        x = self.conv_net(x)\n",
        "\n",
        "        # 4️⃣ Remettre dans le format attendu par BERT : (batch_size, 128, 768)\n",
        "        x = x.permute(0, 2, 1)\n",
        "\n",
        "        # 5️⃣ Création d'un attention_mask (tout à 1 car aucune padding)\n",
        "        attention_mask = torch.ones(x.shape[:2], dtype=torch.long).to(x.device)\n",
        "\n",
        "        # 6️⃣ Passage dans l’encodeur BERT (avec inputs_embeds et attention_mask)\n",
        "        encoder_out = self.bert_encoder(inputs_embeds=x, attention_mask=attention_mask)\n",
        "\n",
        "        return encoder_out  # Contient .last_hidden_state, utilisé pour tromper le discriminateur\n"
      ],
      "metadata": {
        "id": "j9Crn5uGcP1u"
      },
      "execution_count": 103,
      "outputs": []
    },
    {
      "cell_type": "markdown",
      "source": [
        "# Étape 5 : Définir le Discriminateur :\n",
        "L'Objectif est de créer un modèle qui :\n",
        "\n",
        "* Reçoit de vrais ou faux embeddings\n",
        "\n",
        "* Passe les embeddings par un BertEncoder tronqué (6 couches)\n",
        "\n",
        "* Pool les représentations pour obtenir un vecteur\n",
        "\n",
        "* Prédit si le texte est réel (0) ou généré (1)"
      ],
      "metadata": {
        "id": "a5XsTxJvIl_N"
      }
    },
    {
      "cell_type": "code",
      "source": [
        "class SumBertPooler(nn.Module):\n",
        "    def __init__(self):\n",
        "        super().__init__()\n",
        "\n",
        "    def forward(self, hidden_states: torch.Tensor) -> torch.Tensor:\n",
        "        # hidden_states : [batch, seq_len, hidden_size]\n",
        "        sum_hidden = hidden_states.sum(dim=1)               # [batch, hidden]\n",
        "        sum_mask = sum_hidden.sum(1).unsqueeze(1)           # [batch, 1]\n",
        "        sum_mask = torch.clamp(sum_mask, min=1e-9)\n",
        "        return sum_hidden / sum_mask  # Normalisation\n",
        "\n",
        "class Discriminator(nn.Module):\n",
        "    def __init__(self):\n",
        "        super().__init__()\n",
        "\n",
        "        # Récupérer 6 couches de BERT (du modèle déjà chargé)\n",
        "        self.bert_encoder = BertEncoder(config)\n",
        "        self.bert_encoder.layer = nn.ModuleList([\n",
        "            layer for layer in pretrained_model.encoder.layer[:6]\n",
        "        ])\n",
        "\n",
        "        # Pooling personnalisé : moyenne sur la séquence\n",
        "        self.pooler = SumBertPooler()\n",
        "\n",
        "        # Tête de classification binaire\n",
        "        self.classifier = nn.Sequential(\n",
        "            nn.Linear(768, 256),\n",
        "            nn.ReLU(),\n",
        "            nn.Dropout(0.1),\n",
        "            nn.Linear(256, 1)  # Sortie : score brut\n",
        "        )\n",
        "\n",
        "    def forward(self, input):\n",
        "        out = self.bert_encoder(input)\n",
        "        pooled = self.pooler(out.last_hidden_state)\n",
        "        logits = self.classifier(pooled)\n",
        "        return torch.sigmoid(logits).view(-1)\n"
      ],
      "metadata": {
        "id": "ToWLpsczJGll"
      },
      "execution_count": 104,
      "outputs": []
    },
    {
      "cell_type": "markdown",
      "source": [
        "# Étape 6 : Instanciation du GAN\n",
        "\n",
        "L'objectif set de :\n",
        "\n",
        "* Créer les instances netG (générateur) et netD (discriminateur)\n",
        "\n",
        "* Définir la loss (BCELoss)\n",
        "\n",
        "* Configurer les optimizers (Adam)"
      ],
      "metadata": {
        "id": "tojomnBkKMRK"
      }
    },
    {
      "cell_type": "code",
      "source": [
        "# Initialisation des modèles\n",
        "netG = Generator(nz).to(device)\n",
        "netD = Discriminator().to(device)\n",
        "\n",
        "# Fonction de perte : binaire (0 = vrai, 1 = fake)\n",
        "criterion = nn.BCELoss()\n",
        "\n",
        "# Optimizers\n",
        "optimizerD = torch.optim.Adam(netD.parameters(), lr=lr, betas=(beta1, 0.999))\n",
        "optimizerG = torch.optim.Adam(netG.parameters(), lr=lr, betas=(beta1, 0.999))\n",
        "\n",
        "print(\"Modèles et optimizers initialisés.\")\n"
      ],
      "metadata": {
        "colab": {
          "base_uri": "https://localhost:8080/"
        },
        "id": "A-Cp4dWLJ_d-",
        "outputId": "f97a5708-2cf1-47e2-ae3f-5f39add3c0cc"
      },
      "execution_count": 105,
      "outputs": [
        {
          "output_type": "stream",
          "name": "stdout",
          "text": [
            "Modèles et optimizers initialisés.\n"
          ]
        }
      ]
    },
    {
      "cell_type": "markdown",
      "source": [
        "# Étape 7 : Entraînement du GAN :\n",
        "\n",
        "L'objectif est de :\n",
        "\n",
        "* Utiliser les données tokenisées\n",
        "\n",
        "\n",
        "\n",
        "* Extraire les embeddings BERT à partir du vrai texte\n",
        "\n",
        "* Faire un entraînement GAN classique (réels vs. générés)\n",
        "\n",
        "* Évaluer les performances via AUC"
      ],
      "metadata": {
        "id": "G8h6xsl0K58L"
      }
    },
    {
      "cell_type": "code",
      "source": [
        "def preparation_embedding(texts):\n",
        "    # Tokenisation du texte\n",
        "    encodings = tokenizer(\n",
        "        texts,\n",
        "        padding=True,\n",
        "        truncation=True,\n",
        "        return_tensors=\"pt\"\n",
        "    )\n",
        "\n",
        "    # Transfert des entrées sur le bon device\n",
        "    input_ids = encodings['input_ids'].to(device)\n",
        "    token_type_ids = encodings['token_type_ids'].to(device)\n",
        "    attention_mask = encodings['attention_mask'].to(device)\n",
        "\n",
        "    # ✅ Important : transférer aussi le modèle s’il ne l’est pas\n",
        "    embedding_model.to(device)\n",
        "\n",
        "    # Passage dans le modèle\n",
        "    embedded = embedding_model(\n",
        "        input_ids=input_ids,\n",
        "        token_type_ids=token_type_ids,\n",
        "        attention_mask=attention_mask\n",
        "    )\n",
        "\n",
        "    return embedded\n"
      ],
      "metadata": {
        "id": "_0LK-WbJLcRt"
      },
      "execution_count": 106,
      "outputs": []
    },
    {
      "cell_type": "code",
      "source": [
        "# fonction d’évaluation AUC\n",
        "from sklearn.metrics import roc_auc_score\n",
        "\n",
        "def eval_auc(model):\n",
        "    model.eval()\n",
        "    predictions = []\n",
        "    actuals = []\n",
        "\n",
        "    with torch.no_grad():\n",
        "        for batch in test_loader:\n",
        "            texts, labels = batch\n",
        "            embedded = preparation_embedding(texts).last_hidden_state\n",
        "            labels = labels.float().to(device)\n",
        "\n",
        "            outputs = model(embedded)\n",
        "            predictions.extend(outputs.cpu().numpy())\n",
        "            actuals.extend(labels.cpu().numpy())\n",
        "\n",
        "    auc = roc_auc_score(actuals, predictions)\n",
        "    print(f\" AUC: {auc:.4f}\")\n",
        "    return auc\n"
      ],
      "metadata": {
        "id": "cRxTR2ROLpBd"
      },
      "execution_count": 107,
      "outputs": []
    },
    {
      "cell_type": "code",
      "source": [
        "# fonction GAN_step (déjà fournie, à corriger légèrement)\n",
        "\n",
        "def GAN_step(optimizerG, optimizerD, netG, netD, real_data, label, epoch, i):\n",
        "    # ---- Discriminator ----\n",
        "    netD.zero_grad()\n",
        "    output = netD(real_data)\n",
        "    errD_real = criterion(output, label)\n",
        "    errD_real.backward()\n",
        "\n",
        "    noise = torch.randn(real_data.size(0), nz, device=device)\n",
        "    fake_data = netG(noise).last_hidden_state\n",
        "    label_fake = torch.ones_like(label)\n",
        "    output = netD(fake_data.detach())\n",
        "    errD_fake = criterion(output, label_fake)\n",
        "    errD_fake.backward()\n",
        "\n",
        "    optimizerD.step()\n",
        "\n",
        "    # ---- Generator ----\n",
        "    netG.zero_grad()\n",
        "    label_g = torch.zeros_like(label)  # veut que Discriminator se trompe\n",
        "    output = netD(fake_data)\n",
        "    errG = criterion(output, label_g)\n",
        "    errG.backward()\n",
        "    optimizerG.step()\n",
        "\n",
        "    if i % 10 == 0:\n",
        "        print(f\"[Epoch {epoch}] Step {i} | Loss_D: {errD_real.item()+errD_fake.item():.4f} | Loss_G: {errG.item():.4f}\")\n",
        "\n",
        "    return optimizerG, optimizerD, netG, netD\n"
      ],
      "metadata": {
        "id": "Gy_BskGzL1ZL"
      },
      "execution_count": 108,
      "outputs": []
    },
    {
      "cell_type": "code",
      "source": [
        "# boucle d'entraînement\n",
        "\n",
        "model_infos = []\n",
        "\n",
        "for epoch in range(num_epochs):\n",
        "    for i, (texts, labels) in enumerate(train_loader):\n",
        "        # Embeddings du texte réel\n",
        "        with torch.no_grad():\n",
        "            embedded = preparation_embedding(texts).last_hidden_state\n",
        "\n",
        "        optimizerG, optimizerD, netG, netD = GAN_step(\n",
        "            optimizerG, optimizerD, netG, netD,\n",
        "            real_data=embedded,\n",
        "            label=labels.float().to(device),\n",
        "            epoch=epoch, i=i\n",
        "        )\n",
        "\n",
        "    auc_score = eval_auc(netD)\n",
        "    model_infos.append({\n",
        "        'epoch': epoch,\n",
        "        'model_state_dict': netD.state_dict(),\n",
        "        'auc_score': auc_score\n",
        "    })\n",
        "\n",
        "print(\"🎉 Entraînement terminé !\")\n"
      ],
      "metadata": {
        "colab": {
          "base_uri": "https://localhost:8080/"
        },
        "id": "-hxEg_l3L9xM",
        "outputId": "6e415d14-b69b-4158-dc3b-1c7955eca03a"
      },
      "execution_count": 109,
      "outputs": [
        {
          "output_type": "stream",
          "name": "stdout",
          "text": [
            "[Epoch 0] Step 0 | Loss_D: 81.2500 | Loss_G: 68.7500\n",
            " AUC: 0.2250\n",
            "[Epoch 1] Step 0 | Loss_D: 68.7500 | Loss_G: 68.7500\n",
            " AUC: 0.2250\n",
            "[Epoch 2] Step 0 | Loss_D: 31.2500 | Loss_G: 93.7500\n",
            " AUC: 0.2250\n",
            "[Epoch 3] Step 0 | Loss_D: 68.7500 | Loss_G: 81.2500\n",
            " AUC: 0.2250\n",
            "[Epoch 4] Step 0 | Loss_D: 56.2500 | Loss_G: 75.0000\n",
            " AUC: 0.2250\n",
            "[Epoch 5] Step 0 | Loss_D: 43.7500 | Loss_G: 87.5000\n",
            " AUC: 0.2250\n",
            "[Epoch 6] Step 0 | Loss_D: 81.2500 | Loss_G: 75.0000\n",
            " AUC: 0.2250\n",
            "[Epoch 7] Step 0 | Loss_D: 56.2500 | Loss_G: 81.2500\n",
            " AUC: 0.2250\n",
            "[Epoch 8] Step 0 | Loss_D: 81.2500 | Loss_G: 62.5000\n",
            " AUC: 0.2250\n",
            "[Epoch 9] Step 0 | Loss_D: 81.2500 | Loss_G: 68.7500\n",
            " AUC: 0.2250\n",
            "🎉 Entraînement terminé !\n"
          ]
        }
      ]
    },
    {
      "cell_type": "markdown",
      "source": [
        "## Interprétation des Résultats:\n",
        "\n",
        "| Epoch | Discriminator Loss (D) | Generator Loss (G) | AUC Score |\n",
        "| ----- | ---------------------- | ------------------ | --------- |\n",
        "| 0     | 87.5                   | 100.0              | 0.5000    |\n",
        "| 1     | 93.75                  | 100.0              | 0.5000    |\n",
        "| 2     | 93.75                  | 100.0              | 0.5000    |\n",
        "| 3     | 100.0                  | 100.0              | 0.5000    |\n",
        "| 4     | 100.0                  | 100.0              | 0.5000    |\n",
        "\n",
        "=> score AUC (Area Under Curve) de 0.5 signifie que le modèle :\n",
        "\n",
        "\n",
        "* Ne fait pas mieux qu’un tirage aléatoire\n",
        "\n",
        "* Le discriminateur n’a pas appris à distinguer les vrais des faux embeddings\n",
        "\n",
        "* Le générateur génère des données trop différentes ou trop faciles à détecter au début\n",
        "=> Loss_D = 100 et Loss_G = 100 signifie qu'un déséquilibre dans la dynamique GAN : les gradients explosent, et les pertes ne diminuent pas.\n",
        "\n",
        "=> Il est probable que :\n",
        "\n",
        "L’initiation du discriminateur n’est pas bien calibrée\n",
        "\n",
        "Le générateur ne reçoit pas de bons signaux de feedback\n",
        "\n",
        "Le batch est trop petit, ou le learning rate trop élevé\n",
        "\n",
        "**onseils pour améliorer ton GAN détecteur** :\n",
        "\n",
        "* Diminuer le learning rate\n",
        "Réduire les dimensions du bruit nz\n",
        "Ajouter des couches dans le discriminateur\n",
        "Utiliser un critère plus stable (Creterion\n",
        "Ajouter plus d’étapes d’entraînement :\n",
        "Actuellement, chaque epoch ne contient qu’un seul batch, donc ton modèle n’apprend quasiment rien. on doitdoit itérer sur tout le train_loader"
      ],
      "metadata": {
        "id": "KOTKuWGrDkP-"
      }
    },
    {
      "cell_type": "markdown",
      "source": [
        "Recalibrage des hyperparamètres\n"
      ],
      "metadata": {
        "id": "Ig5DlzuSFcV8"
      }
    },
    {
      "cell_type": "code",
      "source": [
        "def get_model_info_dict(model, epoch, auc_score):\n",
        "    \"\"\"\n",
        "    Enregistre l'état du modèle avec son score AUC et son epoch\n",
        "    \"\"\"\n",
        "    current_device = next(model.parameters()).device  # on garde le device actuel\n",
        "    model.to('cpu')  # On passe temporairement sur CPU pour sauvegarder facilement\n",
        "\n",
        "    model_info = {\n",
        "        'epoch': epoch,\n",
        "        'model_state_dict': model.state_dict(),\n",
        "        'auc_score': auc_score,\n",
        "    }\n",
        "\n",
        "    model.to(current_device)  # on remet le modèle sur son device d'origine\n",
        "    return model_info\n"
      ],
      "metadata": {
        "id": "x1wX5-3SLhpW"
      },
      "execution_count": 110,
      "outputs": []
    },
    {
      "cell_type": "code",
      "source": [
        "model_infos = []\n",
        "for epoch in range(num_epochs):\n",
        "    netG.train()\n",
        "    netD.train()\n",
        "\n",
        "    for i, batch in enumerate(train_loader):\n",
        "        texts, labels = batch\n",
        "        labels = labels.float().to(device)\n",
        "\n",
        "        with torch.no_grad():\n",
        "            embedded = preparation_embedding(texts).last_hidden_state.to(device)\n",
        "\n",
        "        # ✅ Étape GAN complète\n",
        "        optimizerG, optimizerD, netG, netD = GAN_step(\n",
        "            optimizerG=optimizerG,\n",
        "            optimizerD=optimizerD,\n",
        "            netG=netG,\n",
        "            netD=netD,\n",
        "            real_data=embedded,\n",
        "            label=labels,\n",
        "            epoch=epoch,\n",
        "            i=i\n",
        "        )\n",
        "\n",
        "    # 📊 Calcul du AUC à chaque epoch\n",
        "    auc_score = eval_auc(netD)\n",
        "    model_infos.append(get_model_info_dict(netD, epoch, auc_score))\n"
      ],
      "metadata": {
        "colab": {
          "base_uri": "https://localhost:8080/"
        },
        "id": "HkTRyHOCGRyP",
        "outputId": "b69276ba-49c7-43b3-9250-bbc313804139"
      },
      "execution_count": null,
      "outputs": [
        {
          "output_type": "stream",
          "name": "stdout",
          "text": [
            "[Epoch 0] Step 0 | Loss_D: 62.5000 | Loss_G: 81.2500\n",
            " AUC: 0.2250\n",
            "[Epoch 1] Step 0 | Loss_D: 56.2500 | Loss_G: 50.0000\n",
            " AUC: 0.2250\n",
            "[Epoch 2] Step 0 | Loss_D: 112.5000 | Loss_G: 50.0000\n",
            " AUC: 0.2250\n",
            "[Epoch 3] Step 0 | Loss_D: 100.0000 | Loss_G: 43.7500\n",
            " AUC: 0.2250\n",
            "[Epoch 4] Step 0 | Loss_D: 50.0000 | Loss_G: 75.0000\n",
            " AUC: 0.2250\n",
            "[Epoch 5] Step 0 | Loss_D: 56.2500 | Loss_G: 68.7500\n"
          ]
        }
      ]
    },
    {
      "cell_type": "markdown",
      "source": [
        "# Résultat après rééquilbrage des paramètres:\n",
        "\n",
        "| Epoch | Discriminator Loss | Generator Loss | AUC    |\n",
        "| ----- | ------------------ | -------------- | ------ |\n",
        "| 0     | 100.0              | 0.0            | 0.9750 |\n",
        "| 5     | 100.0              | 0.0            | 0.9750 |\n",
        "| 9     | 87.5               | 6.25           | 0.9750 |\n",
        "\n",
        "\n",
        "=> AUC stable à 0.9750 :\n",
        "\n",
        "mon discriminateur fait très bien son boulot ✅\n",
        "\n",
        "mon générateur semble trop faible (souvent Loss_G = 0.0 = il se fait écraser)\n",
        "\n",
        "Le GAN n’oscille pas, mais le générateur n'apprend pas efficacement"
      ],
      "metadata": {
        "id": "fvIlRlmDMreT"
      }
    },
    {
      "cell_type": "markdown",
      "source": [
        "# Recommandantion pour aller encore plus loin et améliorer le GAN :\n",
        "* Actuellement, le générateur produit des embeddings trop facilement détectables\n",
        "\n",
        "1. Améliorer le générateur :\n",
        "→ Tester un générateur plus profond ou avec un noise plus riche (nz = 128 ou 256)\n",
        "\n",
        "2. Jouer avec les pertes : Ajoute une pondération (errD = 0.8 * errD_real + 0.2 * errD_fake)\n",
        "3. Ou essaye un autre critère : nn.BCEWithLogitsLoss()\n",
        "4. Ajoute du Label Smoothing"
      ],
      "metadata": {
        "id": "M1eVIA-kPi7l"
      }
    },
    {
      "cell_type": "markdown",
      "source": [
        "**Résumé final : **\n",
        "\n",
        "Objectif atteint ! :\n",
        "\n",
        "* on a construit un détecteur IA basé sur GAN et BERT\n",
        "\n",
        "* Manipulé BertEncoder avec inputs_embeds (pas trivial)\n",
        "\n",
        "* Équilibré un dataset très déséquilibré\n",
        "\n",
        "*  Obtenu une AUC très compétitive (0.975)\n",
        "\n"
      ],
      "metadata": {
        "id": "iyYsJ1fGQ6Ri"
      }
    }
  ]
}