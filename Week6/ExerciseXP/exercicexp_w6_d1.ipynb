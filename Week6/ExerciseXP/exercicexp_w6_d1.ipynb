{
  "nbformat": 4,
  "nbformat_minor": 0,
  "metadata": {
    "colab": {
      "provenance": [],
      "authorship_tag": "ABX9TyOXELh3FSek36yFNjcFUtz+",
      "include_colab_link": true
    },
    "kernelspec": {
      "name": "python3",
      "display_name": "Python 3"
    },
    "language_info": {
      "name": "python"
    }
  },
  "cells": [
    {
      "cell_type": "markdown",
      "metadata": {
        "id": "view-in-github",
        "colab_type": "text"
      },
      "source": [
        "<a href=\"https://colab.research.google.com/github/amoukrim/AI/blob/main/Week6/ExerciseXP/exercicexp_w6_d1.ipynb\" target=\"_parent\"><img src=\"https://colab.research.google.com/assets/colab-badge.svg\" alt=\"Open In Colab\"/></a>"
      ]
    },
    {
      "cell_type": "markdown",
      "source": [
        "#@ Author Adil MOUKRIM\n",
        "\n",
        "Exercises XP\n",
        "Last Updated: July 8th, 2025\n",
        "\n",
        "👩‍🏫 👩🏿‍🏫 What You’ll learn\n",
        "Text preprocessing usage\n",
        "Text Analysis technics\n",
        "POS and NER tags\n",
        "vectorization and word embeddings: Word2Vec\n",
        "\n",
        "\n",
        "Sample dataset\n",
        "Here is the data you will need to load and use:\n",
        "\n",
        "\n",
        "\n",
        "data = {\n",
        "    'Review': [\n",
        "        'At McDonald\\'s the food was ok and the service was bad.',\n",
        "        'I would not recommend this Japanese restaurant to anyone.',\n",
        "        'I loved this restaurant when I traveled to Thailand last summer.',\n",
        "        'The menu of Loving has a wide variety of options.',\n",
        "        'The staff was friendly and helpful at Google\\'s employees restaurant.',\n",
        "        'The ambiance at Bella Italia is amazing, and the pasta dishes are delicious.',\n",
        "        'I had a terrible experience at Pizza Hut. The pizza was burnt, and the service was slow.',\n",
        "        'The sushi at Sushi Express is always fresh and flavorful.',\n",
        "        'The steakhouse on Main Street has a cozy atmosphere and excellent steaks.',\n",
        "        'The dessert selection at Sweet Treats is to die for!'\n",
        "    ]\n",
        "}\n",
        "\n",
        "\n",
        "\n",
        "Exercise 1: Exploring Text Preprocessing usage, NER and POS tags\n",
        "1. Create a function preprocess_text() wich will receive the data as argument and:\n",
        "\n",
        "convert all the text in lower case and tokanize it\n",
        "remove punctuation\n",
        "remove stopwords\n",
        "apply a lemmatizer\n",
        "return the preprocessed strings\n",
        "\n",
        "\n",
        "important:\n",
        "after creating each function, apply it in the dataset and print the result to check that is working properly\n",
        "\n",
        "\n",
        "2. Create a new dataset with the cleaned text\n",
        "\n",
        "hint: keep two datasets: the raw data and the preprocessed data\n",
        "\n",
        "\n",
        "\n",
        "3. Create a function perform_ner() that will receive the text as argument and perform NER tagging on it. Use spacy en_core_web_sm\n",
        "\n",
        "hint: the function should return the entities text and label_ (example of _labels: ORG, GPE, DATE)\n",
        "\n",
        "\n",
        "\n",
        "4. Create a function perform_pos_tagging() that will receive the text as argument and perform POS tagging on it.\n",
        "\n",
        "hint: use nltk pos_tag method\n",
        "\n",
        "\n",
        "\n",
        "5. Let’s apply the functions in the dataset, analyse the outputs applying it in the preprocessed data and in the raw data\n",
        "\n",
        "hint: to understand the meaning of the different POS tags you can use:\n",
        "\n",
        "\n",
        "\n",
        "nltk.download('tagsets')\n",
        "nltk.help.upenn_tagset('NN')\n",
        "\n",
        "\n",
        "Exercise 2: Plotting the word embeddings\n",
        "1. Create the word embeddings using Word2Vec model to vectorize the text.\n",
        "\n",
        "hint: use the preprocessed and tokenized dataset and use Word2Vec model from gensim.models\n",
        "\n",
        "Print the dimensions of the Word2Vec object and analyse it. What is the vector dimensions? What it means?\n",
        "\n",
        "\n",
        "\n",
        "2. Create a function plot_word_embeddings() that receives the word2vec object as argument and plots the embeddings dimensions in a grided plot. Use a scatter plot. Loop through the words and use annotate() method to add text labels to each point on the scatter plot.\n",
        "Finally call this function to see the plots and analyse it:\n",
        "\n",
        "Are the related words close to each other?\n",
        "What can be the possible reasons for this output?\n",
        "\n",
        "\n",
        "3. To enhance the analysis, you can:\n",
        "\n",
        "Experiment with different preprocessing techniques.\n",
        "Fine-tune the Word2Vec model parameters.\n",
        "Explore advanced visualization techniques for word embeddings."
      ],
      "metadata": {
        "id": "McReTpggxZUg"
      }
    },
    {
      "cell_type": "markdown",
      "source": [
        "# Objectif\n",
        "Créer une fonction qui :\n",
        "\n",
        "Met le texte en minuscules\n",
        "\n",
        "Le tokenize (découpe en mots)\n",
        "\n",
        "Supprime la ponctuation\n",
        "\n",
        "Supprime les stopwords\n",
        "\n",
        "Applique une lemmatisation\n",
        "\n",
        "Retourne les textes nettoyés (sous forme de string ou liste de mots)"
      ],
      "metadata": {
        "id": "kf_qjT_OxjSH"
      }
    },
    {
      "cell_type": "markdown",
      "source": [
        "# Importation/Installation des dépendances"
      ],
      "metadata": {
        "id": "aHtYcLVexqLn"
      }
    },
    {
      "cell_type": "code",
      "source": [
        "# Installation de spaCy\n",
        "!pip install spacy\n",
        "!pip install gensim\n",
        "\n",
        "# Téléchargement du modèle anglais\n",
        "!python -m spacy download en_core_web_sm"
      ],
      "metadata": {
        "colab": {
          "base_uri": "https://localhost:8080/"
        },
        "id": "KQozQlnM5YVP",
        "outputId": "ebe25635-e4ad-4b5e-fbeb-dc631befd592"
      },
      "execution_count": 21,
      "outputs": [
        {
          "output_type": "stream",
          "name": "stdout",
          "text": [
            "Requirement already satisfied: spacy in /usr/local/lib/python3.11/dist-packages (3.8.7)\n",
            "Requirement already satisfied: spacy-legacy<3.1.0,>=3.0.11 in /usr/local/lib/python3.11/dist-packages (from spacy) (3.0.12)\n",
            "Requirement already satisfied: spacy-loggers<2.0.0,>=1.0.0 in /usr/local/lib/python3.11/dist-packages (from spacy) (1.0.5)\n",
            "Requirement already satisfied: murmurhash<1.1.0,>=0.28.0 in /usr/local/lib/python3.11/dist-packages (from spacy) (1.0.13)\n",
            "Requirement already satisfied: cymem<2.1.0,>=2.0.2 in /usr/local/lib/python3.11/dist-packages (from spacy) (2.0.11)\n",
            "Requirement already satisfied: preshed<3.1.0,>=3.0.2 in /usr/local/lib/python3.11/dist-packages (from spacy) (3.0.10)\n",
            "Requirement already satisfied: thinc<8.4.0,>=8.3.4 in /usr/local/lib/python3.11/dist-packages (from spacy) (8.3.6)\n",
            "Requirement already satisfied: wasabi<1.2.0,>=0.9.1 in /usr/local/lib/python3.11/dist-packages (from spacy) (1.1.3)\n",
            "Requirement already satisfied: srsly<3.0.0,>=2.4.3 in /usr/local/lib/python3.11/dist-packages (from spacy) (2.5.1)\n",
            "Requirement already satisfied: catalogue<2.1.0,>=2.0.6 in /usr/local/lib/python3.11/dist-packages (from spacy) (2.0.10)\n",
            "Requirement already satisfied: weasel<0.5.0,>=0.1.0 in /usr/local/lib/python3.11/dist-packages (from spacy) (0.4.1)\n",
            "Requirement already satisfied: typer<1.0.0,>=0.3.0 in /usr/local/lib/python3.11/dist-packages (from spacy) (0.16.0)\n",
            "Requirement already satisfied: tqdm<5.0.0,>=4.38.0 in /usr/local/lib/python3.11/dist-packages (from spacy) (4.67.1)\n",
            "Requirement already satisfied: numpy>=1.19.0 in /usr/local/lib/python3.11/dist-packages (from spacy) (2.0.2)\n",
            "Requirement already satisfied: requests<3.0.0,>=2.13.0 in /usr/local/lib/python3.11/dist-packages (from spacy) (2.32.3)\n",
            "Requirement already satisfied: pydantic!=1.8,!=1.8.1,<3.0.0,>=1.7.4 in /usr/local/lib/python3.11/dist-packages (from spacy) (2.11.7)\n",
            "Requirement already satisfied: jinja2 in /usr/local/lib/python3.11/dist-packages (from spacy) (3.1.6)\n",
            "Requirement already satisfied: setuptools in /usr/local/lib/python3.11/dist-packages (from spacy) (75.2.0)\n",
            "Requirement already satisfied: packaging>=20.0 in /usr/local/lib/python3.11/dist-packages (from spacy) (24.2)\n",
            "Requirement already satisfied: langcodes<4.0.0,>=3.2.0 in /usr/local/lib/python3.11/dist-packages (from spacy) (3.5.0)\n",
            "Requirement already satisfied: language-data>=1.2 in /usr/local/lib/python3.11/dist-packages (from langcodes<4.0.0,>=3.2.0->spacy) (1.3.0)\n",
            "Requirement already satisfied: annotated-types>=0.6.0 in /usr/local/lib/python3.11/dist-packages (from pydantic!=1.8,!=1.8.1,<3.0.0,>=1.7.4->spacy) (0.7.0)\n",
            "Requirement already satisfied: pydantic-core==2.33.2 in /usr/local/lib/python3.11/dist-packages (from pydantic!=1.8,!=1.8.1,<3.0.0,>=1.7.4->spacy) (2.33.2)\n",
            "Requirement already satisfied: typing-extensions>=4.12.2 in /usr/local/lib/python3.11/dist-packages (from pydantic!=1.8,!=1.8.1,<3.0.0,>=1.7.4->spacy) (4.14.1)\n",
            "Requirement already satisfied: typing-inspection>=0.4.0 in /usr/local/lib/python3.11/dist-packages (from pydantic!=1.8,!=1.8.1,<3.0.0,>=1.7.4->spacy) (0.4.1)\n",
            "Requirement already satisfied: charset-normalizer<4,>=2 in /usr/local/lib/python3.11/dist-packages (from requests<3.0.0,>=2.13.0->spacy) (3.4.2)\n",
            "Requirement already satisfied: idna<4,>=2.5 in /usr/local/lib/python3.11/dist-packages (from requests<3.0.0,>=2.13.0->spacy) (3.10)\n",
            "Requirement already satisfied: urllib3<3,>=1.21.1 in /usr/local/lib/python3.11/dist-packages (from requests<3.0.0,>=2.13.0->spacy) (2.4.0)\n",
            "Requirement already satisfied: certifi>=2017.4.17 in /usr/local/lib/python3.11/dist-packages (from requests<3.0.0,>=2.13.0->spacy) (2025.7.9)\n",
            "Requirement already satisfied: blis<1.4.0,>=1.3.0 in /usr/local/lib/python3.11/dist-packages (from thinc<8.4.0,>=8.3.4->spacy) (1.3.0)\n",
            "Requirement already satisfied: confection<1.0.0,>=0.0.1 in /usr/local/lib/python3.11/dist-packages (from thinc<8.4.0,>=8.3.4->spacy) (0.1.5)\n",
            "Requirement already satisfied: click>=8.0.0 in /usr/local/lib/python3.11/dist-packages (from typer<1.0.0,>=0.3.0->spacy) (8.2.1)\n",
            "Requirement already satisfied: shellingham>=1.3.0 in /usr/local/lib/python3.11/dist-packages (from typer<1.0.0,>=0.3.0->spacy) (1.5.4)\n",
            "Requirement already satisfied: rich>=10.11.0 in /usr/local/lib/python3.11/dist-packages (from typer<1.0.0,>=0.3.0->spacy) (13.9.4)\n",
            "Requirement already satisfied: cloudpathlib<1.0.0,>=0.7.0 in /usr/local/lib/python3.11/dist-packages (from weasel<0.5.0,>=0.1.0->spacy) (0.21.1)\n",
            "Requirement already satisfied: smart-open<8.0.0,>=5.2.1 in /usr/local/lib/python3.11/dist-packages (from weasel<0.5.0,>=0.1.0->spacy) (7.3.0.post1)\n",
            "Requirement already satisfied: MarkupSafe>=2.0 in /usr/local/lib/python3.11/dist-packages (from jinja2->spacy) (3.0.2)\n",
            "Requirement already satisfied: marisa-trie>=1.1.0 in /usr/local/lib/python3.11/dist-packages (from language-data>=1.2->langcodes<4.0.0,>=3.2.0->spacy) (1.2.1)\n",
            "Requirement already satisfied: markdown-it-py>=2.2.0 in /usr/local/lib/python3.11/dist-packages (from rich>=10.11.0->typer<1.0.0,>=0.3.0->spacy) (3.0.0)\n",
            "Requirement already satisfied: pygments<3.0.0,>=2.13.0 in /usr/local/lib/python3.11/dist-packages (from rich>=10.11.0->typer<1.0.0,>=0.3.0->spacy) (2.19.2)\n",
            "Requirement already satisfied: wrapt in /usr/local/lib/python3.11/dist-packages (from smart-open<8.0.0,>=5.2.1->weasel<0.5.0,>=0.1.0->spacy) (1.17.2)\n",
            "Requirement already satisfied: mdurl~=0.1 in /usr/local/lib/python3.11/dist-packages (from markdown-it-py>=2.2.0->rich>=10.11.0->typer<1.0.0,>=0.3.0->spacy) (0.1.2)\n",
            "Collecting en-core-web-sm==3.8.0\n",
            "  Downloading https://github.com/explosion/spacy-models/releases/download/en_core_web_sm-3.8.0/en_core_web_sm-3.8.0-py3-none-any.whl (12.8 MB)\n",
            "\u001b[2K     \u001b[90m━━━━━━━━━━━━━━━━━━━━━━━━━━━━━━━━━━━━━━━━\u001b[0m \u001b[32m12.8/12.8 MB\u001b[0m \u001b[31m72.1 MB/s\u001b[0m eta \u001b[36m0:00:00\u001b[0m\n",
            "\u001b[?25h\u001b[38;5;2m✔ Download and installation successful\u001b[0m\n",
            "You can now load the package via spacy.load('en_core_web_sm')\n",
            "\u001b[38;5;3m⚠ Restart to reload dependencies\u001b[0m\n",
            "If you are in a Jupyter or Colab notebook, you may need to restart Python in\n",
            "order to load all the package's dependencies. You can do this by selecting the\n",
            "'Restart kernel' or 'Restart runtime' option.\n"
          ]
        }
      ]
    },
    {
      "cell_type": "code",
      "execution_count": 18,
      "metadata": {
        "colab": {
          "base_uri": "https://localhost:8080/"
        },
        "id": "eahdqWLYxUqV",
        "outputId": "1062fe84-f0c0-42bc-d8ce-dd59ccc643c0"
      },
      "outputs": [
        {
          "output_type": "stream",
          "name": "stderr",
          "text": [
            "[nltk_data] Downloading package punkt to /root/nltk_data...\n",
            "[nltk_data]   Package punkt is already up-to-date!\n",
            "[nltk_data] Downloading package stopwords to /root/nltk_data...\n",
            "[nltk_data]   Package stopwords is already up-to-date!\n",
            "[nltk_data] Downloading package wordnet to /root/nltk_data...\n",
            "[nltk_data]   Package wordnet is already up-to-date!\n",
            "[nltk_data] Downloading package omw-1.4 to /root/nltk_data...\n",
            "[nltk_data]   Package omw-1.4 is already up-to-date!\n"
          ]
        }
      ],
      "source": [
        "import nltk\n",
        "import string\n",
        "import re\n",
        "from nltk.corpus import stopwords\n",
        "from nltk.tokenize import word_tokenize\n",
        "from nltk.stem import WordNetLemmatizer\n",
        "\n",
        "# Téléchargements nécessaires\n",
        "nltk.download('punkt')\n",
        "nltk.download('stopwords')\n",
        "nltk.download('wordnet')\n",
        "nltk.download('omw-1.4')\n",
        "\n",
        "import pandas as pd\n",
        "import nltk\n",
        "nltk.download('averaged_perceptron_tagger')"
      ]
    },
    {
      "cell_type": "markdown",
      "source": [
        "prétraitement"
      ],
      "metadata": {
        "id": "fN0RV-6UyPW7"
      }
    },
    {
      "cell_type": "markdown",
      "source": [
        "# Application au dataset"
      ],
      "metadata": {
        "id": "2wBUx2HSyZbs"
      }
    },
    {
      "cell_type": "code",
      "source": [
        "import nltk\n",
        "\n",
        "# Forçage des modules réellement nécessaires\n",
        "nltk.download('punkt', force=True)\n",
        "nltk.download('stopwords', force=True)\n",
        "nltk.download('wordnet', force=True)\n",
        "nltk.download('omw-1.4', force=True)\n"
      ],
      "metadata": {
        "colab": {
          "base_uri": "https://localhost:8080/"
        },
        "id": "HI29VaLd0-U2",
        "outputId": "4cc3c6bd-0074-4986-d280-64120cea8b94"
      },
      "execution_count": 14,
      "outputs": [
        {
          "output_type": "stream",
          "name": "stderr",
          "text": [
            "[nltk_data] Downloading package punkt to /root/nltk_data...\n",
            "[nltk_data]   Unzipping tokenizers/punkt.zip.\n",
            "[nltk_data] Downloading package stopwords to /root/nltk_data...\n",
            "[nltk_data]   Unzipping corpora/stopwords.zip.\n",
            "[nltk_data] Downloading package wordnet to /root/nltk_data...\n",
            "[nltk_data] Downloading package omw-1.4 to /root/nltk_data...\n"
          ]
        },
        {
          "output_type": "execute_result",
          "data": {
            "text/plain": [
              "True"
            ]
          },
          "metadata": {},
          "execution_count": 14
        }
      ]
    },
    {
      "cell_type": "markdown",
      "source": [
        "#Exercise 1: Exploring Text Preprocessing usage, NER and POS"
      ],
      "metadata": {
        "id": "MqlwqnLp3cX4"
      }
    },
    {
      "cell_type": "markdown",
      "source": [
        "# version simplifiée de preprocess_text (sans nltk.word_tokenize qui fonctionne pas)"
      ],
      "metadata": {
        "id": "F_tsUrC-2K4M"
      }
    },
    {
      "cell_type": "code",
      "source": [
        "import re\n",
        "import string\n",
        "from nltk.corpus import stopwords\n",
        "from nltk.stem import WordNetLemmatizer\n",
        "\n",
        "def preprocess_text(text_list):\n",
        "    lemmatizer = WordNetLemmatizer()\n",
        "    stop_words = set(stopwords.words('english'))\n",
        "    cleaned_texts = []\n",
        "\n",
        "    for text in text_list:\n",
        "        # 1. Mise en minuscules\n",
        "        text = text.lower()\n",
        "\n",
        "        # 2. Retirer la ponctuation\n",
        "        text = re.sub(f\"[{re.escape(string.punctuation)}]\", \"\", text)\n",
        "\n",
        "        # 3. Découpage des mots (tokenisation simple)\n",
        "        tokens = text.split()\n",
        "\n",
        "        # 4. Retirer les stopwords\n",
        "        tokens = [word for word in tokens if word not in stop_words]\n",
        "\n",
        "        # 5. Lemmatisation\n",
        "        tokens = [lemmatizer.lemmatize(word) for word in tokens]\n",
        "\n",
        "        cleaned_texts.append(tokens)\n",
        "\n",
        "    return cleaned_texts\n",
        "\n"
      ],
      "metadata": {
        "id": "gH_mV2gE1voL"
      },
      "execution_count": 16,
      "outputs": []
    },
    {
      "cell_type": "markdown",
      "source": [
        "##Create a function preprocess_text()"
      ],
      "metadata": {
        "id": "U6LlWasd3SXT"
      }
    },
    {
      "cell_type": "code",
      "source": [
        "preprocessed_reviews = preprocess_text(data['Review'])\n",
        "\n",
        "for i, (raw, clean) in enumerate(zip(data['Review'], preprocessed_reviews)):\n",
        "    print(f\"\\n🟩 Original [{i+1}]: {raw}\")\n",
        "    print(f\"🧼 Nettoyé  [{i+1}]: {clean}\")\n"
      ],
      "metadata": {
        "colab": {
          "base_uri": "https://localhost:8080/"
        },
        "id": "GLQVvZbm2evz",
        "outputId": "a34b1d92-50bc-4157-a394-5399dd4d5ab3"
      },
      "execution_count": 17,
      "outputs": [
        {
          "output_type": "stream",
          "name": "stdout",
          "text": [
            "\n",
            "🟩 Original [1]: At McDonald's the food was ok and the service was bad.\n",
            "🧼 Nettoyé  [1]: ['mcdonalds', 'food', 'ok', 'service', 'bad']\n",
            "\n",
            "🟩 Original [2]: I would not recommend this Japanese restaurant to anyone.\n",
            "🧼 Nettoyé  [2]: ['would', 'recommend', 'japanese', 'restaurant', 'anyone']\n",
            "\n",
            "🟩 Original [3]: I loved this restaurant when I traveled to Thailand last summer.\n",
            "🧼 Nettoyé  [3]: ['loved', 'restaurant', 'traveled', 'thailand', 'last', 'summer']\n",
            "\n",
            "🟩 Original [4]: The menu of Loving has a wide variety of options.\n",
            "🧼 Nettoyé  [4]: ['menu', 'loving', 'wide', 'variety', 'option']\n",
            "\n",
            "🟩 Original [5]: The staff was friendly and helpful at Google's employees restaurant.\n",
            "🧼 Nettoyé  [5]: ['staff', 'friendly', 'helpful', 'google', 'employee', 'restaurant']\n",
            "\n",
            "🟩 Original [6]: The ambiance at Bella Italia is amazing, and the pasta dishes are delicious.\n",
            "🧼 Nettoyé  [6]: ['ambiance', 'bella', 'italia', 'amazing', 'pasta', 'dish', 'delicious']\n",
            "\n",
            "🟩 Original [7]: I had a terrible experience at Pizza Hut. The pizza was burnt, and the service was slow.\n",
            "🧼 Nettoyé  [7]: ['terrible', 'experience', 'pizza', 'hut', 'pizza', 'burnt', 'service', 'slow']\n",
            "\n",
            "🟩 Original [8]: The sushi at Sushi Express is always fresh and flavorful.\n",
            "🧼 Nettoyé  [8]: ['sushi', 'sushi', 'express', 'always', 'fresh', 'flavorful']\n",
            "\n",
            "🟩 Original [9]: The steakhouse on Main Street has a cozy atmosphere and excellent steaks.\n",
            "🧼 Nettoyé  [9]: ['steakhouse', 'main', 'street', 'cozy', 'atmosphere', 'excellent', 'steak']\n",
            "\n",
            "🟩 Original [10]: The dessert selection at Sweet Treats is to die for!\n",
            "🧼 Nettoyé  [10]: ['dessert', 'selection', 'sweet', 'treat', 'die']\n"
          ]
        }
      ]
    },
    {
      "cell_type": "markdown",
      "source": [
        "##Étape 2 – Création du dataset nettoyé"
      ],
      "metadata": {
        "id": "BwwNm9gE4LJ3"
      }
    },
    {
      "cell_type": "code",
      "source": [
        "\n",
        "\n",
        "# Création du DataFrame avec texte brut et nettoyé\n",
        "df_reviews = pd.DataFrame({\n",
        "    'Raw_Review': data['Review'],\n",
        "    'Cleaned_Review': preprocessed_reviews\n",
        "})\n",
        "\n",
        "# Affichage pour validation\n",
        "print(df_reviews)\n"
      ],
      "metadata": {
        "colab": {
          "base_uri": "https://localhost:8080/"
        },
        "id": "N4oYwODD4TOl",
        "outputId": "433ca927-f120-4303-bf16-e47dd08b8338"
      },
      "execution_count": 22,
      "outputs": [
        {
          "output_type": "stream",
          "name": "stdout",
          "text": [
            "                                          Raw_Review  \\\n",
            "0  At McDonald's the food was ok and the service ...   \n",
            "1  I would not recommend this Japanese restaurant...   \n",
            "2  I loved this restaurant when I traveled to Tha...   \n",
            "3  The menu of Loving has a wide variety of options.   \n",
            "4  The staff was friendly and helpful at Google's...   \n",
            "5  The ambiance at Bella Italia is amazing, and t...   \n",
            "6  I had a terrible experience at Pizza Hut. The ...   \n",
            "7  The sushi at Sushi Express is always fresh and...   \n",
            "8  The steakhouse on Main Street has a cozy atmos...   \n",
            "9  The dessert selection at Sweet Treats is to di...   \n",
            "\n",
            "                                      Cleaned_Review  \n",
            "0                [mcdonalds, food, ok, service, bad]  \n",
            "1   [would, recommend, japanese, restaurant, anyone]  \n",
            "2  [loved, restaurant, traveled, thailand, last, ...  \n",
            "3              [menu, loving, wide, variety, option]  \n",
            "4  [staff, friendly, helpful, google, employee, r...  \n",
            "5  [ambiance, bella, italia, amazing, pasta, dish...  \n",
            "6  [terrible, experience, pizza, hut, pizza, burn...  \n",
            "7  [sushi, sushi, express, always, fresh, flavorful]  \n",
            "8  [steakhouse, main, street, cozy, atmosphere, e...  \n",
            "9            [dessert, selection, sweet, treat, die]  \n"
          ]
        }
      ]
    },
    {
      "cell_type": "markdown",
      "source": [
        "##Étape 3 : NER (Reconnaissance d'Entités Nommées)"
      ],
      "metadata": {
        "id": "LJjJWRgH47nL"
      }
    },
    {
      "cell_type": "code",
      "source": [
        "import spacy\n",
        "\n",
        "# Chargement du modèle spaCy anglais\n",
        "nlp = spacy.load(\"en_core_web_sm\")\n",
        "\n",
        "def perform_ner(text):\n",
        "    \"\"\"\n",
        "    Applique la reconnaissance d'entités nommées (NER) sur un texte brut.\n",
        "    Retourne une liste de tuples : (entité, étiquette)\n",
        "    \"\"\"\n",
        "    doc = nlp(text)\n",
        "    return [(ent.text, ent.label_) for ent in doc.ents]\n",
        "\n",
        "# Appliquer NER à chaque phrase du dataset\n",
        "df_reviews[\"Named_Entities\"] = df_reviews[\"Raw_Review\"].apply(perform_ner)\n",
        "\n",
        "# Affichage de quelques exemples pour vérification\n",
        "for i, row in df_reviews.iterrows():\n",
        "    print(f\"\\n🔎 Review {i+1}\")\n",
        "    print(f\"Texte : {row['Raw_Review']}\")\n",
        "    print(f\"Entités reconnues : {row['Named_Entities']}\")\n"
      ],
      "metadata": {
        "colab": {
          "base_uri": "https://localhost:8080/"
        },
        "id": "uWxLw7Wr6hqW",
        "outputId": "b7b3f609-1306-4747-9cad-f78b0ff7bfed"
      },
      "execution_count": 23,
      "outputs": [
        {
          "output_type": "stream",
          "name": "stdout",
          "text": [
            "\n",
            "🔎 Review 1\n",
            "Texte : At McDonald's the food was ok and the service was bad.\n",
            "Entités reconnues : [('McDonald', 'ORG')]\n",
            "\n",
            "🔎 Review 2\n",
            "Texte : I would not recommend this Japanese restaurant to anyone.\n",
            "Entités reconnues : [('Japanese', 'NORP')]\n",
            "\n",
            "🔎 Review 3\n",
            "Texte : I loved this restaurant when I traveled to Thailand last summer.\n",
            "Entités reconnues : [('Thailand', 'GPE'), ('last summer', 'DATE')]\n",
            "\n",
            "🔎 Review 4\n",
            "Texte : The menu of Loving has a wide variety of options.\n",
            "Entités reconnues : [('Loving', 'GPE')]\n",
            "\n",
            "🔎 Review 5\n",
            "Texte : The staff was friendly and helpful at Google's employees restaurant.\n",
            "Entités reconnues : [('Google', 'ORG')]\n",
            "\n",
            "🔎 Review 6\n",
            "Texte : The ambiance at Bella Italia is amazing, and the pasta dishes are delicious.\n",
            "Entités reconnues : [('Bella Italia', 'ORG')]\n",
            "\n",
            "🔎 Review 7\n",
            "Texte : I had a terrible experience at Pizza Hut. The pizza was burnt, and the service was slow.\n",
            "Entités reconnues : [('Pizza Hut', 'ORG')]\n",
            "\n",
            "🔎 Review 8\n",
            "Texte : The sushi at Sushi Express is always fresh and flavorful.\n",
            "Entités reconnues : [('Sushi Express', 'ORG')]\n",
            "\n",
            "🔎 Review 9\n",
            "Texte : The steakhouse on Main Street has a cozy atmosphere and excellent steaks.\n",
            "Entités reconnues : [('Main Street', 'FAC')]\n",
            "\n",
            "🔎 Review 10\n",
            "Texte : The dessert selection at Sweet Treats is to die for!\n",
            "Entités reconnues : [('Sweet Treats', 'PERSON')]\n"
          ]
        }
      ]
    },
    {
      "cell_type": "code",
      "source": [
        "Interprétation :\n",
        "\n",
        "✅ Ce que spaCy a bien détecté\n",
        "Organisations comme McDonald, Pizza Hut, Sushi Express → ✅\n",
        "\n",
        "Lieux comme Thailand, Main Street, Loving → ✅ (même si Loving est un peu flou)\n",
        "\n",
        "Nationalité / culture avec Japanese → ✅\n",
        "\n",
        "Dates relatives comme last summer → ✅\n",
        "\n",
        "❗️Petites imprécisions (normales avec un petit modèle)\n",
        "McDonald au lieu de McDonald's : dû au prétraitement ou à une erreur dans le tokenizer.\n",
        "\n",
        "Sweet Treats détecté comme PERSON : erreur classique sur les noms commerciaux.\n",
        "\n",
        "Loving détecté comme GPE (pays/ville) : sans contexte, spaCy pense que c’est un lieu.\n",
        "\n",
        "Ces erreurs sont normales avec le modèle en_core_web_sm (modèle léger). Un modèle plus grand (en_core_web_trf) serait plus précis."
      ],
      "metadata": {
        "id": "BZqSGodC6wjZ"
      },
      "execution_count": null,
      "outputs": []
    },
    {
      "cell_type": "markdown",
      "source": [
        "# Étape 4 – POS Tagging (Part-of-Speech)"
      ],
      "metadata": {
        "id": "5FPHewDE7OJB"
      }
    },
    {
      "cell_type": "code",
      "source": [
        "from nltk import pos_tag\n",
        "\n",
        "def perform_pos_tagging(tokens):\n",
        "    \"\"\"\n",
        "    Applique le POS tagging sur une liste de mots (tokens).\n",
        "    Retourne une liste de tuples (mot, étiquette grammaticale).\n",
        "    \"\"\"\n",
        "    return pos_tag(tokens)\n"
      ],
      "metadata": {
        "id": "MufTyAi47Yyy"
      },
      "execution_count": 27,
      "outputs": []
    },
    {
      "cell_type": "code",
      "source": [
        "import nltk\n",
        "nltk.download('averaged_perceptron_tagger')"
      ],
      "metadata": {
        "colab": {
          "base_uri": "https://localhost:8080/"
        },
        "id": "w2x77xwX8PpE",
        "outputId": "fc3d7bcf-1747-4672-e1bb-1e7f95dd6c8f"
      },
      "execution_count": 31,
      "outputs": [
        {
          "output_type": "stream",
          "name": "stderr",
          "text": [
            "[nltk_data] Downloading package averaged_perceptron_tagger to\n",
            "[nltk_data]     /root/nltk_data...\n",
            "[nltk_data]   Package averaged_perceptron_tagger is already up-to-\n",
            "[nltk_data]       date!\n"
          ]
        },
        {
          "output_type": "execute_result",
          "data": {
            "text/plain": [
              "True"
            ]
          },
          "metadata": {},
          "execution_count": 31
        }
      ]
    },
    {
      "cell_type": "code",
      "source": [
        "import nltk\n",
        "nltk.download('averaged_perceptron_tagger')"
      ],
      "metadata": {
        "colab": {
          "base_uri": "https://localhost:8080/"
        },
        "id": "MGXoCpOI8rS9",
        "outputId": "2529a8af-f3c0-46da-c235-860fc68446e6"
      },
      "execution_count": 36,
      "outputs": [
        {
          "output_type": "stream",
          "name": "stderr",
          "text": [
            "[nltk_data] Downloading package averaged_perceptron_tagger to\n",
            "[nltk_data]     /root/nltk_data...\n",
            "[nltk_data]   Package averaged_perceptron_tagger is already up-to-\n",
            "[nltk_data]       date!\n"
          ]
        },
        {
          "output_type": "execute_result",
          "data": {
            "text/plain": [
              "True"
            ]
          },
          "metadata": {},
          "execution_count": 36
        }
      ]
    },
    {
      "cell_type": "code",
      "source": [
        "from nltk.data import find\n",
        "\n",
        "try:\n",
        "    find('taggers/averaged_perceptron_tagger')\n",
        "    print(\"✅ POS tagger trouvé et prêt.\")\n",
        "except LookupError:\n",
        "    print(\"❌ POS tagger introuvable.\")\n"
      ],
      "metadata": {
        "colab": {
          "base_uri": "https://localhost:8080/"
        },
        "id": "u2EDW1J8816u",
        "outputId": "9dde2027-170f-410e-c802-5b1214123f4f"
      },
      "execution_count": 37,
      "outputs": [
        {
          "output_type": "stream",
          "name": "stdout",
          "text": [
            "✅ POS tagger trouvé et prêt.\n"
          ]
        }
      ]
    },
    {
      "cell_type": "markdown",
      "source": [
        " Solution 100% fonctionnelle : POS tagging sans NLTK"
      ],
      "metadata": {
        "id": "mkaveqtv9PhU"
      }
    },
    {
      "cell_type": "markdown",
      "source": [
        "Application sur texte nettoyé"
      ],
      "metadata": {
        "id": "ISy4AYm874Mp"
      }
    },
    {
      "cell_type": "code",
      "source": [
        "def perform_pos_tagging_spacy(text):\n",
        "    \"\"\"\n",
        "    Utilise spaCy pour effectuer le POS tagging sur un texte brut.\n",
        "    Retourne une liste de tuples (mot, étiquette grammaticale).\n",
        "    \"\"\"\n",
        "    doc = nlp(text)\n",
        "    return [(token.text, token.pos_) for token in doc]\n",
        "\n"
      ],
      "metadata": {
        "id": "jlDoj0F776gx"
      },
      "execution_count": 39,
      "outputs": []
    },
    {
      "cell_type": "code",
      "source": [
        "df_reviews[\"POS_Raw\"] = df_reviews[\"Raw_Review\"].apply(perform_pos_tagging_spacy)\n",
        "\n",
        "# Affichage de quelques exemples\n",
        "for i, row in df_reviews.head(4).iterrows():\n",
        "    print(f\"\\n🔠 Review {i+1} — POS (spaCy):\")\n",
        "    print(f\"Texte brut : {row['Raw_Review']}\")\n",
        "    print(f\"POS        : {row['POS_Raw']}\")\n"
      ],
      "metadata": {
        "colab": {
          "base_uri": "https://localhost:8080/"
        },
        "id": "QxmT_UZT7kzp",
        "outputId": "2e03e530-d558-4aa8-8d05-ccddf7b3cab8"
      },
      "execution_count": 40,
      "outputs": [
        {
          "output_type": "stream",
          "name": "stdout",
          "text": [
            "\n",
            "🔠 Review 1 — POS (spaCy):\n",
            "Texte brut : At McDonald's the food was ok and the service was bad.\n",
            "POS        : [('At', 'ADP'), ('McDonald', 'PROPN'), (\"'s\", 'PART'), ('the', 'DET'), ('food', 'NOUN'), ('was', 'AUX'), ('ok', 'ADJ'), ('and', 'CCONJ'), ('the', 'DET'), ('service', 'NOUN'), ('was', 'AUX'), ('bad', 'ADJ'), ('.', 'PUNCT')]\n",
            "\n",
            "🔠 Review 2 — POS (spaCy):\n",
            "Texte brut : I would not recommend this Japanese restaurant to anyone.\n",
            "POS        : [('I', 'PRON'), ('would', 'AUX'), ('not', 'PART'), ('recommend', 'VERB'), ('this', 'DET'), ('Japanese', 'ADJ'), ('restaurant', 'NOUN'), ('to', 'ADP'), ('anyone', 'PRON'), ('.', 'PUNCT')]\n",
            "\n",
            "🔠 Review 3 — POS (spaCy):\n",
            "Texte brut : I loved this restaurant when I traveled to Thailand last summer.\n",
            "POS        : [('I', 'PRON'), ('loved', 'VERB'), ('this', 'DET'), ('restaurant', 'NOUN'), ('when', 'SCONJ'), ('I', 'PRON'), ('traveled', 'VERB'), ('to', 'ADP'), ('Thailand', 'PROPN'), ('last', 'ADJ'), ('summer', 'NOUN'), ('.', 'PUNCT')]\n",
            "\n",
            "🔠 Review 4 — POS (spaCy):\n",
            "Texte brut : The menu of Loving has a wide variety of options.\n",
            "POS        : [('The', 'DET'), ('menu', 'NOUN'), ('of', 'ADP'), ('Loving', 'PROPN'), ('has', 'VERB'), ('a', 'DET'), ('wide', 'ADJ'), ('variety', 'NOUN'), ('of', 'ADP'), ('options', 'NOUN'), ('.', 'PUNCT')]\n"
          ]
        }
      ]
    },
    {
      "cell_type": "markdown",
      "source": [
        "# Exercice 2"
      ],
      "metadata": {
        "id": "Tjs9LvPg9xn2"
      }
    },
    {
      "cell_type": "markdown",
      "source": [
        "## Étape 1 — Créer les embeddings avec Word2Vec"
      ],
      "metadata": {
        "id": "H18DP5-8985p"
      }
    },
    {
      "cell_type": "code",
      "source": [
        "import re\n",
        "import string\n",
        "from nltk.corpus import stopwords\n",
        "from nltk.stem import WordNetLemmatizer\n",
        "\n",
        "def preprocess_text(text_list):\n",
        "    lemmatizer = WordNetLemmatizer()\n",
        "    stop_words = set(stopwords.words('english'))\n",
        "    cleaned_texts = []\n",
        "\n",
        "    for text in text_list:\n",
        "        text = text.lower()\n",
        "        text = re.sub(f\"[{re.escape(string.punctuation)}]\", \"\", text)\n",
        "        tokens = text.split()\n",
        "        tokens = [word for word in tokens if word not in stop_words]\n",
        "        tokens = [lemmatizer.lemmatize(word) for word in tokens]\n",
        "        cleaned_texts.append(tokens)\n",
        "\n",
        "    return cleaned_texts\n",
        "\n",
        "# Tes données\n",
        "data = {\n",
        "    'Review': [\n",
        "        \"At McDonald's the food was ok and the service was bad.\",\n",
        "        \"I would not recommend this Japanese restaurant to anyone.\",\n",
        "        \"I loved this restaurant when I traveled to Thailand last summer.\",\n",
        "        \"The menu of Loving has a wide variety of options.\",\n",
        "        \"The staff was friendly and helpful at Google's employees restaurant.\",\n",
        "        \"The ambiance at Bella Italia is amazing, and the pasta dishes are delicious.\",\n",
        "        \"I had a terrible experience at Pizza Hut. The pizza was burnt, and the service was slow.\",\n",
        "        \"The sushi at Sushi Express is always fresh and flavorful.\",\n",
        "        \"The steakhouse on Main Street has a cozy atmosphere and excellent steaks.\",\n",
        "        \"The dessert selection at Sweet Treats is to die for!\"\n",
        "    ]\n",
        "}\n",
        "\n",
        "# Exécute le nettoyage\n",
        "preprocessed_reviews = preprocess_text(data['Review'])"
      ],
      "metadata": {
        "id": "zDptxlr_--JL"
      },
      "execution_count": 2,
      "outputs": []
    },
    {
      "cell_type": "code",
      "source": [
        "from gensim.models import Word2Vec\n",
        "\n",
        "# Entraînement du modèle\n",
        "model = Word2Vec(sentences=preprocessed_reviews, vector_size=100, window=5, min_count=1, workers=4)\n",
        "\n",
        "print(\"📐 Dimensions du vecteur :\", model.vector_size)\n",
        "print(\"📚 Taille du vocabulaire :\", len(model.wv.index_to_key))\n"
      ],
      "metadata": {
        "colab": {
          "base_uri": "https://localhost:8080/"
        },
        "id": "RNmZGoxv-kYW",
        "outputId": "43774f2e-f37c-487c-ed33-950a429f7616"
      },
      "execution_count": 3,
      "outputs": [
        {
          "output_type": "stream",
          "name": "stdout",
          "text": [
            "📐 Dimensions du vecteur : 100\n",
            "📚 Taille du vocabulaire : 55\n"
          ]
        }
      ]
    },
    {
      "cell_type": "markdown",
      "source": [
        "Interprétation :\n",
        "Résumé :\n",
        "Chaque mot est maintenant représenté par un vecteur de 100 dimensions (vector_size=100)\n",
        "\n",
        "Le vocabulaire appris contient 55 mots uniques, issus de ton jeu de données nettoyé\n",
        "\n",
        "Ces vecteurs peuvent maintenant être :\n",
        "\n",
        "Comparés pour détecter la proximité sémantique\n",
        "\n",
        "Visualisés pour analyser les regroupements\n",
        "\n"
      ],
      "metadata": {
        "id": "6Q6Qh2B5_VPM"
      }
    },
    {
      "cell_type": "markdown",
      "source": [
        "Visualisationdes Word Embeddings"
      ],
      "metadata": {
        "id": "-XcipdtX_nYR"
      }
    },
    {
      "cell_type": "code",
      "source": [
        "import matplotlib.pyplot as plt\n",
        "from sklearn.decomposition import PCA\n",
        "\n",
        "def plot_word_embeddings(model):\n",
        "    # Récupération des mots du vocabulaire\n",
        "    words = list(model.wv.index_to_key)\n",
        "    word_vectors = model.wv[words]\n",
        "\n",
        "    # Réduction de dimensions (100D → 2D)\n",
        "    pca = PCA(n_components=2)\n",
        "    result = pca.fit_transform(word_vectors)\n",
        "\n",
        "    # Création du scatter plot\n",
        "    plt.figure(figsize=(12, 8))\n",
        "    plt.scatter(result[:, 0], result[:, 1])\n",
        "\n",
        "    # Ajout des labels de mots sur les points\n",
        "    for i, word in enumerate(words):\n",
        "        plt.annotate(word, xy=(result[i, 0], result[i, 1]))\n",
        "\n",
        "    plt.title(\"Word2Vec — Projection PCA en 2D\")\n",
        "    plt.xlabel(\"Composante 1\")\n",
        "    plt.ylabel(\"Composante 2\")\n",
        "    plt.grid(True)\n",
        "    plt.show()\n",
        "\n",
        "# Appel de la fonction\n",
        "plot_word_embeddings(model)\n"
      ],
      "metadata": {
        "colab": {
          "base_uri": "https://localhost:8080/",
          "height": 718
        },
        "id": "Y6ikIJTv_rYq",
        "outputId": "bce46747-b272-4b4f-8439-7394c3539006"
      },
      "execution_count": 4,
      "outputs": [
        {
          "output_type": "display_data",
          "data": {
            "text/plain": [
              "<Figure size 1200x800 with 1 Axes>"
            ],
            "image/png": "[encoded data removed]"
          },
          "metadata": {}
        }
      ]
    },
    {
      "cell_type": "markdown",
      "source": [
        "Interprétation :\n",
        "✅ 1. Mots proches sémantiquement\n",
        "On observe clairement plusieurs regroupements cohérents :\n",
        "\n",
        "pizza, pasta, google, italia et cozy sont dans une zone thématique de restaurants connus / ambiance\n",
        "\n",
        "delicious, friendly, atmosphere, excellent, flavorful sont également regroupés → ce sont des adjectifs positifs liés à l’expérience\n",
        "\n",
        "sushi, japanese, dish se trouvent aussi dans un sous-cluster asiatique\n",
        "\n",
        "❗️ 2. Mots étonnamment isolés\n",
        "would est complètement isolé → logique, c’est un verbe auxiliaire peu sémantique (peu de contexte utile)\n",
        "\n",
        "amazing et always sont éloignés → probablement peu de co-occurrences directes dans ce petit corpus\n",
        "\n",
        "loving et thailand sont dans un coin → très spécifiques et peu fréquents\n",
        "\n",
        "\n",
        "Des mots comme pizza, pasta, restaurant apparaissent souvent ensemble → donc vecteurs\n",
        "\n"
      ],
      "metadata": {
        "id": "pQx-OL-LAFHG"
      }
    },
    {
      "cell_type": "markdown",
      "source": [
        "# Etape 3 Experiment with different preprocessing techniques"
      ],
      "metadata": {
        "id": "VcfghVcNBQZZ"
      }
    },
    {
      "cell_type": "code",
      "source": [
        "from gensim.models import Phrases\n",
        "\n",
        "bigram = Phrases(preprocessed_reviews, min_count=1, threshold=5)\n",
        "bigram_mod = Phrases(preprocessed_reviews, min_count=1, threshold=5)\n",
        "bigram_reviews = [bigram[doc] for doc in preprocessed_reviews]\n"
      ],
      "metadata": {
        "id": "gZhd_eWfBuky"
      },
      "execution_count": 5,
      "outputs": []
    },
    {
      "cell_type": "code",
      "source": [
        "# Affichage des phrases après détection de bigrammes\n",
        "for i, (original, bigrammed) in enumerate(zip(preprocessed_reviews, bigram_reviews)):\n",
        "    print(f\"\\n📝 Phrase {i+1} (avant) : {original}\")\n",
        "    print(f\"🔗 Phrase {i+1} (avec bigrammes) : {bigrammed}\")\n"
      ],
      "metadata": {
        "colab": {
          "base_uri": "https://localhost:8080/"
        },
        "id": "gble5fo4CjQP",
        "outputId": "2c5daf6a-f149-4f6f-a3a0-05f1cd565d23"
      },
      "execution_count": 8,
      "outputs": [
        {
          "output_type": "stream",
          "name": "stdout",
          "text": [
            "\n",
            "📝 Phrase 1 (avant) : ['mcdonalds', 'food', 'ok', 'service', 'bad']\n",
            "🔗 Phrase 1 (avec bigrammes) : ['mcdonalds', 'food', 'ok', 'service', 'bad']\n",
            "\n",
            "📝 Phrase 2 (avant) : ['would', 'recommend', 'japanese', 'restaurant', 'anyone']\n",
            "🔗 Phrase 2 (avec bigrammes) : ['would', 'recommend', 'japanese', 'restaurant', 'anyone']\n",
            "\n",
            "📝 Phrase 3 (avant) : ['loved', 'restaurant', 'traveled', 'thailand', 'last', 'summer']\n",
            "🔗 Phrase 3 (avec bigrammes) : ['loved', 'restaurant', 'traveled', 'thailand', 'last', 'summer']\n",
            "\n",
            "📝 Phrase 4 (avant) : ['menu', 'loving', 'wide', 'variety', 'option']\n",
            "🔗 Phrase 4 (avec bigrammes) : ['menu', 'loving', 'wide', 'variety', 'option']\n",
            "\n",
            "📝 Phrase 5 (avant) : ['staff', 'friendly', 'helpful', 'google', 'employee', 'restaurant']\n",
            "🔗 Phrase 5 (avec bigrammes) : ['staff', 'friendly', 'helpful', 'google', 'employee', 'restaurant']\n",
            "\n",
            "📝 Phrase 6 (avant) : ['ambiance', 'bella', 'italia', 'amazing', 'pasta', 'dish', 'delicious']\n",
            "🔗 Phrase 6 (avec bigrammes) : ['ambiance', 'bella', 'italia', 'amazing', 'pasta', 'dish', 'delicious']\n",
            "\n",
            "📝 Phrase 7 (avant) : ['terrible', 'experience', 'pizza', 'hut', 'pizza', 'burnt', 'service', 'slow']\n",
            "🔗 Phrase 7 (avec bigrammes) : ['terrible', 'experience', 'pizza', 'hut', 'pizza', 'burnt', 'service', 'slow']\n",
            "\n",
            "📝 Phrase 8 (avant) : ['sushi', 'sushi', 'express', 'always', 'fresh', 'flavorful']\n",
            "🔗 Phrase 8 (avec bigrammes) : ['sushi', 'sushi', 'express', 'always', 'fresh', 'flavorful']\n",
            "\n",
            "📝 Phrase 9 (avant) : ['steakhouse', 'main', 'street', 'cozy', 'atmosphere', 'excellent', 'steak']\n",
            "🔗 Phrase 9 (avec bigrammes) : ['steakhouse', 'main', 'street', 'cozy', 'atmosphere', 'excellent', 'steak']\n",
            "\n",
            "📝 Phrase 10 (avant) : ['dessert', 'selection', 'sweet', 'treat', 'die']\n",
            "🔗 Phrase 10 (avec bigrammes) : ['dessert', 'selection', 'sweet', 'treat', 'die']\n"
          ]
        }
      ]
    },
    {
      "cell_type": "code",
      "source": [
        "#2. Fine-tune the Word2Vec model parameters\n",
        "model = Word2Vec(sentences=preprocessed_reviews, vector_size=50, window=3, min_count=2, sg=1, epochs=100)\n"
      ],
      "metadata": {
        "id": "M9ftVSmvB7ld"
      },
      "execution_count": 6,
      "outputs": []
    },
    {
      "cell_type": "code",
      "source": [
        "print(\"📚 Vocabulaire appris :\", len(model.wv.index_to_key))"
      ],
      "metadata": {
        "colab": {
          "base_uri": "https://localhost:8080/"
        },
        "id": "rBTexLFUC0FC",
        "outputId": "e4efaaf6-60a2-4917-b115-b5d23f18b56d"
      },
      "execution_count": 9,
      "outputs": [
        {
          "output_type": "stream",
          "name": "stdout",
          "text": [
            "📚 Vocabulaire appris : 4\n"
          ]
        }
      ]
    },
    {
      "cell_type": "code",
      "source": [
        "#3. Explore advanced visualization techniques for word embeddings\n",
        "from sklearn.manifold import TSNE\n",
        "import matplotlib.pyplot as plt\n",
        "\n",
        "def plot_tsne_embeddings(model):\n",
        "    # Récupération des mots et vecteurs depuis le modèle\n",
        "    words = list(model.wv.index_to_key)\n",
        "    vectors = model.wv[words]\n",
        "\n",
        "    # Vérifier automatiquement la perplexité adaptée\n",
        "    vocab_size = len(words)\n",
        "    perplexity = min(5, vocab_size - 1)  # t-SNE exige perplexity < n_samples\n",
        "\n",
        "    # t-SNE sur les vecteurs\n",
        "    tsne = TSNE(n_components=2, random_state=42, perplexity=perplexity)\n",
        "    result = tsne.fit_transform(vectors)\n",
        "\n",
        "    # Plot\n",
        "    plt.figure(figsize=(12, 8))\n",
        "    plt.scatter(result[:, 0], result[:, 1])\n",
        "\n",
        "    for i, word in enumerate(words):\n",
        "        plt.annotate(word, xy=(result[i, 0], result[i, 1]))\n",
        "\n",
        "    plt.title(f\"Word2Vec — t-SNE 2D (perplexity={perplexity})\")\n",
        "    plt.grid(True)\n",
        "    plt.xlabel(\"Dimension 1\")\n",
        "    plt.ylabel(\"Dimension 2\")\n",
        "    plt.show()\n",
        "\n",
        "# Appel de la fonction avec ton modèle Word2Vec\n",
        "plot_tsne_embeddings(model)\n"
      ],
      "metadata": {
        "colab": {
          "base_uri": "https://localhost:8080/",
          "height": 718
        },
        "id": "bgODmJLvCOqD",
        "outputId": "3ca9ffeb-ad7f-4061-eb97-d78add04a24c"
      },
      "execution_count": 14,
      "outputs": [
        {
          "output_type": "display_data",
          "data": {
            "text/plain": [
              "<Figure size 1200x800 with 1 Axes>"
            ],
            "image/png": "[encoded data removed]"
          },
          "metadata": {}
        }
      ]
    },
    {
      "cell_type": "markdown",
      "source": [
        "Analyse du graphique :\n",
        "✳️ 1. Mots affichés :\n",
        "pizza\n",
        "\n",
        "sushi\n",
        "\n",
        "restaurant\n",
        "\n",
        "service\n",
        "\n",
        "Ces mots sont issus du vocabulaire de ton modèle avec min_count=2, ce qui explique pourquoi tu ne vois que 4 mots.\n",
        "\n",
        "📌 2. Répartition des points\n",
        "Les 4 mots sont très éloignés les uns des autres, ce qui peut sembler surprenant.\n",
        "\n",
        "Mais t-SNE ne montre pas la distance absolue, il préserve les relations locales.\n",
        "\n",
        "Cela suggère que ces mots :\n",
        "\n",
        "apparaissent dans des contextes différents\n",
        "\n",
        "ne co-occurrent pas suffisamment pour avoir des vecteurs proches"
      ],
      "metadata": {
        "id": "Vhhiq5NTETy7"
      }
    },
    {
      "cell_type": "markdown",
      "source": [],
      "metadata": {
        "id": "KUwVol3HDbOl"
      }
    }
  ]
}