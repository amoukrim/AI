{
  "nbformat": 4,
  "nbformat_minor": 0,
  "metadata": {
    "colab": {
      "provenance": [],
      "authorship_tag": "ABX9TyN+C/qS71F2KU8dd1E7YmyK",
      "include_colab_link": true
    },
    "kernelspec": {
      "name": "python3",
      "display_name": "Python 3"
    },
    "language_info": {
      "name": "python"
    }
  },
  "cells": [
    {
      "cell_type": "markdown",
      "metadata": {
        "id": "view-in-github",
        "colab_type": "text"
      },
      "source": [
        "<a href=\"https://colab.research.google.com/github/amoukrim/AI/blob/main/Weekend5/DailyChallenge/challenge_w5_d3.ipynb\" target=\"_parent\"><img src=\"https://colab.research.google.com/assets/colab-badge.svg\" alt=\"Open In Colab\"/></a>"
      ]
    },
    {
      "cell_type": "markdown",
      "source": [
        "Classify Handwritten Digits with CNNs\n",
        "Last Updated: June 10th, 2025\n",
        "\n",
        "Daily Challenge: Classifying Handwritten Digits with CNNs\n",
        "\n",
        "\n",
        "👩‍🏫 👩🏿‍🏫 What You’ll learn\n",
        "How to load and preprocess the MNIST dataset.\n",
        "How to build a basic Fully Connected Neural Network for image classification.\n",
        "How to build and train a Convolutional Neural Network (CNN) for image classification.\n",
        "Understanding the impact of different network architectures on performance.\n",
        "Basic Keras functionalities for model building and training.\n",
        "\n",
        "\n",
        "🛠️ What you will create\n",
        "You will create two models:\n",
        "\n",
        "A Fully Connected Neural Network (Dense layers) to classify handwritten digits from the MNIST dataset.\n",
        "A Convolutional Neural Network (CNN) to classify handwritten digits from the MNIST dataset, and compare its performance with the first model.\n",
        "\n",
        "\n",
        "What You Need to Do\n",
        "Load the MNIST dataset:\n",
        "\n",
        "Use keras.datasets.mnist.load_data() to load the training and testing data.\n",
        "Print the shapes of the loaded data to understand the dataset structure.\n",
        "\n",
        "Preprocess the data for a Fully Connected Neural Network:\n",
        "\n",
        "Flatten the images from 28x28 to 784 pixels.\n",
        "Normalize the pixel values by dividing by 255.\n",
        "One-hot encode the target labels using keras.utils.np_utils.to_categorical().\n",
        "\n",
        "Build and train a Fully Connected Neural Network:\n",
        "\n",
        "Create a Sequential model.\n",
        "Add Dense layers with appropriate activation functions (e.g., ReLU and softmax).\n",
        "Compile the model with an optimizer (e.g., Adam), loss function (e.g., categorical cross-entropy), and metrics (e.g., accuracy).\n",
        "Train the model using model.fit() and evaluate its performance.\n",
        "\n",
        "Preprocess the data for a Convolutional Neural Network:\n",
        "\n",
        "Reshape the input data to the shape expected by a Conv2D layer (e.g., (60000, 28, 28, 1)).\n",
        "Normalize the pixel values by dividing by 255.\n",
        "One-hot encode the target labels using keras.utils.np_utils.to_categorical().\n",
        "\n",
        "Build and train a Convolutional Neural Network:\n",
        "\n",
        "Create a Sequential model.\n",
        "Add Conv2D and MaxPool2D layers.\n",
        "Add a Flatten layer.\n",
        "Add Dense layers with appropriate activation functions.\n",
        "Compile and train the model, similar to the Fully Connected Neural Network.\n",
        "\n",
        "Compare the performance:\n",
        "\n",
        "Analyze the accuracy of both models.\n",
        "Observe the difference between the Fully connected model and the CNN model."
      ],
      "metadata": {
        "id": "Rsni-tEuSGwA"
      }
    },
    {
      "cell_type": "markdown",
      "source": [
        "Étape 1 — Chargement des données MNIST"
      ],
      "metadata": {
        "id": "0Ima9DNmSJxh"
      }
    },
    {
      "cell_type": "code",
      "execution_count": 12,
      "metadata": {
        "colab": {
          "base_uri": "https://localhost:8080/",
          "height": 501
        },
        "id": "PiEcvuCgSES6",
        "outputId": "4e941362-7e62-48d2-dcde-1cf596e22a7f"
      },
      "outputs": [
        {
          "output_type": "stream",
          "name": "stdout",
          "text": [
            "x_train shape: (60000, 28, 28)\n",
            "y_train shape: (60000,)\n",
            "x_test shape: (10000, 28, 28)\n",
            "y_test shape: (10000,)\n"
          ]
        },
        {
          "output_type": "display_data",
          "data": {
            "text/plain": [
              "<Figure size 640x480 with 1 Axes>"
            ],
            "image/png": "[encoded data removed]"
          },
          "metadata": {}
        }
      ],
      "source": [
        "# Importation des modules nécessaires\n",
        "import numpy as np\n",
        "import matplotlib.pyplot as plt\n",
        "from tensorflow.keras.datasets import mnist\n",
        "\n",
        "# Étape 1 : Chargement des données\n",
        "# La fonction load_data retourne deux tuples : (x_train, y_train), (x_test, y_test)\n",
        "(x_train, y_train), (x_test, y_test) = mnist.load_data()\n",
        "\n",
        "# Affichage des dimensions pour mieux comprendre la structure\n",
        "print(\"x_train shape:\", x_train.shape)   # Attendu : (60000, 28, 28)\n",
        "print(\"y_train shape:\", y_train.shape)   # Attendu : (60000,)\n",
        "print(\"x_test shape:\", x_test.shape)     # Attendu : (10000, 28, 28)\n",
        "print(\"y_test shape:\", y_test.shape)     # Attendu : (10000,)\n",
        "\n",
        "# Affichage d'une image exemple pour visualisation\n",
        "plt.imshow(x_train[0], cmap='gray')\n",
        "plt.title(f\"Exemple d'image - Label : {y_train[0]}\")\n",
        "plt.axis('off')\n",
        "plt.show()"
      ]
    },
    {
      "cell_type": "markdown",
      "source": [
        " les images sont bien des chiffres."
      ],
      "metadata": {
        "id": "3GMaJ22BS3JZ"
      }
    },
    {
      "cell_type": "markdown",
      "source": [
        "Étape 2 — Prétraitement pour le réseau dense (Fully Connected)\n",
        "\n",
        "Objectifs :\n",
        "Aplatir chaque image 28x28 en un vecteur de 784 pixels.\n",
        "\n",
        "Normaliser les pixels (valeurs entre 0 et 1).\n",
        "\n",
        "Convertir les étiquettes (y_train, y_test) en vecteurs one-hot encoded."
      ],
      "metadata": {
        "id": "6q7C35svTJaW"
      }
    },
    {
      "cell_type": "code",
      "source": [
        "from tensorflow.keras.utils import to_categorical\n",
        "\n",
        "# 1. Mise à l'échelle des images : passage de [0, 255] à [0, 1]\n",
        "x_train_flat = x_train.reshape(-1, 28 * 28).astype('float32') / 255.0\n",
        "x_test_flat = x_test.reshape(-1, 28 * 28).astype('float32') / 255.0\n",
        "\n",
        "# 2. Encodage one-hot des étiquettes\n",
        "y_train_cat = to_categorical(y_train, num_classes=10)\n",
        "y_test_cat = to_categorical(y_test, num_classes=10)\n",
        "\n",
        "# 3. Vérification\n",
        "print(\"Nouvelle forme de x_train :\", x_train_flat.shape)   # (60000, 784)\n",
        "print(\"Nouvelle forme de y_train :\", y_train_cat.shape)    # (60000, 10)"
      ],
      "metadata": {
        "colab": {
          "base_uri": "https://localhost:8080/"
        },
        "id": "MDGhMDwDTcHq",
        "outputId": "db58bbcb-546a-4104-c33b-0b79245bbf9c"
      },
      "execution_count": 13,
      "outputs": [
        {
          "output_type": "stream",
          "name": "stdout",
          "text": [
            "Nouvelle forme de x_train : (60000, 784)\n",
            "Nouvelle forme de y_train : (60000, 10)\n"
          ]
        }
      ]
    },
    {
      "cell_type": "markdown",
      "source": [
        "Interprétation :\n",
        "x_train_flat contient 60 000 images, chacune transformée en un vecteur de 784 pixels normalisés.\n",
        "\n",
        "y_train_cat contient 60 000 vecteurs one-hot (ex. un 5 devient [0, 0, 0, 0, 0, 1, 0, 0, 0, 0]).\n"
      ],
      "metadata": {
        "id": "J-VPFj60TzPW"
      }
    },
    {
      "cell_type": "markdown",
      "source": [
        "Étape 3 — Construction et entraînement du modèle dense\n",
        "Objectif :\n",
        "Construire un modèle avec des couches Dense\n",
        "\n",
        "Utiliser ReLU pour les couches cachées, softmax en sortie\n",
        "\n",
        "Entraîner pendant quelques époques pour évaluer les performances"
      ],
      "metadata": {
        "id": "IIMY0-MqggnA"
      }
    },
    {
      "cell_type": "code",
      "source": [
        "from tensorflow.keras.models import Sequential\n",
        "from tensorflow.keras.layers import Dense\n",
        "\n",
        "# 1. Définition du modèle fully connected\n",
        "model_dense = Sequential()\n",
        "\n",
        "# Couche d'entrée + 1ère couche cachée\n",
        "model_dense.add(Dense(units=128, activation='relu', input_shape=(784,)))\n",
        "\n",
        "# 2e couche cachée\n",
        "model_dense.add(Dense(units=64, activation='relu'))\n",
        "\n",
        "# Couche de sortie (10 classes pour les chiffres 0-9)\n",
        "model_dense.add(Dense(units=10, activation='softmax'))\n",
        "\n",
        "# 2. Compilation du modèle\n",
        "model_dense.compile(\n",
        "    optimizer='adam',\n",
        "    loss='categorical_crossentropy',\n",
        "    metrics=['accuracy']\n",
        ")\n",
        "\n",
        "# 3. Entraînement du modèle\n",
        "history_dense = model_dense.fit(\n",
        "    x_train_flat,\n",
        "    y_train_cat,\n",
        "    validation_split=0.2,\n",
        "    epochs=10,\n",
        "    batch_size=32,\n",
        "    verbose=2\n",
        ")"
      ],
      "metadata": {
        "colab": {
          "base_uri": "https://localhost:8080/"
        },
        "id": "asna36W_giSP",
        "outputId": "c22e378a-afd1-44a4-cd60-d5ea64002b8b"
      },
      "execution_count": 14,
      "outputs": [
        {
          "output_type": "stream",
          "name": "stderr",
          "text": [
            "/usr/local/lib/python3.11/dist-packages/keras/src/layers/core/dense.py:87: UserWarning: Do not pass an `input_shape`/`input_dim` argument to a layer. When using Sequential models, prefer using an `Input(shape)` object as the first layer in the model instead.\n",
            "  super().__init__(activity_regularizer=activity_regularizer, **kwargs)\n"
          ]
        },
        {
          "output_type": "stream",
          "name": "stdout",
          "text": [
            "Epoch 1/10\n",
            "1500/1500 - 6s - 4ms/step - accuracy: 0.9236 - loss: 0.2629 - val_accuracy: 0.9574 - val_loss: 0.1384\n",
            "Epoch 2/10\n",
            "1500/1500 - 6s - 4ms/step - accuracy: 0.9670 - loss: 0.1086 - val_accuracy: 0.9660 - val_loss: 0.1108\n",
            "Epoch 3/10\n",
            "1500/1500 - 5s - 3ms/step - accuracy: 0.9765 - loss: 0.0770 - val_accuracy: 0.9715 - val_loss: 0.0923\n",
            "Epoch 4/10\n",
            "1500/1500 - 6s - 4ms/step - accuracy: 0.9815 - loss: 0.0595 - val_accuracy: 0.9728 - val_loss: 0.0906\n",
            "Epoch 5/10\n",
            "1500/1500 - 6s - 4ms/step - accuracy: 0.9864 - loss: 0.0450 - val_accuracy: 0.9706 - val_loss: 0.1031\n",
            "Epoch 6/10\n",
            "1500/1500 - 6s - 4ms/step - accuracy: 0.9881 - loss: 0.0365 - val_accuracy: 0.9749 - val_loss: 0.0911\n",
            "Epoch 7/10\n",
            "1500/1500 - 9s - 6ms/step - accuracy: 0.9896 - loss: 0.0307 - val_accuracy: 0.9746 - val_loss: 0.0986\n",
            "Epoch 8/10\n",
            "1500/1500 - 6s - 4ms/step - accuracy: 0.9914 - loss: 0.0265 - val_accuracy: 0.9762 - val_loss: 0.0984\n",
            "Epoch 9/10\n",
            "1500/1500 - 10s - 7ms/step - accuracy: 0.9929 - loss: 0.0213 - val_accuracy: 0.9769 - val_loss: 0.0987\n",
            "Epoch 10/10\n",
            "1500/1500 - 5s - 3ms/step - accuracy: 0.9936 - loss: 0.0182 - val_accuracy: 0.9741 - val_loss: 0.1198\n"
          ]
        }
      ]
    },
    {
      "cell_type": "markdown",
      "source": [
        "Résumé des performances du modèle Dense :\n",
        "\n",
        "| Époque | Accuracy (Train) | Accuracy (Validation) | Loss (Val) | Observation              |\n",
        "| ------ | ---------------- | --------------------- | ---------- | ------------------------ |\n",
        "| 1      | 92.0%            | 95.8%                 | 0.1402     | Bon départ               |\n",
        "| 5      | 98.6%            | 97.6%                 | 0.0885     | Excellent                |\n",
        "| 10     | 99.4%            | 96.8%                 | 0.1344     | Surapprentissage visible |\n"
      ],
      "metadata": {
        "id": "4JegeeooiL12"
      }
    },
    {
      "cell_type": "markdown",
      "source": [
        "✅ Ce que ton modèle fait bien :\n",
        "Il apprend très rapidement : dès l'époque 2-3, il dépasse 96% de précision.\n",
        "\n",
        "Il généralise bien au début (validation accuracy monte avec l'entraînement).\n",
        "\n",
        "⚠️ Ce que l’on remarque aussi :\n",
        "À partir de l’époque 6, la val_accuracy stagne voire diminue, alors que la précision sur les données d'entraînement continue à monter fortement.\n",
        "\n",
        "La val_loss augmente à la fin (passe de 0.0885 à 0.1344), ce qui est un signe de surapprentissage.\n",
        "\n"
      ],
      "metadata": {
        "id": "-TQ73Ul9igut"
      }
    },
    {
      "cell_type": "markdown",
      "source": [
        "💡 Recommandations :\n",
        "\n",
        "| Problème détecté         | Solution possible                                    |\n",
        "| ------------------------ | ---------------------------------------------------- |\n",
        "| Surapprentissage         | Ajouter un `Dropout`                                 |\n",
        "| Stabiliser la validation | Activer `EarlyStopping`                              |\n",
        "| Meilleure généralisation | Entraîner moins longtemps (\\~5-6 époques suffit ici) |\n"
      ],
      "metadata": {
        "id": "VCWDj49his5w"
      }
    },
    {
      "cell_type": "markdown",
      "source": [
        "Étape 4 — Prétraitement des données pour CNN\n",
        "\n",
        "Objectifs :\n",
        "Restructurer les images au format attendu par les couches Conv2D.\n",
        "\n",
        "Normaliser les pixels (comme pour le réseau dense).\n",
        "\n",
        "Convertir les étiquettes en one-hot encoded."
      ],
      "metadata": {
        "id": "5TIf_J21jNc9"
      }
    },
    {
      "cell_type": "code",
      "source": [
        "from tensorflow.keras.utils import to_categorical\n",
        "\n",
        "# 1. Reshape des images : (28, 28) → (28, 28, 1)\n",
        "# CNN attend des \"images 2D + canal\", ici 1 canal (noir et blanc)\n",
        "x_train_cnn = x_train.reshape(-1, 28, 28, 1).astype('float32') / 255.0\n",
        "x_test_cnn = x_test.reshape(-1, 28, 28, 1).astype('float32') / 255.0\n",
        "\n",
        "# 2. One-hot encoding des étiquettes (déjà vu, mais on le refait pour clarté)\n",
        "y_train_cat_cnn = to_categorical(y_train, num_classes=10)\n",
        "y_test_cat_cnn = to_categorical(y_test, num_classes=10)\n",
        "\n",
        "# 3. Vérification\n",
        "print(\"x_train_cnn shape :\", x_train_cnn.shape)  # (60000, 28, 28, 1)\n",
        "print(\"y_train_cat_cnn shape :\", y_train_cat_cnn.shape)  # (60000, 10)"
      ],
      "metadata": {
        "colab": {
          "base_uri": "https://localhost:8080/"
        },
        "id": "WU0DCxkeiNYj",
        "outputId": "f6a37a8c-cc15-472c-d68d-6ccc07812165"
      },
      "execution_count": 15,
      "outputs": [
        {
          "output_type": "stream",
          "name": "stdout",
          "text": [
            "x_train_cnn shape : (60000, 28, 28, 1)\n",
            "y_train_cat_cnn shape : (60000, 10)\n"
          ]
        }
      ]
    },
    {
      "cell_type": "markdown",
      "source": [
        "✅ Les données sont maintenant prêtes pour être utilisées avec un réseau de neurones convolutionnel (CNN).\n",
        "\n",
        "j'ai :\n",
        "\n",
        "60 000 images au format (28, 28, 1) → attendu par les couches Conv2D.\n",
        "\n",
        "60 000 étiquettes bien encodées en one-hot sur 10 classes."
      ],
      "metadata": {
        "id": "AY5SEPTNk4yw"
      }
    },
    {
      "cell_type": "markdown",
      "source": [
        "Étape 5 — Construction et entraînement du CNN\n",
        "Objectifs :\n",
        "Créer un modèle avec des couches Conv2D, MaxPooling, Flatten, et Dense.\n",
        "\n",
        "L’entraîner sur les données prétraitées.\n",
        "\n",
        "Observer la précision du CNN."
      ],
      "metadata": {
        "id": "LsNaXe1Xj8gi"
      }
    },
    {
      "cell_type": "code",
      "source": [
        "from tensorflow.keras.models import Sequential\n",
        "from tensorflow.keras.layers import Conv2D, MaxPooling2D, Flatten, Dense, Dropout\n",
        "\n",
        "# 1. Définition du modèle CNN\n",
        "model_cnn = Sequential()\n",
        "\n",
        "# Première couche convolutionnelle : 32 filtres, taille 3x3\n",
        "model_cnn.add(Conv2D(filters=32, kernel_size=(3, 3), activation='relu', input_shape=(28, 28, 1)))\n",
        "# Max pooling pour réduire la taille\n",
        "model_cnn.add(MaxPooling2D(pool_size=(2, 2)))\n",
        "\n",
        "# Deuxième couche convolutionnelle\n",
        "model_cnn.add(Conv2D(filters=64, kernel_size=(3, 3), activation='relu'))\n",
        "model_cnn.add(MaxPooling2D(pool_size=(2, 2)))\n",
        "\n",
        "# Passage en vecteur\n",
        "model_cnn.add(Flatten())\n",
        "\n",
        "# Couche dense intermédiaire\n",
        "model_cnn.add(Dense(128, activation='relu'))\n",
        "# Dropout pour éviter le surapprentissage\n",
        "model_cnn.add(Dropout(0.3)) # Le Dropout (0.3) aide à limiter le surapprentissage, souvent utile dans les CNN.\n",
        "\n",
        "# Couche de sortie (10 classes pour les chiffres de 0 à 9)\n",
        "model_cnn.add(Dense(10, activation='softmax'))\n",
        "\n",
        "# 2. Compilation du modèle\n",
        "model_cnn.compile(\n",
        "    optimizer='adam',\n",
        "    loss='categorical_crossentropy',\n",
        "    metrics=['accuracy']\n",
        ")\n",
        "\n",
        "# 3. Entraînement du modèle\n",
        "history_cnn = model_cnn.fit(\n",
        "    x_train_cnn,\n",
        "    y_train_cat_cnn,\n",
        "    validation_split=0.2,\n",
        "    epochs=10,\n",
        "    batch_size=32,\n",
        "    verbose=2\n",
        ")\n"
      ],
      "metadata": {
        "colab": {
          "base_uri": "https://localhost:8080/"
        },
        "id": "pC169CjJlUuX",
        "outputId": "f2fc2c30-20d9-403d-8ba4-98e7a5cc5093"
      },
      "execution_count": 11,
      "outputs": [
        {
          "output_type": "stream",
          "name": "stderr",
          "text": [
            "/usr/local/lib/python3.11/dist-packages/keras/src/layers/convolutional/base_conv.py:107: UserWarning: Do not pass an `input_shape`/`input_dim` argument to a layer. When using Sequential models, prefer using an `Input(shape)` object as the first layer in the model instead.\n",
            "  super().__init__(activity_regularizer=activity_regularizer, **kwargs)\n"
          ]
        },
        {
          "output_type": "stream",
          "name": "stdout",
          "text": [
            "Epoch 1/10\n",
            "1500/1500 - 44s - 29ms/step - accuracy: 0.9406 - loss: 0.1919 - val_accuracy: 0.9803 - val_loss: 0.0683\n",
            "Epoch 2/10\n",
            "1500/1500 - 39s - 26ms/step - accuracy: 0.9801 - loss: 0.0668 - val_accuracy: 0.9858 - val_loss: 0.0484\n",
            "Epoch 3/10\n",
            "1500/1500 - 41s - 27ms/step - accuracy: 0.9850 - loss: 0.0483 - val_accuracy: 0.9866 - val_loss: 0.0484\n",
            "Epoch 4/10\n",
            "1500/1500 - 44s - 30ms/step - accuracy: 0.9885 - loss: 0.0369 - val_accuracy: 0.9893 - val_loss: 0.0362\n",
            "Epoch 5/10\n",
            "1500/1500 - 79s - 53ms/step - accuracy: 0.9909 - loss: 0.0283 - val_accuracy: 0.9895 - val_loss: 0.0385\n",
            "Epoch 6/10\n",
            "1500/1500 - 41s - 27ms/step - accuracy: 0.9924 - loss: 0.0238 - val_accuracy: 0.9903 - val_loss: 0.0356\n",
            "Epoch 7/10\n",
            "1500/1500 - 38s - 26ms/step - accuracy: 0.9934 - loss: 0.0203 - val_accuracy: 0.9906 - val_loss: 0.0383\n",
            "Epoch 8/10\n",
            "1500/1500 - 41s - 27ms/step - accuracy: 0.9939 - loss: 0.0168 - val_accuracy: 0.9911 - val_loss: 0.0372\n",
            "Epoch 9/10\n",
            "1500/1500 - 38s - 25ms/step - accuracy: 0.9951 - loss: 0.0148 - val_accuracy: 0.9902 - val_loss: 0.0370\n",
            "Epoch 10/10\n",
            "1500/1500 - 42s - 28ms/step - accuracy: 0.9955 - loss: 0.0137 - val_accuracy: 0.9903 - val_loss: 0.0410\n"
          ]
        }
      ]
    },
    {
      "cell_type": "markdown",
      "source": [
        "Interprétation:\n",
        "Le CNN est un succès : les performances sont excellentes et bien supérieures au modèle fully connected (Dense).\n",
        "\n",
        "| Époque | Accuracy (Train) | Accuracy (Validation) | Loss (Val) | Observation     |\n",
        "| ------ | ---------------- | --------------------- | ---------- | --------------- |\n",
        "| 1      | 94.1%            | 98.0%                 | 0.0683     | Super départ    |\n",
        "| 5      | 99.1%            | 98.9%                 | 0.0385     | Très stable     |\n",
        "| 10     | 99.5%            | 99.1%                 | 0.0370     | Presque parfait |\n"
      ],
      "metadata": {
        "id": "0t95hAxbnJAu"
      }
    },
    {
      "cell_type": "markdown",
      "source": [
        "✅ Comparaison entre les 2 modèles Dense model et CNN model :\n",
        "----\n",
        "\n",
        "| Critère                 | Dense model      | CNN                   | Gagnant 🥇 |\n",
        "| ----------------------- | ---------------- | --------------------- | ---------- |\n",
        "| Précision validation    | \\~97.5%          | \\~99.1%               | ✅ CNN      |\n",
        "| Surapprentissage        | Visible          | Minime ou absent      | ✅ CNN      |\n",
        "| Spécialisation image    | Aucune           | Oui (convolutions)    | ✅ CNN      |\n",
        "| Stabilité val\\_accuracy | Diminue à la fin | Monte et se stabilise | ✅ CNN      |\n"
      ],
      "metadata": {
        "id": "2PYFVQAWoNg3"
      }
    },
    {
      "cell_type": "markdown",
      "source": [
        "visualiser la comparaison des performances\n",
        "\n"
      ],
      "metadata": {
        "id": "BNnKTIVForSv"
      }
    },
    {
      "cell_type": "code",
      "source": [
        "import matplotlib.pyplot as plt\n",
        "\n",
        "# Précision\n",
        "plt.plot(history_cnn.history['accuracy'], label='Train Accuracy')\n",
        "plt.plot(history_cnn.history['val_accuracy'], label='Validation Accuracy')\n",
        "plt.title('CNN Accuracy')\n",
        "plt.xlabel('Epoch')\n",
        "plt.ylabel('Accuracy')\n",
        "plt.legend()\n",
        "plt.show()\n",
        "\n",
        "# Perte\n",
        "plt.plot(history_cnn.history['loss'], label='Train Loss')\n",
        "plt.plot(history_cnn.history['val_loss'], label='Validation Loss')\n",
        "plt.title('CNN Loss')\n",
        "plt.xlabel('Epoch')\n",
        "plt.ylabel('Loss')\n",
        "plt.legend()\n",
        "plt.show()\n"
      ],
      "metadata": {
        "colab": {
          "base_uri": "https://localhost:8080/",
          "height": 927
        },
        "id": "jUOL-mNjpHxe",
        "outputId": "0e0247cf-07af-4364-fd01-32abd1956991"
      },
      "execution_count": 16,
      "outputs": [
        {
          "output_type": "display_data",
          "data": {
            "text/plain": [
              "<Figure size 640x480 with 1 Axes>"
            ],
            "image/png": "[encoded data removed]"
          },
          "metadata": {}
        },
        {
          "output_type": "display_data",
          "data": {
            "text/plain": [
              "<Figure size 640x480 with 1 Axes>"
            ],
            "image/png": "[encoded data removed]"
          },
          "metadata": {}
        }
      ]
    },
    {
      "cell_type": "markdown",
      "source": [
        "Interprétation pédagogique des courbes\n",
        "📈 1. Courbe de précision (Accuracy)\n",
        "La précision d'entraînement augmente régulièrement jusqu’à dépasser 99.5%.\n",
        "\n",
        "La précision de validation plafonne autour de 99.1%, avec une légère baisse sur les dernières époques.\n",
        "\n",
        "Cela montre que :\n",
        "\n",
        "le modèle apprend très bien.\n",
        "\n",
        "Un léger surapprentissage commence à apparaître après l’époque 7–8, mais reste très modéré.\n",
        "\n",
        "Tu pourrais t’arrêter à l’époque 6 ou 7 pour une version plus optimisée (grâce à un EarlyStopping si tu veux automatiser cela).\n",
        "\n",
        "📉 2. Courbe de perte (Loss)\n",
        "Train Loss continue de baisser de façon régulière → bon signe.\n",
        "\n",
        "Validation Loss descend rapidement jusqu’à ~0.03 puis stagne/légèrement remonte.\n",
        "\n",
        "👉 Cela signifie que le modèle :\n",
        "\n",
        "Est très performant mais commence à se spécialiser trop sur les données d’entraînement.\n",
        "\n",
        "La capacité de généralisation est encore très bonne, mais il faut éviter d’aller trop loin dans les époques.\n",
        "\n"
      ],
      "metadata": {
        "id": "AoczI6DPpr7-"
      }
    },
    {
      "cell_type": "markdown",
      "source": [
        "# Conclusion comparative des deux modèles :\n",
        "-----\n",
        "\n",
        "| Modèle          | Validation Accuracy | Avantages                               | Limites                                          |\n",
        "| --------------- | ------------------- | --------------------------------------- | ------------------------------------------------ |\n",
        "| Fully Connected | \\~97.5%             | Simple, rapide à entraîner              | Surapprentissage rapide, performance plus faible |\n",
        "| **CNN (Convo)** | **\\~99.1%**         | Excellente performance, robuste, stable | Entraînement plus long, un peu plus complexe     |\n",
        "\n",
        "# Le CNN est clairement gagnant pour les images (ce qui est attendu)."
      ],
      "metadata": {
        "id": "63MrX1v4qGmA"
      }
    },
    {
      "cell_type": "markdown",
      "source": [
        "afficher la confusion matrix\n",
        "\n",
        "Objectif : identifier quels chiffres sont mal classés et comment."
      ],
      "metadata": {
        "id": "jtfXc_DWqqMT"
      }
    },
    {
      "cell_type": "code",
      "source": [
        "import numpy as np\n",
        "from sklearn.metrics import confusion_matrix, ConfusionMatrixDisplay\n",
        "import matplotlib.pyplot as plt\n",
        "\n",
        "# 1. Prédictions du modèle sur les données de test\n",
        "y_pred_cnn = model_cnn.predict(x_test_cnn) #Calcule les probabilités de chaque chiffre\n",
        "y_pred_classes = np.argmax(y_pred_cnn, axis=1) #Transforme les one-hot en étiquettes (ex: [0,0,0,1,0,...] → 3)\n",
        "y_true = np.argmax(y_test_cat_cnn, axis=1)\n",
        "\n",
        "# 2. Génération de la confusion matrix\n",
        "cm = confusion_matrix(y_true, y_pred_classes) #Compare les vraies étiquettes et les prédictions\n",
        "\n",
        "# 3. Affichage\n",
        "disp = ConfusionMatrixDisplay(confusion_matrix=cm, display_labels=range(10))\n",
        "plt.figure(figsize=(8, 6))\n",
        "disp.plot(cmap='Blues', values_format='d')\n",
        "plt.title(\"Confusion Matrix - CNN\")\n",
        "plt.show()\n"
      ],
      "metadata": {
        "colab": {
          "base_uri": "https://localhost:8080/",
          "height": 508
        },
        "id": "eNwn8upXqrdW",
        "outputId": "61671253-7652-4a82-a31c-1a22c349c988"
      },
      "execution_count": 17,
      "outputs": [
        {
          "output_type": "stream",
          "name": "stdout",
          "text": [
            "\u001b[1m313/313\u001b[0m \u001b[32m━━━━━━━━━━━━━━━━━━━━\u001b[0m\u001b[37m\u001b[0m \u001b[1m6s\u001b[0m 18ms/step\n"
          ]
        },
        {
          "output_type": "display_data",
          "data": {
            "text/plain": [
              "<Figure size 800x600 with 0 Axes>"
            ]
          },
          "metadata": {}
        },
        {
          "output_type": "display_data",
          "data": {
            "text/plain": [
              "<Figure size 640x480 with 2 Axes>"
            ],
            "image/png": "[encoded data removed]"
          },
          "metadata": {}
        }
      ]
    },
    {
      "cell_type": "markdown",
      "source": [
        "# Interprétation\n",
        "\n",
        "Points clés :\n",
        "Dominance diagonale : La majorité des valeurs sont concentrées sur la diagonale, ce qui indique une bonne performance globale — le modèle prédit correctement la plupart des chiffres.\n",
        "\n",
        "Performance par classe :\n",
        "\n",
        "Meilleures classes reconnues :\n",
        "\n",
        "Classe 1 (1126 prédictions correctes)\n",
        "\n",
        "Classe 0 (976 correctes)\n",
        "\n",
        "Classe 7 (1021 correctes)\n",
        "\n",
        "Classes les plus confondues :\n",
        "\n",
        "La classe 5 a plusieurs erreurs de prédiction (par exemple, confondue avec les classes 3, 6, 8).\n",
        "\n",
        "La classe 8 est confondue avec la classe 5 (13 fois), et inversement.\n",
        "\n",
        "La classe 6 est parfois prédite comme les classes 5 ou 1."
      ],
      "metadata": {
        "id": "msWw_q7Csdcw"
      }
    }
  ]
}